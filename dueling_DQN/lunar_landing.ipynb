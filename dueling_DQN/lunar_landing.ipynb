{
 "cells": [
  {
   "cell_type": "markdown",
   "metadata": {},
   "source": [
    "# Introduction\n",
    "\n",
    "Here I'm testing a DQN on the lunar landing environment. I'm using \n",
    "\n",
    "1. Experience replay\n",
    "2. A target network.\n",
    "\n",
    "I update the target network every $C$ timesteps.\n",
    "\n",
    "\n",
    "### Train"
   ]
  },
  {
   "cell_type": "code",
   "execution_count": 1,
   "metadata": {},
   "outputs": [
    {
     "name": "stderr",
     "output_type": "stream",
     "text": [
      "/home/kokeeffe/anaconda2/lib/python2.7/site-packages/h5py/__init__.py:34: FutureWarning: Conversion of the second argument of issubdtype from `float` to `np.floating` is deprecated. In future, it will be treated as `np.float64 == np.dtype(float).type`.\n",
      "  from ._conv import register_converters as _register_converters\n",
      "Using TensorFlow backend.\n"
     ]
    },
    {
     "name": "stdout",
     "output_type": "stream",
     "text": [
      "\u001b[33mWARN: gym.spaces.Box autodetected dtype as <type 'numpy.float32'>. Please provide explicit dtype.\u001b[0m\n",
      "(episode, score) = (50, -242.67822055990112)\n",
      "(episode, score) = (100, -197.03106344095409)\n",
      "(episode, score) = (150, -266.1442354980703)\n",
      "(episode, score) = (200, -533.4392532483123)\n",
      "(episode, score) = (250, -534.8463646547602)\n",
      "(episode, score) = (300, -500.1299029999613)\n",
      "(episode, score) = (350, -495.01503638484775)\n",
      "(episode, score) = (400, -268.74600032300924)\n",
      "(episode, score) = (450, -1041.100023231831)\n",
      "(episode, score) = (500, -307.14013131231934)\n",
      "(episode, score) = (550, -493.6566962701118)\n",
      "(episode, score) = (600, -520.2200113926503)\n",
      "(episode, score) = (650, -300.4379598655844)\n",
      "(episode, score) = (700, -463.67839047753233)\n",
      "(episode, score) = (750, -95.71398241532023)\n",
      "(episode, score) = (800, -456.6490508767037)\n",
      "(episode, score) = (850, -464.6609624276836)\n",
      "(episode, score) = (900, -34.247311246161814)\n",
      "(episode, score) = (950, -560.5447055280515)\n",
      "(episode, score) = (1000, -595.2448109270865)\n",
      "(episode, score) = (1050, -163.9421026848633)\n",
      "(episode, score) = (1100, -204.06714905129417)\n",
      "(episode, score) = (1150, -314.91227828657657)\n",
      "(episode, score) = (1200, -172.09777180896492)\n",
      "(episode, score) = (1250, -391.48100486768914)\n",
      "(episode, score) = (1300, -295.32902465363975)\n",
      "(episode, score) = (1350, -476.45524908460203)\n",
      "(episode, score) = (1400, -45.90914929664635)\n",
      "(episode, score) = (1450, -420.2655765963802)\n",
      "(episode, score) = (1500, -237.95289917710022)\n",
      "(episode, score) = (1550, -656.1818700767128)\n",
      "(episode, score) = (1600, -153.17952319087368)\n",
      "(episode, score) = (1650, -163.99518877694214)\n",
      "(episode, score) = (1700, -211.56130428158434)\n",
      "(episode, score) = (1750, -469.3900658048146)\n",
      "(episode, score) = (1800, -614.4799599005343)\n",
      "(episode, score) = (1850, -624.4478581371816)\n",
      "(episode, score) = (1900, -540.2408497014858)\n",
      "(episode, score) = (1950, -695.3669485778818)\n",
      "(episode, score) = (2000, -448.4351201829821)\n",
      "(episode, score) = (2050, -577.61665406431)\n",
      "(episode, score) = (2100, -618.4969876043592)\n",
      "(episode, score) = (2150, -348.448487771068)\n",
      "(episode, score) = (2200, -636.9377690253715)\n",
      "(episode, score) = (2250, -632.349912514392)\n",
      "(episode, score) = (2300, -128.88896802853859)\n",
      "(episode, score) = (2350, -228.09439331049455)\n",
      "(episode, score) = (2400, -484.6540888833212)\n",
      "(episode, score) = (2450, -622.3413375759565)\n",
      "(episode, score) = (2500, -414.17751430422527)\n",
      "(episode, score) = (2550, -386.96177242589874)\n",
      "(episode, score) = (2600, -501.6682820309588)\n",
      "(episode, score) = (2650, -557.4144470927622)\n",
      "(episode, score) = (2700, -246.71105151457513)\n",
      "(episode, score) = (2750, -576.554409615665)\n",
      "(episode, score) = (2800, -222.56583822294152)\n",
      "(episode, score) = (2850, -633.6507901804073)\n",
      "(episode, score) = (2900, -157.18911197350684)\n",
      "(episode, score) = (2950, -375.2615163777979)\n",
      "(episode, score) = (3000, -249.4526067247645)\n",
      "(episode, score) = (3050, -382.6516933258693)\n",
      "(episode, score) = (3100, -706.8796305301623)\n",
      "(episode, score) = (3150, -438.4352107481387)\n",
      "(episode, score) = (3200, -333.4282354527179)\n",
      "(episode, score) = (3250, -250.82306518679417)\n",
      "(episode, score) = (3300, -300.8217233591329)\n",
      "(episode, score) = (3350, -400.9211711009329)\n",
      "(episode, score) = (3400, -438.5138016549651)\n",
      "(episode, score) = (3450, -422.51418637554053)\n",
      "(episode, score) = (3500, -52.127384043127236)\n",
      "(episode, score) = (3550, -341.45118700853595)\n",
      "(episode, score) = (3600, -492.3137618376457)\n",
      "(episode, score) = (3650, -373.84172853440583)\n",
      "(episode, score) = (3700, -350.7706311685612)\n",
      "(episode, score) = (3750, -427.7279429883868)\n",
      "(episode, score) = (3800, -369.42214143600296)\n",
      "(episode, score) = (3850, -249.5285442631973)\n",
      "(episode, score) = (3900, -521.5773488755699)\n",
      "(episode, score) = (3950, -427.934382058104)\n",
      "(episode, score) = (4000, -396.26911595234475)\n",
      "(episode, score) = (4050, -427.2046175569574)\n",
      "(episode, score) = (4100, -445.467629572833)\n",
      "(episode, score) = (4150, -389.2660938648251)\n",
      "(episode, score) = (4200, -386.13657193740283)\n",
      "(episode, score) = (4250, -440.0741689377352)\n",
      "(episode, score) = (4300, -490.18579997797)\n",
      "(episode, score) = (4350, -261.0694883522988)\n",
      "(episode, score) = (4400, -367.44248131168854)\n",
      "(episode, score) = (4450, -471.1101919035791)\n",
      "(episode, score) = (4500, -410.3905785108063)\n",
      "(episode, score) = (4550, -456.9938566250499)\n",
      "(episode, score) = (4600, -603.2480494703076)\n",
      "(episode, score) = (4650, -544.1174979779183)\n",
      "(episode, score) = (4700, -494.93316331156586)\n",
      "(episode, score) = (4750, -501.61492563867824)\n",
      "(episode, score) = (4800, -267.238646621985)\n",
      "(episode, score) = (4850, -362.65514505011845)\n",
      "(episode, score) = (4900, -336.89690849882504)\n",
      "(episode, score) = (4950, -283.47745551351227)\n",
      "(episode, score) = (5000, -495.4866032342419)\n"
     ]
    },
    {
     "data": {
      "image/png": "[encoded data removed]",
      "text/plain": [
       "<Figure size 432x288 with 1 Axes>"
      ]
     },
     "metadata": {},
     "output_type": "display_data"
    }
   ],
   "source": [
    "import numpy as np\n",
    "import matplotlib.pyplot as plt\n",
    "import gym\n",
    "#from agent_vanilla import Agent\n",
    "from agent import Agent\n",
    "from keras.utils import to_categorical\n",
    "%matplotlib inline\n",
    "\n",
    "\n",
    "#Environment\n",
    "env = gym.make('LunarLander-v2')\n",
    "env.seed(1)  # for comparison\n",
    "num_states = env.observation_space.shape[0]\n",
    "num_actions = env.action_space.n\n",
    "\n",
    "\n",
    "#Agent\n",
    "#lr,gamma = 2.5*10**-4, 0.995\n",
    "#agent = Agent(num_states, num_actions, lr, gamma)\n",
    "#agent.epsilon = 0.95\n",
    "#epsilon_min = 0.01\n",
    "#decay_factor = 0.99\n",
    "#agent.tau = 0.02\n",
    "#agent.memory_size = 20000\n",
    "#learning_start = 1000\n",
    "\n",
    "#Agent\n",
    "lr,gamma = 0.001, 0.99\n",
    "agent = Agent(num_states, num_actions, lr, gamma)\n",
    "agent.epsilon = 0.8\n",
    "agent.memory_size = 10**4\n",
    "epsilon_min = 0.01\n",
    "decay_factor = 0.99\n",
    "agent.tau = 0.1\n",
    "learning_start = 1000\n",
    "\n",
    "\n",
    "#Train\n",
    "EPISODES = 5000\n",
    "scores = []\n",
    "step = 0\n",
    "for e in range(1,EPISODES+1):\n",
    "    state = env.reset()\n",
    "    reward_sum = 0\n",
    "    done = False\n",
    "    while not done:\n",
    "        \n",
    "        # env.render()\n",
    "        state = np.reshape(state, [1, num_states])  #reshape for keras\n",
    "        action = agent.act(state)\n",
    "        next_state, reward, done, _ = env.step(action)\n",
    "        reward_sum += reward\n",
    "        agent.remember(state[0], action, reward, next_state, done)\n",
    "        state = next_state\n",
    "        \n",
    "        if len(agent.memory) > learning_start:\n",
    "            agent.replay()                      #update the behavior model\n",
    "            agent.soft_update_target_network()  #update the target network\n",
    "\n",
    "        #iterate\n",
    "        step += 1\n",
    "        if done:\n",
    "            break\n",
    "    \n",
    "    #Learn & print results\n",
    "    scores.append(reward_sum)\n",
    "    agent.epsilon = max(agent.epsilon*decay_factor,epsilon_min)\n",
    "    if e % 50 == 0:\n",
    "        print '(episode, score) = ' + str((e,reward_sum))\n",
    "\n",
    "plt.plot(scores)\n",
    "np.savetxt('stats/scores_lunar_landing.txt',scores)"
   ]
  },
  {
   "cell_type": "markdown",
   "metadata": {},
   "source": [
    "### Compare to  policy gradients"
   ]
  },
  {
   "cell_type": "code",
   "execution_count": 3,
   "metadata": {},
   "outputs": [
    {
     "data": {
      "text/plain": [
       "<matplotlib.legend.Legend at 0x7f297c1f1b10>"
      ]
     },
     "execution_count": 3,
     "metadata": {},
     "output_type": "execute_result"
    },
    {
     "data": {
      "image/png": "[encoded data removed]",
      "text/plain": [
       "<Figure size 432x288 with 1 Axes>"
      ]
     },
     "metadata": {},
     "output_type": "display_data"
    }
   ],
   "source": [
    "filename = '/home/kokeeffe/research/robocab/RL_practice/policy_gradients/stats/scores_lunar_landing.txt'\n",
    "scores_PG = np.loadtxt(filename)\n",
    "\n",
    "filename = '/home/kokeeffe/research/robocab/RL_practice/DQN/stats/scores_lunar_landing.txt'\n",
    "scores_DQN = np.loadtxt(filename)\n",
    "\n",
    "plt.plot(scores_PG)\n",
    "plt.plot(scores_DQN)\n",
    "plt.plot(scores)\n",
    "plt.legend(['policy gradient','DQN', 'dueling DQN'])"
   ]
  },
  {
   "cell_type": "markdown",
   "metadata": {},
   "source": [
    "Huh... the nets are pretty bad. The dueling at least makes things more stable, as its supposed to, but its still not learning. Hyperparameters?"
   ]
  },
  {
   "cell_type": "markdown",
   "metadata": {},
   "source": [
    "### Watch a smart agent"
   ]
  },
  {
   "cell_type": "code",
   "execution_count": 12,
   "metadata": {
    "collapsed": true
   },
   "outputs": [],
   "source": [
    "state = env.reset()\n",
    "state = np.reshape(state, [1, num_states])\n",
    "reward_sum = 0\n",
    "done = False\n",
    "while not done:\n",
    "    env.render()\n",
    "    action = agent.act(state)\n",
    "    next_state, reward, done, _ = env.step(action)\n",
    "    reward_sum += reward\n",
    "    next_state = np.reshape(next_state, [1, num_states])\n",
    "    state = next_state\n",
    "env.close()"
   ]
  }
 ],
 "metadata": {
  "kernelspec": {
   "display_name": "Python 2",
   "language": "python",
   "name": "python2"
  },
  "language_info": {
   "codemirror_mode": {
    "name": "ipython",
    "version": 2
   },
   "file_extension": ".py",
   "mimetype": "text/x-python",
   "name": "python",
   "nbconvert_exporter": "python",
   "pygments_lexer": "ipython2",
   "version": "2.7.14"
  }
 },
 "nbformat": 4,
 "nbformat_minor": 2
}
