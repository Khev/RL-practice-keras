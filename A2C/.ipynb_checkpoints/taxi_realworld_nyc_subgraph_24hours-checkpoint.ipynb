{
 "cells": [
  {
   "cell_type": "markdown",
   "metadata": {},
   "source": [
    "# Introduction\n",
    "\n",
    "Here I'm testing the A2C on the \"real-world\" nyc graph. That is, I place the empirical trips on the manhattan street network, at the empirical times"
   ]
  },
  {
   "cell_type": "code",
   "execution_count": 11,
   "metadata": {},
   "outputs": [],
   "source": [
    "import funcs as f\n",
    "import numpy as np\n",
    "import networkx as nx\n",
    "import matplotlib.pyplot as plt\n",
    "from agent_with_baseline import Agent\n",
    "from agent_taxi import PolicyCab\n",
    "import real_world_nyc_environment as t\n",
    "from keras.utils import to_categorical\n",
    "\n",
    "def running_mean(x, N):\n",
    "    cumsum = np.cumsum(np.insert(x, 0, 0)) \n",
    "    return (cumsum[N:] - cumsum[:-N]) / float(N)\n",
    "\n",
    "%matplotlib inline\n",
    "\n",
    "\n",
    "\n",
    "#Load in data\n",
    "G = t.get_subgraph()  #start with a subgraph\n",
    "#trip_data = t.get_tripdata(G,18,18) #monday, the 18th of jan\n",
    "trip_data = np.loadtxt('data/trip_data_nyc_day_18.txt')\n",
    "#env = Env(G,state_zero)\n",
    "\n",
    "#Environment parameters\n",
    "delta = 30  #trips wait 30 deci-seconds = 5 minutes before disappearing\n",
    "time_per_episode = 5*360   #one day\n",
    "\n",
    "state_zero = np.random.choice(G.nodes())\n",
    "env = t.Env(G,trip_data,state_zero)"
   ]
  },
  {
   "cell_type": "markdown",
   "metadata": {},
   "source": [
    "### Model cab"
   ]
  },
  {
   "cell_type": "code",
   "execution_count": 14,
   "metadata": {},
   "outputs": [],
   "source": [
    "trip_probs = t.find_trip_probs(G,trip_data)\n",
    "p = np.array(trip_probs.values())  #trip probs\n",
    "optimal_policy = t.find_optimal_policy(p,G)"
   ]
  },
  {
   "cell_type": "code",
   "execution_count": 15,
   "metadata": {},
   "outputs": [
    {
     "name": "stdout",
     "output_type": "stream",
     "text": [
      "rel idle time = 0.073224043715847\n"
     ]
    }
   ],
   "source": [
    "#Instantiate\n",
    "np.random.seed(0)\n",
    "state_zero = np.random.choice(G.nodes())\n",
    "env = t.Env(G,trip_data,state_zero)\n",
    "env.delta = delta\n",
    "model_cab = t.Modelcab(optimal_policy)\n",
    "\n",
    "\n",
    "# Main \n",
    "state = state_zero\n",
    "Return = 0  # sum of rewards\n",
    "while env.active_time <= time_per_episode:\n",
    "    action = model_cab.act(state)\n",
    "    next_state, reward = env.step_modelcab(action)  #different step functions for these cabs\n",
    "    state = next_state\n",
    "    Return += reward\n",
    "tau_optimal = 1.0*env.idle_time / env.active_time\n",
    "print 'rel idle time = ' + str(tau_optimal)"
   ]
  },
  {
   "cell_type": "markdown",
   "metadata": {},
   "source": [
    "### Greedy cab"
   ]
  },
  {
   "cell_type": "code",
   "execution_count": 16,
   "metadata": {},
   "outputs": [
    {
     "name": "stdout",
     "output_type": "stream",
     "text": [
      "rel idle time = 0.21026490066225165\n"
     ]
    }
   ],
   "source": [
    "greedy_policy = t.find_greedy_policy(trip_probs,G)\n",
    "\n",
    "#Instantiate\n",
    "np.random.seed(0)\n",
    "state_zero = np.random.choice(G.nodes())\n",
    "env = t.Env(G,trip_data,state_zero)\n",
    "env.delta = delta\n",
    "greedy_cab = t.Modelcab(greedy_policy)\n",
    "\n",
    "\n",
    "# Main \n",
    "state = state_zero\n",
    "while env.active_time <= time_per_episode:\n",
    "    action = greedy_cab.act(state)\n",
    "    next_state, reward = env.step_modelcab(action)\n",
    "    state = next_state\n",
    "tau_greedy = 1.0*env.idle_time / env.active_time\n",
    "print 'rel idle time = ' + str(tau_greedy)"
   ]
  },
  {
   "cell_type": "markdown",
   "metadata": {},
   "source": [
    "### RL agent"
   ]
  },
  {
   "cell_type": "code",
   "execution_count": 18,
   "metadata": {},
   "outputs": [
    {
     "name": "stdout",
     "output_type": "stream",
     "text": [
      "(episode, tau, score) = (50, 0.15178082191780823, -10535)\n",
      "(episode, tau, score) = (100, 0.1447587354409318, -4581)\n",
      "(episode, tau, score) = (150, 0.1772853185595568, -1280)\n",
      "(episode, tau, score) = (200, 0.22234513274336284, 1817)\n",
      "(episode, tau, score) = (250, 0.16, 3214)\n",
      "(episode, tau, score) = (300, 0.6866666666666666, 164)\n",
      "(episode, tau, score) = (350, 0.31336898395721924, 2115)\n",
      "(episode, tau, score) = (400, 0.32390460343871325, 2216)\n",
      "(episode, tau, score) = (450, 0.25694066412629285, 3128)\n",
      "(episode, tau, score) = (500, 0.20683949255377826, 2825)\n",
      "(episode, tau, score) = (550, 0.29453943739658023, 2766)\n",
      "(episode, tau, score) = (600, 0.19824272377814386, 2839)\n",
      "(episode, tau, score) = (650, 0.20609418282548475, 3129)\n",
      "(episode, tau, score) = (700, 0.16752843846949328, 2977)\n",
      "(episode, tau, score) = (750, 0.21666666666666667, 3010)\n",
      "(episode, tau, score) = (800, 0.2910488742449204, 1773)\n",
      "(episode, tau, score) = (850, 0.2620879120879121, 2324)\n",
      "(episode, tau, score) = (900, 0.2185612300933553, 3003)\n",
      "(episode, tau, score) = (950, 0.176759410801964, 3177)\n",
      "(episode, tau, score) = (1000, 0.16988416988416988, 3992)\n",
      "(episode, tau, score) = (1050, 0.23110386079390974, 2877)\n",
      "(episode, tau, score) = (1100, 0.172396100564392, 3364)\n",
      "(episode, tau, score) = (1150, 0.23848238482384823, 3361)\n",
      "(episode, tau, score) = (1200, 0.12013165112452003, 3183)\n",
      "(episode, tau, score) = (1250, 0.16756176154672395, 2988)\n",
      "(episode, tau, score) = (1300, 0.3261707988980716, 1908)\n",
      "(episode, tau, score) = (1350, 0.19376278118609408, 2921)\n",
      "(episode, tau, score) = (1400, 0.23026673924877517, 2578)\n",
      "(episode, tau, score) = (1450, 0.1702127659574468, 3588)\n",
      "(episode, tau, score) = (1500, 0.12718340611353712, 3170)\n",
      "(episode, tau, score) = (1550, 0.18565169769989048, 3261)\n",
      "(episode, tau, score) = (1600, 0.1314784506273868, 3160)\n",
      "(episode, tau, score) = (1650, 0.17467948717948717, 3473)\n",
      "(episode, tau, score) = (1700, 0.15723270440251572, 3600)\n",
      "(episode, tau, score) = (1750, 0.16943866943866945, 3074)\n",
      "(episode, tau, score) = (1800, 0.15513626834381553, 3204)\n",
      "(episode, tau, score) = (1850, 0.10768398268398269, 3701)\n",
      "(episode, tau, score) = (1900, 0.17759562841530055, 2875)\n",
      "(episode, tau, score) = (1950, 0.16558791801510248, 3293)\n",
      "(episode, tau, score) = (2000, 0.048238482384823846, 4311)\n"
     ]
    },
    {
     "data": {
      "text/plain": [
       "<matplotlib.legend.Legend at 0x7fa73227cf50>"
      ]
     },
     "execution_count": 18,
     "metadata": {},
     "output_type": "execute_result"
    },
    {
     "data": {
      "image/png": "[encoded data removed]",
      "text/plain": [
       "<Figure size 432x288 with 1 Axes>"
      ]
     },
     "metadata": {},
     "output_type": "display_data"
    }
   ],
   "source": [
    "#Environment\n",
    "state_zero_scalar = np.random.choice(G.nodes())\n",
    "env = t.Env(G,trip_data,state_zero_scalar)\n",
    "state_zero = env.convert(state_zero_scalar)  #convert to 1-hot vector\n",
    "env.delta = delta\n",
    "num_states = env.num_states\n",
    "num_actions = env.num_actions\n",
    "env.illegal_move_penalty = -100\n",
    "\n",
    "\n",
    "#Agent\n",
    "lr = 0.01\n",
    "gamma = 0.1\n",
    "agent = Agent(num_states, num_actions, lr, gamma)\n",
    "agent.memory_size = 1000\n",
    "\n",
    "#Train\n",
    "EPISODES = 2000\n",
    "scores = []\n",
    "for e in range(1,EPISODES+1):\n",
    "    state = state_zero \n",
    "    state = np.reshape(state, [1, num_states])  #convert to tensor for keras\n",
    "    reward_sum = 0\n",
    "    while env.active_time < time_per_episode:\n",
    "        \n",
    "        # env.render()\n",
    "        action = agent.act(state)\n",
    "        next_state_scalar, reward = env.step(action)\n",
    "        next_state = env.convert(next_state_scalar)    #convert to 1-hot vec\n",
    "        reward_sum += reward\n",
    "        next_state = np.reshape(next_state, [1, num_states])  #convert to tensor for keras\n",
    "        agent.remember(state[0], action, 1.0*reward)\n",
    "        state = next_state\n",
    "    \n",
    "    #Learn & print results\n",
    "    agent.train_models()\n",
    "    tau = env.find_tau()\n",
    "    scores.append(tau)\n",
    "    env.reset(state_zero_scalar,trip_data)\n",
    "    if e % 50 == 0:\n",
    "        print '(episode, tau, score) = ' + str((e,tau,reward_sum))\n",
    "\n",
    "        \n",
    "plt.plot(scores,alpha=0.5)\n",
    "plt.plot(running_mean(scores,100),'b--')  #num windows\n",
    "plt.plot([tau_greedy for i in scores],'g--')\n",
    "plt.plot([tau_optimal for i in scores],'r--')\n",
    "plt.legend(['A2C','greedy','optimal'])\n",
    "#np.savetxt('stats/scores_lunar_landing.txt',scores)"
   ]
  },
  {
   "cell_type": "markdown",
   "metadata": {},
   "source": [
    "1. Note to self -- I should change the reward to $\\tau$ directly\n",
    "2. I'm not sure if doing the illegal moves this was is wise\n",
    "3. Dont forget, this will probably overfit."
   ]
  },
  {
   "cell_type": "code",
   "execution_count": 19,
   "metadata": {},
   "outputs": [
    {
     "name": "stdout",
     "output_type": "stream",
     "text": [
      "[9.8601794e-01 1.3961648e-02 4.1175426e-06 1.6239943e-05]\n",
      "[8.60829532e-01 1.39064461e-01 1.27436115e-05 9.32664043e-05]\n",
      "[9.9406648e-01 5.9221527e-03 2.8387669e-06 8.5257561e-06]\n",
      "[8.5111982e-01 1.4863330e-01 3.3956931e-05 2.1291157e-04]\n",
      "[4.0937558e-01 5.8858317e-01 2.3346567e-04 1.8078745e-03]\n"
     ]
    },
    {
     "ename": "IndexError",
     "evalue": "list index out of range",
     "output_type": "error",
     "traceback": [
      "\u001b[0;31m---------------------------------------------------------------------------\u001b[0m",
      "\u001b[0;31mIndexError\u001b[0m                                Traceback (most recent call last)",
      "\u001b[0;32m<ipython-input-19-737885ba1aeb>\u001b[0m in \u001b[0;36m<module>\u001b[0;34m()\u001b[0m\n\u001b[1;32m      6\u001b[0m     \u001b[0mbest_action\u001b[0m \u001b[0;34m=\u001b[0m \u001b[0mnp\u001b[0m\u001b[0;34m.\u001b[0m\u001b[0margmax\u001b[0m\u001b[0;34m(\u001b[0m\u001b[0maction_probs\u001b[0m\u001b[0;34m)\u001b[0m\u001b[0;34m\u001b[0m\u001b[0m\n\u001b[1;32m      7\u001b[0m     \u001b[0mneighbours\u001b[0m \u001b[0;34m=\u001b[0m \u001b[0mG\u001b[0m\u001b[0;34m[\u001b[0m\u001b[0mstate_scalar\u001b[0m\u001b[0;34m]\u001b[0m\u001b[0;34m.\u001b[0m\u001b[0mkeys\u001b[0m\u001b[0;34m(\u001b[0m\u001b[0;34m)\u001b[0m\u001b[0;34m\u001b[0m\u001b[0m\n\u001b[0;32m----> 8\u001b[0;31m     \u001b[0mpolicy\u001b[0m\u001b[0;34m[\u001b[0m\u001b[0mstate_scalar\u001b[0m\u001b[0;34m]\u001b[0m \u001b[0;34m=\u001b[0m \u001b[0mneighbours\u001b[0m\u001b[0;34m[\u001b[0m\u001b[0mbest_action\u001b[0m\u001b[0;34m]\u001b[0m\u001b[0;34m\u001b[0m\u001b[0m\n\u001b[0m",
      "\u001b[0;31mIndexError\u001b[0m: list index out of range"
     ]
    }
   ],
   "source": [
    "policy = {}\n",
    "for state_scalar in list(G.nodes()):\n",
    "    state_vec = np.reshape(env.convert(state_scalar),(1,num_states))\n",
    "    action_probs = agent.actor.model.predict(state_vec)[0]\n",
    "    print action_probs\n",
    "    best_action = np.argmax(action_probs)\n",
    "    neighbours = G[state_scalar].keys()\n",
    "    policy[state_scalar] = neighbours[best_action]"
   ]
  },
  {
   "cell_type": "markdown",
   "metadata": {},
   "source": [
    "Looks like my guy is doing slightly BETTER. Huh. I wonder how differnt their policies are."
   ]
  },
  {
   "cell_type": "code",
   "execution_count": 21,
   "metadata": {},
   "outputs": [
    {
     "name": "stdout",
     "output_type": "stream",
     "text": [
      "(episode, tau, score) = (50, 0.17769272826681246, -11080)\n",
      "(episode, tau, score) = (100, 0.138635142396561, -1507)\n",
      "(episode, tau, score) = (150, 0.18253968253968253, 1375)\n",
      "(episode, tau, score) = (200, 0.2384914032168608, 2775)\n",
      "(episode, tau, score) = (250, 0.21975040694519804, 2400)\n",
      "(episode, tau, score) = (300, 0.18898071625344354, 3558)\n",
      "(episode, tau, score) = (350, 0.1605960264900662, 3311)\n",
      "(episode, tau, score) = (400, 0.1912479740680713, 2647)\n",
      "(episode, tau, score) = (450, 0.19536423841059603, 3147)\n",
      "(episode, tau, score) = (500, 0.1054897739504844, 4106)\n",
      "(episode, tau, score) = (550, 0.1626278944534195, 2403)\n",
      "(episode, tau, score) = (600, 0.17358078602620086, 3284)\n",
      "(episode, tau, score) = (650, 0.1505257332595462, 3629)\n",
      "(episode, tau, score) = (700, 0.3372222222222222, 1498)\n",
      "(episode, tau, score) = (750, 0.10460021905805038, 3309)\n",
      "(episode, tau, score) = (800, 0.10231023102310231, 3515)\n",
      "(episode, tau, score) = (850, 0.10883977900552486, 2805)\n",
      "(episode, tau, score) = (900, 0.12996777658431793, 3862)\n",
      "(episode, tau, score) = (950, 0.13024523160762944, 2963)\n",
      "(episode, tau, score) = (1000, 0.14906490649064907, 3633)\n",
      "(episode, tau, score) = (1050, 0.14553472987872107, 2840)\n",
      "(episode, tau, score) = (1100, 0.10246781115879829, 3909)\n",
      "(episode, tau, score) = (1150, 0.15737161789066814, 2918)\n",
      "(episode, tau, score) = (1200, 0.0803234501347709, 4151)\n",
      "(episode, tau, score) = (1250, 0.11816675869685257, 2888)\n",
      "(episode, tau, score) = (1300, 0.10442864953526518, 3811)\n",
      "(episode, tau, score) = (1350, 0.12356478950246036, 3475)\n",
      "(episode, tau, score) = (1400, 0.10059491617090319, 3418)\n",
      "(episode, tau, score) = (1450, 0.07606885063853415, 3965)\n",
      "(episode, tau, score) = (1500, 0.08788209606986899, 3839)\n",
      "(episode, tau, score) = (1550, 0.1316916488222698, 3657)\n",
      "(episode, tau, score) = (1600, 0.15019326339039205, 3029)\n",
      "(episode, tau, score) = (1650, 0.08167770419426049, 3552)\n",
      "(episode, tau, score) = (1700, 0.07722222222222222, 3962)\n",
      "(episode, tau, score) = (1750, 0.11272141706924316, 3192)\n",
      "(episode, tau, score) = (1800, 0.12122874382885354, 3879)\n",
      "(episode, tau, score) = (1850, 0.06924754634678298, 3973)\n",
      "(episode, tau, score) = (1900, 0.08428720083246619, 3739)\n",
      "(episode, tau, score) = (1950, 0.055040871934604906, 4499)\n",
      "(episode, tau, score) = (2000, 0.08190370780298838, 4252)\n"
     ]
    },
    {
     "data": {
      "text/plain": [
       "<matplotlib.legend.Legend at 0x7fa6e8081810>"
      ]
     },
     "execution_count": 21,
     "metadata": {},
     "output_type": "execute_result"
    },
    {
     "data": {
      "image/png": "[encoded data removed]",
      "text/plain": [
       "<Figure size 432x288 with 1 Axes>"
      ]
     },
     "metadata": {},
     "output_type": "display_data"
    }
   ],
   "source": [
    "#Environment\n",
    "state_zero_scalar = np.random.choice(G.nodes())\n",
    "env = t.Env(G,trip_data,state_zero_scalar)\n",
    "state_zero = env.convert(state_zero_scalar)  #convert to 1-hot vector\n",
    "env.delta = delta\n",
    "num_states = env.num_states\n",
    "num_actions = env.num_actions\n",
    "env.illegal_move_penalty = -100\n",
    "\n",
    "\n",
    "#Agent\n",
    "lr = 0.01\n",
    "gamma = 0.9\n",
    "agent = Agent(num_states, num_actions, lr, gamma)\n",
    "agent.memory_size = 1000\n",
    "\n",
    "#Train\n",
    "EPISODES = 2000\n",
    "scores = []\n",
    "for e in range(1,EPISODES+1):\n",
    "    state = state_zero \n",
    "    state = np.reshape(state, [1, num_states])  #convert to tensor for keras\n",
    "    reward_sum = 0\n",
    "    while env.active_time < time_per_episode:\n",
    "        \n",
    "        # env.render()\n",
    "        action = agent.act(state)\n",
    "        next_state_scalar, reward = env.step(action)\n",
    "        next_state = env.convert(next_state_scalar)    #convert to 1-hot vec\n",
    "        reward_sum += reward\n",
    "        next_state = np.reshape(next_state, [1, num_states])  #convert to tensor for keras\n",
    "        agent.remember(state[0], action, 1.0*reward)\n",
    "        state = next_state\n",
    "    \n",
    "    #Learn & print results\n",
    "    agent.train_models()\n",
    "    tau = env.find_tau()\n",
    "    scores.append(tau)\n",
    "    env.reset(state_zero_scalar,trip_data)\n",
    "    if e % 50 == 0:\n",
    "        print '(episode, tau, score) = ' + str((e,tau,reward_sum))\n",
    "\n",
    "        \n",
    "plt.plot(scores,alpha=0.5)\n",
    "plt.plot(running_mean(scores,100),'b--')  #num windows\n",
    "plt.plot([tau_greedy for i in scores],'g--')\n",
    "plt.plot([tau_optimal for i in scores],'r--')\n",
    "plt.legend(['A2C','greedy','optimal'])\n",
    "#np.savetxt('stats/scores_lunar_landing.txt',scores)"
   ]
  },
  {
   "cell_type": "markdown",
   "metadata": {},
   "source": [
    "Looks good! I'll continute the learning below."
   ]
  },
  {
   "cell_type": "code",
   "execution_count": 22,
   "metadata": {},
   "outputs": [
    {
     "name": "stdout",
     "output_type": "stream",
     "text": [
      "(episode, tau, score) = (50, 0.06263858093126386, 4787)\n",
      "(episode, tau, score) = (100, 0.04837822979659153, 4812)\n",
      "(episode, tau, score) = (150, 0.05204872646733112, 4406)\n",
      "(episode, tau, score) = (200, 0.051790633608815424, 4106)\n",
      "(episode, tau, score) = (250, 0.03397260273972603, 4038)\n",
      "(episode, tau, score) = (300, 0.044986449864498644, 4017)\n",
      "(episode, tau, score) = (350, 0.06400437636761488, 4283)\n",
      "(episode, tau, score) = (400, 0.05175202156334232, 4204)\n",
      "(episode, tau, score) = (450, 0.05421686746987952, 4501)\n",
      "(episode, tau, score) = (500, 0.03055100927441353, 4044)\n",
      "(episode, tau, score) = (550, 0.039400665926748055, 3829)\n",
      "(episode, tau, score) = (600, 0.03503184713375796, 4034)\n",
      "(episode, tau, score) = (650, 0.027129679869777535, 3950)\n",
      "(episode, tau, score) = (700, 0.03895410885805763, 4327)\n",
      "(episode, tau, score) = (750, 0.04455445544554455, 4519)\n",
      "(episode, tau, score) = (800, 0.06451612903225806, 4183)\n",
      "(episode, tau, score) = (850, 0.051047823750671684, 4505)\n",
      "(episode, tau, score) = (900, 0.05875892366831411, 4494)\n",
      "(episode, tau, score) = (950, 0.0458963282937365, 4415)\n",
      "(episode, tau, score) = (1000, 0.03053026245313337, 4243)\n",
      "(episode, tau, score) = (1050, 0.04806629834254143, 4413)\n",
      "(episode, tau, score) = (1100, 0.035164835164835165, 4036)\n",
      "(episode, tau, score) = (1150, 0.04157549234135667, 4224)\n",
      "(episode, tau, score) = (1200, 0.03595132743362832, 4435)\n",
      "(episode, tau, score) = (1250, 0.02771618625277162, 4350)\n",
      "(episode, tau, score) = (1300, 0.03806416530723219, 4330)\n",
      "(episode, tau, score) = (1350, 0.04077134986225895, 4126)\n",
      "(episode, tau, score) = (1400, 0.04077134986225895, 4126)\n",
      "(episode, tau, score) = (1450, 0.03171131765992345, 4842)\n",
      "(episode, tau, score) = (1500, 0.04184782608695652, 4523)\n",
      "(episode, tau, score) = (1550, 0.041965764770844835, 4424)\n",
      "(episode, tau, score) = (1600, 0.03335126412049489, 4038)\n",
      "(episode, tau, score) = (1650, 0.03966155473294553, 4525)\n",
      "(episode, tau, score) = (1700, 0.026790595954073265, 3751)\n",
      "(episode, tau, score) = (1750, 0.03403565640194489, 3838)\n",
      "(episode, tau, score) = (1800, 0.03705752212389381, 4733)\n",
      "(episode, tau, score) = (1850, 0.03389830508474576, 4038)\n",
      "(episode, tau, score) = (1900, 0.038461538461538464, 4629)\n",
      "(episode, tau, score) = (1950, 0.03875968992248062, 4630)\n",
      "(episode, tau, score) = (2000, 0.041643835616438356, 3824)\n"
     ]
    },
    {
     "data": {
      "text/plain": [
       "<matplotlib.legend.Legend at 0x7fa7358e0d10>"
      ]
     },
     "execution_count": 22,
     "metadata": {},
     "output_type": "execute_result"
    },
    {
     "data": {
      "image/png": "[encoded data removed]",
      "text/plain": [
       "<Figure size 432x288 with 1 Axes>"
      ]
     },
     "metadata": {},
     "output_type": "display_data"
    }
   ],
   "source": [
    "#Train\n",
    "EPISODES = 2000\n",
    "scores = []\n",
    "for e in range(1,EPISODES+1):\n",
    "    state = state_zero \n",
    "    state = np.reshape(state, [1, num_states])  #convert to tensor for keras\n",
    "    reward_sum = 0\n",
    "    while env.active_time < time_per_episode:\n",
    "        \n",
    "        # env.render()\n",
    "        action = agent.act(state)\n",
    "        next_state_scalar, reward = env.step(action)\n",
    "        next_state = env.convert(next_state_scalar)    #convert to 1-hot vec\n",
    "        reward_sum += reward\n",
    "        next_state = np.reshape(next_state, [1, num_states])  #convert to tensor for keras\n",
    "        agent.remember(state[0], action, 1.0*reward)\n",
    "        state = next_state\n",
    "    \n",
    "    #Learn & print results\n",
    "    agent.train_models()\n",
    "    tau = env.find_tau()\n",
    "    scores.append(tau)\n",
    "    env.reset(state_zero_scalar,trip_data)\n",
    "    if e % 50 == 0:\n",
    "        print '(episode, tau, score) = ' + str((e,tau,reward_sum))\n",
    "\n",
    "        \n",
    "plt.plot(scores,alpha=0.5)\n",
    "plt.plot(running_mean(scores,100),'b--')  #num windows\n",
    "plt.plot([tau_greedy for i in scores],'g--')\n",
    "plt.plot([tau_optimal for i in scores],'r--')\n",
    "plt.legend(['A2C','greedy','optimal'])\n",
    "#np.savetxt('stats/scores_lunar_landing.txt',scores"
   ]
  },
  {
   "cell_type": "markdown",
   "metadata": {},
   "source": [
    "Great! Remember -- this is all for 5  hours\n",
    "\n",
    "### Run for full 24 hours"
   ]
  },
  {
   "cell_type": "code",
   "execution_count": null,
   "metadata": {
    "collapsed": true
   },
   "outputs": [],
   "source": []
  }
 ],
 "metadata": {
  "kernelspec": {
   "display_name": "Python 2",
   "language": "python",
   "name": "python2"
  },
  "language_info": {
   "codemirror_mode": {
    "name": "ipython",
    "version": 2
   },
   "file_extension": ".py",
   "mimetype": "text/x-python",
   "name": "python",
   "nbconvert_exporter": "python",
   "pygments_lexer": "ipython2",
   "version": "2.7.14"
  }
 },
 "nbformat": 4,
 "nbformat_minor": 2
}
