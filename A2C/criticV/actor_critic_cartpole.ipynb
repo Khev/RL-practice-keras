{
 "cells": [
  {
   "cell_type": "markdown",
   "metadata": {},
   "source": [
    "# Introduction"
   ]
  },
  {
   "cell_type": "code",
   "execution_count": 1,
   "metadata": {},
   "outputs": [
    {
     "name": "stderr",
     "output_type": "stream",
     "text": [
      "/home/kokeeffe/anaconda2/lib/python2.7/site-packages/h5py/__init__.py:34: FutureWarning: Conversion of the second argument of issubdtype from `float` to `np.floating` is deprecated. In future, it will be treated as `np.float64 == np.dtype(float).type`.\n",
      "  from ._conv import register_converters as _register_converters\n",
      "Using TensorFlow backend.\n"
     ]
    },
    {
     "name": "stdout",
     "output_type": "stream",
     "text": [
      "\u001b[33mWARN: gym.spaces.Box autodetected dtype as <type 'numpy.float32'>. Please provide explicit dtype.\u001b[0m\n",
      "(episode, score) = (50, 37.0)\n",
      "(episode, score) = (100, 38.0)\n",
      "(episode, score) = (150, 13.0)\n",
      "(episode, score) = (200, 16.0)\n",
      "(episode, score) = (250, 13.0)\n",
      "(episode, score) = (300, 42.0)\n",
      "(episode, score) = (350, 11.0)\n",
      "(episode, score) = (400, 73.0)\n",
      "(episode, score) = (450, 18.0)\n",
      "(episode, score) = (500, 24.0)\n",
      "(episode, score) = (550, 18.0)\n",
      "(episode, score) = (600, 12.0)\n",
      "(episode, score) = (650, 30.0)\n",
      "(episode, score) = (700, 21.0)\n",
      "(episode, score) = (750, 13.0)\n",
      "(episode, score) = (800, 15.0)\n",
      "(episode, score) = (850, 10.0)\n",
      "(episode, score) = (900, 38.0)\n",
      "(episode, score) = (950, 25.0)\n",
      "(episode, score) = (1000, 14.0)\n",
      "(episode, score) = (1050, 12.0)\n",
      "(episode, score) = (1100, 11.0)\n",
      "(episode, score) = (1150, 16.0)\n",
      "(episode, score) = (1200, 63.0)\n",
      "(episode, score) = (1250, 21.0)\n",
      "(episode, score) = (1300, 12.0)\n",
      "(episode, score) = (1350, 46.0)\n",
      "(episode, score) = (1400, 21.0)\n",
      "(episode, score) = (1450, 20.0)\n",
      "(episode, score) = (1500, 23.0)\n",
      "(episode, score) = (1550, 25.0)\n",
      "(episode, score) = (1600, 14.0)\n",
      "(episode, score) = (1650, 25.0)\n",
      "(episode, score) = (1700, 24.0)\n",
      "(episode, score) = (1750, 17.0)\n",
      "(episode, score) = (1800, 14.0)\n",
      "(episode, score) = (1850, 19.0)\n",
      "(episode, score) = (1900, 10.0)\n",
      "(episode, score) = (1950, 20.0)\n",
      "(episode, score) = (2000, 15.0)\n"
     ]
    },
    {
     "data": {
      "text/plain": [
       "[<matplotlib.lines.Line2D at 0x7f6891e6d450>]"
      ]
     },
     "execution_count": 1,
     "metadata": {},
     "output_type": "execute_result"
    },
    {
     "data": {
      "image/png": "[encoded data removed]",
      "text/plain": [
       "<Figure size 432x288 with 1 Axes>"
      ]
     },
     "metadata": {},
     "output_type": "display_data"
    }
   ],
   "source": [
    "import numpy as np\n",
    "import matplotlib.pyplot as plt\n",
    "import tensorflow as tf\n",
    "import gym\n",
    "from collections import deque\n",
    "from keras.models import Sequential\n",
    "from keras.layers import Dense\n",
    "import keras.optimizers \n",
    "from keras import backend as K\n",
    "from agent import Agent\n",
    "%matplotlib inline\n",
    "\n",
    "\n",
    "#Env\n",
    "env = gym.make('CartPole-v0')\n",
    "num_states = env.observation_space.shape[0]\n",
    "num_actions = env.action_space.n\n",
    "\n",
    "#Agent\n",
    "input_dim, output_dim = num_states, num_actions\n",
    "lr, gamma, tau, clipnorm, verbose = 10**(-3), 0.99, 0.01, True, False\n",
    "agent = Agent(input_dim, output_dim, lr, gamma, tau, clipnorm, verbose)\n",
    "\n",
    "#Train\n",
    "EPISODES = 2000\n",
    "scores = []\n",
    "for e in range(1,EPISODES+1):\n",
    "    state = env.reset()\n",
    "    state = np.reshape(state, [1, num_states])\n",
    "    reward_sum = 0\n",
    "    done = False\n",
    "    while not done:\n",
    "        # env.render()\n",
    "        action = agent.act(state)\n",
    "        next_state, reward, done, _ = env.step(action)\n",
    "        reward_sum += reward\n",
    "        next_state = np.reshape(next_state, [1, num_states])\n",
    "        agent.remember(state[0], action, reward, next_state[0], done)\n",
    "        state = next_state\n",
    "    agent.learn()\n",
    "    scores.append(reward_sum)\n",
    "    if e % 50 == 0:\n",
    "        print '(episode, score) = ' + str((e,reward_sum))\n",
    "plt.plot(scores)"
   ]
  },
  {
   "cell_type": "markdown",
   "metadata": {},
   "source": [
    "### Roughwork"
   ]
  }
 ],
 "metadata": {
  "kernelspec": {
   "display_name": "Python 2",
   "language": "python",
   "name": "python2"
  },
  "language_info": {
   "codemirror_mode": {
    "name": "ipython",
    "version": 2
   },
   "file_extension": ".py",
   "mimetype": "text/x-python",
   "name": "python",
   "nbconvert_exporter": "python",
   "pygments_lexer": "ipython2",
   "version": "2.7.14"
  }
 },
 "nbformat": 4,
 "nbformat_minor": 2
}
