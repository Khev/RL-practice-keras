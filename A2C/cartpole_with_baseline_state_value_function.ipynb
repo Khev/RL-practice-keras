{
 "cells": [
  {
   "cell_type": "markdown",
   "metadata": {},
   "source": [
    "### Introduction\n",
    "\n",
    "Here I'm testing code from the A2C algorithm. I'm following the code from \n",
    "\n",
    "https://github.com/germain-hug/Deep-RL-Keras/blob/master/A2C/\n",
    "\n",
    "Note: I haven't implemented the temporal difference part yet. So, this is really just policy gradient with\n",
    "a baseline state-value function (which I model with another, separate, neural net -- do other people do this? I must check)."
   ]
  },
  {
   "cell_type": "code",
   "execution_count": null,
   "metadata": {},
   "outputs": [
    {
     "name": "stdout",
     "output_type": "stream",
     "text": [
      "\u001b[33mWARN: gym.spaces.Box autodetected dtype as <type 'numpy.float32'>. Please provide explicit dtype.\u001b[0m\n",
      "(episode, score) = (50, 15.0)\n",
      "(episode, score) = (100, 6.0)\n",
      "(episode, score) = (150, 44.0)\n",
      "(episode, score) = (200, 76.0)\n",
      "(episode, score) = (250, 81.0)\n",
      "(episode, score) = (300, 84.0)\n",
      "(episode, score) = (350, 353.0)\n",
      "(episode, score) = (400, 489.0)\n",
      "(episode, score) = (450, 412.0)\n",
      "(episode, score) = (500, 258.0)\n",
      "(episode, score) = (550, 489.0)\n",
      "(episode, score) = (600, 489.0)\n",
      "(episode, score) = (650, 489.0)\n",
      "(episode, score) = (700, 489.0)\n",
      "(episode, score) = (750, 489.0)\n",
      "(episode, score) = (800, 344.0)\n",
      "(episode, score) = (850, 489.0)\n",
      "(episode, score) = (900, 448.0)\n",
      "(episode, score) = (950, 489.0)\n"
     ]
    }
   ],
   "source": [
    "import numpy as np\n",
    "import matplotlib.pyplot as plt\n",
    "import gym\n",
    "from agent_with_baseline import Agent\n",
    "from keras.utils import to_categorical\n",
    "%matplotlib inline\n",
    "\n",
    "\n",
    "EPISODES = 1000\n",
    "\n",
    "env = gym.make('CartPole-v1')\n",
    "env.seed(1)  #for comparison\n",
    "num_states = env.observation_space.shape[0]\n",
    "num_actions = env.action_space.n\n",
    "agent = Agent(num_states, num_actions)\n",
    "agent.gamma = 0.99\n",
    "agent.lr = 0.001\n",
    "done = False\n",
    "\n",
    "scores = []\n",
    "\n",
    "for e in range(1,EPISODES+1):\n",
    "    state = env.reset()\n",
    "    state = np.reshape(state, [1, num_states])\n",
    "    reward_sum = 0\n",
    "    for time in range(500):\n",
    "        # env.render()\n",
    "        action = agent.act(state)\n",
    "        next_state, reward, done, _ = env.step(action)\n",
    "        reward = reward if not done else -10\n",
    "        reward_sum += reward\n",
    "        next_state = np.reshape(next_state, [1, num_states])\n",
    "        agent.remember(state[0], action, reward)\n",
    "        state = next_state\n",
    "        if done:\n",
    "            break\n",
    "    \n",
    "    #Learn & print results\n",
    "    agent.train_models()\n",
    "    scores.append(reward_sum)\n",
    "    if e % 50 == 0:\n",
    "        print '(episode, score) = ' + str((e,reward_sum))\n",
    "\n",
    "plt.plot(scores)\n",
    "np.savetxt('stats/scores_cartpole.txt',scores)"
   ]
  },
  {
   "cell_type": "markdown",
   "metadata": {},
   "source": [
    "Looks good -- it is indeed more stable(ish) -- (comparing to plot in 'policy_gradients_cartplot_keras.ipynb').\n",
    "Recall, this was just the PG with a baseline. I still haven't done the true A2C, which contains temporal different learning. "
   ]
  }
 ],
 "metadata": {
  "kernelspec": {
   "display_name": "Python 2",
   "language": "python",
   "name": "python2"
  },
  "language_info": {
   "codemirror_mode": {
    "name": "ipython",
    "version": 2
   },
   "file_extension": ".py",
   "mimetype": "text/x-python",
   "name": "python",
   "nbconvert_exporter": "python",
   "pygments_lexer": "ipython2",
   "version": "2.7.14"
  }
 },
 "nbformat": 4,
 "nbformat_minor": 2
}
