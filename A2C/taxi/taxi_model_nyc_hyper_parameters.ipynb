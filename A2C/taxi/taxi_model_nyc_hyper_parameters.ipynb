{
 "cells": [
  {
   "cell_type": "markdown",
   "metadata": {},
   "source": [
    "# Introduction\n",
    "\n",
    "Here I'm testing the A2C on the taxi grid graph\n"
   ]
  },
  {
   "cell_type": "code",
   "execution_count": 3,
   "metadata": {},
   "outputs": [],
   "source": [
    "import networkx as nx\n",
    "import csv\n",
    "import copy\n",
    "import funcs as f\n",
    "import numpy as np\n",
    "import matplotlib.pyplot as plt\n",
    "import gym\n",
    "from agent_taxi import Agent\n",
    "from agent_taxi import PolicyCab\n",
    "from taxi_environment import Env\n",
    "from keras.utils import to_categorical\n",
    "%matplotlib inline\n",
    "\n",
    "G = f.load_manhattan_graph()\n",
    "G = nx.convert_node_labels_to_integers(G)  #nodes start at 1, want them to start at 0\n",
    "state_zero = np.array([1 if i == 0 else 0 for i in range(G.number_of_nodes())])\n",
    "\n",
    "\n",
    "def run(lr,gamma,penalty):\n",
    "    \n",
    "    \n",
    "    #Environment\n",
    "    state_zero = np.array([1 if i == 0 else 0 for i in range(G.number_of_nodes())])\n",
    "    env = Env(G,state_zero)\n",
    "    num_states = env.num_states\n",
    "    num_actions = env.num_actions\n",
    "    env.illegal_move_penalty = penalty\n",
    "\n",
    "    #Agent\n",
    "    agent = Agent(num_states, num_actions, lr, gamma)\n",
    "    agent.memory_size = 1000\n",
    "\n",
    "    scores = []\n",
    "    EPISODES = 2000\n",
    "\n",
    "    for e in range(1,EPISODES+1):\n",
    "        state = state_zero\n",
    "        state = np.reshape(state, [1, num_states])\n",
    "        reward_sum = 0\n",
    "        while agent.active_time < 100:\n",
    "\n",
    "            # env.render()\n",
    "            action = agent.act(state)\n",
    "            next_state, reward = env.step(action,agent)\n",
    "            reward_sum += reward\n",
    "            next_state = np.reshape(next_state, [1, num_states])\n",
    "\n",
    "            #We only want to remember action taken when looking\n",
    "            if agent.state == 'serving':\n",
    "                pass\n",
    "            else:\n",
    "                agent.remember(state[0], action, 1.0*reward)\n",
    "            state = next_state\n",
    "            \n",
    "\n",
    "        #Learn & print results\n",
    "        agent.train_models()\n",
    "        tau = agent.find_tau()\n",
    "        scores.append(tau)\n",
    "        agent.reset_clocks()\n",
    "        \n",
    "    return scores"
   ]
  },
  {
   "cell_type": "markdown",
   "metadata": {},
   "source": [
    "### Hyper parameter optimization"
   ]
  },
  {
   "cell_type": "code",
   "execution_count": 4,
   "metadata": {},
   "outputs": [
    {
     "name": "stderr",
     "output_type": "stream",
     "text": [
      "agent_taxi.py:73: RuntimeWarning: invalid value encountered in divide\n",
      "  R /= np.std(R)\n",
      "agent_taxi.py:92: RuntimeWarning: invalid value encountered in less\n",
      "  action = np.random.choice(self.actions, p=probs)\n"
     ]
    },
    {
     "name": "stdout",
     "output_type": "stream",
     "text": [
      "(lr,gamma,mean,range) = (0.0001, 0.01, 0.202975, 1.0)\n",
      "(lr,gamma,mean,range) = (0.0001, 0.1, 0.171235, 1.0)\n",
      "(lr,gamma,mean,range) = (0.0001, 0.9, 0.182355, 1.0)\n",
      "(lr,gamma,mean,range) = (0.001, 0.01, 0.20518, 1.0)\n",
      "(lr,gamma,mean,range) = (0.001, 0.1, 0.18544, 1.0)\n",
      "(lr,gamma,mean,range) = (0.001, 0.9, 0.18791, 1.0)\n",
      "(lr,gamma,mean,range) = (0.01, 0.01, 0.174705, 1.0)\n",
      "(lr,gamma,mean,range) = (0.01, 0.1, 0.18215, 1.0)\n",
      "(lr,gamma,mean,range) = (0.01, 0.9, 0.211195, 0.99)\n",
      "(lr,gamma,mean,range) = (0.1, 0.01, 0.17331, 1.0)\n",
      "(lr,gamma,mean,range) = (0.1, 0.1, 0.19283, 1.0)\n",
      "(lr,gamma,mean,range) = (0.1, 0.9, 0.1988, 1.0)\n"
     ]
    }
   ],
   "source": [
    "gammas = [0.01, 0.1, 0.9]\n",
    "lrs = [0.0001,0.001,0.01,0.1]\n",
    "penalty = -100\n",
    "\n",
    "for lr in lrs:\n",
    "    for gamma in gammas:\n",
    "        scores = run(lr,gamma,penalty) # illegal move penalty\n",
    "        print '(lr,gamma,mean,range) = ' + str((lr,gamma,np.mean(scores), max(scores) - min(scores)))"
   ]
  },
  {
   "cell_type": "code",
   "execution_count": 6,
   "metadata": {},
   "outputs": [
    {
     "name": "stdout",
     "output_type": "stream",
     "text": [
      "(penalty,gamma,mean,range) = (-1000, 0.01, 0.18819, 0.64)\n",
      "(penalty,gamma,mean,range) = (-100, 0.01, 0.15662, 0.6)\n",
      "(penalty,gamma,mean,range) = (-10, 0.01, 0.19398, 0.68)\n",
      "(penalty,gamma,mean,range) = (0, 0.01, 0.19132999999999997, 0.71)\n"
     ]
    }
   ],
   "source": [
    "penalties = [-1000,-100,-10,0]\n",
    "lr,gamma = 0.01, 0.01\n",
    "\n",
    "for penalty in penalties:\n",
    "    scores = run(lr,gamma,penalty) # illegal move penalty\n",
    "    scores = scores[-1000:]  #discard the training\n",
    "    print '(penalty,gamma,mean,range) = ' + str((penalty,gamma,np.mean(scores), max(scores) - min(scores)))"
   ]
  },
  {
   "cell_type": "code",
   "execution_count": null,
   "metadata": {
    "collapsed": true
   },
   "outputs": [],
   "source": []
  }
 ],
 "metadata": {
  "kernelspec": {
   "display_name": "Python 2",
   "language": "python",
   "name": "python2"
  },
  "language_info": {
   "codemirror_mode": {
    "name": "ipython",
    "version": 2
   },
   "file_extension": ".py",
   "mimetype": "text/x-python",
   "name": "python",
   "nbconvert_exporter": "python",
   "pygments_lexer": "ipython2",
   "version": "2.7.14"
  }
 },
 "nbformat": 4,
 "nbformat_minor": 2
}
