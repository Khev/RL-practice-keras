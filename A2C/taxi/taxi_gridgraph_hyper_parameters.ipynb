{
 "cells": [
  {
   "cell_type": "markdown",
   "metadata": {},
   "source": [
    "# Introduction\n",
    "\n",
    "Here I'm testing the A2C on the taxi grid graph\n"
   ]
  },
  {
   "cell_type": "code",
   "execution_count": 1,
   "metadata": {},
   "outputs": [
    {
     "name": "stderr",
     "output_type": "stream",
     "text": [
      "/home/kokeeffe/anaconda2/lib/python2.7/site-packages/h5py/__init__.py:34: FutureWarning: Conversion of the second argument of issubdtype from `float` to `np.floating` is deprecated. In future, it will be treated as `np.float64 == np.dtype(float).type`.\n",
      "  from ._conv import register_converters as _register_converters\n",
      "Using TensorFlow backend.\n"
     ]
    }
   ],
   "source": [
    "import networkx as nx\n",
    "import csv\n",
    "import copy\n",
    "import funcs as f\n",
    "import numpy as np\n",
    "import matplotlib.pyplot as plt\n",
    "import gym\n",
    "from agent_taxi import Agent\n",
    "from agent_taxi import PolicyCab\n",
    "from taxi_environment import Env\n",
    "from keras.utils import to_categorical\n",
    "%matplotlib inline\n",
    "\n",
    "\n",
    "def run(lr,gamma, n, penalty):\n",
    "    \n",
    "    \n",
    "    #Environment\n",
    "    G = f.make_G(n)\n",
    "    state_zero = np.array([1 if i == 0 else 0 for i in range(G.number_of_nodes())])\n",
    "    env = Env(G,state_zero)\n",
    "    num_states = env.num_states\n",
    "    num_actions = env.num_actions\n",
    "    penalty = env.illegal_move_penalty\n",
    "\n",
    "    #Agent\n",
    "    agent = Agent(num_states, num_actions, lr, gamma)\n",
    "    agent.memory_size = 1000\n",
    "\n",
    "    scores = []\n",
    "    EPISODES = 4000\n",
    "\n",
    "    for e in range(1,EPISODES+1):\n",
    "        state = state_zero\n",
    "        state = np.reshape(state, [1, num_states])\n",
    "        reward_sum = 0\n",
    "        while agent.active_time < 100:\n",
    "\n",
    "            # env.render()\n",
    "            action = agent.act(state)\n",
    "            next_state, reward = env.step(action,agent)\n",
    "            reward_sum += reward\n",
    "            next_state = np.reshape(next_state, [1, num_states])\n",
    "\n",
    "            #We only want to remember action taken when looking\n",
    "            if agent.state == 'serving':\n",
    "                pass\n",
    "            else:\n",
    "                agent.remember(state[0], action, 1.0*reward)\n",
    "            state = next_state\n",
    "            \n",
    "\n",
    "        #Learn & print results\n",
    "        agent.train_models()\n",
    "        tau = agent.find_tau()\n",
    "        scores.append(tau)\n",
    "        agent.reset_clocks()\n",
    "        \n",
    "    return scores"
   ]
  },
  {
   "cell_type": "markdown",
   "metadata": {},
   "source": [
    "### Hyper parameter optimization"
   ]
  },
  {
   "cell_type": "code",
   "execution_count": 2,
   "metadata": {},
   "outputs": [
    {
     "ename": "TypeError",
     "evalue": "run() takes exactly 4 arguments (2 given)",
     "output_type": "error",
     "traceback": [
      "\u001b[0;31m---------------------------------------------------------------------------\u001b[0m",
      "\u001b[0;31mTypeError\u001b[0m                                 Traceback (most recent call last)",
      "\u001b[0;32m<ipython-input-2-1a4606bf3fe0>\u001b[0m in \u001b[0;36m<module>\u001b[0;34m()\u001b[0m\n\u001b[1;32m      6\u001b[0m \u001b[0;32mfor\u001b[0m \u001b[0mlr\u001b[0m \u001b[0;32min\u001b[0m \u001b[0mlrs\u001b[0m\u001b[0;34m:\u001b[0m\u001b[0;34m\u001b[0m\u001b[0m\n\u001b[1;32m      7\u001b[0m     \u001b[0;32mfor\u001b[0m \u001b[0mgamma\u001b[0m \u001b[0;32min\u001b[0m \u001b[0mgammas\u001b[0m\u001b[0;34m:\u001b[0m\u001b[0;34m\u001b[0m\u001b[0m\n\u001b[0;32m----> 8\u001b[0;31m         \u001b[0mscores\u001b[0m \u001b[0;34m=\u001b[0m \u001b[0mrun\u001b[0m\u001b[0;34m(\u001b[0m\u001b[0mlr\u001b[0m\u001b[0;34m,\u001b[0m\u001b[0mgamma\u001b[0m\u001b[0;34m)\u001b[0m\u001b[0;34m\u001b[0m\u001b[0m\n\u001b[0m\u001b[1;32m      9\u001b[0m         \u001b[0mscores_all\u001b[0m\u001b[0;34m.\u001b[0m\u001b[0mappend\u001b[0m\u001b[0;34m(\u001b[0m\u001b[0mscores\u001b[0m\u001b[0;34m)\u001b[0m\u001b[0;34m\u001b[0m\u001b[0m\n\u001b[1;32m     10\u001b[0m         \u001b[0;32mprint\u001b[0m \u001b[0;34m'(lr,gamma,mean,range) = '\u001b[0m \u001b[0;34m+\u001b[0m \u001b[0mstr\u001b[0m\u001b[0;34m(\u001b[0m\u001b[0;34m(\u001b[0m\u001b[0mlr\u001b[0m\u001b[0;34m,\u001b[0m\u001b[0mgamma\u001b[0m\u001b[0;34m,\u001b[0m\u001b[0mnp\u001b[0m\u001b[0;34m.\u001b[0m\u001b[0mmean\u001b[0m\u001b[0;34m(\u001b[0m\u001b[0mscores\u001b[0m\u001b[0;34m)\u001b[0m\u001b[0;34m,\u001b[0m \u001b[0mmax\u001b[0m\u001b[0;34m(\u001b[0m\u001b[0mscores\u001b[0m\u001b[0;34m)\u001b[0m \u001b[0;34m-\u001b[0m \u001b[0mmin\u001b[0m\u001b[0;34m(\u001b[0m\u001b[0mscores\u001b[0m\u001b[0;34m)\u001b[0m\u001b[0;34m)\u001b[0m\u001b[0;34m)\u001b[0m\u001b[0;34m\u001b[0m\u001b[0m\n",
      "\u001b[0;31mTypeError\u001b[0m: run() takes exactly 4 arguments (2 given)"
     ]
    }
   ],
   "source": [
    "gammas = [0.01, 0.1, 0.9]\n",
    "lrs = [0.0001,0.001,0.01,0.1]\n",
    "\n",
    "scores_all = []\n",
    "\n",
    "for lr in lrs:\n",
    "    for gamma in gammas:\n",
    "        scores = run(lr,gamma,n,-1000) # illegal move penalty\n",
    "        scores_all.append(scores)\n",
    "        print '(lr,gamma,mean,range) = ' + str((lr,gamma,np.mean(scores), max(scores) - min(scores)))"
   ]
  },
  {
   "cell_type": "markdown",
   "metadata": {},
   "source": [
    "Smaller gamma are the trick."
   ]
  },
  {
   "cell_type": "markdown",
   "metadata": {},
   "source": [
    "### Do on 10x10 graph"
   ]
  },
  {
   "cell_type": "code",
   "execution_count": 4,
   "metadata": {},
   "outputs": [
    {
     "name": "stdout",
     "output_type": "stream",
     "text": [
      "(lr,gamma,mean,range) = (0.0001, 0.01, 0.03428, 0.11)\n",
      "(lr,gamma,mean,range) = (0.0001, 0.1, 0.03433, 0.12)\n",
      "(lr,gamma,mean,range) = (0.0001, 0.99, 0.034350000000000006, 0.12)\n",
      "(lr,gamma,mean,range) = (0.001, 0.01, 0.03427, 0.12)\n",
      "(lr,gamma,mean,range) = (0.001, 0.1, 0.03446, 0.13)\n",
      "(lr,gamma,mean,range) = (0.001, 0.99, 0.07028, 0.2)\n",
      "(lr,gamma,mean,range) = (0.01, 0.01, 0.03434, 0.12)\n",
      "(lr,gamma,mean,range) = (0.01, 0.1, 0.06412000000000001, 0.19)\n",
      "(lr,gamma,mean,range) = (0.01, 0.99, 0.034370000000000005, 0.13)\n",
      "(lr,gamma,mean,range) = (0.1, 0.01, 0.03427000000000001, 0.11)\n",
      "(lr,gamma,mean,range) = (0.1, 0.1, 0.03435, 0.12)\n",
      "(lr,gamma,mean,range) = (0.1, 0.99, 0.034330000000000006, 0.12)\n"
     ]
    }
   ],
   "source": [
    "gammas = [0.01, 0.1, 0.99]\n",
    "lrs = [0.0001,0.001,0.01,0.1]\n",
    "\n",
    "scores_all = []\n",
    "\n",
    "for lr in lrs:\n",
    "    for gamma in gammas:\n",
    "        scores = run(lr,gamma,10,-1000)  #size of graph, penalty for illegal move\n",
    "        scores = scores[-1000:]\n",
    "        scores_all.append(scores)\n",
    "        print '(lr,gamma,mean,range) = ' + str((lr,gamma,np.mean(scores), max(scores) - min(scores)))"
   ]
  },
  {
   "cell_type": "markdown",
   "metadata": {},
   "source": [
    "I wasn't expecting that, doesn't seem to be much different."
   ]
  },
  {
   "cell_type": "code",
   "execution_count": null,
   "metadata": {},
   "outputs": [
    {
     "name": "stdout",
     "output_type": "stream",
     "text": [
      "(penalty,gamma,mean,range) = (-1000, 0.01, 0.03427000000000001, 0.12)\n",
      "(penalty,gamma,mean,range) = (-1000, 0.1, 0.06412000000000001, 0.2)\n",
      "(penalty,gamma,mean,range) = (-1000, 0.99, 0.03445, 0.12)\n",
      "(penalty,gamma,mean,range) = (-100, 0.01, 0.03438000000000001, 0.13)\n",
      "(penalty,gamma,mean,range) = (-100, 0.1, 0.03436, 0.11)\n",
      "(penalty,gamma,mean,range) = (-100, 0.99, 0.034330000000000006, 0.12)\n",
      "(penalty,gamma,mean,range) = (-10, 0.01, 0.03427000000000001, 0.12)\n",
      "(penalty,gamma,mean,range) = (-10, 0.1, 0.034350000000000006, 0.12)\n"
     ]
    }
   ],
   "source": [
    "gammas = [0.01, 0.1, 0.99]\n",
    "penalties = [-1000,-100,-10,0]\n",
    "lr = 0.01\n",
    "n = 10  #grid edge size\n",
    "\n",
    "for penalty in penalties:\n",
    "    for gamma in gammas:\n",
    "        scores = run(lr,gamma,n,penalty)  #size of graph, penalty for illegal move\n",
    "        scores = scores[-1000:]\n",
    "        scores_all.append(scores)\n",
    "        print '(penalty,gamma,mean,range) = ' + str((penalty,gamma,np.mean(scores), max(scores) - min(scores)))"
   ]
  }
 ],
 "metadata": {
  "kernelspec": {
   "display_name": "Python 2",
   "language": "python",
   "name": "python2"
  },
  "language_info": {
   "codemirror_mode": {
    "name": "ipython",
    "version": 2
   },
   "file_extension": ".py",
   "mimetype": "text/x-python",
   "name": "python",
   "nbconvert_exporter": "python",
   "pygments_lexer": "ipython2",
   "version": "2.7.14"
  }
 },
 "nbformat": 4,
 "nbformat_minor": 2
}
