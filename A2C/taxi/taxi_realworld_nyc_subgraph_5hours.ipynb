{
 "cells": [
  {
   "cell_type": "markdown",
   "metadata": {},
   "source": [
    "# Introduction\n",
    "\n",
    "Here I'm testing the A2C on the \"real-world\" nyc graph. That is, I place the empirical trips on the manhattan street network, at the empirical times"
   ]
  },
  {
   "cell_type": "code",
   "execution_count": 1,
   "metadata": {},
   "outputs": [
    {
     "name": "stderr",
     "output_type": "stream",
     "text": [
      "/home/kokeeffe/anaconda2/lib/python2.7/site-packages/h5py/__init__.py:34: FutureWarning: Conversion of the second argument of issubdtype from `float` to `np.floating` is deprecated. In future, it will be treated as `np.float64 == np.dtype(float).type`.\n",
      "  from ._conv import register_converters as _register_converters\n",
      "Using TensorFlow backend.\n"
     ]
    }
   ],
   "source": [
    "import funcs as f\n",
    "import numpy as np\n",
    "import networkx as nx\n",
    "import matplotlib.pyplot as plt\n",
    "from agent_with_baseline import Agent\n",
    "from agent_taxi import PolicyCab\n",
    "import real_world_nyc_environment as t\n",
    "from keras.utils import to_categorical\n",
    "\n",
    "def running_mean(x, N):\n",
    "    cumsum = np.cumsum(np.insert(x, 0, 0)) \n",
    "    return (cumsum[N:] - cumsum[:-N]) / float(N)\n",
    "\n",
    "%matplotlib inline\n",
    "\n",
    "\n",
    "\n",
    "#Load in data\n",
    "G = t.get_subgraph()  #start with a subgraph\n",
    "#trip_data = t.get_tripdata(G,18,18) #monday, the 18th of jan\n",
    "trip_data = np.loadtxt('data/trip_data_nyc_day_18.txt')\n",
    "#env = Env(G,state_zero)\n",
    "\n",
    "#Environment parameters\n",
    "delta = 30  #trips wait 30 deci-seconds = 5 minutes before disappearing\n",
    "time_per_episode = 5*360   #one day\n",
    "\n",
    "state_zero = np.random.choice(G.nodes())\n",
    "env = t.Env(G,trip_data,state_zero)"
   ]
  },
  {
   "cell_type": "markdown",
   "metadata": {},
   "source": [
    "### Model cab"
   ]
  },
  {
   "cell_type": "code",
   "execution_count": 2,
   "metadata": {
    "collapsed": true
   },
   "outputs": [],
   "source": [
    "trip_probs = t.find_trip_probs(G,trip_data)\n",
    "p = np.array(trip_probs.values())  #trip probs\n",
    "optimal_policy = t.find_optimal_policy(p,G)"
   ]
  },
  {
   "cell_type": "code",
   "execution_count": 15,
   "metadata": {},
   "outputs": [
    {
     "name": "stdout",
     "output_type": "stream",
     "text": [
      "rel idle time = 0.073224043715847\n"
     ]
    }
   ],
   "source": [
    "#Instantiate\n",
    "np.random.seed(0)\n",
    "state_zero = np.random.choice(G.nodes())\n",
    "env = t.Env(G,trip_data,state_zero)\n",
    "env.delta = delta\n",
    "model_cab = t.Modelcab(optimal_policy)\n",
    "\n",
    "\n",
    "# Main \n",
    "state = state_zero\n",
    "Return = 0  # sum of rewards\n",
    "while env.active_time <= time_per_episode:\n",
    "    action = model_cab.act(state)\n",
    "    next_state, reward = env.step_modelcab(action)  #different step functions for these cabs\n",
    "    state = next_state\n",
    "    Return += reward\n",
    "tau_optimal = 1.0*env.idle_time / env.active_time\n",
    "print 'rel idle time = ' + str(tau_optimal)"
   ]
  },
  {
   "cell_type": "markdown",
   "metadata": {},
   "source": [
    "### Greedy cab"
   ]
  },
  {
   "cell_type": "code",
   "execution_count": 16,
   "metadata": {},
   "outputs": [
    {
     "name": "stdout",
     "output_type": "stream",
     "text": [
      "rel idle time = 0.21026490066225165\n"
     ]
    }
   ],
   "source": [
    "greedy_policy = t.find_greedy_policy(trip_probs,G)\n",
    "\n",
    "#Instantiate\n",
    "np.random.seed(0)\n",
    "state_zero = np.random.choice(G.nodes())\n",
    "env = t.Env(G,trip_data,state_zero)\n",
    "env.delta = delta\n",
    "greedy_cab = t.Modelcab(greedy_policy)\n",
    "\n",
    "\n",
    "# Main \n",
    "state = state_zero\n",
    "while env.active_time <= time_per_episode:\n",
    "    action = greedy_cab.act(state)\n",
    "    next_state, reward = env.step_modelcab(action)\n",
    "    state = next_state\n",
    "tau_greedy = 1.0*env.idle_time / env.active_time\n",
    "print 'rel idle time = ' + str(tau_greedy)"
   ]
  },
  {
   "cell_type": "markdown",
   "metadata": {},
   "source": [
    "### RL agent"
   ]
  },
  {
   "cell_type": "code",
   "execution_count": 18,
   "metadata": {},
   "outputs": [
    {
     "name": "stdout",
     "output_type": "stream",
     "text": [
      "(episode, tau, score) = (50, 0.15178082191780823, -10535)\n",
      "(episode, tau, score) = (100, 0.1447587354409318, -4581)\n",
      "(episode, tau, score) = (150, 0.1772853185595568, -1280)\n",
      "(episode, tau, score) = (200, 0.22234513274336284, 1817)\n",
      "(episode, tau, score) = (250, 0.16, 3214)\n",
      "(episode, tau, score) = (300, 0.6866666666666666, 164)\n",
      "(episode, tau, score) = (350, 0.31336898395721924, 2115)\n",
      "(episode, tau, score) = (400, 0.32390460343871325, 2216)\n",
      "(episode, tau, score) = (450, 0.25694066412629285, 3128)\n",
      "(episode, tau, score) = (500, 0.20683949255377826, 2825)\n",
      "(episode, tau, score) = (550, 0.29453943739658023, 2766)\n",
      "(episode, tau, score) = (600, 0.19824272377814386, 2839)\n",
      "(episode, tau, score) = (650, 0.20609418282548475, 3129)\n",
      "(episode, tau, score) = (700, 0.16752843846949328, 2977)\n",
      "(episode, tau, score) = (750, 0.21666666666666667, 3010)\n",
      "(episode, tau, score) = (800, 0.2910488742449204, 1773)\n",
      "(episode, tau, score) = (850, 0.2620879120879121, 2324)\n",
      "(episode, tau, score) = (900, 0.2185612300933553, 3003)\n",
      "(episode, tau, score) = (950, 0.176759410801964, 3177)\n",
      "(episode, tau, score) = (1000, 0.16988416988416988, 3992)\n",
      "(episode, tau, score) = (1050, 0.23110386079390974, 2877)\n",
      "(episode, tau, score) = (1100, 0.172396100564392, 3364)\n",
      "(episode, tau, score) = (1150, 0.23848238482384823, 3361)\n",
      "(episode, tau, score) = (1200, 0.12013165112452003, 3183)\n",
      "(episode, tau, score) = (1250, 0.16756176154672395, 2988)\n",
      "(episode, tau, score) = (1300, 0.3261707988980716, 1908)\n",
      "(episode, tau, score) = (1350, 0.19376278118609408, 2921)\n",
      "(episode, tau, score) = (1400, 0.23026673924877517, 2578)\n",
      "(episode, tau, score) = (1450, 0.1702127659574468, 3588)\n",
      "(episode, tau, score) = (1500, 0.12718340611353712, 3170)\n",
      "(episode, tau, score) = (1550, 0.18565169769989048, 3261)\n",
      "(episode, tau, score) = (1600, 0.1314784506273868, 3160)\n",
      "(episode, tau, score) = (1650, 0.17467948717948717, 3473)\n",
      "(episode, tau, score) = (1700, 0.15723270440251572, 3600)\n",
      "(episode, tau, score) = (1750, 0.16943866943866945, 3074)\n",
      "(episode, tau, score) = (1800, 0.15513626834381553, 3204)\n",
      "(episode, tau, score) = (1850, 0.10768398268398269, 3701)\n",
      "(episode, tau, score) = (1900, 0.17759562841530055, 2875)\n",
      "(episode, tau, score) = (1950, 0.16558791801510248, 3293)\n",
      "(episode, tau, score) = (2000, 0.048238482384823846, 4311)\n"
     ]
    },
    {
     "data": {
      "text/plain": [
       "<matplotlib.legend.Legend at 0x7fa73227cf50>"
      ]
     },
     "execution_count": 18,
     "metadata": {},
     "output_type": "execute_result"
    },
    {
     "data": {
      "image/png": "[encoded data removed]",
      "text/plain": [
       "<Figure size 432x288 with 1 Axes>"
      ]
     },
     "metadata": {},
     "output_type": "display_data"
    }
   ],
   "source": [
    "#Environment\n",
    "state_zero_scalar = np.random.choice(G.nodes())\n",
    "env = t.Env(G,trip_data,state_zero_scalar)\n",
    "state_zero = env.convert(state_zero_scalar)  #convert to 1-hot vector\n",
    "env.delta = delta\n",
    "num_states = env.num_states\n",
    "num_actions = env.num_actions\n",
    "env.illegal_move_penalty = -100\n",
    "\n",
    "\n",
    "#Agent\n",
    "lr = 0.01\n",
    "gamma = 0.1\n",
    "agent = Agent(num_states, num_actions, lr, gamma)\n",
    "agent.memory_size = 1000\n",
    "\n",
    "#Train\n",
    "EPISODES = 2000\n",
    "scores = []\n",
    "for e in range(1,EPISODES+1):\n",
    "    state = state_zero \n",
    "    state = np.reshape(state, [1, num_states])  #convert to tensor for keras\n",
    "    reward_sum = 0\n",
    "    while env.active_time < time_per_episode:\n",
    "        \n",
    "        # env.render()\n",
    "        action = agent.act(state)\n",
    "        next_state_scalar, reward = env.step(action)\n",
    "        next_state = env.convert(next_state_scalar)    #convert to 1-hot vec\n",
    "        reward_sum += reward\n",
    "        next_state = np.reshape(next_state, [1, num_states])  #convert to tensor for keras\n",
    "        agent.remember(state[0], action, 1.0*reward)\n",
    "        state = next_state\n",
    "    \n",
    "    #Learn & print results\n",
    "    agent.train_models()\n",
    "    tau = env.find_tau()\n",
    "    scores.append(tau)\n",
    "    env.reset(state_zero_scalar,trip_data)\n",
    "    if e % 50 == 0:\n",
    "        print '(episode, tau, score) = ' + str((e,tau,reward_sum))\n",
    "\n",
    "        \n",
    "plt.plot(scores,alpha=0.5)\n",
    "plt.plot(running_mean(scores,100),'b--')  #num windows\n",
    "plt.plot([tau_greedy for i in scores],'g--')\n",
    "plt.plot([tau_optimal for i in scores],'r--')\n",
    "plt.legend(['A2C','greedy','optimal'])\n",
    "#np.savetxt('stats/scores_lunar_landing.txt',scores)"
   ]
  },
  {
   "cell_type": "markdown",
   "metadata": {},
   "source": [
    "1. Note to self -- I should change the reward to $\\tau$ directly\n",
    "2. I'm not sure if doing the illegal moves this was is wise\n",
    "3. Dont forget, this will probably overfit."
   ]
  },
  {
   "cell_type": "code",
   "execution_count": 19,
   "metadata": {},
   "outputs": [
    {
     "name": "stdout",
     "output_type": "stream",
     "text": [
      "[9.8601794e-01 1.3961648e-02 4.1175426e-06 1.6239943e-05]\n",
      "[8.60829532e-01 1.39064461e-01 1.27436115e-05 9.32664043e-05]\n",
      "[9.9406648e-01 5.9221527e-03 2.8387669e-06 8.5257561e-06]\n",
      "[8.5111982e-01 1.4863330e-01 3.3956931e-05 2.1291157e-04]\n",
      "[4.0937558e-01 5.8858317e-01 2.3346567e-04 1.8078745e-03]\n"
     ]
    },
    {
     "ename": "IndexError",
     "evalue": "list index out of range",
     "output_type": "error",
     "traceback": [
      "\u001b[0;31m---------------------------------------------------------------------------\u001b[0m",
      "\u001b[0;31mIndexError\u001b[0m                                Traceback (most recent call last)",
      "\u001b[0;32m<ipython-input-19-737885ba1aeb>\u001b[0m in \u001b[0;36m<module>\u001b[0;34m()\u001b[0m\n\u001b[1;32m      6\u001b[0m     \u001b[0mbest_action\u001b[0m \u001b[0;34m=\u001b[0m \u001b[0mnp\u001b[0m\u001b[0;34m.\u001b[0m\u001b[0margmax\u001b[0m\u001b[0;34m(\u001b[0m\u001b[0maction_probs\u001b[0m\u001b[0;34m)\u001b[0m\u001b[0;34m\u001b[0m\u001b[0m\n\u001b[1;32m      7\u001b[0m     \u001b[0mneighbours\u001b[0m \u001b[0;34m=\u001b[0m \u001b[0mG\u001b[0m\u001b[0;34m[\u001b[0m\u001b[0mstate_scalar\u001b[0m\u001b[0;34m]\u001b[0m\u001b[0;34m.\u001b[0m\u001b[0mkeys\u001b[0m\u001b[0;34m(\u001b[0m\u001b[0;34m)\u001b[0m\u001b[0;34m\u001b[0m\u001b[0m\n\u001b[0;32m----> 8\u001b[0;31m     \u001b[0mpolicy\u001b[0m\u001b[0;34m[\u001b[0m\u001b[0mstate_scalar\u001b[0m\u001b[0;34m]\u001b[0m \u001b[0;34m=\u001b[0m \u001b[0mneighbours\u001b[0m\u001b[0;34m[\u001b[0m\u001b[0mbest_action\u001b[0m\u001b[0;34m]\u001b[0m\u001b[0;34m\u001b[0m\u001b[0m\n\u001b[0m",
      "\u001b[0;31mIndexError\u001b[0m: list index out of range"
     ]
    }
   ],
   "source": [
    "policy = {}\n",
    "for state_scalar in list(G.nodes()):\n",
    "    state_vec = np.reshape(env.convert(state_scalar),(1,num_states))\n",
    "    action_probs = agent.actor.model.predict(state_vec)[0]\n",
    "    print action_probs\n",
    "    best_action = np.argmax(action_probs)\n",
    "    neighbours = G[state_scalar].keys()\n",
    "    policy[state_scalar] = neighbours[best_action]"
   ]
  },
  {
   "cell_type": "markdown",
   "metadata": {},
   "source": [
    "Looks like my guy is doing slightly BETTER. Huh. I wonder how differnt their policies are."
   ]
  },
  {
   "cell_type": "code",
   "execution_count": 21,
   "metadata": {},
   "outputs": [
    {
     "name": "stdout",
     "output_type": "stream",
     "text": [
      "(episode, tau, score) = (50, 0.17769272826681246, -11080)\n",
      "(episode, tau, score) = (100, 0.138635142396561, -1507)\n",
      "(episode, tau, score) = (150, 0.18253968253968253, 1375)\n",
      "(episode, tau, score) = (200, 0.2384914032168608, 2775)\n",
      "(episode, tau, score) = (250, 0.21975040694519804, 2400)\n",
      "(episode, tau, score) = (300, 0.18898071625344354, 3558)\n",
      "(episode, tau, score) = (350, 0.1605960264900662, 3311)\n",
      "(episode, tau, score) = (400, 0.1912479740680713, 2647)\n",
      "(episode, tau, score) = (450, 0.19536423841059603, 3147)\n",
      "(episode, tau, score) = (500, 0.1054897739504844, 4106)\n",
      "(episode, tau, score) = (550, 0.1626278944534195, 2403)\n",
      "(episode, tau, score) = (600, 0.17358078602620086, 3284)\n",
      "(episode, tau, score) = (650, 0.1505257332595462, 3629)\n",
      "(episode, tau, score) = (700, 0.3372222222222222, 1498)\n",
      "(episode, tau, score) = (750, 0.10460021905805038, 3309)\n",
      "(episode, tau, score) = (800, 0.10231023102310231, 3515)\n",
      "(episode, tau, score) = (850, 0.10883977900552486, 2805)\n",
      "(episode, tau, score) = (900, 0.12996777658431793, 3862)\n",
      "(episode, tau, score) = (950, 0.13024523160762944, 2963)\n",
      "(episode, tau, score) = (1000, 0.14906490649064907, 3633)\n",
      "(episode, tau, score) = (1050, 0.14553472987872107, 2840)\n",
      "(episode, tau, score) = (1100, 0.10246781115879829, 3909)\n",
      "(episode, tau, score) = (1150, 0.15737161789066814, 2918)\n",
      "(episode, tau, score) = (1200, 0.0803234501347709, 4151)\n",
      "(episode, tau, score) = (1250, 0.11816675869685257, 2888)\n",
      "(episode, tau, score) = (1300, 0.10442864953526518, 3811)\n",
      "(episode, tau, score) = (1350, 0.12356478950246036, 3475)\n",
      "(episode, tau, score) = (1400, 0.10059491617090319, 3418)\n",
      "(episode, tau, score) = (1450, 0.07606885063853415, 3965)\n",
      "(episode, tau, score) = (1500, 0.08788209606986899, 3839)\n",
      "(episode, tau, score) = (1550, 0.1316916488222698, 3657)\n",
      "(episode, tau, score) = (1600, 0.15019326339039205, 3029)\n",
      "(episode, tau, score) = (1650, 0.08167770419426049, 3552)\n",
      "(episode, tau, score) = (1700, 0.07722222222222222, 3962)\n",
      "(episode, tau, score) = (1750, 0.11272141706924316, 3192)\n",
      "(episode, tau, score) = (1800, 0.12122874382885354, 3879)\n",
      "(episode, tau, score) = (1850, 0.06924754634678298, 3973)\n",
      "(episode, tau, score) = (1900, 0.08428720083246619, 3739)\n",
      "(episode, tau, score) = (1950, 0.055040871934604906, 4499)\n",
      "(episode, tau, score) = (2000, 0.08190370780298838, 4252)\n"
     ]
    },
    {
     "data": {
      "text/plain": [
       "<matplotlib.legend.Legend at 0x7fa6e8081810>"
      ]
     },
     "execution_count": 21,
     "metadata": {},
     "output_type": "execute_result"
    },
    {
     "data": {
      "image/png": "[encoded data removed]",
      "text/plain": [
       "<Figure size 432x288 with 1 Axes>"
      ]
     },
     "metadata": {},
     "output_type": "display_data"
    }
   ],
   "source": [
    "#Environment\n",
    "state_zero_scalar = np.random.choice(G.nodes())\n",
    "env = t.Env(G,trip_data,state_zero_scalar)\n",
    "state_zero = env.convert(state_zero_scalar)  #convert to 1-hot vector\n",
    "env.delta = delta\n",
    "num_states = env.num_states\n",
    "num_actions = env.num_actions\n",
    "env.illegal_move_penalty = -100\n",
    "\n",
    "\n",
    "#Agent\n",
    "lr = 0.01\n",
    "gamma = 0.9\n",
    "agent = Agent(num_states, num_actions, lr, gamma)\n",
    "agent.memory_size = 1000\n",
    "\n",
    "#Train\n",
    "EPISODES = 2000\n",
    "scores = []\n",
    "for e in range(1,EPISODES+1):\n",
    "    state = state_zero \n",
    "    state = np.reshape(state, [1, num_states])  #convert to tensor for keras\n",
    "    reward_sum = 0\n",
    "    while env.active_time < time_per_episode:\n",
    "        \n",
    "        # env.render()\n",
    "        action = agent.act(state)\n",
    "        next_state_scalar, reward = env.step(action)\n",
    "        next_state = env.convert(next_state_scalar)    #convert to 1-hot vec\n",
    "        reward_sum += reward\n",
    "        next_state = np.reshape(next_state, [1, num_states])  #convert to tensor for keras\n",
    "        agent.remember(state[0], action, 1.0*reward)\n",
    "        state = next_state\n",
    "    \n",
    "    #Learn & print results\n",
    "    agent.train_models()\n",
    "    tau = env.find_tau()\n",
    "    scores.append(tau)\n",
    "    env.reset(state_zero_scalar,trip_data)\n",
    "    if e % 50 == 0:\n",
    "        print '(episode, tau, score) = ' + str((e,tau,reward_sum))\n",
    "\n",
    "        \n",
    "plt.plot(scores,alpha=0.5)\n",
    "plt.plot(running_mean(scores,100),'b--')  #num windows\n",
    "plt.plot([tau_greedy for i in scores],'g--')\n",
    "plt.plot([tau_optimal for i in scores],'r--')\n",
    "plt.legend(['A2C','greedy','optimal'])\n",
    "#np.savetxt('stats/scores_lunar_landing.txt',scores)"
   ]
  },
  {
   "cell_type": "markdown",
   "metadata": {},
   "source": [
    "Looks good! I'll continute the learning below."
   ]
  },
  {
   "cell_type": "code",
   "execution_count": 22,
   "metadata": {},
   "outputs": [
    {
     "name": "stdout",
     "output_type": "stream",
     "text": [
      "(episode, tau, score) = (50, 0.06263858093126386, 4787)\n",
      "(episode, tau, score) = (100, 0.04837822979659153, 4812)\n",
      "(episode, tau, score) = (150, 0.05204872646733112, 4406)\n",
      "(episode, tau, score) = (200, 0.051790633608815424, 4106)\n",
      "(episode, tau, score) = (250, 0.03397260273972603, 4038)\n",
      "(episode, tau, score) = (300, 0.044986449864498644, 4017)\n",
      "(episode, tau, score) = (350, 0.06400437636761488, 4283)\n",
      "(episode, tau, score) = (400, 0.05175202156334232, 4204)\n",
      "(episode, tau, score) = (450, 0.05421686746987952, 4501)\n",
      "(episode, tau, score) = (500, 0.03055100927441353, 4044)\n",
      "(episode, tau, score) = (550, 0.039400665926748055, 3829)\n",
      "(episode, tau, score) = (600, 0.03503184713375796, 4034)\n",
      "(episode, tau, score) = (650, 0.027129679869777535, 3950)\n",
      "(episode, tau, score) = (700, 0.03895410885805763, 4327)\n",
      "(episode, tau, score) = (750, 0.04455445544554455, 4519)\n",
      "(episode, tau, score) = (800, 0.06451612903225806, 4183)\n",
      "(episode, tau, score) = (850, 0.051047823750671684, 4505)\n",
      "(episode, tau, score) = (900, 0.05875892366831411, 4494)\n",
      "(episode, tau, score) = (950, 0.0458963282937365, 4415)\n",
      "(episode, tau, score) = (1000, 0.03053026245313337, 4243)\n",
      "(episode, tau, score) = (1050, 0.04806629834254143, 4413)\n",
      "(episode, tau, score) = (1100, 0.035164835164835165, 4036)\n",
      "(episode, tau, score) = (1150, 0.04157549234135667, 4224)\n",
      "(episode, tau, score) = (1200, 0.03595132743362832, 4435)\n",
      "(episode, tau, score) = (1250, 0.02771618625277162, 4350)\n",
      "(episode, tau, score) = (1300, 0.03806416530723219, 4330)\n",
      "(episode, tau, score) = (1350, 0.04077134986225895, 4126)\n",
      "(episode, tau, score) = (1400, 0.04077134986225895, 4126)\n",
      "(episode, tau, score) = (1450, 0.03171131765992345, 4842)\n",
      "(episode, tau, score) = (1500, 0.04184782608695652, 4523)\n",
      "(episode, tau, score) = (1550, 0.041965764770844835, 4424)\n",
      "(episode, tau, score) = (1600, 0.03335126412049489, 4038)\n",
      "(episode, tau, score) = (1650, 0.03966155473294553, 4525)\n",
      "(episode, tau, score) = (1700, 0.026790595954073265, 3751)\n",
      "(episode, tau, score) = (1750, 0.03403565640194489, 3838)\n",
      "(episode, tau, score) = (1800, 0.03705752212389381, 4733)\n",
      "(episode, tau, score) = (1850, 0.03389830508474576, 4038)\n",
      "(episode, tau, score) = (1900, 0.038461538461538464, 4629)\n",
      "(episode, tau, score) = (1950, 0.03875968992248062, 4630)\n",
      "(episode, tau, score) = (2000, 0.041643835616438356, 3824)\n"
     ]
    },
    {
     "data": {
      "text/plain": [
       "<matplotlib.legend.Legend at 0x7fa7358e0d10>"
      ]
     },
     "execution_count": 22,
     "metadata": {},
     "output_type": "execute_result"
    },
    {
     "data": {
      "image/png": "[encoded data removed]",
      "text/plain": [
       "<Figure size 432x288 with 1 Axes>"
      ]
     },
     "metadata": {},
     "output_type": "display_data"
    }
   ],
   "source": [
    "#Train\n",
    "EPISODES = 2000\n",
    "scores = []\n",
    "for e in range(1,EPISODES+1):\n",
    "    state = state_zero \n",
    "    state = np.reshape(state, [1, num_states])  #convert to tensor for keras\n",
    "    reward_sum = 0\n",
    "    while env.active_time < time_per_episode:\n",
    "        \n",
    "        # env.render()\n",
    "        action = agent.act(state)\n",
    "        next_state_scalar, reward = env.step(action)\n",
    "        next_state = env.convert(next_state_scalar)    #convert to 1-hot vec\n",
    "        reward_sum += reward\n",
    "        next_state = np.reshape(next_state, [1, num_states])  #convert to tensor for keras\n",
    "        agent.remember(state[0], action, 1.0*reward)\n",
    "        state = next_state\n",
    "    \n",
    "    #Learn & print results\n",
    "    agent.train_models()\n",
    "    tau = env.find_tau()\n",
    "    scores.append(tau)\n",
    "    env.reset(state_zero_scalar,trip_data)\n",
    "    if e % 50 == 0:\n",
    "        print '(episode, tau, score) = ' + str((e,tau,reward_sum))\n",
    "\n",
    "        \n",
    "plt.plot(scores,alpha=0.5)\n",
    "plt.plot(running_mean(scores,100),'b--')  #num windows\n",
    "plt.plot([tau_greedy for i in scores],'g--')\n",
    "plt.plot([tau_optimal for i in scores],'r--')\n",
    "plt.legend(['A2C','greedy','optimal'])\n",
    "#np.savetxt('stats/scores_lunar_landing.txt',scores"
   ]
  },
  {
   "cell_type": "markdown",
   "metadata": {},
   "source": [
    "Great! Remember -- this is all for 5  hours. Now I'll scale up to full 24 hours"
   ]
  },
  {
   "cell_type": "markdown",
   "metadata": {},
   "source": [
    "### Roughwork -- change delta"
   ]
  },
  {
   "cell_type": "code",
   "execution_count": 5,
   "metadata": {},
   "outputs": [
    {
     "name": "stdout",
     "output_type": "stream",
     "text": [
      "(episode, tau, score) = (50, 0.4767504008551577, -34626)\n",
      "(episode, tau, score) = (100, 0.3748621830209482, -6701)\n",
      "(episode, tau, score) = (150, 0.47799779977997797, -1642)\n",
      "(episode, tau, score) = (200, 0.975, -2941)\n",
      "(episode, tau, score) = (250, 0.4888888888888889, 1521)\n",
      "(episode, tau, score) = (300, 0.4109211252068395, 1955)\n",
      "(episode, tau, score) = (350, 0.9866666666666667, -1775)\n"
     ]
    },
    {
     "ename": "KeyboardInterrupt",
     "evalue": "",
     "output_type": "error",
     "traceback": [
      "\u001b[0;31m---------------------------------------------------------------------------\u001b[0m",
      "\u001b[0;31mKeyboardInterrupt\u001b[0m                         Traceback (most recent call last)",
      "\u001b[0;32m<ipython-input-5-9753e4b7383a>\u001b[0m in \u001b[0;36m<module>\u001b[0;34m()\u001b[0m\n\u001b[1;32m     26\u001b[0m \u001b[0;34m\u001b[0m\u001b[0m\n\u001b[1;32m     27\u001b[0m         \u001b[0;31m# env.render()\u001b[0m\u001b[0;34m\u001b[0m\u001b[0;34m\u001b[0m\u001b[0m\n\u001b[0;32m---> 28\u001b[0;31m         \u001b[0maction\u001b[0m \u001b[0;34m=\u001b[0m \u001b[0magent\u001b[0m\u001b[0;34m.\u001b[0m\u001b[0mact\u001b[0m\u001b[0;34m(\u001b[0m\u001b[0mstate\u001b[0m\u001b[0;34m)\u001b[0m\u001b[0;34m\u001b[0m\u001b[0m\n\u001b[0m\u001b[1;32m     29\u001b[0m         \u001b[0mnext_state_scalar\u001b[0m\u001b[0;34m,\u001b[0m \u001b[0mreward\u001b[0m \u001b[0;34m=\u001b[0m \u001b[0menv\u001b[0m\u001b[0;34m.\u001b[0m\u001b[0mstep\u001b[0m\u001b[0;34m(\u001b[0m\u001b[0maction\u001b[0m\u001b[0;34m)\u001b[0m\u001b[0;34m\u001b[0m\u001b[0m\n\u001b[1;32m     30\u001b[0m         \u001b[0mnext_state\u001b[0m \u001b[0;34m=\u001b[0m \u001b[0menv\u001b[0m\u001b[0;34m.\u001b[0m\u001b[0mconvert\u001b[0m\u001b[0;34m(\u001b[0m\u001b[0mnext_state_scalar\u001b[0m\u001b[0;34m)\u001b[0m    \u001b[0;31m#convert to 1-hot vec\u001b[0m\u001b[0;34m\u001b[0m\u001b[0m\n",
      "\u001b[0;32m/home/kokeeffe/research/robocab/RL_practice/A2C/agent_with_baseline.pyc\u001b[0m in \u001b[0;36mact\u001b[0;34m(self, state)\u001b[0m\n\u001b[1;32m     85\u001b[0m         \u001b[0;34m\"\"\" Choose action according to softmax \"\"\"\u001b[0m\u001b[0;34m\u001b[0m\u001b[0m\n\u001b[1;32m     86\u001b[0m \u001b[0;34m\u001b[0m\u001b[0m\n\u001b[0;32m---> 87\u001b[0;31m         \u001b[0mprobs\u001b[0m \u001b[0;34m=\u001b[0m  \u001b[0mself\u001b[0m\u001b[0;34m.\u001b[0m\u001b[0mactor\u001b[0m\u001b[0;34m.\u001b[0m\u001b[0mmodel\u001b[0m\u001b[0;34m.\u001b[0m\u001b[0mpredict\u001b[0m\u001b[0;34m(\u001b[0m\u001b[0mstate\u001b[0m\u001b[0;34m)\u001b[0m\u001b[0;34m[\u001b[0m\u001b[0;36m0\u001b[0m\u001b[0;34m]\u001b[0m\u001b[0;34m\u001b[0m\u001b[0m\n\u001b[0m\u001b[1;32m     88\u001b[0m         \u001b[0maction\u001b[0m \u001b[0;34m=\u001b[0m \u001b[0mnp\u001b[0m\u001b[0;34m.\u001b[0m\u001b[0mrandom\u001b[0m\u001b[0;34m.\u001b[0m\u001b[0mchoice\u001b[0m\u001b[0;34m(\u001b[0m\u001b[0mself\u001b[0m\u001b[0;34m.\u001b[0m\u001b[0mactions\u001b[0m\u001b[0;34m,\u001b[0m \u001b[0mp\u001b[0m\u001b[0;34m=\u001b[0m\u001b[0mprobs\u001b[0m\u001b[0;34m)\u001b[0m\u001b[0;34m\u001b[0m\u001b[0m\n\u001b[1;32m     89\u001b[0m         \u001b[0;32mreturn\u001b[0m \u001b[0maction\u001b[0m\u001b[0;34m\u001b[0m\u001b[0m\n",
      "\u001b[0;32m/home/kokeeffe/anaconda2/lib/python2.7/site-packages/keras/engine/training.pyc\u001b[0m in \u001b[0;36mpredict\u001b[0;34m(self, x, batch_size, verbose, steps)\u001b[0m\n\u001b[1;32m   1165\u001b[0m                                             \u001b[0mbatch_size\u001b[0m\u001b[0;34m=\u001b[0m\u001b[0mbatch_size\u001b[0m\u001b[0;34m,\u001b[0m\u001b[0;34m\u001b[0m\u001b[0m\n\u001b[1;32m   1166\u001b[0m                                             \u001b[0mverbose\u001b[0m\u001b[0;34m=\u001b[0m\u001b[0mverbose\u001b[0m\u001b[0;34m,\u001b[0m\u001b[0;34m\u001b[0m\u001b[0m\n\u001b[0;32m-> 1167\u001b[0;31m                                             steps=steps)\n\u001b[0m\u001b[1;32m   1168\u001b[0m \u001b[0;34m\u001b[0m\u001b[0m\n\u001b[1;32m   1169\u001b[0m     def train_on_batch(self, x, y,\n",
      "\u001b[0;32m/home/kokeeffe/anaconda2/lib/python2.7/site-packages/keras/engine/training_arrays.pyc\u001b[0m in \u001b[0;36mpredict_loop\u001b[0;34m(model, f, ins, batch_size, verbose, steps)\u001b[0m\n\u001b[1;32m    292\u001b[0m                 \u001b[0mins_batch\u001b[0m\u001b[0;34m[\u001b[0m\u001b[0mi\u001b[0m\u001b[0;34m]\u001b[0m \u001b[0;34m=\u001b[0m \u001b[0mins_batch\u001b[0m\u001b[0;34m[\u001b[0m\u001b[0mi\u001b[0m\u001b[0;34m]\u001b[0m\u001b[0;34m.\u001b[0m\u001b[0mtoarray\u001b[0m\u001b[0;34m(\u001b[0m\u001b[0;34m)\u001b[0m\u001b[0;34m\u001b[0m\u001b[0m\n\u001b[1;32m    293\u001b[0m \u001b[0;34m\u001b[0m\u001b[0m\n\u001b[0;32m--> 294\u001b[0;31m             \u001b[0mbatch_outs\u001b[0m \u001b[0;34m=\u001b[0m \u001b[0mf\u001b[0m\u001b[0;34m(\u001b[0m\u001b[0mins_batch\u001b[0m\u001b[0;34m)\u001b[0m\u001b[0;34m\u001b[0m\u001b[0m\n\u001b[0m\u001b[1;32m    295\u001b[0m             \u001b[0mbatch_outs\u001b[0m \u001b[0;34m=\u001b[0m \u001b[0mto_list\u001b[0m\u001b[0;34m(\u001b[0m\u001b[0mbatch_outs\u001b[0m\u001b[0;34m)\u001b[0m\u001b[0;34m\u001b[0m\u001b[0m\n\u001b[1;32m    296\u001b[0m             \u001b[0;32mif\u001b[0m \u001b[0mbatch_index\u001b[0m \u001b[0;34m==\u001b[0m \u001b[0;36m0\u001b[0m\u001b[0;34m:\u001b[0m\u001b[0;34m\u001b[0m\u001b[0m\n",
      "\u001b[0;32m/home/kokeeffe/anaconda2/lib/python2.7/site-packages/keras/backend/tensorflow_backend.pyc\u001b[0m in \u001b[0;36m__call__\u001b[0;34m(self, inputs)\u001b[0m\n\u001b[1;32m   2664\u001b[0m                 \u001b[0;32mreturn\u001b[0m \u001b[0mself\u001b[0m\u001b[0;34m.\u001b[0m\u001b[0m_legacy_call\u001b[0m\u001b[0;34m(\u001b[0m\u001b[0minputs\u001b[0m\u001b[0;34m)\u001b[0m\u001b[0;34m\u001b[0m\u001b[0m\n\u001b[1;32m   2665\u001b[0m \u001b[0;34m\u001b[0m\u001b[0m\n\u001b[0;32m-> 2666\u001b[0;31m             \u001b[0;32mreturn\u001b[0m \u001b[0mself\u001b[0m\u001b[0;34m.\u001b[0m\u001b[0m_call\u001b[0m\u001b[0;34m(\u001b[0m\u001b[0minputs\u001b[0m\u001b[0;34m)\u001b[0m\u001b[0;34m\u001b[0m\u001b[0m\n\u001b[0m\u001b[1;32m   2667\u001b[0m         \u001b[0;32melse\u001b[0m\u001b[0;34m:\u001b[0m\u001b[0;34m\u001b[0m\u001b[0m\n\u001b[1;32m   2668\u001b[0m             \u001b[0;32mif\u001b[0m \u001b[0mpy_any\u001b[0m\u001b[0;34m(\u001b[0m\u001b[0mis_tensor\u001b[0m\u001b[0;34m(\u001b[0m\u001b[0mx\u001b[0m\u001b[0;34m)\u001b[0m \u001b[0;32mfor\u001b[0m \u001b[0mx\u001b[0m \u001b[0;32min\u001b[0m \u001b[0minputs\u001b[0m\u001b[0;34m)\u001b[0m\u001b[0;34m:\u001b[0m\u001b[0;34m\u001b[0m\u001b[0m\n",
      "\u001b[0;32m/home/kokeeffe/anaconda2/lib/python2.7/site-packages/keras/backend/tensorflow_backend.pyc\u001b[0m in \u001b[0;36m_call\u001b[0;34m(self, inputs)\u001b[0m\n\u001b[1;32m   2634\u001b[0m                                 \u001b[0msymbol_vals\u001b[0m\u001b[0;34m,\u001b[0m\u001b[0;34m\u001b[0m\u001b[0m\n\u001b[1;32m   2635\u001b[0m                                 session)\n\u001b[0;32m-> 2636\u001b[0;31m         \u001b[0mfetched\u001b[0m \u001b[0;34m=\u001b[0m \u001b[0mself\u001b[0m\u001b[0;34m.\u001b[0m\u001b[0m_callable_fn\u001b[0m\u001b[0;34m(\u001b[0m\u001b[0;34m*\u001b[0m\u001b[0marray_vals\u001b[0m\u001b[0;34m)\u001b[0m\u001b[0;34m\u001b[0m\u001b[0m\n\u001b[0m\u001b[1;32m   2637\u001b[0m         \u001b[0;32mreturn\u001b[0m \u001b[0mfetched\u001b[0m\u001b[0;34m[\u001b[0m\u001b[0;34m:\u001b[0m\u001b[0mlen\u001b[0m\u001b[0;34m(\u001b[0m\u001b[0mself\u001b[0m\u001b[0;34m.\u001b[0m\u001b[0moutputs\u001b[0m\u001b[0;34m)\u001b[0m\u001b[0;34m]\u001b[0m\u001b[0;34m\u001b[0m\u001b[0m\n\u001b[1;32m   2638\u001b[0m \u001b[0;34m\u001b[0m\u001b[0m\n",
      "\u001b[0;32m/home/kokeeffe/anaconda2/lib/python2.7/site-packages/tensorflow/python/client/session.pyc\u001b[0m in \u001b[0;36m__call__\u001b[0;34m(self, *args, **kwargs)\u001b[0m\n\u001b[1;32m   1380\u001b[0m           ret = tf_session.TF_SessionRunCallable(\n\u001b[1;32m   1381\u001b[0m               \u001b[0mself\u001b[0m\u001b[0;34m.\u001b[0m\u001b[0m_session\u001b[0m\u001b[0;34m.\u001b[0m\u001b[0m_session\u001b[0m\u001b[0;34m,\u001b[0m \u001b[0mself\u001b[0m\u001b[0;34m.\u001b[0m\u001b[0m_handle\u001b[0m\u001b[0;34m,\u001b[0m \u001b[0margs\u001b[0m\u001b[0;34m,\u001b[0m \u001b[0mstatus\u001b[0m\u001b[0;34m,\u001b[0m\u001b[0;34m\u001b[0m\u001b[0m\n\u001b[0;32m-> 1382\u001b[0;31m               run_metadata_ptr)\n\u001b[0m\u001b[1;32m   1383\u001b[0m         \u001b[0;32mif\u001b[0m \u001b[0mrun_metadata\u001b[0m\u001b[0;34m:\u001b[0m\u001b[0;34m\u001b[0m\u001b[0m\n\u001b[1;32m   1384\u001b[0m           \u001b[0mproto_data\u001b[0m \u001b[0;34m=\u001b[0m \u001b[0mtf_session\u001b[0m\u001b[0;34m.\u001b[0m\u001b[0mTF_GetBuffer\u001b[0m\u001b[0;34m(\u001b[0m\u001b[0mrun_metadata_ptr\u001b[0m\u001b[0;34m)\u001b[0m\u001b[0;34m\u001b[0m\u001b[0m\n",
      "\u001b[0;31mKeyboardInterrupt\u001b[0m: "
     ]
    }
   ],
   "source": [
    "#Environment\n",
    "delta = 1\n",
    "state_zero_scalar = np.random.choice(G.nodes())\n",
    "env = t.Env(G,trip_data,state_zero_scalar)\n",
    "state_zero = env.convert(state_zero_scalar)  #convert to 1-hot vector\n",
    "env.delta = delta\n",
    "num_states = env.num_states\n",
    "num_actions = env.num_actions\n",
    "env.illegal_move_penalty = -100\n",
    "\n",
    "\n",
    "#Agent\n",
    "lr = 0.01\n",
    "gamma = 0.9\n",
    "agent = Agent(num_states, num_actions, lr, gamma)\n",
    "agent.memory_size = 1000\n",
    "\n",
    "#Train\n",
    "EPISODES = 4000\n",
    "scores = []\n",
    "for e in range(1,EPISODES+1):\n",
    "    state = state_zero \n",
    "    state = np.reshape(state, [1, num_states])  #convert to tensor for keras\n",
    "    reward_sum = 0\n",
    "    while env.active_time < time_per_episode:\n",
    "        \n",
    "        # env.render()\n",
    "        action = agent.act(state)\n",
    "        next_state_scalar, reward = env.step(action)\n",
    "        next_state = env.convert(next_state_scalar)    #convert to 1-hot vec\n",
    "        reward_sum += reward\n",
    "        next_state = np.reshape(next_state, [1, num_states])  #convert to tensor for keras\n",
    "        agent.remember(state[0], action, 1.0*reward)\n",
    "        state = next_state\n",
    "    \n",
    "    #Learn & print results\n",
    "    agent.train_models()\n",
    "    tau = env.find_tau()\n",
    "    scores.append(tau)\n",
    "    env.reset(state_zero_scalar,trip_data)\n",
    "    if e % 50 == 0:\n",
    "        print '(episode, tau, score) = ' + str((e,tau,reward_sum))\n",
    "\n",
    "        \n",
    "plt.plot(scores,alpha=0.5)\n",
    "plt.plot(running_mean(scores,100),'b--')  #num windows\n",
    "plt.plot([tau_greedy for i in scores],'g--')\n",
    "plt.plot([tau_optimal for i in scores],'r--')\n",
    "plt.legend(['A2C','greedy','optimal'])\n",
    "#np.savetxt('stats/scores_lunar_landing.txt',scores)"
   ]
  },
  {
   "cell_type": "code",
   "execution_count": 9,
   "metadata": {
    "collapsed": true
   },
   "outputs": [],
   "source": [
    "#Load in data\n",
    "G = t.get_subgraph()  #start with a subgraph\n",
    "#trip_data = t.get_tripdata(G,18,18) #monday, the 18th of jan\n",
    "trip_data = np.loadtxt('data/trip_data_nyc_day_18.txt')\n",
    "#env = Env(G,state_zero)\n",
    "\n",
    "#Environment parameters\n",
    "delta = 30  #trips wait 30 deci-seconds = 5 minutes before disappearing\n",
    "time_per_episode = 5*360   \n",
    "\n",
    "state_zero = np.random.choice(G.nodes())\n",
    "env = t.Env(G,trip_data,state_zero)"
   ]
  },
  {
   "cell_type": "code",
   "execution_count": 15,
   "metadata": {},
   "outputs": [
    {
     "ename": "ValueError",
     "evalue": "min() arg is an empty sequence",
     "output_type": "error",
     "traceback": [
      "\u001b[0;31m---------------------------------------------------------------------------\u001b[0m",
      "\u001b[0;31mValueError\u001b[0m                                Traceback (most recent call last)",
      "\u001b[0;32m<ipython-input-15-d0f5088ab633>\u001b[0m in \u001b[0;36m<module>\u001b[0;34m()\u001b[0m\n\u001b[1;32m      2\u001b[0m \u001b[0;31m#p = np.array(trip_probs.values())  #trip probs\u001b[0m\u001b[0;34m\u001b[0m\u001b[0;34m\u001b[0m\u001b[0m\n\u001b[1;32m      3\u001b[0m \u001b[0mp\u001b[0m \u001b[0;34m*=\u001b[0m \u001b[0;36m30\u001b[0m\u001b[0;34m\u001b[0m\u001b[0m\n\u001b[0;32m----> 4\u001b[0;31m \u001b[0moptimal_policy\u001b[0m \u001b[0;34m=\u001b[0m \u001b[0mt\u001b[0m\u001b[0;34m.\u001b[0m\u001b[0mfind_optimal_policy\u001b[0m\u001b[0;34m(\u001b[0m\u001b[0mp\u001b[0m\u001b[0;34m,\u001b[0m\u001b[0mG\u001b[0m\u001b[0;34m)\u001b[0m\u001b[0;34m\u001b[0m\u001b[0m\n\u001b[0m",
      "\u001b[0;32m/home/kokeeffe/research/robocab/RL_practice/A2C/real_world_nyc_environment.pyc\u001b[0m in \u001b[0;36mfind_optimal_policy\u001b[0;34m(p, G)\u001b[0m\n\u001b[1;32m    382\u001b[0m \u001b[0;34m\u001b[0m\u001b[0m\n\u001b[1;32m    383\u001b[0m     \u001b[0mx0\u001b[0m \u001b[0;34m=\u001b[0m \u001b[0mnp\u001b[0m\u001b[0;34m.\u001b[0m\u001b[0mrandom\u001b[0m\u001b[0;34m.\u001b[0m\u001b[0mrand\u001b[0m\u001b[0;34m(\u001b[0m\u001b[0mlen\u001b[0m\u001b[0;34m(\u001b[0m\u001b[0mp\u001b[0m\u001b[0;34m)\u001b[0m\u001b[0;34m)\u001b[0m\u001b[0;34m\u001b[0m\u001b[0m\n\u001b[0;32m--> 384\u001b[0;31m     \u001b[0mx\u001b[0m \u001b[0;34m=\u001b[0m \u001b[0mfind_optimal_waiting_times\u001b[0m\u001b[0;34m(\u001b[0m\u001b[0mx0\u001b[0m\u001b[0;34m,\u001b[0m\u001b[0mp\u001b[0m\u001b[0;34m,\u001b[0m\u001b[0mA\u001b[0m\u001b[0;34m)\u001b[0m\u001b[0;34m\u001b[0m\u001b[0m\n\u001b[0m\u001b[1;32m    385\u001b[0m \u001b[0;34m\u001b[0m\u001b[0m\n\u001b[1;32m    386\u001b[0m     \u001b[0mpolicy\u001b[0m \u001b[0;34m=\u001b[0m \u001b[0mextract_policy\u001b[0m\u001b[0;34m(\u001b[0m\u001b[0mx\u001b[0m\u001b[0;34m,\u001b[0m\u001b[0mG\u001b[0m\u001b[0;34m,\u001b[0m\u001b[0mnodes\u001b[0m\u001b[0;34m)\u001b[0m\u001b[0;34m\u001b[0m\u001b[0m\n",
      "\u001b[0;32m/home/kokeeffe/research/robocab/RL_practice/A2C/real_world_nyc_environment.pyc\u001b[0m in \u001b[0;36mfind_optimal_waiting_times\u001b[0;34m(x, p, A, tolerance, verbose)\u001b[0m\n\u001b[1;32m    328\u001b[0m     \u001b[0mxold\u001b[0m \u001b[0;34m=\u001b[0m \u001b[0mx\u001b[0m\u001b[0;34m\u001b[0m\u001b[0m\n\u001b[1;32m    329\u001b[0m     \u001b[0;32mwhile\u001b[0m \u001b[0merr\u001b[0m \u001b[0;34m>\u001b[0m \u001b[0mtolerance\u001b[0m\u001b[0;34m:\u001b[0m\u001b[0;34m\u001b[0m\u001b[0m\n\u001b[0;32m--> 330\u001b[0;31m         \u001b[0mxnew\u001b[0m \u001b[0;34m=\u001b[0m \u001b[0mrhs\u001b[0m\u001b[0;34m(\u001b[0m\u001b[0mxold\u001b[0m\u001b[0;34m,\u001b[0m\u001b[0mp\u001b[0m\u001b[0;34m,\u001b[0m\u001b[0mA\u001b[0m\u001b[0;34m)\u001b[0m\u001b[0;34m\u001b[0m\u001b[0m\n\u001b[0m\u001b[1;32m    331\u001b[0m         \u001b[0merr\u001b[0m \u001b[0;34m=\u001b[0m \u001b[0;34m(\u001b[0m\u001b[0mxnew\u001b[0m \u001b[0;34m-\u001b[0m \u001b[0mxold\u001b[0m\u001b[0;34m)\u001b[0m\u001b[0;34m.\u001b[0m\u001b[0mmax\u001b[0m\u001b[0;34m(\u001b[0m\u001b[0;34m)\u001b[0m\u001b[0;34m\u001b[0m\u001b[0m\n\u001b[1;32m    332\u001b[0m         \u001b[0mxold\u001b[0m \u001b[0;34m=\u001b[0m \u001b[0mxnew\u001b[0m\u001b[0;34m\u001b[0m\u001b[0m\n",
      "\u001b[0;32m/home/kokeeffe/research/robocab/RL_practice/A2C/real_world_nyc_environment.pyc\u001b[0m in \u001b[0;36mrhs\u001b[0;34m(x, p, A)\u001b[0m\n\u001b[1;32m    304\u001b[0m \u001b[0;34m\u001b[0m\u001b[0m\n\u001b[1;32m    305\u001b[0m     \u001b[0mb\u001b[0m \u001b[0;34m=\u001b[0m \u001b[0mA\u001b[0m\u001b[0;34m*\u001b[0m\u001b[0mx\u001b[0m\u001b[0;34m\u001b[0m\u001b[0m\n\u001b[0;32m--> 306\u001b[0;31m     \u001b[0mtemp\u001b[0m \u001b[0;34m=\u001b[0m \u001b[0mnp\u001b[0m\u001b[0;34m.\u001b[0m\u001b[0marray\u001b[0m\u001b[0;34m(\u001b[0m\u001b[0;34m[\u001b[0m\u001b[0mmin\u001b[0m\u001b[0;34m(\u001b[0m\u001b[0mi\u001b[0m \u001b[0;32mfor\u001b[0m \u001b[0mi\u001b[0m \u001b[0;32min\u001b[0m \u001b[0mrow\u001b[0m \u001b[0;32mif\u001b[0m \u001b[0mi\u001b[0m \u001b[0;34m>\u001b[0m \u001b[0;36m0\u001b[0m\u001b[0;34m)\u001b[0m \u001b[0;32mfor\u001b[0m \u001b[0mrow\u001b[0m \u001b[0;32min\u001b[0m \u001b[0mb\u001b[0m\u001b[0;34m]\u001b[0m\u001b[0;34m)\u001b[0m\u001b[0;34m\u001b[0m\u001b[0m\n\u001b[0m\u001b[1;32m    307\u001b[0m     \u001b[0;32mreturn\u001b[0m \u001b[0mp\u001b[0m \u001b[0;34m+\u001b[0m \u001b[0;34m(\u001b[0m\u001b[0;36m1\u001b[0m\u001b[0;34m-\u001b[0m\u001b[0mp\u001b[0m\u001b[0;34m)\u001b[0m\u001b[0;34m*\u001b[0m\u001b[0;34m(\u001b[0m\u001b[0mnp\u001b[0m\u001b[0;34m.\u001b[0m\u001b[0mones_like\u001b[0m\u001b[0;34m(\u001b[0m\u001b[0mx\u001b[0m\u001b[0;34m)\u001b[0m \u001b[0;34m+\u001b[0m \u001b[0mtemp\u001b[0m\u001b[0;34m)\u001b[0m\u001b[0;34m\u001b[0m\u001b[0m\n\u001b[1;32m    308\u001b[0m \u001b[0;34m\u001b[0m\u001b[0m\n",
      "\u001b[0;31mValueError\u001b[0m: min() arg is an empty sequence"
     ]
    }
   ],
   "source": [
    "trip_probs = t.find_trip_probs(G,trip_data)\n",
    "#p = np.array(trip_probs.values())  #trip probs\n",
    "p *= 30\n",
    "optimal_policy = t.find_optimal_policy(p,G)"
   ]
  },
  {
   "cell_type": "code",
   "execution_count": 17,
   "metadata": {},
   "outputs": [
    {
     "ename": "ValueError",
     "evalue": "min() arg is an empty sequence",
     "output_type": "error",
     "traceback": [
      "\u001b[0;31m---------------------------------------------------------------------------\u001b[0m",
      "\u001b[0;31mValueError\u001b[0m                                Traceback (most recent call last)",
      "\u001b[0;32m<ipython-input-17-c9fff0474301>\u001b[0m in \u001b[0;36m<module>\u001b[0;34m()\u001b[0m\n\u001b[1;32m      5\u001b[0m \u001b[0;34m\u001b[0m\u001b[0m\n\u001b[1;32m      6\u001b[0m \u001b[0mx0\u001b[0m \u001b[0;34m=\u001b[0m \u001b[0mnp\u001b[0m\u001b[0;34m.\u001b[0m\u001b[0mrandom\u001b[0m\u001b[0;34m.\u001b[0m\u001b[0mrand\u001b[0m\u001b[0;34m(\u001b[0m\u001b[0mlen\u001b[0m\u001b[0;34m(\u001b[0m\u001b[0mp\u001b[0m\u001b[0;34m)\u001b[0m\u001b[0;34m)\u001b[0m\u001b[0;34m\u001b[0m\u001b[0m\n\u001b[0;32m----> 7\u001b[0;31m \u001b[0mx\u001b[0m \u001b[0;34m=\u001b[0m \u001b[0mt\u001b[0m\u001b[0;34m.\u001b[0m\u001b[0mfind_optimal_waiting_times\u001b[0m\u001b[0;34m(\u001b[0m\u001b[0mx0\u001b[0m\u001b[0;34m,\u001b[0m\u001b[0mp\u001b[0m\u001b[0;34m,\u001b[0m\u001b[0mA\u001b[0m\u001b[0;34m)\u001b[0m\u001b[0;34m\u001b[0m\u001b[0m\n\u001b[0m\u001b[1;32m      8\u001b[0m \u001b[0;34m\u001b[0m\u001b[0m\n\u001b[1;32m      9\u001b[0m \u001b[0mpolicy\u001b[0m \u001b[0;34m=\u001b[0m \u001b[0mextract_policy\u001b[0m\u001b[0;34m(\u001b[0m\u001b[0mx\u001b[0m\u001b[0;34m,\u001b[0m\u001b[0mG\u001b[0m\u001b[0;34m,\u001b[0m\u001b[0mnodes\u001b[0m\u001b[0;34m)\u001b[0m\u001b[0;34m\u001b[0m\u001b[0m\n",
      "\u001b[0;32m/home/kokeeffe/research/robocab/RL_practice/A2C/real_world_nyc_environment.pyc\u001b[0m in \u001b[0;36mfind_optimal_waiting_times\u001b[0;34m(x, p, A, tolerance, verbose)\u001b[0m\n\u001b[1;32m    328\u001b[0m     \u001b[0mxold\u001b[0m \u001b[0;34m=\u001b[0m \u001b[0mx\u001b[0m\u001b[0;34m\u001b[0m\u001b[0m\n\u001b[1;32m    329\u001b[0m     \u001b[0;32mwhile\u001b[0m \u001b[0merr\u001b[0m \u001b[0;34m>\u001b[0m \u001b[0mtolerance\u001b[0m\u001b[0;34m:\u001b[0m\u001b[0;34m\u001b[0m\u001b[0m\n\u001b[0;32m--> 330\u001b[0;31m         \u001b[0mxnew\u001b[0m \u001b[0;34m=\u001b[0m \u001b[0mrhs\u001b[0m\u001b[0;34m(\u001b[0m\u001b[0mxold\u001b[0m\u001b[0;34m,\u001b[0m\u001b[0mp\u001b[0m\u001b[0;34m,\u001b[0m\u001b[0mA\u001b[0m\u001b[0;34m)\u001b[0m\u001b[0;34m\u001b[0m\u001b[0m\n\u001b[0m\u001b[1;32m    331\u001b[0m         \u001b[0merr\u001b[0m \u001b[0;34m=\u001b[0m \u001b[0;34m(\u001b[0m\u001b[0mxnew\u001b[0m \u001b[0;34m-\u001b[0m \u001b[0mxold\u001b[0m\u001b[0;34m)\u001b[0m\u001b[0;34m.\u001b[0m\u001b[0mmax\u001b[0m\u001b[0;34m(\u001b[0m\u001b[0;34m)\u001b[0m\u001b[0;34m\u001b[0m\u001b[0m\n\u001b[1;32m    332\u001b[0m         \u001b[0mxold\u001b[0m \u001b[0;34m=\u001b[0m \u001b[0mxnew\u001b[0m\u001b[0;34m\u001b[0m\u001b[0m\n",
      "\u001b[0;32m/home/kokeeffe/research/robocab/RL_practice/A2C/real_world_nyc_environment.pyc\u001b[0m in \u001b[0;36mrhs\u001b[0;34m(x, p, A)\u001b[0m\n\u001b[1;32m    304\u001b[0m \u001b[0;34m\u001b[0m\u001b[0m\n\u001b[1;32m    305\u001b[0m     \u001b[0mb\u001b[0m \u001b[0;34m=\u001b[0m \u001b[0mA\u001b[0m\u001b[0;34m*\u001b[0m\u001b[0mx\u001b[0m\u001b[0;34m\u001b[0m\u001b[0m\n\u001b[0;32m--> 306\u001b[0;31m     \u001b[0mtemp\u001b[0m \u001b[0;34m=\u001b[0m \u001b[0mnp\u001b[0m\u001b[0;34m.\u001b[0m\u001b[0marray\u001b[0m\u001b[0;34m(\u001b[0m\u001b[0;34m[\u001b[0m\u001b[0mmin\u001b[0m\u001b[0;34m(\u001b[0m\u001b[0mi\u001b[0m \u001b[0;32mfor\u001b[0m \u001b[0mi\u001b[0m \u001b[0;32min\u001b[0m \u001b[0mrow\u001b[0m \u001b[0;32mif\u001b[0m \u001b[0mi\u001b[0m \u001b[0;34m>\u001b[0m \u001b[0;36m0\u001b[0m\u001b[0;34m)\u001b[0m \u001b[0;32mfor\u001b[0m \u001b[0mrow\u001b[0m \u001b[0;32min\u001b[0m \u001b[0mb\u001b[0m\u001b[0;34m]\u001b[0m\u001b[0;34m)\u001b[0m\u001b[0;34m\u001b[0m\u001b[0m\n\u001b[0m\u001b[1;32m    307\u001b[0m     \u001b[0;32mreturn\u001b[0m \u001b[0mp\u001b[0m \u001b[0;34m+\u001b[0m \u001b[0;34m(\u001b[0m\u001b[0;36m1\u001b[0m\u001b[0;34m-\u001b[0m\u001b[0mp\u001b[0m\u001b[0;34m)\u001b[0m\u001b[0;34m*\u001b[0m\u001b[0;34m(\u001b[0m\u001b[0mnp\u001b[0m\u001b[0;34m.\u001b[0m\u001b[0mones_like\u001b[0m\u001b[0;34m(\u001b[0m\u001b[0mx\u001b[0m\u001b[0;34m)\u001b[0m \u001b[0;34m+\u001b[0m \u001b[0mtemp\u001b[0m\u001b[0;34m)\u001b[0m\u001b[0;34m\u001b[0m\u001b[0m\n\u001b[1;32m    308\u001b[0m \u001b[0;34m\u001b[0m\u001b[0m\n",
      "\u001b[0;31mValueError\u001b[0m: min() arg is an empty sequence"
     ]
    }
   ],
   "source": [
    "G = nx.DiGraph(G)\n",
    "A = nx.adjacency_matrix(G)\n",
    "A = np.array(A.todense())\n",
    "nodes = [node for node in G.nodes()]\n",
    "\n",
    "x0 = np.random.rand(len(p))\n",
    "x = t.find_optimal_waiting_times(x0,p,A)\n",
    "\n",
    "policy = (x,G,nodes)"
   ]
  },
  {
   "cell_type": "code",
   "execution_count": 63,
   "metadata": {},
   "outputs": [
    {
     "data": {
      "text/plain": [
       "array([-2.38071779e-01,  4.76259623e-01,  6.50474964e-01,  5.46346838e-01,\n",
       "        1.18869171e+00,  7.99977052e-01,  1.47691499e+00, -6.38287415e+00,\n",
       "        1.67000513e-01, -1.85702399e+00,  9.47755554e-01, -2.17997991e+00,\n",
       "       -1.86806104e+00, -3.41685347e-01, -8.25174228e-01, -1.73100825e+00,\n",
       "       -8.21180826e+00, -2.27556568e-02, -6.49006935e+00, -7.28470352e+00,\n",
       "       -1.58326942e+00, -7.71606859e+00, -8.47407392e+00,  1.68084752e+00,\n",
       "        6.47806905e-01, -6.68075172e+00, -1.38254582e+00, -4.46459246e+00,\n",
       "       -6.39694861e+00,  5.59392979e-01,  6.80920513e-01, -1.34633984e+00,\n",
       "       -6.14784139e+00, -1.79803054e+00, -1.05810500e+00, -1.19847017e+01,\n",
       "        6.02378321e-01, -2.30239319e+00,  9.35436781e-01, -4.16530590e-01,\n",
       "        2.47760514e-01,  1.00350975e+00, -6.81351373e-02,  9.80111405e-01,\n",
       "       -7.59620969e+00,  9.25626954e-01, -3.80102172e+00,  4.97141680e-01,\n",
       "       -6.14785401e-01, -1.55193578e+00, -1.43595849e-02,  9.68459273e-01,\n",
       "        3.26521445e-01, -1.51115357e+00, -1.43123478e+01,  1.47966492e-01,\n",
       "       -5.28542043e+00, -5.52471692e+00, -1.25818920e+01, -1.53628584e+00,\n",
       "       -7.57937707e+00,  4.12752785e-01,  5.11812816e-01,  6.97765758e-01,\n",
       "       -2.30775667e+00,  3.87219723e-01,  6.04530208e-02, -5.27625391e-01,\n",
       "       -4.86297501e-01, -2.24062966e+00,  4.21864068e-01, -1.39280967e+00,\n",
       "        6.12633252e-01,  1.15147020e-01, -2.46027169e+00, -2.98708551e-02,\n",
       "       -1.01323037e+00, -3.10513267e+00, -2.47680714e+00,  5.74364835e-01,\n",
       "       -1.62684905e-03, -1.94071214e+00,  8.79938074e-01, -1.64496285e+00,\n",
       "       -1.22239099e+01,  8.57587034e-01, -5.81220143e-01,  1.00465348e+00,\n",
       "       -2.22915751e+00, -2.11923166e+00,  9.73145551e-01, -7.29274463e-01,\n",
       "        8.74259134e-01,  5.97989033e-01, -7.48126840e-01,  8.41063809e-01,\n",
       "        6.87927015e-01,  1.04580954e+00, -4.87532219e-01, -4.84266866e+00,\n",
       "       -1.34278002e+00,  8.24654714e-01, -2.98707226e+00,  1.07382915e+00,\n",
       "       -1.98447883e+00, -1.22689602e+01, -8.98539247e+00,  1.43532528e+00,\n",
       "       -8.39838712e-01, -2.31117503e+00,  1.53542778e+00,  1.53984545e-01,\n",
       "       -2.14254708e+00, -3.23592697e-01, -3.81512435e-01, -4.20923636e+00,\n",
       "        7.19313308e-01, -4.46278104e+00,  9.98713067e-01, -1.50650589e+00,\n",
       "       -5.75422612e-01,  7.18116292e-01,  1.28474909e+00,  1.30472385e+00,\n",
       "        1.23871489e+00,  2.22721313e-01,  1.03610959e+00, -3.58070797e+00,\n",
       "       -9.62132306e-02,  1.08402945e+00, -3.95667183e+01,  1.35276627e+00,\n",
       "       -1.11040339e+01, -5.11141851e+00, -4.48327276e+01,  1.05234245e+00,\n",
       "       -9.36995191e+00,  5.96894164e-01,  1.05729375e+00,  1.05199494e+00,\n",
       "        2.01839220e-01,  1.64018507e+00, -2.28171950e+01,  1.49614504e+00,\n",
       "       -2.37890591e+00, -5.04837260e+00,  1.34590878e+00, -1.51104492e+00,\n",
       "        1.43220902e+00, -7.70210754e+00, -2.23146299e+01, -9.70656990e-01,\n",
       "       -2.76864265e-01, -2.34109250e+00,  4.60783287e-01, -2.93969550e+00,\n",
       "        1.48714806e+00, -1.70163583e+00, -1.41822732e+01, -2.58412646e+00,\n",
       "       -9.77224953e+00,  1.99464232e+00, -4.59087877e+00, -3.75213558e-01,\n",
       "       -1.07161274e+00, -5.38051123e-01,  1.05450254e+00,  1.66941814e+00,\n",
       "       -7.01376321e-01,  9.97648126e-01,  4.89427567e-01,  2.62172839e-01,\n",
       "        6.69709301e-01, -9.04263036e-01,  2.52895080e-01,  1.87481364e-01,\n",
       "       -2.59678484e+00,  5.21100980e-01,  5.64311567e-01, -4.91160216e+00,\n",
       "        5.89771477e-02,  6.84989018e-01,  3.56331699e-01, -1.28984480e+01,\n",
       "        1.65836713e+00, -1.77261724e+00, -8.47408910e-01, -6.10735454e-01,\n",
       "       -9.66794080e-01,  1.62513998e-01,  7.35727389e-01,  1.05327271e+00,\n",
       "        3.42166486e-01, -1.50068400e+01, -2.31117503e+00, -1.43461835e+00,\n",
       "        4.64918407e-01,  2.70973763e-01, -2.51773472e+01, -6.86850748e-01,\n",
       "       -1.61381735e+00,  6.62608926e-01, -1.11410023e+00, -1.32791843e+00,\n",
       "        1.02468134e+00, -4.95218349e-02, -9.11258137e-01,  1.08120010e+00,\n",
       "        4.91512798e-01, -7.79745467e+00, -3.01610508e+00, -8.46617786e+00,\n",
       "        3.56752398e-01,  9.87841843e-01,  1.27766047e+00, -8.16934349e-01,\n",
       "       -3.72034790e+00,  6.43801718e-01, -1.62655702e+00, -2.14194439e+00,\n",
       "        5.83089210e-01, -7.79043464e+00, -6.97639089e-01, -1.61783621e+00,\n",
       "        3.10679067e-01, -4.72368227e-01,  1.22771205e+00,  1.07381407e+00,\n",
       "       -1.08396921e+00, -1.20241674e+00, -5.91069949e+00,  9.51939425e-01,\n",
       "       -4.51728025e-01, -9.22348911e-02,  1.53441038e+00, -5.06436391e+00,\n",
       "        1.27234273e+00,  1.21158194e+00, -3.23618105e+00,  1.04053352e+00,\n",
       "       -3.96391712e+00, -2.56865301e+00,  1.05847396e+00, -2.06160741e+00,\n",
       "       -7.13107813e-02,  1.19439911e+00, -3.15328925e+01, -2.29646997e+01,\n",
       "        1.64671167e+00,  1.24327621e+00, -5.08556951e+00,  1.56292502e+00,\n",
       "       -3.52393392e+00, -7.17282110e+00,  1.30619741e+00, -3.30670204e-01,\n",
       "       -9.05733487e+00, -3.92544101e-01, -1.16440524e-01,  6.62316593e-01,\n",
       "        1.00292488e+00, -6.98197900e-01,  9.16172753e-01, -2.10114131e+00,\n",
       "        6.87230773e-01, -1.02134146e+00, -7.22862177e+00, -2.38515823e+00,\n",
       "       -3.45768283e+00, -2.83486245e+01, -2.84421370e+00, -2.93659833e+00,\n",
       "        1.75546729e-01, -5.49098829e+01,  5.96134275e-01, -5.28173076e-01,\n",
       "       -8.25714563e-01,  6.93233393e-01,  5.63854989e-01,  1.55550417e+00,\n",
       "        3.33220110e-01, -1.89736313e+00,  9.93353324e-01, -1.27656810e+01,\n",
       "       -1.78511502e+00, -1.95286359e+00, -5.84364330e-02, -4.85922346e-01,\n",
       "       -9.31502610e+00, -7.46154432e+01, -1.96019292e+00, -3.77530964e+00,\n",
       "       -1.07660393e-01, -7.06555173e+00,  1.94867488e+00,  1.79627198e-01,\n",
       "        5.93329261e-01, -5.19058462e+00, -2.25278679e+00, -2.79039330e+01,\n",
       "       -6.04024099e+00, -3.70747680e-01, -1.38584209e+01, -1.92928119e-01,\n",
       "        2.99828291e-01, -1.01550731e+00, -2.66573824e+00, -7.57283814e+00,\n",
       "        1.08382398e+00, -2.91282992e+00, -3.00222198e+00, -1.26932905e+00,\n",
       "       -3.91607499e+00, -1.17744283e+00, -1.49283288e+01, -1.14846965e+00,\n",
       "       -7.77868553e+00, -5.88247881e+00, -4.60814133e+00, -9.24703809e+00,\n",
       "       -2.23316411e+00,  1.14671959e+00, -1.07522972e-01, -6.11743874e-01,\n",
       "       -3.26342250e+00, -1.07729290e+01,  9.71510115e-01, -5.23706438e+00,\n",
       "       -4.67098829e+00, -6.27271669e+00, -1.07696800e+01, -6.31121122e-01,\n",
       "        7.65569001e-01, -1.69944840e+00, -2.98991819e+00, -4.67950455e+00,\n",
       "       -1.45687445e+00, -1.25622291e+01, -5.15828432e-01, -2.13397825e+00,\n",
       "        1.16324698e+00, -2.71006806e+00,  1.14867607e+00,  7.78225766e-01,\n",
       "       -7.37338403e+00, -9.93597206e-01, -2.81937285e+00,  6.09766185e-01,\n",
       "       -2.75381567e-01, -3.67753039e+01,  1.06398774e+00, -3.17834797e-01,\n",
       "        8.02098061e-01,  7.81488479e-01, -5.41387676e+00, -1.03055841e+01,\n",
       "       -7.55602701e-01, -6.40652607e+00,  7.55458279e-01, -1.32696513e+01,\n",
       "       -3.01956288e+00,  8.76485455e-01, -7.00083926e+00, -4.77382931e-01,\n",
       "       -6.08845255e-01, -2.08607011e+01, -1.93161796e+01,  1.60188164e+00,\n",
       "       -1.01475317e+01, -1.15059131e+00, -2.24956986e+00, -8.27493324e+00,\n",
       "       -3.81218618e+00, -5.39208226e-01, -1.76645786e+01, -2.48791419e+01,\n",
       "       -1.63810501e+01,  1.36184904e+00, -4.38901562e+00, -1.16030568e+01,\n",
       "       -1.83444978e+01, -1.98470967e-01,  4.28115765e-01,  4.66701320e-01,\n",
       "       -5.54743865e+00, -1.66199144e+01,  9.85817262e-01, -2.94710413e+00,\n",
       "       -4.75719806e+00,  1.89979987e+00, -5.02992724e+00, -8.52584962e+00,\n",
       "       -2.66308250e+00,  6.45610888e-01,  5.20481575e-01,  5.87692483e-01,\n",
       "       -7.90748814e+00, -1.63527025e+00,  5.34098559e-01, -2.87805955e+00,\n",
       "       -3.04533849e-01, -1.33236642e+00, -5.37671133e+00,  7.64467064e-01,\n",
       "        9.60081185e-01, -3.65158358e+00,  2.25239510e-02,  1.72536571e+00,\n",
       "       -2.77995173e+01,  6.97668528e-03, -7.94305780e+00, -4.29740031e+00,\n",
       "        1.62097228e+00,  1.45917038e+00,  7.06112105e-01, -1.10555269e+00,\n",
       "        1.02706053e+00,  8.34810306e-01, -2.08101307e+00,  1.19543170e+00,\n",
       "        1.13198715e+00, -1.00777607e+01, -5.42490256e-01,  1.10793278e+00,\n",
       "       -6.08436954e-02, -1.10200167e+00,  1.47308775e+00, -9.14705077e+00,\n",
       "       -7.23840258e+00,  1.63932619e+00, -3.54847676e-01,  1.10977459e+00,\n",
       "       -2.40476857e+00, -1.02880129e+00, -3.69636130e+00,  5.44497491e-01,\n",
       "        8.12131950e-01,  1.04580954e+00, -3.96544320e+00,  9.35675300e-01,\n",
       "       -5.85540985e+00,  6.55759757e-01,  1.06506684e+00, -4.45199527e+00,\n",
       "        1.10614454e+00, -1.22213759e+01,  4.39477404e-01,  9.42623258e-01,\n",
       "        1.06506684e+00,  1.48828591e+00,  1.65836713e+00,  1.23248920e+00,\n",
       "        1.89137959e-01,  1.56292502e+00, -4.31540092e-01,  7.23646214e-01,\n",
       "        1.79308463e+00,  8.86427931e-01, -3.55396569e-02, -2.00335699e+00,\n",
       "        1.30472385e+00, -7.74199242e+00,  1.15699314e+00, -1.16201275e+01,\n",
       "       -1.23970873e+01,  1.66391020e+00,  1.17549762e+00,  7.84336795e-01,\n",
       "       -3.18516811e+00,  1.21904781e+00,  1.46687325e+00,  1.19893326e+00,\n",
       "        1.67677981e+00, -6.78553559e+00,  5.70331278e-01,  1.71223961e+00,\n",
       "        1.45585671e+00,  1.68025337e+00,  1.00935934e+00,  1.10728242e+00,\n",
       "        1.84502833e+00,  1.01845109e+00,  1.06802908e+00,  6.22793009e-01,\n",
       "       -7.69124292e-01, -2.51927463e-01,  1.47691499e+00, -4.03488651e-02,\n",
       "        9.11323269e-01,  1.16590936e+00,  1.01845183e+00, -1.15895684e+01,\n",
       "       -1.39677788e+00,  8.76789224e-01, -3.29742630e-01, -9.24497217e-01,\n",
       "       -6.23076298e+00, -7.47143865e+00, -2.11208097e+00, -2.34498819e-01,\n",
       "        1.75695091e+00,  9.73895945e-01,  1.25239245e+00,  1.72200625e-01,\n",
       "       -5.13757183e+00, -1.78805031e+00, -1.52896317e+00, -2.66063751e+00,\n",
       "       -7.83573503e+00, -7.66072982e-01, -2.81619819e-01, -9.38064839e+00,\n",
       "       -1.29266769e+01, -2.67933494e+01, -1.24397746e+01, -4.80040208e+00,\n",
       "       -3.38264358e+00,  4.29283770e-01, -1.85937522e+00, -4.81806128e+00,\n",
       "       -2.22052995e+00, -5.70486390e-01,  2.59958220e-01, -1.01902868e+01,\n",
       "        8.28666809e-01, -1.25241985e+01,  9.52356154e-02,  5.86550560e-01,\n",
       "       -2.85170071e-01,  1.04774267e+00,  5.10816944e-01,  1.27769416e+00,\n",
       "       -1.90788279e-01,  8.62397793e-01, -2.28165059e+01, -9.36193391e+00,\n",
       "       -1.79417083e+00, -2.69667703e+00, -6.93390922e+00,  1.47753760e-01,\n",
       "       -1.10073771e+01,  9.96681118e-01, -1.13057198e+00, -6.13616625e+00,\n",
       "       -2.63796151e+00, -9.20381190e+00,  1.49676311e+00, -1.98404332e+01,\n",
       "       -4.83060689e+00, -7.35998208e+00, -6.53858974e+00,  4.91107399e-01,\n",
       "       -2.39558260e-01, -7.80766816e-01, -5.67780361e+00, -3.57971448e+00,\n",
       "       -3.45042178e+00, -6.23168497e+00, -1.14208775e+00, -3.18900227e+00,\n",
       "        2.92047731e-01, -8.32858224e+00, -6.67370831e+00, -1.75858648e+01,\n",
       "       -4.45680366e-01, -1.24619461e+01, -4.46871080e-01, -5.83986365e-02,\n",
       "        2.13568669e-01,  5.94467707e-01, -4.46797706e+00, -5.04516614e-01,\n",
       "       -4.86055636e+00, -9.46136897e+00,  1.04614435e+00])"
      ]
     },
     "execution_count": 63,
     "metadata": {},
     "output_type": "execute_result"
    }
   ],
   "source": [
    "t.rhs(x0,p,A)"
   ]
  },
  {
   "cell_type": "code",
   "execution_count": 55,
   "metadata": {},
   "outputs": [
    {
     "name": "stdout",
     "output_type": "stream",
     "text": [
      "575 575\n"
     ]
    },
    {
     "ename": "ValueError",
     "evalue": "min() arg is an empty sequence",
     "output_type": "error",
     "traceback": [
      "\u001b[0;31m---------------------------------------------------------------------------\u001b[0m",
      "\u001b[0;31mValueError\u001b[0m                                Traceback (most recent call last)",
      "\u001b[0;32m<ipython-input-55-93ba27210621>\u001b[0m in \u001b[0;36m<module>\u001b[0;34m()\u001b[0m\n\u001b[1;32m      5\u001b[0m \u001b[0mxold\u001b[0m \u001b[0;34m=\u001b[0m \u001b[0mx\u001b[0m\u001b[0;34m\u001b[0m\u001b[0m\n\u001b[1;32m      6\u001b[0m \u001b[0;32mwhile\u001b[0m \u001b[0merr\u001b[0m \u001b[0;34m>\u001b[0m \u001b[0mtolerance\u001b[0m\u001b[0;34m:\u001b[0m\u001b[0;34m\u001b[0m\u001b[0m\n\u001b[0;32m----> 7\u001b[0;31m     \u001b[0mxnew\u001b[0m \u001b[0;34m=\u001b[0m \u001b[0mt\u001b[0m\u001b[0;34m.\u001b[0m\u001b[0mrhs\u001b[0m\u001b[0;34m(\u001b[0m\u001b[0mxold\u001b[0m\u001b[0;34m,\u001b[0m\u001b[0mp\u001b[0m\u001b[0;34m,\u001b[0m\u001b[0mA\u001b[0m\u001b[0;34m)\u001b[0m\u001b[0;34m\u001b[0m\u001b[0m\n\u001b[0m\u001b[1;32m      8\u001b[0m     \u001b[0merr\u001b[0m \u001b[0;34m=\u001b[0m \u001b[0;34m(\u001b[0m\u001b[0mxnew\u001b[0m \u001b[0;34m-\u001b[0m \u001b[0mxold\u001b[0m\u001b[0;34m)\u001b[0m\u001b[0;34m.\u001b[0m\u001b[0mmax\u001b[0m\u001b[0;34m(\u001b[0m\u001b[0;34m)\u001b[0m\u001b[0;34m\u001b[0m\u001b[0m\n\u001b[1;32m      9\u001b[0m     \u001b[0mxold\u001b[0m \u001b[0;34m=\u001b[0m \u001b[0mxnew\u001b[0m\u001b[0;34m\u001b[0m\u001b[0m\n",
      "\u001b[0;32m/home/kokeeffe/research/robocab/RL_practice/A2C/real_world_nyc_environment.pyc\u001b[0m in \u001b[0;36mrhs\u001b[0;34m(x, p, A)\u001b[0m\n\u001b[1;32m    304\u001b[0m \u001b[0;34m\u001b[0m\u001b[0m\n\u001b[1;32m    305\u001b[0m     \u001b[0mb\u001b[0m \u001b[0;34m=\u001b[0m \u001b[0mA\u001b[0m\u001b[0;34m*\u001b[0m\u001b[0mx\u001b[0m\u001b[0;34m\u001b[0m\u001b[0m\n\u001b[0;32m--> 306\u001b[0;31m     \u001b[0mtemp\u001b[0m \u001b[0;34m=\u001b[0m \u001b[0mnp\u001b[0m\u001b[0;34m.\u001b[0m\u001b[0marray\u001b[0m\u001b[0;34m(\u001b[0m\u001b[0;34m[\u001b[0m\u001b[0mmin\u001b[0m\u001b[0;34m(\u001b[0m\u001b[0mi\u001b[0m \u001b[0;32mfor\u001b[0m \u001b[0mi\u001b[0m \u001b[0;32min\u001b[0m \u001b[0mrow\u001b[0m \u001b[0;32mif\u001b[0m \u001b[0mi\u001b[0m \u001b[0;34m>\u001b[0m \u001b[0;36m0\u001b[0m\u001b[0;34m)\u001b[0m \u001b[0;32mfor\u001b[0m \u001b[0mrow\u001b[0m \u001b[0;32min\u001b[0m \u001b[0mb\u001b[0m\u001b[0;34m]\u001b[0m\u001b[0;34m)\u001b[0m\u001b[0;34m\u001b[0m\u001b[0m\n\u001b[0m\u001b[1;32m    307\u001b[0m     \u001b[0;32mreturn\u001b[0m \u001b[0mp\u001b[0m \u001b[0;34m+\u001b[0m \u001b[0;34m(\u001b[0m\u001b[0;36m1\u001b[0m\u001b[0;34m-\u001b[0m\u001b[0mp\u001b[0m\u001b[0;34m)\u001b[0m\u001b[0;34m*\u001b[0m\u001b[0;34m(\u001b[0m\u001b[0mnp\u001b[0m\u001b[0;34m.\u001b[0m\u001b[0mones_like\u001b[0m\u001b[0;34m(\u001b[0m\u001b[0mx\u001b[0m\u001b[0;34m)\u001b[0m \u001b[0;34m+\u001b[0m \u001b[0mtemp\u001b[0m\u001b[0;34m)\u001b[0m\u001b[0;34m\u001b[0m\u001b[0m\n\u001b[1;32m    308\u001b[0m \u001b[0;34m\u001b[0m\u001b[0m\n",
      "\u001b[0;31mValueError\u001b[0m: min() arg is an empty sequence"
     ]
    },
    {
     "data": {
      "image/png": "[encoded data removed]",
      "text/plain": [
       "<Figure size 432x288 with 1 Axes>"
      ]
     },
     "metadata": {},
     "output_type": "display_data"
    }
   ],
   "source": [
    "x = x0\n",
    "tolerance = 0.05\n",
    "\n",
    "err = 1\n",
    "xold = x\n",
    "while err > tolerance:\n",
    "    xnew = t.rhs(xold,p,A)\n",
    "    err = (xnew - xold).max()\n",
    "    xold = xnew\n",
    "    print len(xold), len(xnew)"
   ]
  },
  {
   "cell_type": "code",
   "execution_count": 52,
   "metadata": {},
   "outputs": [
    {
     "data": {
      "text/plain": [
       "array([ -0.        ,   0.        ,   0.        ,   0.        ,\n",
       "         0.        ,   0.        ,   0.        ,  -0.        ,\n",
       "         0.        ,  -0.        ,   0.        ,  -0.        ,\n",
       "        -0.        ,  -0.        ,  -0.        ,  -0.        ,\n",
       "        -0.        ,  -0.        ,  -0.        ,  -0.        ,\n",
       "        -0.        ,  -0.        ,  -0.        ,   0.        ,\n",
       "         0.        ,  -0.        ,  -0.        ,  -0.        ,\n",
       "        -0.        ,   0.        ,   0.        ,  -0.        ,\n",
       "        -0.        ,  -0.        ,  -0.        ,  -0.        ,\n",
       "         0.        ,  -0.        ,   0.        ,  -0.        ,\n",
       "         0.        ,   0.        ,  -0.        ,   0.        ,\n",
       "        -0.        ,   0.        ,  -0.        ,   0.        ,\n",
       "        -0.        ,  -0.        ,  -0.        ,   0.        ,\n",
       "         0.        ,  -0.        ,  -0.        ,   0.        ,\n",
       "        -0.        ,  -0.        ,  -0.        ,  -0.        ,\n",
       "        -0.        ,   0.        ,   0.        ,   0.        ,\n",
       "        -0.        ,   0.        ,   0.        ,  -0.        ,\n",
       "        -0.        ,  -0.        ,   0.        ,  -0.        ,\n",
       "         0.        ,   0.        ,  -0.        ,  -0.        ,\n",
       "        -0.        ,  -0.        ,  -0.        ,   0.        ,\n",
       "        -0.        ,  -0.        ,   0.        ,  -0.        ,\n",
       "        -0.        ,   0.        ,  -0.        ,   0.        ,\n",
       "        -0.        ,  -0.        ,   0.        ,  -0.        ,\n",
       "         0.        ,   0.        ,  -0.        ,   0.        ,\n",
       "         0.        ,   0.        ,  -0.        ,  -0.        ,\n",
       "        -0.        ,   0.        ,  -0.        ,   0.        ,\n",
       "        -0.        ,  -0.        ,  -0.        ,   0.        ,\n",
       "        -0.        ,  -0.        ,   0.        ,   0.        ,\n",
       "        -0.        ,  -0.        ,  -0.        ,  -0.        ,\n",
       "         0.        ,  -0.        ,   0.        ,  -0.        ,\n",
       "        -0.        ,   0.        ,   0.        ,   0.        ,\n",
       "         0.        ,   0.        ,   0.        ,  -0.        ,\n",
       "        -0.        ,   0.        ,  -0.        ,   0.        ,\n",
       "        -0.        ,  -0.        ,  -0.        ,   0.        ,\n",
       "        -0.        ,   0.        ,   0.        ,   0.        ,\n",
       "         0.        ,   0.        ,  -0.        ,   0.        ,\n",
       "        -0.        ,  -0.        ,   0.        ,  -0.        ,\n",
       "         0.        ,  -0.        ,  -0.        ,  -0.        ,\n",
       "        -0.        ,  -0.        ,   0.        ,  -0.        ,\n",
       "         0.        ,  -0.        ,  -0.        ,  -0.        ,\n",
       "        -0.        ,   0.        ,  -0.        ,  -0.        ,\n",
       "        -0.        ,  -0.        ,   0.        ,   0.        ,\n",
       "        -0.        ,   0.        ,   0.        ,   0.        ,\n",
       "         0.        ,  -0.        ,   0.        ,   0.        ,\n",
       "        -0.        ,   0.        ,   0.        ,  -0.        ,\n",
       "         0.        ,   0.        ,   0.        ,  -0.        ,\n",
       "         0.        ,  -0.        ,  -0.        ,  -0.        ,\n",
       "        -0.        ,   0.        ,   0.        ,   0.        ,\n",
       "         0.        ,  -0.        ,  -0.        ,  -0.        ,\n",
       "         0.        ,   0.        ,  -0.        ,  -0.        ,\n",
       "        -0.        ,   0.        ,  -0.        ,  -0.        ,\n",
       "         0.        ,  -0.        ,  -0.        ,   0.        ,\n",
       "         0.        ,  -0.        ,  -0.        ,  -0.        ,\n",
       "         0.        ,   0.        ,   0.        ,  -0.        ,\n",
       "        -0.        ,   0.        ,  -0.        ,  -0.        ,\n",
       "         0.        ,  -0.        ,  -0.        ,  -0.        ,\n",
       "         0.        ,  -0.        ,   0.        ,   0.        ,\n",
       "        -0.        ,  -0.        ,  -0.        ,   0.        ,\n",
       "        -0.        ,  -0.        ,   0.        ,  -0.        ,\n",
       "         0.        ,   0.        ,  -0.        ,   0.        ,\n",
       "        -0.        ,  -0.        ,   0.        ,  -0.        ,\n",
       "        -0.        ,   0.        ,  -0.        ,  -0.        ,\n",
       "         0.        ,   0.        ,  -0.        ,   0.        ,\n",
       "        -0.        ,  -0.        ,   0.        ,  -0.        ,\n",
       "        -0.        ,  -0.        ,  -0.        ,   0.        ,\n",
       "         0.        ,  -0.        ,   0.        ,  -0.        ,\n",
       "         0.        ,  -0.        ,  -0.        ,  -0.        ,\n",
       "        -0.        ,  -0.        ,  -0.        ,  -0.        ,\n",
       "         0.        ,  -0.        ,   0.        ,  -0.        ,\n",
       "        -0.        ,   0.        ,   0.        ,   0.        ,\n",
       "         0.        ,  -0.        ,   0.        ,  -0.        ,\n",
       "        -0.        ,  -0.        ,  -0.        ,  -0.        ,\n",
       "        -0.        ,  -0.        ,  -0.        ,  -0.        ,\n",
       "        -0.        ,  -0.        ,   0.        ,   0.        ,\n",
       "         0.        ,  -0.        ,  -0.        ,  -0.        ,\n",
       "        -0.        ,  -0.        ,  -0.        ,  -0.        ,\n",
       "         0.        ,  -0.        ,  -0.        ,  -0.        ,\n",
       "         0.        ,  -0.        ,  -0.        ,  -0.        ,\n",
       "        -0.        ,  -0.        ,  -0.        ,  -0.        ,\n",
       "        -0.        ,  -0.        ,  -0.        ,  -0.        ,\n",
       "        -0.        ,   0.        ,  -0.        ,  -0.        ,\n",
       "        -0.        ,  -0.        ,   0.        ,  -0.        ,\n",
       "        -0.        ,  -0.        ,  -0.        ,  -0.        ,\n",
       "         0.        ,  -0.        ,  -0.        ,  -0.        ,\n",
       "        -0.        ,  -0.        ,  -0.        ,  -0.        ,\n",
       "         0.        ,  -0.        ,   0.        ,   0.        ,\n",
       "        -0.        ,  -0.        ,  -0.        ,   0.        ,\n",
       "        -0.        ,  -0.        ,   0.        ,  -0.        ,\n",
       "         0.        ,   0.        ,  -0.        ,  -0.        ,\n",
       "        -0.        ,  -0.        ,   0.        ,  -0.        ,\n",
       "        -0.        ,   0.        ,  -0.        ,  -0.        ,\n",
       "        -0.        ,  -0.        ,  -0.        ,   0.        ,\n",
       "        -0.        ,  -1.15059131,  -0.        ,  -0.        ,\n",
       "        -0.        ,  -0.        ,  -0.        ,  -0.        ,\n",
       "        -0.        ,   0.        ,  -0.        ,  -0.        ,\n",
       "        -0.        ,  -0.        ,   0.        ,   0.        ,\n",
       "        -0.        ,  -0.        ,   0.        ,  -0.        ,\n",
       "        -0.        ,   0.        ,  -0.        ,  -0.        ,\n",
       "        -0.        ,   0.        ,   0.        ,   0.        ,\n",
       "        -0.        ,  -0.        ,   0.        ,  -0.        ,\n",
       "        -0.        ,  -0.        ,  -0.        ,   0.        ,\n",
       "         0.        ,  -0.        ,   0.        ,   0.        ,\n",
       "        -0.        ,   0.        ,  -0.        ,  -0.        ,\n",
       "         0.        ,   0.        ,   0.        ,  -0.        ,\n",
       "         0.        ,   0.        ,  -0.        ,   0.        ,\n",
       "         0.        ,  -0.        ,  -0.        ,   0.        ,\n",
       "        -0.        ,  -0.        ,   0.        ,  -0.        ,\n",
       "        -0.        ,   0.        ,  -0.        ,   0.        ,\n",
       "        -0.        ,  -0.        ,  -0.        ,   0.        ,\n",
       "         0.        ,   0.        ,  -0.        ,   0.        ,\n",
       "        -0.        ,   0.        ,   0.        ,  -0.        ,\n",
       "         0.        ,  -0.        ,   0.        ,   0.        ,\n",
       "         0.        ,   0.        ,   0.        ,   0.        ,\n",
       "         0.        ,   0.        ,  -0.        ,   0.        ,\n",
       "         0.        ,   0.        ,  -0.        ,  -0.        ,\n",
       "         0.        ,  -0.        ,   0.        ,  -0.        ,\n",
       "       -12.39708728,   0.        ,   0.        ,   0.        ,\n",
       "        -0.        ,   0.        ,   0.        ,   0.        ,\n",
       "         0.        ,  -0.        ,   0.        ,   0.        ,\n",
       "         0.        ,   0.        ,   0.        ,   0.        ,\n",
       "         0.        ,   0.        ,   0.        ,   0.        ,\n",
       "        -0.        ,  -0.        ,   0.        ,  -0.        ,\n",
       "         0.        ,   0.        ,   0.        ,  -0.        ,\n",
       "        -0.        ,   0.        ,  -0.        ,  -0.        ,\n",
       "        -0.        ,  -0.        ,  -0.        ,  -0.        ,\n",
       "         0.        ,   0.        ,   0.        ,   0.        ,\n",
       "        -0.        ,  -0.        ,  -0.        ,  -0.        ,\n",
       "        -0.        ,  -0.        ,  -0.        ,  -0.        ,\n",
       "        -0.        ,  -0.        ,  -0.        ,  -0.        ,\n",
       "        -0.        ,   0.        ,  -0.        ,  -0.        ,\n",
       "        -0.        ,  -0.        ,   0.        ,  -0.        ,\n",
       "         0.        ,  -0.        ,   0.        ,   0.        ,\n",
       "        -0.        ,   0.        ,   0.        ,   0.        ,\n",
       "        -0.        ,   0.        ,  -0.        ,  -0.        ,\n",
       "        -0.        ,  -0.        ,  -0.        ,   0.        ,\n",
       "        -0.        ,   0.        ,  -0.        ,  -0.        ,\n",
       "        -0.        ,  -0.        ,   0.        ,  -0.        ,\n",
       "        -0.        ,  -0.        ,  -0.        ,   0.        ,\n",
       "        -0.        ,  -0.        ,  -0.        ,  -0.        ,\n",
       "        -0.        ,  -0.        ,  -0.        ,  -0.        ,\n",
       "         0.        ,  -0.        ,  -0.        ,  -0.        ,\n",
       "        -0.        ,  -0.        ,  -0.        ,  -0.        ,\n",
       "         0.        ,   0.        ,  -0.        ,  -0.        ,\n",
       "        -0.        ,  -0.        ,   0.        ])"
      ]
     },
     "execution_count": 52,
     "metadata": {},
     "output_type": "execute_result"
    }
   ],
   "source": [
    "b[9]"
   ]
  },
  {
   "cell_type": "code",
   "execution_count": null,
   "metadata": {
    "collapsed": true
   },
   "outputs": [],
   "source": []
  }
 ],
 "metadata": {
  "kernelspec": {
   "display_name": "Python 2",
   "language": "python",
   "name": "python2"
  },
  "language_info": {
   "codemirror_mode": {
    "name": "ipython",
    "version": 2
   },
   "file_extension": ".py",
   "mimetype": "text/x-python",
   "name": "python",
   "nbconvert_exporter": "python",
   "pygments_lexer": "ipython2",
   "version": "2.7.14"
  }
 },
 "nbformat": 4,
 "nbformat_minor": 2
}
