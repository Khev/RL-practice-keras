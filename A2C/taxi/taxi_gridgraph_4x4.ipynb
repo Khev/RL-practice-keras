{
 "cells": [
  {
   "cell_type": "markdown",
   "metadata": {},
   "source": [
    "# Introduction\n",
    "\n",
    "Here I'm testing the A2C on the taxi grid graph\n",
    "\n",
    "\n",
    "### First test the optimal cab"
   ]
  },
  {
   "cell_type": "code",
   "execution_count": 16,
   "metadata": {},
   "outputs": [
    {
     "name": "stdout",
     "output_type": "stream",
     "text": [
      "(episode, tau) = (0, 0.15978402159784022)\n",
      "(episode, tau) = (1, 0.15928407159284072)\n",
      "(episode, tau) = (2, 0.1628837116288371)\n",
      "(episode, tau) = (3, 0.15328467153284672)\n",
      "(episode, tau) = (4, 0.1593840615938406)\n",
      "(episode, tau) = (5, 0.15678432156784322)\n",
      "(episode, tau) = (6, 0.15398460153984603)\n",
      "(episode, tau) = (7, 0.15158484151584842)\n",
      "(episode, tau) = (8, 0.1483851614838516)\n",
      "(episode, tau) = (9, 0.15698430156984303)\n"
     ]
    },
    {
     "data": {
      "text/plain": [
       "0.1562343765623438"
      ]
     },
     "execution_count": 16,
     "metadata": {},
     "output_type": "execute_result"
    }
   ],
   "source": [
    "import networkx as nx\n",
    "import csv\n",
    "import copy\n",
    "import funcs as f\n",
    "import numpy as np\n",
    "import matplotlib.pyplot as plt\n",
    "import gym\n",
    "from agent_taxi import Agent\n",
    "from agent_taxi import PolicyCab\n",
    "from taxi_environment import Env\n",
    "from keras.utils import to_categorical\n",
    "%matplotlib inline\n",
    "\n",
    "\n",
    "\n",
    "#Environment\n",
    "n = 4\n",
    "G = f.make_G(n)\n",
    "state_zero = np.array([1 if i == 0 else 0 for i in range(G.number_of_nodes())])\n",
    "env = Env(G,state_zero)\n",
    "\n",
    "\n",
    "#Agent\n",
    "p = np.array([G.nodes[i]['prob'] for i in range(G.number_of_nodes())])\n",
    "optimal_policy = f.find_optimal_policy(p,G)\n",
    "model_cab = PolicyCab(optimal_policy,G)\n",
    "\n",
    "taus = []\n",
    "num_episodes, time_per_episode = 10, 10**4\n",
    "for episode in range(num_episodes):\n",
    "    \n",
    "    state = state_zero\n",
    "    while model_cab.active_time <= time_per_episode:\n",
    "        action = model_cab.act(state)\n",
    "        next_state, reward = env.step(action,model_cab)\n",
    "        state = next_state\n",
    "    tau = model_cab.find_tau()\n",
    "    taus.append(tau)\n",
    "    print '(episode, tau) = ' + str((episode,model_cab.find_tau()))\n",
    "    model_cab.reset_clocks()\n",
    "tau_optimal = np.mean(taus)\n",
    "tau_optimal"
   ]
  },
  {
   "cell_type": "markdown",
   "metadata": {},
   "source": [
    "### Random cab"
   ]
  },
  {
   "cell_type": "code",
   "execution_count": 2,
   "metadata": {},
   "outputs": [
    {
     "name": "stdout",
     "output_type": "stream",
     "text": [
      "(episode, tau) = (0, 0.25607439256074394)\n",
      "(episode, tau) = (1, 0.25877412258774124)\n",
      "(episode, tau) = (2, 0.24447555244475552)\n",
      "(episode, tau) = (3, 0.252974702529747)\n",
      "(episode, tau) = (4, 0.24857514248575144)\n",
      "(episode, tau) = (5, 0.2425757424257574)\n",
      "(episode, tau) = (6, 0.251974802519748)\n",
      "(episode, tau) = (7, 0.24017598240175983)\n",
      "(episode, tau) = (8, 0.24847515248475152)\n",
      "(episode, tau) = (9, 0.2702729727027297)\n"
     ]
    }
   ],
   "source": [
    "#Environment\n",
    "n = 4\n",
    "G = f.make_G(n)\n",
    "state_zero = np.array([1 if i == 0 else 0 for i in range(G.number_of_nodes())])\n",
    "env = Env(G,state_zero)\n",
    "\n",
    "\n",
    "#Agent\n",
    "p = np.array([G.nodes[i]['prob'] for i in range(G.number_of_nodes())])\n",
    "optimal_policy = f.find_optimal_policy(p,G)\n",
    "model_cab = PolicyCab(optimal_policy,G)\n",
    "\n",
    "\n",
    "num_episodes, time_per_episode = 10, 10**4\n",
    "taus = []\n",
    "for episode in range(num_episodes):\n",
    "    \n",
    "    state = state_zero\n",
    "    while model_cab.active_time <= time_per_episode:\n",
    "        state_scalar = np.where(state==1)[0][0]\n",
    "        neighbours = G[state_scalar].keys()\n",
    "        action = np.random.choice(range(len(neighbours)))\n",
    "        next_state, reward = env.step(action,model_cab)\n",
    "        state = next_state\n",
    "    tau = model_cab.find_tau()\n",
    "    taus.append(tau)\n",
    "    print '(episode, tau) = ' + str((episode,tau))\n",
    "    model_cab.reset_clocks()\n",
    "tau_random = np.mean(taus)"
   ]
  },
  {
   "cell_type": "markdown",
   "metadata": {},
   "source": [
    "### RL agent"
   ]
  },
  {
   "cell_type": "code",
   "execution_count": 4,
   "metadata": {},
   "outputs": [
    {
     "name": "stdout",
     "output_type": "stream",
     "text": [
      "(episode, tau, score) = (50, 0.19, -2836)\n",
      "(episode, tau, score) = (100, 0.24, -863)\n",
      "(episode, tau, score) = (150, 0.24, 146)\n",
      "(episode, tau, score) = (200, 0.11, 179)\n",
      "(episode, tau, score) = (250, 0.13, 177)\n",
      "(episode, tau, score) = (300, 0.13, 187)\n",
      "(episode, tau, score) = (350, 0.16, 164)\n",
      "(episode, tau, score) = (400, 0.24, -843)\n",
      "(episode, tau, score) = (450, 0.17, 163)\n",
      "(episode, tau, score) = (500, 0.24, 156)\n",
      "(episode, tau, score) = (550, 0.3, 110)\n",
      "(episode, tau, score) = (600, 0.28, 112)\n",
      "(episode, tau, score) = (650, 0.28, 132)\n",
      "(episode, tau, score) = (700, 0.26, 134)\n",
      "(episode, tau, score) = (750, 0.15, 155)\n",
      "(episode, tau, score) = (800, 0.2, 150)\n",
      "(episode, tau, score) = (850, 0.21, 129)\n",
      "(episode, tau, score) = (900, 0.22, 138)\n",
      "(episode, tau, score) = (950, 0.11, 179)\n",
      "(episode, tau, score) = (1000, 0.23, 137)\n",
      "(episode, tau, score) = (1050, 0.17, 163)\n",
      "(episode, tau, score) = (1100, 0.12, 168)\n",
      "(episode, tau, score) = (1150, 0.12, 168)\n",
      "(episode, tau, score) = (1200, 0.16, 154)\n",
      "(episode, tau, score) = (1250, 0.08, 172)\n",
      "(episode, tau, score) = (1300, 0.13, 177)\n",
      "(episode, tau, score) = (1350, 0.15, 195)\n",
      "(episode, tau, score) = (1400, 0.12, 158)\n",
      "(episode, tau, score) = (1450, 0.14, 166)\n",
      "(episode, tau, score) = (1500, 0.13, 167)\n",
      "(episode, tau, score) = (1550, 0.13, 187)\n",
      "(episode, tau, score) = (1600, 0.23, 137)\n",
      "(episode, tau, score) = (1650, 0.11, 179)\n",
      "(episode, tau, score) = (1700, 0.13, 177)\n",
      "(episode, tau, score) = (1750, 0.15, 175)\n",
      "(episode, tau, score) = (1800, 0.15, 155)\n",
      "(episode, tau, score) = (1850, 0.12, 168)\n",
      "(episode, tau, score) = (1900, 0.13, 177)\n",
      "(episode, tau, score) = (1950, 0.22, 168)\n",
      "(episode, tau, score) = (2000, 0.1, 190)\n",
      "(episode, tau, score) = (2050, 0.24, 136)\n",
      "(episode, tau, score) = (2100, 0.06, 194)\n",
      "(episode, tau, score) = (2150, 0.09, 191)\n",
      "(episode, tau, score) = (2200, 0.14, 166)\n",
      "(episode, tau, score) = (2250, 0.15, 195)\n",
      "(episode, tau, score) = (2300, 0.18, 162)\n",
      "(episode, tau, score) = (2350, 0.15, 175)\n",
      "(episode, tau, score) = (2400, 0.13, 177)\n",
      "(episode, tau, score) = (2450, 0.18, 162)\n",
      "(episode, tau, score) = (2500, 0.21, 159)\n",
      "(episode, tau, score) = (2550, 0.12, 158)\n",
      "(episode, tau, score) = (2600, 0.22, 128)\n",
      "(episode, tau, score) = (2650, 0.15, 165)\n",
      "(episode, tau, score) = (2700, 0.2, 160)\n",
      "(episode, tau, score) = (2750, 0.18, 152)\n",
      "(episode, tau, score) = (2800, 0.14, 166)\n",
      "(episode, tau, score) = (2850, 0.16, 164)\n",
      "(episode, tau, score) = (2900, 0.16, 164)\n",
      "(episode, tau, score) = (2950, 0.1, 180)\n",
      "(episode, tau, score) = (3000, 0.1, 190)\n",
      "(episode, tau, score) = (3050, 0.2, 160)\n",
      "(episode, tau, score) = (3100, 0.19, 171)\n",
      "(episode, tau, score) = (3150, 0.12, 188)\n",
      "(episode, tau, score) = (3200, 0.13, 157)\n",
      "(episode, tau, score) = (3250, 0.08, 182)\n",
      "(episode, tau, score) = (3300, 0.31, 119)\n",
      "(episode, tau, score) = (3350, 0.15, 185)\n",
      "(episode, tau, score) = (3400, 0.16, 174)\n",
      "(episode, tau, score) = (3450, 0.18, 162)\n",
      "(episode, tau, score) = (3500, 0.11, 169)\n",
      "(episode, tau, score) = (3550, 0.28, 132)\n",
      "(episode, tau, score) = (3600, 0.19, 141)\n",
      "(episode, tau, score) = (3650, 0.12, 178)\n",
      "(episode, tau, score) = (3700, 0.15, 165)\n",
      "(episode, tau, score) = (3750, 0.15, 155)\n",
      "(episode, tau, score) = (3800, 0.2, 140)\n",
      "(episode, tau, score) = (3850, 0.1, 180)\n",
      "(episode, tau, score) = (3900, 0.15, 165)\n",
      "(episode, tau, score) = (3950, 0.12, 158)\n",
      "(episode, tau, score) = (4000, 0.16, 164)\n",
      "(episode, tau, score) = (4050, 0.15, 175)\n",
      "(episode, tau, score) = (4100, 0.26, 144)\n",
      "(episode, tau, score) = (4150, 0.2, 160)\n",
      "(episode, tau, score) = (4200, 0.16, 144)\n",
      "(episode, tau, score) = (4250, 0.17, 163)\n",
      "(episode, tau, score) = (4300, 0.12, 168)\n",
      "(episode, tau, score) = (4350, 0.18, 152)\n",
      "(episode, tau, score) = (4400, 0.14, 166)\n",
      "(episode, tau, score) = (4450, 0.13, 157)\n",
      "(episode, tau, score) = (4500, 0.13, 167)\n",
      "(episode, tau, score) = (4550, 0.22, 158)\n",
      "(episode, tau, score) = (4600, 0.1, 180)\n",
      "(episode, tau, score) = (4650, 0.13, 177)\n",
      "(episode, tau, score) = (4700, 0.11, 199)\n",
      "(episode, tau, score) = (4750, 0.06, 174)\n",
      "(episode, tau, score) = (4800, 0.11, 169)\n",
      "(episode, tau, score) = (4850, 0.11, 159)\n",
      "(episode, tau, score) = (4900, 0.12, 178)\n",
      "(episode, tau, score) = (4950, 0.11, 169)\n",
      "(episode, tau, score) = (5000, 0.08, 202)\n"
     ]
    },
    {
     "data": {
      "text/plain": [
       "[<matplotlib.lines.Line2D at 0x7f4c38272990>]"
      ]
     },
     "execution_count": 4,
     "metadata": {},
     "output_type": "execute_result"
    },
    {
     "data": {
      "image/png": "[encoded data removed]",
      "text/plain": [
       "<Figure size 432x288 with 1 Axes>"
      ]
     },
     "metadata": {},
     "output_type": "display_data"
    }
   ],
   "source": [
    "EPISODES = 5000\n",
    "\n",
    "\n",
    "#Environment\n",
    "n = 4\n",
    "G = f.make_G(n)\n",
    "state_zero = np.array([1 if i == 0 else 0 for i in range(G.number_of_nodes())])\n",
    "env = Env(G,state_zero)\n",
    "num_states = env.num_states\n",
    "num_actions = env.num_actions\n",
    "\n",
    "#Agent\n",
    "lr = 0.001\n",
    "gamma = 0.01\n",
    "agent = Agent(num_states, num_actions, lr, gamma)\n",
    "agent.memory_size = 1000\n",
    "\n",
    "scores = []\n",
    "\n",
    "for e in range(1,EPISODES+1):\n",
    "    state = state_zero\n",
    "    state = np.reshape(state, [1, num_states])\n",
    "    reward_sum = 0\n",
    "    while agent.active_time < 100:\n",
    "        \n",
    "        # env.render()\n",
    "        action = agent.act(state)\n",
    "        next_state, reward = env.step(action,agent)\n",
    "        reward_sum += reward\n",
    "        next_state = np.reshape(next_state, [1, num_states])\n",
    "        \n",
    "        #We only want to remember action taken when looking\n",
    "        if agent.state == 'serving':\n",
    "            pass\n",
    "        else:\n",
    "            agent.remember(state[0], action, 1.0*reward)\n",
    "        state = next_state\n",
    "    \n",
    "    #Learn & print results\n",
    "    agent.train_models()\n",
    "    tau = agent.find_tau()\n",
    "    scores.append(tau)\n",
    "    agent.reset_clocks()\n",
    "    if e % 50 == 0:\n",
    "        print '(episode, tau, score) = ' + str((e,tau,reward_sum))\n",
    "\n",
    "plt.plot(scores)\n",
    "plt.plot([tau_random for i in scores],'g-')\n",
    "plt.plot([tau_optimal for i in scores],'r-')\n",
    "#np.savetxt('stats/scores_lunar_landing.txt',scores)"
   ]
  },
  {
   "cell_type": "code",
   "execution_count": 5,
   "metadata": {},
   "outputs": [
    {
     "data": {
      "text/plain": [
       "[<matplotlib.lines.Line2D at 0x7f4c382aba50>]"
      ]
     },
     "execution_count": 5,
     "metadata": {},
     "output_type": "execute_result"
    },
    {
     "data": {
      "image/png": "[encoded data removed]",
      "text/plain": [
       "<Figure size 432x288 with 1 Axes>"
      ]
     },
     "metadata": {},
     "output_type": "display_data"
    }
   ],
   "source": [
    "def running_mean(x, N):\n",
    "    cumsum = np.cumsum(np.insert(x, 0, 0)) \n",
    "    return (cumsum[N:] - cumsum[:-N]) / float(N)\n",
    "\n",
    "plt.plot(running_mean(scores,100))\n",
    "\n",
    "plt.plot([tau_random for i in scores],'g-')\n",
    "plt.plot([tau_optimal for i in scores],'r-')"
   ]
  },
  {
   "cell_type": "code",
   "execution_count": 9,
   "metadata": {},
   "outputs": [
    {
     "name": "stdout",
     "output_type": "stream",
     "text": [
      "[7.9753681e-04 9.9920171e-01 7.1521282e-07 3.7105987e-09]\n",
      "[2.8446119e-04 9.9971527e-01 2.0573250e-07 4.3576603e-10]\n",
      "[2.8855086e-04 9.9971145e-01 3.5582644e-08 8.9285523e-11]\n",
      "[1.0412205e-03 9.9895763e-01 1.0774279e-06 6.7810553e-09]\n",
      "[8.7331267e-05 9.9991262e-01 1.8618039e-08 1.4664457e-11]\n",
      "[1.0904186e-02 9.8907286e-01 2.2097060e-05 7.7629204e-07]\n",
      "[1.7311261e-04 9.9982685e-01 6.1228349e-08 9.4939674e-11]\n",
      "[3.3893250e-04 9.9966085e-01 1.8733246e-07 4.7436532e-10]\n",
      "[9.5454954e-05 9.9990451e-01 3.0471824e-08 3.0464221e-11]\n",
      "[1.4988070e-03 9.9849653e-01 4.5887136e-06 3.3376629e-08]\n",
      "[2.7631787e-03 9.9722821e-01 8.4392132e-06 9.4236142e-08]\n",
      "[4.1244479e-05 9.9995875e-01 2.8684830e-09 1.2924710e-12]\n",
      "[3.2598145e-02 9.6709365e-01 2.8146483e-04 2.6717425e-05]\n",
      "[5.6059810e-04 9.9943906e-01 3.5721189e-07 1.4391965e-09]\n",
      "[1.2103377e-03 9.9878877e-01 9.8941723e-07 6.7319865e-09]\n",
      "[1.5677892e-03 9.9842680e-01 5.5277169e-06 4.2870941e-08]\n"
     ]
    }
   ],
   "source": [
    "policy = {}\n",
    "for state_scalar in range(num_states):\n",
    "    state_vec = np.array([[1 if i == state_scalar else 0 for i in range(G.number_of_nodes())]])\n",
    "    action_probs = agent.actor.model.predict(state_vec)[0]\n",
    "    print action_probs\n",
    "    best_action = np.argmax(action_probs)\n",
    "    neighbours = G[state_scalar].keys()\n",
    "    policy[state_scalar] = neighbours[best_action]"
   ]
  },
  {
   "cell_type": "code",
   "execution_count": 14,
   "metadata": {},
   "outputs": [
    {
     "name": "stdout",
     "output_type": "stream",
     "text": [
      "(episode, tau) = (0, 0.1494850514948505)\n",
      "(episode, tau) = (1, 0.1401859814018598)\n",
      "(episode, tau) = (2, 0.14158584141585842)\n",
      "(episode, tau) = (3, 0.14678532146785322)\n",
      "(episode, tau) = (4, 0.15098490150984903)\n",
      "(episode, tau) = (5, 0.1504849515048495)\n",
      "(episode, tau) = (6, 0.14828517148285172)\n",
      "(episode, tau) = (7, 0.14628537146285372)\n",
      "(episode, tau) = (8, 0.1541845815418458)\n",
      "(episode, tau) = (9, 0.14258574142585742)\n"
     ]
    },
    {
     "data": {
      "text/plain": [
       "0.14708529147085292"
      ]
     },
     "execution_count": 14,
     "metadata": {},
     "output_type": "execute_result"
    }
   ],
   "source": [
    "deterministic_cab = PolicyCab(policy,G)\n",
    "\n",
    "taus = []\n",
    "num_episodes, time_per_episode = 10, 10**4\n",
    "for episode in range(num_episodes):\n",
    "    \n",
    "    state = state_zero\n",
    "    while deterministic_cab.active_time <= time_per_episode:\n",
    "        action = deterministic_cab.act(state)\n",
    "        next_state, reward = env.step(action,deterministic_cab)\n",
    "        state = next_state\n",
    "    tau = deterministic_cab.find_tau()\n",
    "    taus.append(tau)\n",
    "    print '(episode, tau) = ' + str((episode,deterministic_cab.find_tau()))\n",
    "    deterministic_cab.reset_clocks()\n",
    "np.mean(taus)"
   ]
  },
  {
   "cell_type": "markdown",
   "metadata": {},
   "source": [
    "Looks like my guy is doing slightly BETTER. Huh. I wonder how differnt their policies are."
   ]
  },
  {
   "cell_type": "code",
   "execution_count": 11,
   "metadata": {},
   "outputs": [
    {
     "data": {
      "text/plain": [
       "{0: 15,\n",
       " 1: 15,\n",
       " 2: 12,\n",
       " 3: 13,\n",
       " 4: 11,\n",
       " 5: 9,\n",
       " 6: 7,\n",
       " 7: 9,\n",
       " 8: 13,\n",
       " 9: 13,\n",
       " 10: 1,\n",
       " 11: 10,\n",
       " 12: 1,\n",
       " 13: 9,\n",
       " 14: 15,\n",
       " 15: 1}"
      ]
     },
     "execution_count": 11,
     "metadata": {},
     "output_type": "execute_result"
    }
   ],
   "source": [
    "optimal_policy"
   ]
  },
  {
   "cell_type": "code",
   "execution_count": 12,
   "metadata": {},
   "outputs": [
    {
     "data": {
      "text/plain": [
       "{0: 3,\n",
       " 1: 10,\n",
       " 2: 4,\n",
       " 3: 13,\n",
       " 4: 11,\n",
       " 5: 6,\n",
       " 6: 5,\n",
       " 7: 9,\n",
       " 8: 1,\n",
       " 9: 5,\n",
       " 10: 11,\n",
       " 11: 10,\n",
       " 12: 2,\n",
       " 13: 9,\n",
       " 14: 15,\n",
       " 15: 1}"
      ]
     },
     "execution_count": 12,
     "metadata": {},
     "output_type": "execute_result"
    }
   ],
   "source": [
    "policy"
   ]
  },
  {
   "cell_type": "markdown",
   "metadata": {},
   "source": [
    "Hmm. A lot different. This is making me think I should try this method on the real enviroment."
   ]
  },
  {
   "cell_type": "code",
   "execution_count": null,
   "metadata": {
    "collapsed": true
   },
   "outputs": [],
   "source": []
  }
 ],
 "metadata": {
  "kernelspec": {
   "display_name": "Python 2",
   "language": "python",
   "name": "python2"
  },
  "language_info": {
   "codemirror_mode": {
    "name": "ipython",
    "version": 2
   },
   "file_extension": ".py",
   "mimetype": "text/x-python",
   "name": "python",
   "nbconvert_exporter": "python",
   "pygments_lexer": "ipython2",
   "version": "2.7.14"
  }
 },
 "nbformat": 4,
 "nbformat_minor": 2
}
