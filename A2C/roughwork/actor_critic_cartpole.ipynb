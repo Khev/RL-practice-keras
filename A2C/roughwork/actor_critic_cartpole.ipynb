{
 "cells": [
  {
   "cell_type": "markdown",
   "metadata": {},
   "source": [
    "# Introduction"
   ]
  },
  {
   "cell_type": "code",
   "execution_count": 1,
   "metadata": {},
   "outputs": [
    {
     "name": "stderr",
     "output_type": "stream",
     "text": [
      "/home/kokeeffe/anaconda2/lib/python2.7/site-packages/h5py/__init__.py:34: FutureWarning: Conversion of the second argument of issubdtype from `float` to `np.floating` is deprecated. In future, it will be treated as `np.float64 == np.dtype(float).type`.\n",
      "  from ._conv import register_converters as _register_converters\n",
      "Using TensorFlow backend.\n"
     ]
    },
    {
     "name": "stdout",
     "output_type": "stream",
     "text": [
      "\u001b[33mWARN: gym.spaces.Box autodetected dtype as <type 'numpy.float32'>. Please provide explicit dtype.\u001b[0m\n",
      "(episode, score) = (50, 22.0)\n",
      "(episode, score) = (100, 30.0)\n",
      "(episode, score) = (150, 53.0)\n",
      "(episode, score) = (200, 15.0)\n",
      "(episode, score) = (250, 14.0)\n",
      "(episode, score) = (300, 46.0)\n",
      "(episode, score) = (350, 16.0)\n",
      "(episode, score) = (400, 10.0)\n",
      "(episode, score) = (450, 53.0)\n",
      "(episode, score) = (500, 23.0)\n",
      "(episode, score) = (550, 51.0)\n",
      "(episode, score) = (600, 200.0)\n",
      "(episode, score) = (650, 189.0)\n",
      "(episode, score) = (700, 183.0)\n",
      "(episode, score) = (750, 200.0)\n",
      "(episode, score) = (800, 200.0)\n",
      "(episode, score) = (850, 157.0)\n",
      "(episode, score) = (900, 135.0)\n",
      "(episode, score) = (950, 155.0)\n",
      "(episode, score) = (1000, 169.0)\n"
     ]
    },
    {
     "data": {
      "text/plain": [
       "[<matplotlib.lines.Line2D at 0x7fd910670f50>]"
      ]
     },
     "execution_count": 1,
     "metadata": {},
     "output_type": "execute_result"
    },
    {
     "data": {
      "image/png": "[encoded data removed]",
      "text/plain": [
       "<Figure size 432x288 with 1 Axes>"
      ]
     },
     "metadata": {},
     "output_type": "display_data"
    }
   ],
   "source": [
    "import numpy as np\n",
    "import matplotlib.pyplot as plt\n",
    "import tensorflow as tf\n",
    "import gym\n",
    "from collections import deque\n",
    "from keras.models import Sequential\n",
    "from keras.layers import Dense\n",
    "import keras.optimizers \n",
    "from keras import backend as K\n",
    "from agent import Agent\n",
    "%matplotlib inline\n",
    "\n",
    "\n",
    "#Env\n",
    "env = gym.make('CartPole-v0')\n",
    "env.seed(1)  #for comparison\n",
    "num_states = env.observation_space.shape[0]\n",
    "num_actions = env.action_space.n\n",
    "\n",
    "#Agent\n",
    "input_dim, output_dim = num_states, num_actions\n",
    "lr, gamma, tau, clipnorm, verbose = 0.001, 0.99, 0.01, True, False\n",
    "agent = Agent(input_dim, output_dim, lr, gamma, tau, clipnorm, verbose)\n",
    "\n",
    "#Train\n",
    "EPISODES = 1000\n",
    "scores = []\n",
    "for e in range(1,EPISODES+1):\n",
    "    state = env.reset()\n",
    "    state = np.reshape(state, [1, num_states])\n",
    "    reward_sum = 0\n",
    "    done = False\n",
    "    while not done:\n",
    "        # env.render()\n",
    "        action = agent.act(state)\n",
    "        next_state, reward, done, _ = env.step(action)\n",
    "        reward_sum += reward\n",
    "        next_state = np.reshape(next_state, [1, num_states])\n",
    "        agent.remember(state[0], action, reward, next_state[0], done)\n",
    "        state = next_state\n",
    "    agent.learn()\n",
    "    scores.append(reward_sum)\n",
    "    if e % 50 == 0:\n",
    "        print '(episode, score) = ' + str((e,reward_sum))\n",
    "plt.plot(scores)"
   ]
  },
  {
   "cell_type": "markdown",
   "metadata": {},
   "source": [
    "### Roughwork"
   ]
  },
  {
   "cell_type": "code",
   "execution_count": 56,
   "metadata": {},
   "outputs": [],
   "source": [
    "import numpy as np\n",
    "import matplotlib.pyplot as plt\n",
    "import tensorflow as tf\n",
    "import gym\n",
    "from collections import deque\n",
    "from keras.models import Sequential, Model\n",
    "from keras.layers import Dense\n",
    "from keras.optimizers import Adam \n",
    "from keras.optimizers import RMSprop\n",
    "from keras import backend as K\n",
    "from keras.utils import to_categorical\n",
    "from keras.layers import Dense, Input, concatenate\n",
    "\n",
    "\n",
    "class Critic:\n",
    "    \n",
    "    \"\"\" Critic for A2C  \"\"\"\n",
    "    \n",
    "    def __init__(self,input_dim, output_dim,lr,gamma,tau, clipnorm, verbose = False):\n",
    "        \n",
    "        #Pars\n",
    "        self.input_dim = input_dim\n",
    "        self.output_dim = output_dim\n",
    "        self.lr = lr  #learning rate for optimizer\n",
    "        self.gamma = gamma\n",
    "        self.tau = tau\n",
    "        self.verbose = verbose\n",
    "        self.clipnorm = clipnorm\n",
    "        \n",
    "        #Make models\n",
    "        self.model = self._make_network()\n",
    "        self.target_model = self._make_network()                       \n",
    "        self.target_model.set_weights(self.model.get_weights()) \n",
    "        \n",
    "        #optimizer\n",
    "        self.opt = self.optimizer1()\n",
    "        \n",
    "        \n",
    "    def learn(self,S,R,D,V1):\n",
    "        self.opt([S,R,D,V1])\n",
    "    \n",
    "    #def learn(self,S,adv):\n",
    "    #    self.opt([S,adv])\n",
    "\n",
    "    \n",
    "        \n",
    "    def _make_network(self):        \n",
    "        S = Input(shape=(self.input_dim,))\n",
    "        x = Dense(128, activation = 'relu')(S)\n",
    "        out = Dense(1, activation = 'linear')(x)\n",
    "        model = Model(inputs = S, outputs = out)\n",
    "        model.compile(loss = 'mse', optimizer = Adam( lr = self.lr, clipnorm = self.clipnorm))\n",
    "        return model\n",
    "    \n",
    "       \n",
    "    def optimizer(self):\n",
    "        \"\"\" The critic loss: L_i = \\sum_{batch}  ( V_i - G_i )^2 \n",
    "        \n",
    "            where G_i is the discounted reward.\n",
    "        \n",
    "        \"\"\"\n",
    "        \n",
    "        #Placeholders\n",
    "        discounted_returns_placeholder = K.placeholder(name='discounted_return',shape=(None,))        \n",
    "        critic_loss = K.mean(K.square(discounted_returns_placeholder - self.model.output))\n",
    "        \n",
    "        #Define optimizer\n",
    "        adam_critic = RMSprop(lr = self.lr, epsilon = 0.1, rho = 0.99)  #arbitray\n",
    "        pars = self.model.trainable_weights\n",
    "        updates = adam_critic.get_updates(params=pars,loss=critic_loss)\n",
    "        \n",
    "        return K.function([self.model.input, discounted_returns_placeholder], [], updates=updates)        \n",
    "        \n",
    " \n",
    "    def optimizer1(self):\n",
    "        \n",
    "        \"\"\" \n",
    "            The loss function for the critic is\n",
    "           \n",
    "            L_i = \\sum_{batch}  ( V_i - y_i )^2 \n",
    "            \n",
    "            where,\n",
    "            \n",
    "            y_i = r_i + (1-done) gamma* V_i(s)  for non-terminal \\vec{x'}\n",
    "            r_i = reward to agent i\n",
    "            gamma = discount factor\n",
    "            done = 1 if episode finished, 0 otherwise\n",
    "        \"\"\"\n",
    "        \n",
    "        #Placeholders\n",
    "        S_pl = self.model.input\n",
    "        R_pl = K.placeholder(name='reward',shape=(None,))\n",
    "        D_pl = K.placeholder(name='done', shape=(None,))\n",
    "        V1_pl = K.placeholder(name='V1',shape=(None,))\n",
    "\n",
    "        #Find yi\n",
    "        Y = R_pl + (1-D_pl)*self.gamma*V1_pl\n",
    "        #Y = R_pl + (1-D_pl)*self.gamma*K.reshape(V1_pl,(1,len(V1_pl)))\n",
    "        \n",
    "        #Find loss\n",
    "        loss = K.mean(K.square(self.model.output - Y))\n",
    "        \n",
    "        #Define optimizer\n",
    "        adam_critic = RMSprop(lr = self.lr, epsilon = 0.1, rho = 0.99)  #arbitray\n",
    "        pars = self.model.trainable_weights\n",
    "        updates = adam_critic.get_updates(params=pars,loss=loss)\n",
    "        \n",
    "        return K.function([S_pl, R_pl, D_pl ,V1_pl], [], updates=updates)  \n",
    "\n",
    "critic = Critic(input_dim, output_dim,lr,gamma,tau, clipnorm, verbose = False)\n",
    "S,A,R,S1,D = agent.get_batch()\n",
    "V1 = critic.model.predict(S1)\n",
    "critic.learn(S,R,D,V1)"
   ]
  },
  {
   "cell_type": "markdown",
   "metadata": {},
   "source": [
    "### Grab batches"
   ]
  },
  {
   "cell_type": "code",
   "execution_count": 36,
   "metadata": {},
   "outputs": [],
   "source": [
    "agent = Agent(input_dim, output_dim, lr, gamma, tau, clipnorm, verbose)\n",
    "state = env.reset()\n",
    "state = np.reshape(state, [1, num_states])\n",
    "reward_sum = 0\n",
    "done = False\n",
    "while not done:\n",
    "    action = agent.act(state)\n",
    "    next_state, reward, done, _ = env.step(action)\n",
    "    reward_sum += reward\n",
    "    next_state = np.reshape(next_state, [1, num_states])\n",
    "    agent.remember(state[0], action, reward, next_state[0], done)\n",
    "    state = next_state "
   ]
  },
  {
   "cell_type": "code",
   "execution_count": 42,
   "metadata": {},
   "outputs": [],
   "source": [
    "V1 = agent.critic.model.predict(S)"
   ]
  },
  {
   "cell_type": "code",
   "execution_count": 44,
   "metadata": {},
   "outputs": [
    {
     "data": {
      "text/plain": [
       "(22, 1)"
      ]
     },
     "execution_count": 44,
     "metadata": {},
     "output_type": "execute_result"
    }
   ],
   "source": [
    "V1.shape"
   ]
  },
  {
   "cell_type": "code",
   "execution_count": 49,
   "metadata": {},
   "outputs": [
    {
     "data": {
      "text/plain": [
       "<tf.Tensor 'Reshape_2:0' shape=(22,) dtype=float32>"
      ]
     },
     "execution_count": 49,
     "metadata": {},
     "output_type": "execute_result"
    }
   ],
   "source": [
    "K.flatten(V1)"
   ]
  },
  {
   "cell_type": "code",
   "execution_count": null,
   "metadata": {
    "collapsed": true
   },
   "outputs": [],
   "source": []
  }
 ],
 "metadata": {
  "kernelspec": {
   "display_name": "Python 2",
   "language": "python",
   "name": "python2"
  },
  "language_info": {
   "codemirror_mode": {
    "name": "ipython",
    "version": 2
   },
   "file_extension": ".py",
   "mimetype": "text/x-python",
   "name": "python",
   "nbconvert_exporter": "python",
   "pygments_lexer": "ipython2",
   "version": "2.7.14"
  }
 },
 "nbformat": 4,
 "nbformat_minor": 2
}
