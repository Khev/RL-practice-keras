{
 "cells": [
  {
   "cell_type": "markdown",
   "metadata": {},
   "source": [
    "# Introduction\n",
    "\n",
    "Following on the heels of the policy gradient method, I'm moving over to the actor critic method."
   ]
  },
  {
   "cell_type": "code",
   "execution_count": 243,
   "metadata": {
    "collapsed": true
   },
   "outputs": [],
   "source": [
    "import numpy as np\n",
    "import matplotlib.pyplot as plt\n",
    "import tensorflow as tf\n",
    "import gym\n",
    "from collections import deque\n",
    "from keras.models import Sequential\n",
    "from keras.layers import Dense\n",
    "import keras.optimizers \n",
    "from keras import backend as K\n",
    "%matplotlib inline\n",
    "\n",
    "\n",
    "class ActorCritic:\n",
    "    \n",
    "    def __init__(self,num_states, num_actions):\n",
    "        self.num_states = num_states\n",
    "        self.num_actions = num_actions\n",
    "        self.actions = range(num_actions)\n",
    "        self.learning_rate = 0.001\n",
    "        \n",
    "        #These will store the samples from which the agent will learn\n",
    "        self.states = []\n",
    "        self.action_samples = []\n",
    "        self.rewards = []\n",
    "        \n",
    "        self.model = self._make_model()\n",
    "        self._make_train_function()\n",
    "\n",
    "        \n",
    "    def _make_model(self):\n",
    "        \n",
    "        # Neural Net for Deep-Q learning Model\n",
    "        model = Sequential()\n",
    "        model.add(Dense(24, input_dim=self.num_states, activation='relu'))\n",
    "        model.add(Dense(24, activation='relu'))\n",
    "        model.add(Dense(self.num_actions, activation='softmax'))\n",
    "        #model.compile(loss='mse',\n",
    "        #              optimizer=Adam(lr=self.learning_rate))\n",
    "        return model\n",
    "    \n",
    "    \n",
    "    def _make_train_function(self):\n",
    "        \"\"\"\n",
    "        Keras doesn't directly take a loss function (usually, input and labels)\n",
    "        So have to make my own. Have to use the keras functional API for this\n",
    "        \"\"\"\n",
    "        \n",
    "        #Inputs -- call these 'holders', to remember they are templates\n",
    "        state_holder = self.model.input\n",
    "        action_onehot_holder = K.placeholder(name='action_onehot',shape=(None,self.num_actions))\n",
    "        discounted_return_placeholder = K.placeholder(name='discounted_return',shape=(None,))\n",
    "        \n",
    "        #Loss\n",
    "        prob_placeholder = self.model.output  #output has the same structure, so copy it\n",
    "        action_prob = K.sum(prob_placeholder*action_onehot_placeholder,axis=1)\n",
    "        log_action_prob = K.log(action_prob)\n",
    "        loss_vec = -log_action_prob*discounted_return_placeholder\n",
    "        loss = K.mean(loss_vec)\n",
    "        \n",
    "        #Doing the 'training' -- get the updates, this is the way keras works\n",
    "        adam = optimizers.Adam()\n",
    "        pars = self.model.trainable_weights\n",
    "        updates = adam.get_updates(params=pars, loss=loss)\n",
    "                \n",
    "        #Defintion of function -- this takes the input and applies the \n",
    "        #updates; the syntax is weird!\n",
    "        self.train = K.function(inputs=[state_holder,action_onehot_placeholder,discounted_return_placeholder],\n",
    "                                outputs=[],updates = updates)\n",
    "\n",
    "    \n",
    "    def remember(self, state, action, reward):\n",
    "        self.states.append(state)\n",
    "        self.action_samples.append(action)\n",
    "        self.rewards.append(reward)\n",
    "        \n",
    "\n",
    "    def act(self, state):\n",
    "        \"\"\" Choose action according to softmax \"\"\"\n",
    "        \n",
    "        probs =  self.model.predict(state)[0]\n",
    "        action = np.random.choice(self.actions, p=probs)\n",
    "        return action\n",
    "    \n",
    "        \n",
    "\n",
    "    def learn(self):\n",
    "        \"\"\"\n",
    "        Does the policy gradient step\n",
    "        \"\"\"\n",
    "        \n",
    "        S = np.array(self.states)    #2D array, (num_samples,state_dim)\n",
    "        A = np.array(self.action_samples)   #1D array, (num_samples,)\n",
    "        R = np.array(self.rewards)   #1D array, (num_samples,)\n",
    "        \n",
    "        #Prepare data\n",
    "        A_onehot = to_categorical(A,agent.num_actions)\n",
    "        discount_return = self.compute_discount_return(R)\n",
    "        R_discounted = self.compute_discount_return(R)\n",
    "        \n",
    "        #Train\n",
    "        self.train([S,A_onehot,R_discounted])\n",
    "        \n",
    "        #Erase memory\n",
    "        self.states = []\n",
    "        self.action_samples = []\n",
    "        self.rewards = []\n",
    "        \n",
    "        \n",
    "        \n",
    "    def compute_discount_return(self,R):\n",
    "        \"\"\"\n",
    "        Input:\n",
    "        R = 1D array, list of rewards\n",
    "        \n",
    "        Output:\n",
    "        discouted R, 1D \n",
    "        \n",
    "        \"\"\"\n",
    "        R_discounted = np.zeros_like(R)\n",
    "        running_total = 0\n",
    "        for t in reversed(range(len(R_discounted))):\n",
    "            running_total = running_total*gamma + R[t]\n",
    "            R_discounted[t] = running_total\n",
    "        return R_discounted\n",
    "        \n",
    "\n",
    "    def load(self, name):\n",
    "        self.model.load_weights(name)\n",
    "\n",
    "    def save(self, name):\n",
    "        self.model.save_weights(name)"
   ]
  },
  {
   "cell_type": "markdown",
   "metadata": {},
   "source": [
    "### Main"
   ]
  },
  {
   "cell_type": "code",
   "execution_count": 244,
   "metadata": {},
   "outputs": [
    {
     "name": "stdout",
     "output_type": "stream",
     "text": [
      "\u001b[33mWARN: gym.spaces.Box autodetected dtype as <type 'numpy.float32'>. Please provide explicit dtype.\u001b[0m\n",
      "(episode, score) = (0, 4.0)\n",
      "(episode, score) = (50, 3.0)\n",
      "(episode, score) = (100, 16.0)\n",
      "(episode, score) = (150, 120.0)\n",
      "(episode, score) = (200, 142.0)\n",
      "(episode, score) = (250, 283.0)\n",
      "(episode, score) = (300, 354.0)\n",
      "(episode, score) = (350, 112.0)\n",
      "(episode, score) = (400, 107.0)\n",
      "(episode, score) = (450, 158.0)\n",
      "(episode, score) = (500, 102.0)\n",
      "(episode, score) = (550, 144.0)\n",
      "(episode, score) = (600, 255.0)\n",
      "(episode, score) = (650, 313.0)\n",
      "(episode, score) = (700, 489.0)\n",
      "(episode, score) = (750, 489.0)\n",
      "(episode, score) = (800, 183.0)\n",
      "(episode, score) = (850, 489.0)\n",
      "(episode, score) = (900, 489.0)\n",
      "(episode, score) = (950, 489.0)\n"
     ]
    }
   ],
   "source": [
    "import gym\n",
    "\n",
    "\n",
    "EPISODES = 1000\n",
    "\n",
    "env = gym.make('CartPole-v1')\n",
    "num_states = env.observation_space.shape[0]\n",
    "num_actions = env.action_space.n\n",
    "agent = PolicyAgent(num_states, num_actions)\n",
    "# agent.load(\"./save/cartpole-dqn.h5\")\n",
    "done = False\n",
    "\n",
    "scores = []\n",
    "\n",
    "for e in range(EPISODES):\n",
    "    state = env.reset()\n",
    "    state = np.reshape(state, [1, num_states])\n",
    "    reward_sum = 0\n",
    "    for time in range(500):\n",
    "        # env.render()\n",
    "        action = agent.act(state)\n",
    "        next_state, reward, done, _ = env.step(action)\n",
    "        reward = reward if not done else -10\n",
    "        reward_sum += reward\n",
    "        next_state = np.reshape(next_state, [1, num_states])\n",
    "        agent.remember(state[0], action, reward)\n",
    "        state = next_state\n",
    "        if done:\n",
    "            break\n",
    "    \n",
    "    #Learn & print results\n",
    "    agent.learn()\n",
    "    scores.append(reward_sum)\n",
    "    if e % 50 == 0:\n",
    "        print '(episode, score) = ' + str((e,reward_sum))"
   ]
  },
  {
   "cell_type": "markdown",
   "metadata": {},
   "source": [
    "Sweet, that's pretty good learning -- right? I should do a baseline comparison."
   ]
  },
  {
   "cell_type": "code",
   "execution_count": 237,
   "metadata": {},
   "outputs": [
    {
     "data": {
      "text/plain": [
       "[<matplotlib.lines.Line2D at 0x7f306c66d9d0>]"
      ]
     },
     "execution_count": 237,
     "metadata": {},
     "output_type": "execute_result"
    },
    {
     "data": {
      "image/png": "[encoded data removed]",
      "text/plain": [
       "<Figure size 432x288 with 1 Axes>"
      ]
     },
     "metadata": {},
     "output_type": "display_data"
    }
   ],
   "source": [
    "plt.plot(scores)"
   ]
  },
  {
   "cell_type": "markdown",
   "metadata": {},
   "source": [
    "So pretty unstable. But this is just vanilla policy gradient stuff."
   ]
  },
  {
   "cell_type": "markdown",
   "metadata": {},
   "source": [
    "### Roughwork\n",
    "\n",
    "From https://github.com/keon/policy-gradient/blob/master/pg.py"
   ]
  },
  {
   "cell_type": "code",
   "execution_count": 107,
   "metadata": {
    "collapsed": true
   },
   "outputs": [],
   "source": [
    "action = 0\n",
    "action_onehot = to_categorical(action,agent.num_actions)\n",
    "\n",
    "probs = agent.model.predict(state)\n",
    "action_prob = K.sum(probs*action_onehot,axis=1)\n",
    "log_action_prob = K.log(action_prob)"
   ]
  },
  {
   "cell_type": "code",
   "execution_count": 109,
   "metadata": {},
   "outputs": [
    {
     "data": {
      "text/plain": [
       "array([-0.6775597], dtype=float32)"
      ]
     },
     "execution_count": 109,
     "metadata": {},
     "output_type": "execute_result"
    }
   ],
   "source": [
    "log_action_prob.eval()"
   ]
  },
  {
   "cell_type": "markdown",
   "metadata": {
    "collapsed": true
   },
   "source": [
    "### Other environment"
   ]
  },
  {
   "cell_type": "code",
   "execution_count": 6,
   "metadata": {},
   "outputs": [
    {
     "name": "stdout",
     "output_type": "stream",
     "text": [
      "\u001b[33mWARN: gym.spaces.Box autodetected dtype as <type 'numpy.float32'>. Please provide explicit dtype.\u001b[0m\n"
     ]
    },
    {
     "ename": "NameError",
     "evalue": "name 'PolicyAgent' is not defined",
     "output_type": "error",
     "traceback": [
      "\u001b[0;31m---------------------------------------------------------------------------\u001b[0m",
      "\u001b[0;31mNameError\u001b[0m                                 Traceback (most recent call last)",
      "\u001b[0;32m<ipython-input-6-1524533015fa>\u001b[0m in \u001b[0;36m<module>\u001b[0;34m()\u001b[0m\n\u001b[1;32m      7\u001b[0m \u001b[0mnum_states\u001b[0m \u001b[0;34m=\u001b[0m \u001b[0menv\u001b[0m\u001b[0;34m.\u001b[0m\u001b[0mobservation_space\u001b[0m\u001b[0;34m.\u001b[0m\u001b[0mshape\u001b[0m\u001b[0;34m[\u001b[0m\u001b[0;36m0\u001b[0m\u001b[0;34m]\u001b[0m\u001b[0;34m\u001b[0m\u001b[0m\n\u001b[1;32m      8\u001b[0m \u001b[0mnum_actions\u001b[0m \u001b[0;34m=\u001b[0m \u001b[0menv\u001b[0m\u001b[0;34m.\u001b[0m\u001b[0maction_space\u001b[0m\u001b[0;34m.\u001b[0m\u001b[0mn\u001b[0m\u001b[0;34m\u001b[0m\u001b[0m\n\u001b[0;32m----> 9\u001b[0;31m \u001b[0magent\u001b[0m \u001b[0;34m=\u001b[0m \u001b[0mPolicyAgent\u001b[0m\u001b[0;34m(\u001b[0m\u001b[0mnum_states\u001b[0m\u001b[0;34m,\u001b[0m \u001b[0mnum_actions\u001b[0m\u001b[0;34m)\u001b[0m\u001b[0;34m\u001b[0m\u001b[0m\n\u001b[0m\u001b[1;32m     10\u001b[0m \u001b[0;31m# agent.load(\"./save/cartpole-dqn.h5\")\u001b[0m\u001b[0;34m\u001b[0m\u001b[0;34m\u001b[0m\u001b[0m\n\u001b[1;32m     11\u001b[0m \u001b[0mdone\u001b[0m \u001b[0;34m=\u001b[0m \u001b[0mFalse\u001b[0m\u001b[0;34m\u001b[0m\u001b[0m\n",
      "\u001b[0;31mNameError\u001b[0m: name 'PolicyAgent' is not defined"
     ]
    }
   ],
   "source": [
    "import gym\n",
    "\n",
    "\n",
    "EPISODES = 1000\n",
    "\n",
    "env = gym.make('MountainCar-v0')\n",
    "num_states = env.observation_space.shape[0]\n",
    "num_actions = env.action_space.n\n",
    "agent = PolicyAgent(num_states, num_actions)\n",
    "# agent.load(\"./save/cartpole-dqn.h5\")\n",
    "done = False\n",
    "\n",
    "scores = []\n",
    "\n",
    "for e in range(EPISODES):\n",
    "    state = env.reset()\n",
    "    state = np.reshape(state, [1, num_states])\n",
    "    reward_sum = 0\n",
    "    for time in range(500):\n",
    "        # env.render()\n",
    "        action = agent.act(state)\n",
    "        next_state, reward, done, _ = env.step(action)\n",
    "        reward = reward if not done else -10\n",
    "        reward_sum += reward\n",
    "        next_state = np.reshape(next_state, [1, num_states])\n",
    "        agent.remember(state[0], action, reward)\n",
    "        state = next_state\n",
    "        if done:\n",
    "            break\n",
    "    \n",
    "    #Learn & print results\n",
    "    agent.learn()\n",
    "    scores.append(reward_sum)\n",
    "    if e % 50 == 0:\n",
    "        print '(episode, score) = ' + str((e,reward_sum))"
   ]
  },
  {
   "cell_type": "code",
   "execution_count": 5,
   "metadata": {},
   "outputs": [
    {
     "data": {
      "text/plain": [
       "Box(1,)"
      ]
     },
     "execution_count": 5,
     "metadata": {},
     "output_type": "execute_result"
    }
   ],
   "source": [
    "env.action_space"
   ]
  },
  {
   "cell_type": "code",
   "execution_count": null,
   "metadata": {
    "collapsed": true
   },
   "outputs": [],
   "source": []
  }
 ],
 "metadata": {
  "kernelspec": {
   "display_name": "Python 2",
   "language": "python",
   "name": "python2"
  },
  "language_info": {
   "codemirror_mode": {
    "name": "ipython",
    "version": 2
   },
   "file_extension": ".py",
   "mimetype": "text/x-python",
   "name": "python",
   "nbconvert_exporter": "python",
   "pygments_lexer": "ipython2",
   "version": "2.7.14"
  }
 },
 "nbformat": 4,
 "nbformat_minor": 2
}
