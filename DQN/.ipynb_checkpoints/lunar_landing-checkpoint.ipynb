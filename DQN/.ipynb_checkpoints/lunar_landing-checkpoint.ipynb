{
 "cells": [
  {
   "cell_type": "markdown",
   "metadata": {},
   "source": [
    "### Introduction\n",
    "\n",
    "Here I'm testing a DQN on the lunar landing environment. I'm using \n",
    "\n",
    "1. Experience replay\n",
    "2. A target network.\n",
    "\n",
    "I update the target network every $C$ timesteps."
   ]
  },
  {
   "cell_type": "code",
   "execution_count": null,
   "metadata": {},
   "outputs": [
    {
     "name": "stderr",
     "output_type": "stream",
     "text": [
      "/home/kokeeffe/anaconda2/lib/python2.7/site-packages/h5py/__init__.py:34: FutureWarning: Conversion of the second argument of issubdtype from `float` to `np.floating` is deprecated. In future, it will be treated as `np.float64 == np.dtype(float).type`.\n",
      "  from ._conv import register_converters as _register_converters\n",
      "Using TensorFlow backend.\n"
     ]
    },
    {
     "name": "stdout",
     "output_type": "stream",
     "text": [
      "\u001b[33mWARN: gym.spaces.Box autodetected dtype as <type 'numpy.float32'>. Please provide explicit dtype.\u001b[0m\n",
      "(episode, score) = (50, -168.58561383231918)\n",
      "(episode, score) = (100, -116.77211795472316)\n",
      "(episode, score) = (150, -359.6249641787523)\n",
      "(episode, score) = (200, -173.49422601363773)\n",
      "(episode, score) = (250, -150.4842843904401)\n",
      "(episode, score) = (300, -245.7594000933272)\n",
      "(episode, score) = (350, -262.5435740658975)\n",
      "(episode, score) = (400, -176.10793701279613)\n",
      "(episode, score) = (450, -185.84825662432925)\n",
      "(episode, score) = (500, -160.55387919736097)\n",
      "(episode, score) = (550, -142.04657338273975)\n",
      "(episode, score) = (600, -202.92165043208155)\n",
      "(episode, score) = (650, -139.27986224695815)\n",
      "(episode, score) = (700, -346.02744225962056)\n",
      "(episode, score) = (750, -492.85309113446334)\n",
      "(episode, score) = (800, -321.3729580406914)\n",
      "(episode, score) = (850, -262.43039354948155)\n"
     ]
    }
   ],
   "source": [
    "import numpy as np\n",
    "import matplotlib.pyplot as plt\n",
    "import gym\n",
    "from agent import Agent\n",
    "from keras.utils import to_categorical\n",
    "%matplotlib inline\n",
    "\n",
    "\n",
    "#Environment\n",
    "env = gym.make('LunarLander-v2')\n",
    "env.seed(1)  # for comparison\n",
    "num_states = env.observation_space.shape[0]\n",
    "num_actions = env.action_space.n\n",
    "\n",
    "#Agent\n",
    "lr,gamma = 0.01, 0.99\n",
    "agent = Agent(num_states, num_actions, lr, gamma)\n",
    "agent.C = 5000  #update the target network every K timestesp\n",
    "agent.epsilon = 1.0\n",
    "decay_factor = 0.999\n",
    "epsilon_min = 0.05\n",
    "agent.memory_size = 10**5\n",
    "learning_start = 5000\n",
    "\n",
    "#Train\n",
    "EPISODES = 5000\n",
    "scores = []\n",
    "step = 0\n",
    "for e in range(1,EPISODES+1):\n",
    "    state = env.reset()\n",
    "    reward_sum = 0\n",
    "    done = False\n",
    "    while not done:\n",
    "        \n",
    "        # env.render()\n",
    "        state = np.reshape(state, [1, num_states])  #reshape for keras\n",
    "        action = agent.act(state)\n",
    "        next_state, reward, done, _ = env.step(action)\n",
    "        reward_sum += reward\n",
    "        agent.remember(state[0], action, reward, next_state, done)\n",
    "        state = next_state\n",
    "        \n",
    "        #learn\n",
    "        if len(agent.memory) > learning_start:\n",
    "            agent.replay()            #update the behavior model        \n",
    "            agent.soft_update_target_network()\n",
    "            \n",
    "        #iterate\n",
    "        step += 1\n",
    "        if done:\n",
    "            break\n",
    "    \n",
    "    #Learn & print results\n",
    "    agent.epsilon = max(agent.epsilon*decay_factor,epsilon_min)\n",
    "    scores.append(reward_sum)\n",
    "    if e % 50 == 0:\n",
    "        print '(episode, score) = ' + str((e,reward_sum))\n",
    "\n",
    "plt.plot(scores)\n",
    "np.savetxt('stats/scores_lunar_landing.txt',scores)"
   ]
  },
  {
   "cell_type": "markdown",
   "metadata": {},
   "source": [
    "Must compare to regular policy gradient\n",
    "\n",
    "\n",
    "### Compare to regular policy gradients"
   ]
  },
  {
   "cell_type": "code",
   "execution_count": null,
   "metadata": {},
   "outputs": [],
   "source": [
    "#I computed the scores for the regular policy gradient in the, well, 'policy-gradient' foldee ;P\n",
    "filename = '/home/kokeeffe/research/robocab/RL_practice/policy_gradients/stats/scores_lunar_landing.txt'\n",
    "scores_regular = np.loadtxt(filename)\n",
    "plt.plot(scores_regular)\n",
    "plt.plot(scores)\n",
    "plt.legend(['policy gradient','DQN'])"
   ]
  },
  {
   "cell_type": "markdown",
   "metadata": {},
   "source": [
    "Looks good -- there is indeed smaller variance."
   ]
  },
  {
   "cell_type": "markdown",
   "metadata": {},
   "source": [
    "### Watch a smart agent"
   ]
  },
  {
   "cell_type": "code",
   "execution_count": 10,
   "metadata": {},
   "outputs": [],
   "source": [
    "state = env.reset()\n",
    "state = np.reshape(state, [1, num_states])\n",
    "reward_sum = 0\n",
    "done = False\n",
    "while not done:\n",
    "    env.render()\n",
    "    action = agent.act(state)\n",
    "    next_state, reward, done, _ = env.step(action)\n",
    "    reward_sum += reward\n",
    "    next_state = np.reshape(next_state, [1, num_states])\n",
    "    #agent.remember(state[0], action, reward)\n",
    "    state = next_state\n",
    "env.close()"
   ]
  },
  {
   "cell_type": "markdown",
   "metadata": {},
   "source": [
    "### Roughwork"
   ]
  }
 ],
 "metadata": {
  "kernelspec": {
   "display_name": "Python 2",
   "language": "python",
   "name": "python2"
  },
  "language_info": {
   "codemirror_mode": {
    "name": "ipython",
    "version": 2
   },
   "file_extension": ".py",
   "mimetype": "text/x-python",
   "name": "python",
   "nbconvert_exporter": "python",
   "pygments_lexer": "ipython2",
   "version": "2.7.14"
  }
 },
 "nbformat": 4,
 "nbformat_minor": 2
}
