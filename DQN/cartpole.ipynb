{
 "cells": [
  {
   "cell_type": "markdown",
   "metadata": {},
   "source": [
    "# Introduction\n",
    "\n",
    "Here I'm testing a DQN on the lunar landing environment. I'm using \n",
    "\n",
    "1. Experience replay\n",
    "2. A target network.\n",
    "\n",
    "I update the target network using soft updates\n",
    "\n",
    "\n",
    "### Train"
   ]
  },
  {
   "cell_type": "code",
   "execution_count": null,
   "metadata": {},
   "outputs": [
    {
     "name": "stdout",
     "output_type": "stream",
     "text": [
      "\u001b[33mWARN: gym.spaces.Box autodetected dtype as <type 'numpy.float32'>. Please provide explicit dtype.\u001b[0m\n",
      "(episode, score) = (50, 36.0)\n",
      "(episode, score) = (100, 200.0)\n",
      "(episode, score) = (150, 200.0)\n",
      "(episode, score) = (200, 200.0)\n",
      "(episode, score) = (250, 200.0)\n",
      "(episode, score) = (300, 200.0)\n",
      "(episode, score) = (350, 200.0)\n",
      "(episode, score) = (400, 171.0)\n"
     ]
    }
   ],
   "source": [
    "import numpy as np\n",
    "import matplotlib.pyplot as plt\n",
    "import gym\n",
    "#from agent_vanilla import Agent\n",
    "from agent import Agent\n",
    "from keras.utils import to_categorical\n",
    "%matplotlib inline\n",
    "\n",
    "\n",
    "#Environment\n",
    "env = gym.make('CartPole-v0')\n",
    "env.seed(1)  # for comparison\n",
    "num_states = env.observation_space.shape[0]\n",
    "num_actions = env.action_space.n\n",
    "\n",
    "#Agent\n",
    "lr,gamma = 0.001, 0.99\n",
    "agent = Agent(num_states, num_actions, lr, gamma)\n",
    "agent.C = 1000  #update the target network every K timestesp\n",
    "agent.epsilon = 0.5\n",
    "agent.tau = 0.1\n",
    "decay_factor = 0.99\n",
    "epsilon_min = 0.01\n",
    "learning_start = 500\n",
    "\n",
    "\n",
    "#Train\n",
    "EPISODES = 5000\n",
    "scores = []\n",
    "step = 0\n",
    "for e in range(1,EPISODES+1):\n",
    "    state = env.reset()\n",
    "    reward_sum = 0\n",
    "    done = False\n",
    "    while not done:\n",
    "        \n",
    "        # env.render()\n",
    "        state = np.reshape(state, [1, num_states])  #reshape for keras\n",
    "        action = agent.act(state)\n",
    "        next_state, reward, done, _ = env.step(action)\n",
    "        reward_sum += reward\n",
    "        agent.remember(state[0], action, reward, next_state, done)\n",
    "        state = next_state\n",
    "        \n",
    "        if len(agent.memory) > learning_start:\n",
    "            agent.replay()                       #update the behavior model\n",
    "            agent.soft_update_target_network()   #update the target model every C timesteps\n",
    "\n",
    "        #iterate\n",
    "        step += 1\n",
    "        if done:\n",
    "            break\n",
    "    \n",
    "    #Learn & print results\n",
    "    scores.append(reward_sum)\n",
    "    agent.epsilon = max(agent.epsilon*decay_factor,epsilon_min)\n",
    "    if e % 50 == 0:\n",
    "        print '(episode, score) = ' + str((e,reward_sum))\n",
    "\n",
    "plt.plot(scores)\n",
    "np.savetxt('stats/scores_cartpole.txt',scores)"
   ]
  },
  {
   "cell_type": "markdown",
   "metadata": {},
   "source": [
    "### Compare to  policy gradients"
   ]
  },
  {
   "cell_type": "code",
   "execution_count": null,
   "metadata": {},
   "outputs": [],
   "source": [
    "filename = '/home/kokeeffe/research/robocab/RL_practice/policy_gradients/stats/scores_cartpole.txt'\n",
    "scores_PG = np.loadtxt(filename)\n",
    "plt.plot(scores_PG)\n",
    "plt.plot(scores)\n",
    "plt.legend(['policy gradient','DQN'])"
   ]
  },
  {
   "cell_type": "markdown",
   "metadata": {},
   "source": [
    "The max score is 200. So, it has solved it. But how stable / reproducible is it?"
   ]
  },
  {
   "cell_type": "markdown",
   "metadata": {},
   "source": [
    "### Watch a smart agent"
   ]
  },
  {
   "cell_type": "code",
   "execution_count": 6,
   "metadata": {
    "collapsed": true
   },
   "outputs": [],
   "source": [
    "state = env.reset()\n",
    "state = np.reshape(state, [1, num_states])\n",
    "reward_sum = 0\n",
    "done = False\n",
    "while not done:\n",
    "    env.render()\n",
    "    action = agent.act(state)\n",
    "    next_state, reward, done, _ = env.step(action)\n",
    "    reward_sum += reward\n",
    "    next_state = np.reshape(next_state, [1, num_states])\n",
    "    state = next_state\n",
    "env.close()"
   ]
  },
  {
   "cell_type": "markdown",
   "metadata": {},
   "source": [
    "### Reproduce "
   ]
  },
  {
   "cell_type": "code",
   "execution_count": 2,
   "metadata": {},
   "outputs": [
    {
     "name": "stdout",
     "output_type": "stream",
     "text": [
      "\u001b[33mWARN: gym.spaces.Box autodetected dtype as <type 'numpy.float32'>. Please provide explicit dtype.\u001b[0m\n",
      "(episode, score) = (50, 12.0)\n",
      "(episode, score) = (100, 200.0)\n",
      "(episode, score) = (150, 200.0)\n",
      "(episode, score) = (200, 200.0)\n",
      "(episode, score) = (250, 184.0)\n",
      "(episode, score) = (300, 167.0)\n",
      "(episode, score) = (350, 144.0)\n",
      "(episode, score) = (400, 111.0)\n",
      "(episode, score) = (450, 114.0)\n",
      "(episode, score) = (500, 116.0)\n"
     ]
    },
    {
     "data": {
      "image/png": "[encoded data removed]",
      "text/plain": [
       "<Figure size 432x288 with 1 Axes>"
      ]
     },
     "metadata": {},
     "output_type": "display_data"
    }
   ],
   "source": [
    "import numpy as np\n",
    "import matplotlib.pyplot as plt\n",
    "import gym\n",
    "#from agent_vanilla import Agent\n",
    "from agent import Agent\n",
    "from keras.utils import to_categorical\n",
    "%matplotlib inline\n",
    "\n",
    "\n",
    "#Environment\n",
    "env = gym.make('CartPole-v0')\n",
    "env.seed(1)  # for comparison\n",
    "num_states = env.observation_space.shape[0]\n",
    "num_actions = env.action_space.n\n",
    "\n",
    "#Agent\n",
    "lr,gamma = 0.001, 0.99\n",
    "agent = Agent(num_states, num_actions, lr, gamma)\n",
    "agent.C = 1000  #update the target network every K timestesp\n",
    "agent.epsilon = 0.5\n",
    "agent.tau = 0.1\n",
    "decay_factor = 0.99\n",
    "epsilon_min = 0.01\n",
    "learning_start = 500\n",
    "\n",
    "\n",
    "#Train\n",
    "EPISODES = 500\n",
    "scores = []\n",
    "step = 0\n",
    "for e in range(1,EPISODES+1):\n",
    "    state = env.reset()\n",
    "    reward_sum = 0\n",
    "    done = False\n",
    "    while not done:\n",
    "        \n",
    "        # env.render()\n",
    "        state = np.reshape(state, [1, num_states])  #reshape for keras\n",
    "        action = agent.act(state)\n",
    "        next_state, reward, done, _ = env.step(action)\n",
    "        reward_sum += reward\n",
    "        agent.remember(state[0], action, reward, next_state, done)\n",
    "        state = next_state\n",
    "        \n",
    "        if len(agent.memory) > learning_start:\n",
    "            agent.replay()                       #update the behavior model\n",
    "            agent.soft_update_target_network()   #update the target model every C timesteps\n",
    "\n",
    "        #iterate\n",
    "        step += 1\n",
    "        if done:\n",
    "            break\n",
    "    \n",
    "    #Learn & print results\n",
    "    scores.append(reward_sum)\n",
    "    agent.epsilon = max(agent.epsilon*decay_factor,epsilon_min)\n",
    "    if e % 50 == 0:\n",
    "        print '(episode, score) = ' + str((e,reward_sum))\n",
    "\n",
    "plt.plot(scores)\n",
    "np.savetxt('stats/scores_cartpole.txt',scores)"
   ]
  },
  {
   "cell_type": "markdown",
   "metadata": {},
   "source": [
    "Ok, it's not PERFECTLY the same. But still pretty good."
   ]
  },
  {
   "cell_type": "code",
   "execution_count": null,
   "metadata": {
    "collapsed": true
   },
   "outputs": [],
   "source": []
  }
 ],
 "metadata": {
  "kernelspec": {
   "display_name": "Python 2",
   "language": "python",
   "name": "python2"
  },
  "language_info": {
   "codemirror_mode": {
    "name": "ipython",
    "version": 2
   },
   "file_extension": ".py",
   "mimetype": "text/x-python",
   "name": "python",
   "nbconvert_exporter": "python",
   "pygments_lexer": "ipython2",
   "version": "2.7.14"
  }
 },
 "nbformat": 4,
 "nbformat_minor": 2
}
