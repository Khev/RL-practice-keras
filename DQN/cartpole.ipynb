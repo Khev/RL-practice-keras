{
 "cells": [
  {
   "cell_type": "markdown",
   "metadata": {},
   "source": [
    "# Introduction\n",
    "\n",
    "Here I'm testing a DQN on the lunar landing environment. I'm using \n",
    "\n",
    "1. Experience replay\n",
    "2. A target network.\n",
    "\n",
    "I update the target network every $C$ timesteps.\n",
    "\n",
    "\n",
    "### Train"
   ]
  },
  {
   "cell_type": "code",
   "execution_count": 4,
   "metadata": {},
   "outputs": [
    {
     "name": "stdout",
     "output_type": "stream",
     "text": [
      "\u001b[33mWARN: gym.spaces.Box autodetected dtype as <type 'numpy.float32'>. Please provide explicit dtype.\u001b[0m\n",
      "(episode, score) = (50, 12.0)\n",
      "(episode, score) = (100, 200.0)\n",
      "(episode, score) = (150, 200.0)\n",
      "(episode, score) = (200, 175.0)\n",
      "(episode, score) = (250, 200.0)\n",
      "(episode, score) = (300, 200.0)\n",
      "(episode, score) = (350, 200.0)\n",
      "(episode, score) = (400, 200.0)\n",
      "(episode, score) = (450, 200.0)\n",
      "(episode, score) = (500, 200.0)\n",
      "(episode, score) = (550, 200.0)\n",
      "(episode, score) = (600, 200.0)\n",
      "(episode, score) = (650, 200.0)\n",
      "(episode, score) = (700, 200.0)\n",
      "(episode, score) = (750, 200.0)\n",
      "(episode, score) = (800, 200.0)\n",
      "(episode, score) = (850, 200.0)\n",
      "(episode, score) = (900, 200.0)\n",
      "(episode, score) = (950, 200.0)\n",
      "(episode, score) = (1000, 200.0)\n",
      "(episode, score) = (1050, 200.0)\n",
      "(episode, score) = (1100, 200.0)\n",
      "(episode, score) = (1150, 200.0)\n",
      "(episode, score) = (1200, 200.0)\n",
      "(episode, score) = (1250, 200.0)\n",
      "(episode, score) = (1300, 200.0)\n",
      "(episode, score) = (1350, 200.0)\n",
      "(episode, score) = (1400, 200.0)\n",
      "(episode, score) = (1450, 200.0)\n",
      "(episode, score) = (1500, 200.0)\n",
      "(episode, score) = (1550, 200.0)\n",
      "(episode, score) = (1600, 200.0)\n",
      "(episode, score) = (1650, 200.0)\n",
      "(episode, score) = (1700, 200.0)\n",
      "(episode, score) = (1750, 200.0)\n",
      "(episode, score) = (1800, 200.0)\n",
      "(episode, score) = (1850, 200.0)\n",
      "(episode, score) = (1900, 200.0)\n",
      "(episode, score) = (1950, 200.0)\n",
      "(episode, score) = (2000, 200.0)\n",
      "(episode, score) = (2050, 200.0)\n",
      "(episode, score) = (2100, 200.0)\n",
      "(episode, score) = (2150, 200.0)\n",
      "(episode, score) = (2200, 200.0)\n",
      "(episode, score) = (2250, 200.0)\n",
      "(episode, score) = (2300, 200.0)\n",
      "(episode, score) = (2350, 200.0)\n",
      "(episode, score) = (2400, 200.0)\n",
      "(episode, score) = (2450, 200.0)\n",
      "(episode, score) = (2500, 200.0)\n",
      "(episode, score) = (2550, 200.0)\n",
      "(episode, score) = (2600, 200.0)\n",
      "(episode, score) = (2650, 200.0)\n",
      "(episode, score) = (2700, 200.0)\n",
      "(episode, score) = (2750, 200.0)\n",
      "(episode, score) = (2800, 200.0)\n",
      "(episode, score) = (2850, 200.0)\n",
      "(episode, score) = (2900, 200.0)\n",
      "(episode, score) = (2950, 200.0)\n",
      "(episode, score) = (3000, 200.0)\n",
      "(episode, score) = (3050, 200.0)\n",
      "(episode, score) = (3100, 200.0)\n",
      "(episode, score) = (3150, 200.0)\n",
      "(episode, score) = (3200, 200.0)\n",
      "(episode, score) = (3250, 200.0)\n",
      "(episode, score) = (3300, 200.0)\n",
      "(episode, score) = (3350, 200.0)\n",
      "(episode, score) = (3400, 200.0)\n",
      "(episode, score) = (3450, 200.0)\n",
      "(episode, score) = (3500, 200.0)\n",
      "(episode, score) = (3550, 200.0)\n",
      "(episode, score) = (3600, 200.0)\n",
      "(episode, score) = (3650, 200.0)\n",
      "(episode, score) = (3700, 200.0)\n",
      "(episode, score) = (3750, 200.0)\n",
      "(episode, score) = (3800, 200.0)\n",
      "(episode, score) = (3850, 200.0)\n",
      "(episode, score) = (3900, 200.0)\n",
      "(episode, score) = (3950, 200.0)\n",
      "(episode, score) = (4000, 200.0)\n",
      "(episode, score) = (4050, 200.0)\n",
      "(episode, score) = (4100, 200.0)\n",
      "(episode, score) = (4150, 200.0)\n",
      "(episode, score) = (4200, 200.0)\n",
      "(episode, score) = (4250, 200.0)\n",
      "(episode, score) = (4300, 200.0)\n",
      "(episode, score) = (4350, 200.0)\n",
      "(episode, score) = (4400, 200.0)\n",
      "(episode, score) = (4450, 200.0)\n",
      "(episode, score) = (4500, 200.0)\n",
      "(episode, score) = (4550, 200.0)\n",
      "(episode, score) = (4600, 200.0)\n",
      "(episode, score) = (4650, 200.0)\n",
      "(episode, score) = (4700, 200.0)\n",
      "(episode, score) = (4750, 200.0)\n",
      "(episode, score) = (4800, 200.0)\n",
      "(episode, score) = (4850, 200.0)\n",
      "(episode, score) = (4900, 200.0)\n",
      "(episode, score) = (4950, 200.0)\n",
      "(episode, score) = (5000, 200.0)\n"
     ]
    },
    {
     "data": {
      "image/png": "[encoded data removed]",
      "text/plain": [
       "<Figure size 432x288 with 1 Axes>"
      ]
     },
     "metadata": {},
     "output_type": "display_data"
    }
   ],
   "source": [
    "import numpy as np\n",
    "import matplotlib.pyplot as plt\n",
    "import gym\n",
    "#from agent_vanilla import Agent\n",
    "from agent import Agent\n",
    "from keras.utils import to_categorical\n",
    "%matplotlib inline\n",
    "\n",
    "\n",
    "#Environment\n",
    "env = gym.make('CartPole-v0')\n",
    "env.seed(1)  # for comparison\n",
    "num_states = env.observation_space.shape[0]\n",
    "num_actions = env.action_space.n\n",
    "\n",
    "#Agent\n",
    "lr,gamma = 0.001, 0.99\n",
    "agent = Agent(num_states, num_actions, lr, gamma)\n",
    "agent.C = 1000  #update the target network every K timestesp\n",
    "agent.epsilon = 0.5\n",
    "agent.tau = 0.1\n",
    "decay_factor = 0.99\n",
    "epsilon_min = 0.01\n",
    "learning_start = 500\n",
    "\n",
    "\n",
    "#Train\n",
    "EPISODES = 5000\n",
    "scores = []\n",
    "step = 0\n",
    "for e in range(1,EPISODES+1):\n",
    "    state = env.reset()\n",
    "    reward_sum = 0\n",
    "    done = False\n",
    "    while not done:\n",
    "        \n",
    "        # env.render()\n",
    "        state = np.reshape(state, [1, num_states])  #reshape for keras\n",
    "        action = agent.act(state)\n",
    "        next_state, reward, done, _ = env.step(action)\n",
    "        reward_sum += reward\n",
    "        agent.remember(state[0], action, reward, next_state, done)\n",
    "        state = next_state\n",
    "        \n",
    "        if len(agent.memory) > learning_start:\n",
    "            agent.replay()                       #update the behavior model\n",
    "            agent.soft_update_target_network()   #update the target model every C timesteps\n",
    "\n",
    "        #iterate\n",
    "        step += 1\n",
    "        if done:\n",
    "            break\n",
    "    \n",
    "    #Learn & print results\n",
    "    scores.append(reward_sum)\n",
    "    agent.epsilon = max(agent.epsilon*decay_factor,epsilon_min)\n",
    "    if e % 50 == 0:\n",
    "        print '(episode, score) = ' + str((e,reward_sum))\n",
    "\n",
    "plt.plot(scores)\n",
    "np.savetxt('stats/scores_cartpole.txt',scores)"
   ]
  },
  {
   "cell_type": "markdown",
   "metadata": {},
   "source": [
    "### Compare to  policy gradients"
   ]
  },
  {
   "cell_type": "code",
   "execution_count": 5,
   "metadata": {},
   "outputs": [
    {
     "data": {
      "text/plain": [
       "<matplotlib.legend.Legend at 0x7fe35073f390>"
      ]
     },
     "execution_count": 5,
     "metadata": {},
     "output_type": "execute_result"
    },
    {
     "data": {
      "image/png": "[encoded data removed]",
      "text/plain": [
       "<Figure size 432x288 with 1 Axes>"
      ]
     },
     "metadata": {},
     "output_type": "display_data"
    }
   ],
   "source": [
    "filename = '/home/kokeeffe/research/robocab/RL_practice/policy_gradients/stats/scores_cartpole.txt'\n",
    "scores_PG = np.loadtxt(filename)\n",
    "plt.plot(scores_PG)\n",
    "plt.plot(scores)\n",
    "plt.legend(['policy gradient','DQN'])"
   ]
  },
  {
   "cell_type": "markdown",
   "metadata": {},
   "source": [
    "The max score is 200. So, it has solved it. But how stable / reproducible is it?"
   ]
  },
  {
   "cell_type": "markdown",
   "metadata": {},
   "source": [
    "### Watch a smart agent"
   ]
  },
  {
   "cell_type": "code",
   "execution_count": 6,
   "metadata": {
    "collapsed": true
   },
   "outputs": [],
   "source": [
    "state = env.reset()\n",
    "state = np.reshape(state, [1, num_states])\n",
    "reward_sum = 0\n",
    "done = False\n",
    "while not done:\n",
    "    env.render()\n",
    "    action = agent.act(state)\n",
    "    next_state, reward, done, _ = env.step(action)\n",
    "    reward_sum += reward\n",
    "    next_state = np.reshape(next_state, [1, num_states])\n",
    "    state = next_state\n",
    "env.close()"
   ]
  },
  {
   "cell_type": "markdown",
   "metadata": {},
   "source": [
    "### Reproduce "
   ]
  },
  {
   "cell_type": "code",
   "execution_count": 2,
   "metadata": {},
   "outputs": [
    {
     "name": "stdout",
     "output_type": "stream",
     "text": [
      "\u001b[33mWARN: gym.spaces.Box autodetected dtype as <type 'numpy.float32'>. Please provide explicit dtype.\u001b[0m\n",
      "(episode, score) = (50, 12.0)\n",
      "(episode, score) = (100, 200.0)\n",
      "(episode, score) = (150, 200.0)\n",
      "(episode, score) = (200, 200.0)\n",
      "(episode, score) = (250, 184.0)\n",
      "(episode, score) = (300, 167.0)\n",
      "(episode, score) = (350, 144.0)\n",
      "(episode, score) = (400, 111.0)\n",
      "(episode, score) = (450, 114.0)\n",
      "(episode, score) = (500, 116.0)\n"
     ]
    },
    {
     "data": {
      "image/png": "[encoded data removed]",
      "text/plain": [
       "<Figure size 432x288 with 1 Axes>"
      ]
     },
     "metadata": {},
     "output_type": "display_data"
    }
   ],
   "source": [
    "import numpy as np\n",
    "import matplotlib.pyplot as plt\n",
    "import gym\n",
    "#from agent_vanilla import Agent\n",
    "from agent import Agent\n",
    "from keras.utils import to_categorical\n",
    "%matplotlib inline\n",
    "\n",
    "\n",
    "#Environment\n",
    "env = gym.make('CartPole-v0')\n",
    "env.seed(1)  # for comparison\n",
    "num_states = env.observation_space.shape[0]\n",
    "num_actions = env.action_space.n\n",
    "\n",
    "#Agent\n",
    "lr,gamma = 0.001, 0.99\n",
    "agent = Agent(num_states, num_actions, lr, gamma)\n",
    "agent.C = 1000  #update the target network every K timestesp\n",
    "agent.epsilon = 0.5\n",
    "agent.tau = 0.1\n",
    "decay_factor = 0.99\n",
    "epsilon_min = 0.01\n",
    "learning_start = 500\n",
    "\n",
    "\n",
    "#Train\n",
    "EPISODES = 500\n",
    "scores = []\n",
    "step = 0\n",
    "for e in range(1,EPISODES+1):\n",
    "    state = env.reset()\n",
    "    reward_sum = 0\n",
    "    done = False\n",
    "    while not done:\n",
    "        \n",
    "        # env.render()\n",
    "        state = np.reshape(state, [1, num_states])  #reshape for keras\n",
    "        action = agent.act(state)\n",
    "        next_state, reward, done, _ = env.step(action)\n",
    "        reward_sum += reward\n",
    "        agent.remember(state[0], action, reward, next_state, done)\n",
    "        state = next_state\n",
    "        \n",
    "        if len(agent.memory) > learning_start:\n",
    "            agent.replay()                       #update the behavior model\n",
    "            agent.soft_update_target_network()   #update the target model every C timesteps\n",
    "\n",
    "        #iterate\n",
    "        step += 1\n",
    "        if done:\n",
    "            break\n",
    "    \n",
    "    #Learn & print results\n",
    "    scores.append(reward_sum)\n",
    "    agent.epsilon = max(agent.epsilon*decay_factor,epsilon_min)\n",
    "    if e % 50 == 0:\n",
    "        print '(episode, score) = ' + str((e,reward_sum))\n",
    "\n",
    "plt.plot(scores)\n",
    "np.savetxt('stats/scores_cartpole.txt',scores)"
   ]
  },
  {
   "cell_type": "markdown",
   "metadata": {},
   "source": [
    "Ok, it's not PERFECTLY the same. But still pretty good."
   ]
  },
  {
   "cell_type": "code",
   "execution_count": null,
   "metadata": {
    "collapsed": true
   },
   "outputs": [],
   "source": []
  }
 ],
 "metadata": {
  "kernelspec": {
   "display_name": "Python 2",
   "language": "python",
   "name": "python2"
  },
  "language_info": {
   "codemirror_mode": {
    "name": "ipython",
    "version": 2
   },
   "file_extension": ".py",
   "mimetype": "text/x-python",
   "name": "python",
   "nbconvert_exporter": "python",
   "pygments_lexer": "ipython2",
   "version": "2.7.14"
  }
 },
 "nbformat": 4,
 "nbformat_minor": 2
}
