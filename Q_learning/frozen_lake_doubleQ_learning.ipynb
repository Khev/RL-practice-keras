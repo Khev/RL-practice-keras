{
 "cells": [
  {
   "cell_type": "markdown",
   "metadata": {},
   "source": [
    "# Introduction\n",
    "\n",
    "Here I'm implementing double Q learning \n",
    "\n",
    "https://medium.com/emergent-future/simple-reinforcement-learning-with-tensorflow-part-0-q-learning-with-tables-and-neural-networks-d195264329d0\n",
    "\n",
    "\n",
    "### Setup"
   ]
  },
  {
   "cell_type": "code",
   "execution_count": 90,
   "metadata": {},
   "outputs": [],
   "source": [
    "import random\n",
    "import gym\n",
    "import numpy as np\n",
    "import matplotlib.pyplot as plt\n",
    "from collections import deque\n",
    "%matplotlib inline\n",
    "\n",
    "\n",
    "class doubleQagent:\n",
    "    def __init__(self, num_states, num_actions):\n",
    "        \n",
    "        self.num_states = num_states\n",
    "        self.num_actions = num_actions\n",
    "        self.gamma = 0.95    # discount rate\n",
    "        self.epsilon = 1.0  # exploration rate\n",
    "        self.epsilon_min = 0.01\n",
    "        self.epsilon_decay = 0.995\n",
    "        self.Q = self._makeQtable()\n",
    "        self.QA = self._makeQtable()\n",
    "        self.QB = self._makeQtable()\n",
    "        self.epsilon_decay = 0.99\n",
    "\n",
    "        \n",
    "    def _makeQtable(self):\n",
    "        table = np.zeros((self.num_states, self.num_actions))\n",
    "        return table\n",
    "\n",
    "\n",
    "    def act_doubleQ(self, state):\n",
    "        \n",
    "        #Epsilon greedy\n",
    "        if np.random.rand() <= self.epsilon:\n",
    "            return random.randrange(self.num_actions)\n",
    "        else:\n",
    "            QAs = self.QA[state]\n",
    "            QBs = self.QB[state]\n",
    "            Qs_average = 0.5*( QAs + QBs )\n",
    "            action = np.argmax(Qs_average)\n",
    "            return action\n",
    "        \n",
    "        \n",
    "    def act(self,state):\n",
    "        \n",
    "        #Epsilon greedy\n",
    "        if np.random.rand() <= self.epsilon:\n",
    "            return random.randrange(self.num_actions)\n",
    "        else:\n",
    "            Qs = self.Q[state]\n",
    "            action = np.argmax(Qs)\n",
    "            return action  \n",
    "        \n",
    "        \n",
    "    def learn(self,state,action,reward,next_state):\n",
    "        \n",
    "        #Update Q table\n",
    "        Q_next = self.Q[next_state]\n",
    "        update = reward + self.gamma*max(Q_next) - self.Q[state,action]\n",
    "        self.Q[state,action] = self.Q[state,action] + self.alpha*update\n",
    "\n",
    "        \n",
    "    def learn_doubleQ(self,state,action,reward,next_state):\n",
    "\n",
    "        #Decide to update either A or B\n",
    "        choice = np.random.choice([0,1])  #0 = A, 1 = B\n",
    "        if choice == 0:\n",
    "            a_star = np.argmax(self.QA[next_state])\n",
    "            update = reward + self.gamma*self.QB[next_state,a_star] - self.QA[state,action]\n",
    "            self.QA[state,action] = self.QA[state,action] + self.alpha*update\n",
    "        else:\n",
    "            b_star = np.argmax(self.QB[next_state])\n",
    "            update = reward + self.gamma*self.QA[next_state,b_star] - self.QB[state,action]\n",
    "            self.QB[state,action] = self.QB[state,action] + self.alpha*update  "
   ]
  },
  {
   "cell_type": "markdown",
   "metadata": {},
   "source": [
    "### Double Q agent"
   ]
  },
  {
   "cell_type": "code",
   "execution_count": 105,
   "metadata": {},
   "outputs": [
    {
     "name": "stdout",
     "output_type": "stream",
     "text": [
      "Score over time: 0.06625\n"
     ]
    }
   ],
   "source": [
    "#Environment\n",
    "env = gym.make('FrozenLake-v0')\n",
    "env.reset()\n",
    "num_states = env.observation_space.n\n",
    "num_actions = env.action_space.n  \n",
    "reward_list = []\n",
    "\n",
    "\n",
    "#Agent\n",
    "num_episodes = 10**5\n",
    "agent = doubleQagent(num_states, num_actions)\n",
    "agent.gamma = 0.95\n",
    "agent.alpha = 0.8\n",
    "agent.epsilon = 0.5\n",
    "agent.epsilon_decay = 0.99\n",
    "agent.epsilon_min = 0.05\n",
    "\n",
    "rList = []\n",
    "for i in range(num_episodes):\n",
    "    \n",
    "    #Reset environment and get first new observation\n",
    "    state = env.reset()\n",
    "    total_reward = 0\n",
    "    done = False\n",
    "    step = 0\n",
    "    \n",
    "    #The Q-Table learning algorithm\n",
    "    while step < 99:\n",
    "        step+=1\n",
    "        action = agent.act_doubleQ(state)\n",
    "        next_state,reward,done,_ = env.step(action)\n",
    "        agent.learn_doubleQ(state,action,reward,next_state)\n",
    "        total_reward += reward\n",
    "        state = next_state\n",
    "        if done == True:\n",
    "            break\n",
    "    rList.append(total_reward)\n",
    "    #Freeze the greed\n",
    "    if agent.epsilon > agent.epsilon_min:\n",
    "        agent.epsilon *= agent.epsilon_decay\n",
    "\n",
    "print \"Score over time: \" +  str(sum(rList) / num_episodes)"
   ]
  },
  {
   "cell_type": "code",
   "execution_count": 114,
   "metadata": {},
   "outputs": [
    {
     "data": {
      "text/plain": [
       "[<matplotlib.lines.Line2D at 0x7f670d1d8750>]"
      ]
     },
     "execution_count": 114,
     "metadata": {},
     "output_type": "execute_result"
    },
    {
     "data": {
      "image/png": "[encoded data removed]",
      "text/plain": [
       "<Figure size 432x288 with 1 Axes>"
      ]
     },
     "metadata": {},
     "output_type": "display_data"
    }
   ],
   "source": [
    "x,N = rList, 500\n",
    "plt.plot(np.convolve(x, np.ones((N,)), mode='valid'))"
   ]
  },
  {
   "cell_type": "code",
   "execution_count": 107,
   "metadata": {},
   "outputs": [
    {
     "ename": "NameError",
     "evalue": "name 'R' is not defined",
     "output_type": "error",
     "traceback": [
      "\u001b[0;31m---------------------------------------------------------------------------\u001b[0m",
      "\u001b[0;31mNameError\u001b[0m                                 Traceback (most recent call last)",
      "\u001b[0;32m<ipython-input-107-a9744e313432>\u001b[0m in \u001b[0;36m<module>\u001b[0;34m()\u001b[0m\n\u001b[0;32m----> 1\u001b[0;31m \u001b[0mplt\u001b[0m\u001b[0;34m.\u001b[0m\u001b[0mplot\u001b[0m\u001b[0;34m(\u001b[0m\u001b[0mR\u001b[0m\u001b[0;34m)\u001b[0m\u001b[0;34m\u001b[0m\u001b[0m\n\u001b[0m",
      "\u001b[0;31mNameError\u001b[0m: name 'R' is not defined"
     ]
    }
   ],
   "source": []
  },
  {
   "cell_type": "markdown",
   "metadata": {},
   "source": [
    "### Single agent"
   ]
  },
  {
   "cell_type": "code",
   "execution_count": 115,
   "metadata": {},
   "outputs": [
    {
     "name": "stdout",
     "output_type": "stream",
     "text": [
      "Score over time: 0.29168\n"
     ]
    }
   ],
   "source": [
    "#Environment\n",
    "env = gym.make('FrozenLake-v0')\n",
    "env.reset()\n",
    "num_states = env.observation_space.n\n",
    "num_actions = env.action_space.n  \n",
    "reward_list = []\n",
    "\n",
    "\n",
    "#Agent\n",
    "num_episodes = 50000\n",
    "agent = doubleQagent(num_states, num_actions)\n",
    "agent.gamma = 0.95\n",
    "agent.alpha = 0.8\n",
    "agent.epsilon = 0.5\n",
    "agent.epsilon_decay = 0.9999\n",
    "\n",
    "rList = []\n",
    "for i in range(num_episodes):\n",
    "    #Reset environment and get first new observation\n",
    "    state = env.reset()\n",
    "    total_reward = 0\n",
    "    done = False\n",
    "    step = 0\n",
    "    #The Q-Table learning algorithm\n",
    "    while step < 99:\n",
    "        step+=1\n",
    "        action = agent.act(state)\n",
    "        next_state,reward,done,_ = env.step(action)\n",
    "        agent.learn(state,action,reward,next_state)\n",
    "        total_reward += reward\n",
    "        state = next_state\n",
    "        if done == True:\n",
    "            break\n",
    "    rList.append(total_reward)\n",
    "    #Freeze the greed\n",
    "    if agent.epsilon > agent.epsilon_min:\n",
    "        agent.epsilon *= agent.epsilon_decay\n",
    "\n",
    "print \"Score over time: \" +  str(sum(rList)/num_episodes)"
   ]
  },
  {
   "cell_type": "code",
   "execution_count": 116,
   "metadata": {},
   "outputs": [
    {
     "data": {
      "text/plain": [
       "[<matplotlib.lines.Line2D at 0x7f670d14b610>]"
      ]
     },
     "execution_count": 116,
     "metadata": {},
     "output_type": "execute_result"
    },
    {
     "data": {
      "image/png": "[encoded data removed]",
      "text/plain": [
       "<Figure size 432x288 with 1 Axes>"
      ]
     },
     "metadata": {},
     "output_type": "display_data"
    }
   ],
   "source": [
    "x,N = rList, 500\n",
    "plt.plot(np.convolve(x, np.ones((N,)), mode='valid'))"
   ]
  },
  {
   "cell_type": "markdown",
   "metadata": {},
   "source": [
    "### Original code"
   ]
  },
  {
   "cell_type": "code",
   "execution_count": 24,
   "metadata": {},
   "outputs": [
    {
     "name": "stdout",
     "output_type": "stream",
     "text": [
      "Score over time: 0.412\n"
     ]
    }
   ],
   "source": [
    "#Initialize table with all zeros\n",
    "Q = np.zeros([env.observation_space.n,env.action_space.n])\n",
    "# Set learning parameters\n",
    "lr = .8\n",
    "y = .95\n",
    "num_episodes = 1000\n",
    "#create lists to contain total rewards and steps per episode\n",
    "#jList = []\n",
    "rList = []\n",
    "for i in range(num_episodes):\n",
    "    #Reset environment and get first new observation\n",
    "    s = env.reset()\n",
    "    rAll = 0\n",
    "    d = False\n",
    "    j = 0\n",
    "    #The Q-Table learning algorithm\n",
    "    while j < 99:\n",
    "        j+=1\n",
    "        #Choose an action by greedily (with noise) picking from Q table\n",
    "        a = np.argmax(Q[s,:] + np.random.randn(1,env.action_space.n)*(1./(i+1)))\n",
    "        #Get new state and reward from environment\n",
    "        s1,r,d,_ = env.step(a)\n",
    "        #Update Q-Table with new knowledge\n",
    "        Q[s,a] = Q[s,a] + lr*(r + y*np.max(Q[s1,:]) - Q[s,a])\n",
    "        rAll += r\n",
    "        s = s1\n",
    "        if d == True:\n",
    "            break\n",
    "    #jList.append(j)\n",
    "    rList.append(rAll)\n",
    "    \n",
    "print \"Score over time: \" +  str(sum(rList)/num_episodes)"
   ]
  },
  {
   "cell_type": "markdown",
   "metadata": {},
   "source": [
    "Ok, so about half."
   ]
  },
  {
   "cell_type": "code",
   "execution_count": null,
   "metadata": {
    "collapsed": true
   },
   "outputs": [],
   "source": [
    "nums = [2,2,2,3,4];\n",
    "target = 7\n",
    "\n",
    "for "
   ]
  }
 ],
 "metadata": {
  "kernelspec": {
   "display_name": "Python 2",
   "language": "python",
   "name": "python2"
  },
  "language_info": {
   "codemirror_mode": {
    "name": "ipython",
    "version": 2
   },
   "file_extension": ".py",
   "mimetype": "text/x-python",
   "name": "python",
   "nbconvert_exporter": "python",
   "pygments_lexer": "ipython2",
   "version": "2.7.14"
  }
 },
 "nbformat": 4,
 "nbformat_minor": 2
}
