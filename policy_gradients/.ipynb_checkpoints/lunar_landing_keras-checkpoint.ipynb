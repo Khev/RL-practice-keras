{
 "cells": [
  {
   "cell_type": "code",
   "execution_count": 3,
   "metadata": {},
   "outputs": [
    {
     "name": "stdout",
     "output_type": "stream",
     "text": [
      "\u001b[33mWARN: gym.spaces.Box autodetected dtype as <type 'numpy.float32'>. Please provide explicit dtype.\u001b[0m\n",
      "(episode, score) = (50, -310.87934678010083)\n",
      "(episode, score) = (100, -165.6814944520491)\n",
      "(episode, score) = (150, -99.59388019358643)\n",
      "(episode, score) = (200, -232.31336470759305)\n",
      "(episode, score) = (250, -335.3901517467083)\n",
      "(episode, score) = (300, -304.97931026828485)\n",
      "(episode, score) = (350, -121.2330915056342)\n",
      "(episode, score) = (400, -291.7575470602185)\n",
      "(episode, score) = (450, -130.46880949887586)\n",
      "(episode, score) = (500, -124.05434962090257)\n",
      "(episode, score) = (550, -101.42382431498407)\n",
      "(episode, score) = (600, -101.10097328230475)\n",
      "(episode, score) = (650, -444.17164884522816)\n",
      "(episode, score) = (700, -73.77598946381302)\n",
      "(episode, score) = (750, -128.06584390139864)\n",
      "(episode, score) = (800, -95.87650704332158)\n",
      "(episode, score) = (850, -81.52676608381172)\n",
      "(episode, score) = (900, -107.81702512876784)\n",
      "(episode, score) = (950, -70.15532720745344)\n",
      "(episode, score) = (1000, -132.57236985136183)\n",
      "(episode, score) = (1050, -82.29402756751495)\n",
      "(episode, score) = (1100, -32.707380335022776)\n",
      "(episode, score) = (1150, -47.54939919612748)\n",
      "(episode, score) = (1200, -77.75292016204637)\n",
      "(episode, score) = (1250, 8.614198482297851)\n",
      "(episode, score) = (1300, -106.30043262127928)\n",
      "(episode, score) = (1350, -363.35164178083073)\n",
      "(episode, score) = (1400, -52.81016738802775)\n",
      "(episode, score) = (1450, -111.91834566977349)\n",
      "(episode, score) = (1500, -176.82646890647098)\n",
      "(episode, score) = (1550, -16.84203500578829)\n",
      "(episode, score) = (1600, -92.03214843244264)\n",
      "(episode, score) = (1650, -330.19740088021103)\n",
      "(episode, score) = (1700, 20.629414664069685)\n",
      "(episode, score) = (1750, -43.94437409319442)\n",
      "(episode, score) = (1800, -79.048926107825)\n",
      "(episode, score) = (1850, -154.05299376706458)\n",
      "(episode, score) = (1900, 34.96235942630478)\n",
      "(episode, score) = (1950, -11.775322785092182)\n",
      "(episode, score) = (2000, 16.44083732889441)\n"
     ]
    },
    {
     "data": {
      "text/plain": [
       "[<matplotlib.lines.Line2D at 0x7f806c4a0850>]"
      ]
     },
     "execution_count": 3,
     "metadata": {},
     "output_type": "execute_result"
    },
    {
     "data": {
      "image/png": "[encoded data removed]",
      "text/plain": [
       "<Figure size 432x288 with 1 Axes>"
      ]
     },
     "metadata": {},
     "output_type": "display_data"
    }
   ],
   "source": [
    "import numpy as np\n",
    "import matplotlib.pyplot as plt\n",
    "import gym\n",
    "from agent import PolicyAgent    #defined my agent here\n",
    "%matplotlib inline\n",
    "\n",
    "\n",
    "EPISODES = 2000\n",
    "\n",
    "env = gym.make('LunarLander-v2')\n",
    "env.seed(1)  #seed for convenience\n",
    "num_states = env.observation_space.shape[0]\n",
    "num_actions = env.action_space.n\n",
    "agent = PolicyAgent(num_states, num_actions)\n",
    "agent.gamma = 0.99\n",
    "agent.learning_rate = 0.02\n",
    "# agent.load(\"./save/cartpole-dqn.h5\")\n",
    "done = False\n",
    "\n",
    "scores = []\n",
    "\n",
    "for e in range(1,EPISODES+1):\n",
    "    state = env.reset()\n",
    "    state = np.reshape(state, [1, num_states])\n",
    "    reward_sum = 0\n",
    "    done = False\n",
    "    while not done:\n",
    "        # env.render()\n",
    "        action = agent.act(state)\n",
    "        next_state, reward, done, _ = env.step(action)\n",
    "        reward_sum += reward\n",
    "        next_state = np.reshape(next_state, [1, num_states])\n",
    "        agent.remember(state[0], action, reward)\n",
    "        state = next_state\n",
    "\n",
    "    #Learn & print results\n",
    "    agent.learn()\n",
    "    scores.append(reward_sum)\n",
    "    if e % 50 == 0:\n",
    "        print '(episode, score) = ' + str((e,reward_sum))\n",
    "plt.plot(scores)"
   ]
  },
  {
   "cell_type": "code",
   "execution_count": 6,
   "metadata": {
    "collapsed": true
   },
   "outputs": [],
   "source": [
    "np.savetxt('stats/scores_lunar_landing.txt',scores)"
   ]
  },
  {
   "cell_type": "markdown",
   "metadata": {},
   "source": [
    "1. Ok, I expect high variance, since this is just vanilla policy gradient. \n",
    "2. Adding in a baseline, and then doing an honest A2C, should improve this.\n",
    "\n",
    "\n",
    "### Watch a smart agent!"
   ]
  },
  {
   "cell_type": "code",
   "execution_count": 4,
   "metadata": {},
   "outputs": [],
   "source": [
    "state = env.reset()\n",
    "state = np.reshape(state, [1, num_states])\n",
    "reward_sum = 0\n",
    "done = False\n",
    "while not done:\n",
    "    env.render()\n",
    "    action = agent.act(state)\n",
    "    next_state, reward, done, _ = env.step(action)\n",
    "    reward_sum += reward\n",
    "    next_state = np.reshape(next_state, [1, num_states])\n",
    "    agent.remember(state[0], action, reward)\n",
    "    state = next_state\n",
    "env.close()"
   ]
  },
  {
   "cell_type": "markdown",
   "metadata": {},
   "source": [
    "### Notes\n",
    "\n",
    "1. I needed to normalize the discounted return, this helped the learning"
   ]
  },
  {
   "cell_type": "code",
   "execution_count": null,
   "metadata": {
    "collapsed": true
   },
   "outputs": [],
   "source": []
  }
 ],
 "metadata": {
  "kernelspec": {
   "display_name": "Python 2",
   "language": "python",
   "name": "python2"
  },
  "language_info": {
   "codemirror_mode": {
    "name": "ipython",
    "version": 2
   },
   "file_extension": ".py",
   "mimetype": "text/x-python",
   "name": "python",
   "nbconvert_exporter": "python",
   "pygments_lexer": "ipython2",
   "version": "2.7.14"
  }
 },
 "nbformat": 4,
 "nbformat_minor": 2
}
