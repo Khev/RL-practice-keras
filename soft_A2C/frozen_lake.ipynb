{
 "cells": [
  {
   "cell_type": "markdown",
   "metadata": {},
   "source": [
    "# Introduction\n",
    "\n",
    "1. Testing on frozenlake, should be super simple"
   ]
  },
  {
   "cell_type": "code",
   "execution_count": null,
   "metadata": {},
   "outputs": [
    {
     "name": "stdout",
     "output_type": "stream",
     "text": [
      "(episode, mean score) = (100, 0.0)\n",
      "(episode, mean score) = (200, 0.0)\n",
      "(episode, mean score) = (300, 0.0)\n",
      "(episode, mean score) = (400, 0.0)\n",
      "(episode, mean score) = (500, 0.0)\n",
      "(episode, mean score) = (600, 0.0)\n",
      "(episode, mean score) = (700, 0.0)\n",
      "(episode, mean score) = (800, 0.0)\n",
      "(episode, mean score) = (900, 0.0)\n",
      "(episode, mean score) = (1000, 0.0)\n",
      "(episode, mean score) = (1100, 0.0)\n",
      "(episode, mean score) = (1200, 0.0)\n",
      "(episode, mean score) = (1300, 0.0)\n",
      "(episode, mean score) = (1400, 0.0)\n",
      "(episode, mean score) = (1500, 0.0)\n"
     ]
    }
   ],
   "source": [
    "import numpy as np\n",
    "import matplotlib.pyplot as plt\n",
    "import gym\n",
    "from agent import Agent\n",
    "%matplotlib inline\n",
    "\n",
    "\n",
    "#Environment\n",
    "env = gym.make('FrozenLake-v0')\n",
    "env.seed(0)\n",
    "input_dim = env.observation_space.n\n",
    "output_dim = env.action_space.n\n",
    "\n",
    "\n",
    "#Agent\n",
    "lr,gamma,tau = 3*10**-4, 0.99, 0.1 \n",
    "clipnorm, verbose, alpha = False, False, 0.001\n",
    "agent = Agent(input_dim, output_dim, lr, gamma, tau, alpha, clipnorm, verbose)\n",
    "agent.memory_size = 1000\n",
    "agent.batchsize = 32\n",
    "\n",
    "\n",
    "#Train\n",
    "EPISODES = 5000\n",
    "scores = []\n",
    "for e in range(1,EPISODES+1):\n",
    "    state = env.reset()\n",
    "    state = np.array([1 if i == state else 0 for i in range(input_dim)])\n",
    "    state = agent.make_tensor(state)\n",
    "    reward_sum = 0\n",
    "    done = False\n",
    "    while not done:\n",
    "        \n",
    "        #Do main step\n",
    "        # env.render()\n",
    "        action = agent.act(state)\n",
    "        next_state, reward, done, _ = env.step(action)\n",
    "        next_state = np.array([1 if i == next_state else 0 for i in range(input_dim)])\n",
    "        reward_sum += reward\n",
    "        next_state = agent.make_tensor(next_state)\n",
    "        agent.remember(state[0],action,reward,next_state[0],done) #want to remember state as a vec\n",
    "        state = next_state\n",
    "\n",
    "        #Learn\n",
    "        if e > 100:\n",
    "            agent.learn()\n",
    "    \n",
    "    #Print results\n",
    "    scores.append(reward_sum)\n",
    "    if e % 100 == 0:\n",
    "        print '(episode, mean score) = ' + str((e,np.mean(scores[e-99])))\n",
    "plt.plot(scores,alpha=0.5)\n",
    "plt.plot(agent.window_average(scores,100),'r-')"
   ]
  },
  {
   "cell_type": "code",
   "execution_count": null,
   "metadata": {
    "collapsed": true
   },
   "outputs": [],
   "source": []
  }
 ],
 "metadata": {
  "kernelspec": {
   "display_name": "Python 2",
   "language": "python",
   "name": "python2"
  },
  "language_info": {
   "codemirror_mode": {
    "name": "ipython",
    "version": 2
   },
   "file_extension": ".py",
   "mimetype": "text/x-python",
   "name": "python",
   "nbconvert_exporter": "python",
   "pygments_lexer": "ipython2",
   "version": "2.7.14"
  }
 },
 "nbformat": 4,
 "nbformat_minor": 2
}
