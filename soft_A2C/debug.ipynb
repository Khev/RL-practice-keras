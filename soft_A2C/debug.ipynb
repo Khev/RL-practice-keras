{
 "cells": [
  {
   "cell_type": "markdown",
   "metadata": {},
   "source": [
    "# Introduction\n",
    "\n",
    "1. I might be doing the scalar multiplies with the transpose -- if things don't work, check here\n",
    "2. Check the actor loss -- am I screwing things up with the tranposing?\n",
    "\n",
    "3. Implement prioritized experience replay.\n",
    "\n",
    "\n",
    "### Test on cartpole"
   ]
  },
  {
   "cell_type": "code",
   "execution_count": 4,
   "metadata": {},
   "outputs": [
    {
     "name": "stdout",
     "output_type": "stream",
     "text": [
      "\u001b[33mWARN: gym.spaces.Box autodetected dtype as <type 'numpy.float32'>. Please provide explicit dtype.\u001b[0m\n",
      "(episode, score) = (50, 66.0)\n",
      "probs = [[0.5030391  0.49696085]]\n",
      "probs = [[0.49951744 0.50048256]]\n",
      "probs = [[nan nan]]\n",
      "probs = [[nan nan]]\n",
      "probs = [[nan nan]]\n",
      "probs = [[nan nan]]\n",
      "probs = [[nan nan]]\n",
      "probs = [[nan nan]]\n",
      "probs = [[nan nan]]\n",
      "probs = [[nan nan]]\n",
      "probs = [[nan nan]]\n",
      "probs = [[nan nan]]\n",
      "probs = [[nan nan]]\n",
      "probs = [[nan nan]]\n",
      "probs = [[nan nan]]\n",
      "probs = [[nan nan]]\n",
      "probs = [[nan nan]]\n",
      "probs = [[nan nan]]\n",
      "probs = [[nan nan]]\n",
      "probs = [[nan nan]]\n",
      "probs = [[nan nan]]\n",
      "probs = [[nan nan]]\n",
      "probs = [[nan nan]]\n",
      "probs = [[nan nan]]\n",
      "probs = [[nan nan]]\n",
      "probs = [[nan nan]]\n",
      "probs = [[nan nan]]\n",
      "probs = [[nan nan]]\n",
      "probs = [[nan nan]]\n",
      "probs = [[nan nan]]\n",
      "probs = [[nan nan]]\n",
      "probs = [[nan nan]]\n",
      "probs = [[nan nan]]\n",
      "probs = [[nan nan]]\n",
      "probs = [[nan nan]]\n",
      "probs = [[nan nan]]\n",
      "probs = [[nan nan]]\n",
      "probs = [[nan nan]]\n",
      "probs = [[nan nan]]\n",
      "probs = [[nan nan]]\n",
      "probs = [[nan nan]]\n",
      "probs = [[nan nan]]\n",
      "probs = [[nan nan]]\n",
      "probs = [[nan nan]]\n",
      "probs = [[nan nan]]\n"
     ]
    },
    {
     "data": {
      "text/plain": [
       "[<matplotlib.lines.Line2D at 0x7fbec5c892d0>]"
      ]
     },
     "execution_count": 4,
     "metadata": {},
     "output_type": "execute_result"
    },
    {
     "data": {
      "image/png": "[encoded data removed]",
      "text/plain": [
       "<Figure size 432x288 with 1 Axes>"
      ]
     },
     "metadata": {},
     "output_type": "display_data"
    }
   ],
   "source": [
    "import numpy as np\n",
    "import matplotlib.pyplot as plt\n",
    "import gym\n",
    "from agent import Agent\n",
    "%matplotlib inline\n",
    "\n",
    "\n",
    "#Environment\n",
    "env = gym.make('CartPole-v0')\n",
    "env.seed(0)\n",
    "input_dim = env.observation_space.shape[0]\n",
    "output_dim = env.action_space.n\n",
    "\n",
    "\n",
    "#Agent\n",
    "lr,gamma,tau = 3*10**-4, 0.99, 0.01, \n",
    "clipnorm, clipnorm_val, verbose, alpha = True, 0.001, False, 0.001\n",
    "agent = Agent(input_dim, output_dim, lr, gamma, tau, alpha, clipnorm, clipnorm_val, verbose)\n",
    "agent.memory_size = 10000\n",
    "agent.batchsize = 32\n",
    "\n",
    "\n",
    "#Train\n",
    "EPISODES = 55\n",
    "scores = []\n",
    "for e in range(1,EPISODES+1):\n",
    "    state = env.reset()\n",
    "    state = agent.make_tensor(state)\n",
    "    reward_sum = 0\n",
    "    done = False\n",
    "    while not done:\n",
    "        \n",
    "        #Do main step\n",
    "        # env.render()\n",
    "        action = agent.act(state)\n",
    "        next_state, reward, done, _ = env.step(action)\n",
    "        reward_sum += reward\n",
    "        next_state = agent.make_tensor(next_state)\n",
    "        agent.remember(state[0],action,reward,next_state[0],done) #want to remember state as a vec\n",
    "        state = next_state\n",
    "\n",
    "        #Learn\n",
    "        if e > 50:\n",
    "            agent.learn()\n",
    "            print 'probs = ' + str(agent.actor.model.predict(state))\n",
    "\n",
    "    \n",
    "    #Print results\n",
    "    scores.append(reward_sum)\n",
    "    if e % 50 == 0:\n",
    "        print '(episode, score) = ' + str((e,reward_sum))\n",
    "plt.plot(scores)"
   ]
  },
  {
   "cell_type": "markdown",
   "metadata": {},
   "source": [
    "### Change actor network"
   ]
  },
  {
   "cell_type": "code",
   "execution_count": 15,
   "metadata": {},
   "outputs": [
    {
     "data": {
      "text/plain": [
       "[0.15364876, 0.0038149743, 0.11200529, 0.003815397, 0.1562366, 0.0038159895]"
      ]
     },
     "execution_count": 15,
     "metadata": {},
     "output_type": "execute_result"
    }
   ],
   "source": [
    "import tensorflow as tf\n",
    "from keras.models import Model\n",
    "from keras.layers import Dense, Input, concatenate\n",
    "from keras.optimizers import Adam, RMSprop\n",
    "from keras import backend as K\n",
    "from keras.utils import to_categorical\n",
    "\n",
    "clipnorm = True\n",
    "\n",
    "#Inputs\n",
    "S_pl = agent.actor.model.input\n",
    "A_pl = K.placeholder(shape=(None, agent.output_dim))  #onehot\n",
    "Q_pl = K.placeholder(shape=(None,1))\n",
    "V_pl = K.placeholder(shape=(None,1))\n",
    "\n",
    "#Find terms in bracket\n",
    "pi_vec = agent.actor.model.output\n",
    "pi = K.sum(pi_vec*A_pl,axis=1)    # get \\pi(s_t, a_t) -- prob for specific action\n",
    "entropy = agent.alpha*K.log(pi)\n",
    "temp = entropy - K.transpose(Q_pl) + K.transpose(V_pl)  #this is a row vec\n",
    "temp = K.transpose(temp)      #turn it into col vec\n",
    "\n",
    "#Find grad log(pi)\n",
    "pi_pl = agent.actor.model.output\n",
    "pars = agent.actor.model.trainable_weights\n",
    "grads = tf.gradients( K.log(pi_pl), pars)   #scalar multiply by temp\n",
    "\n",
    "#Clip gradients\n",
    "if agent.actor.clipnorm == True:\n",
    "    grads = tf.clip_by_global_norm(grads, 0.1)[0]\n",
    "    \n",
    "opt = Adam(lr=lr)\n",
    "loss = grads  #placeholder, I won't use it\n",
    "updates = opt.get_updates(loss = grads, params = pars, grads = grads)\n",
    "weights = [weight for weight in agent.actor.model.weights]\n",
    "func = K.function(inputs = [S_pl, A_pl, Q_pl, V_pl], outputs = weights, updates = updates)\n",
    "\n",
    "\n",
    "\n",
    "S,A,R,S1,D = agent.get_batch()\n",
    "Q = agent.criticQ.model.predict([S,A])\n",
    "V_target = agent.criticV.target_model.predict(S1)  #value of NEXT state\n",
    "\n",
    "\n",
    "grads1 = func([S,A,Q,V_target])\n",
    "[grad.max() for grad in grads1]"
   ]
  },
  {
   "cell_type": "code",
   "execution_count": null,
   "metadata": {
    "collapsed": true
   },
   "outputs": [],
   "source": []
  }
 ],
 "metadata": {
  "kernelspec": {
   "display_name": "Python 2",
   "language": "python",
   "name": "python2"
  },
  "language_info": {
   "codemirror_mode": {
    "name": "ipython",
    "version": 2
   },
   "file_extension": ".py",
   "mimetype": "text/x-python",
   "name": "python",
   "nbconvert_exporter": "python",
   "pygments_lexer": "ipython2",
   "version": "2.7.14"
  }
 },
 "nbformat": 4,
 "nbformat_minor": 2
}
