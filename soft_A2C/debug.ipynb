{
 "cells": [
  {
   "cell_type": "markdown",
   "metadata": {},
   "source": [
    "# Introduction\n",
    "\n",
    "1. I might be doing the scalar multiplies with the transpose -- if things don't work, check here\n",
    "2. Check the actor loss -- am I screwing things up with the tranposing?\n",
    "\n",
    "3. Implement prioritized experience replay.\n",
    "\n",
    "\n",
    "### Test on cartpole"
   ]
  },
  {
   "cell_type": "code",
   "execution_count": 1,
   "metadata": {},
   "outputs": [
    {
     "name": "stderr",
     "output_type": "stream",
     "text": [
      "/home/kokeeffe/anaconda2/lib/python2.7/site-packages/h5py/__init__.py:34: FutureWarning: Conversion of the second argument of issubdtype from `float` to `np.floating` is deprecated. In future, it will be treated as `np.float64 == np.dtype(float).type`.\n",
      "  from ._conv import register_converters as _register_converters\n",
      "Using TensorFlow backend.\n"
     ]
    },
    {
     "name": "stdout",
     "output_type": "stream",
     "text": [
      "\u001b[33mWARN: gym.spaces.Box autodetected dtype as <type 'numpy.float32'>. Please provide explicit dtype.\u001b[0m\n"
     ]
    },
    {
     "data": {
      "text/plain": [
       "[<matplotlib.lines.Line2D at 0x7fe7ecebc7d0>]"
      ]
     },
     "execution_count": 1,
     "metadata": {},
     "output_type": "execute_result"
    },
    {
     "data": {
      "image/png": "[encoded data removed]",
      "text/plain": [
       "<Figure size 432x288 with 1 Axes>"
      ]
     },
     "metadata": {},
     "output_type": "display_data"
    }
   ],
   "source": [
    "import numpy as np\n",
    "import matplotlib.pyplot as plt\n",
    "import gym\n",
    "from agent import Agent\n",
    "%matplotlib inline\n",
    "\n",
    "\n",
    "#Environment\n",
    "env = gym.make('CartPole-v0')\n",
    "env.seed(0)\n",
    "input_dim = env.observation_space.shape[0]\n",
    "output_dim = env.action_space.n\n",
    "\n",
    "\n",
    "#Agent\n",
    "lr,gamma,tau = 3*10**-4, 0.99, 0.01, \n",
    "clipnorm, verbose, alpha = True, False, 0.001\n",
    "agent = Agent(input_dim, output_dim, lr, gamma, tau, alpha, clipnorm, verbose)\n",
    "agent.memory_size = 10000\n",
    "agent.batchsize = 32\n",
    "\n",
    "\n",
    "#Train\n",
    "EPISODES = 49\n",
    "scores = []\n",
    "for e in range(1,EPISODES+1):\n",
    "    state = env.reset()\n",
    "    state = agent.make_tensor(state)\n",
    "    reward_sum = 0\n",
    "    done = False\n",
    "    while not done:\n",
    "        \n",
    "        #Do main step\n",
    "        # env.render()\n",
    "        action = agent.act(state)\n",
    "        next_state, reward, done, _ = env.step(action)\n",
    "        reward_sum += reward\n",
    "        next_state = agent.make_tensor(next_state)\n",
    "        agent.remember(state[0],action,reward,next_state[0],done) #want to remember state as a vec\n",
    "        state = next_state\n",
    "\n",
    "        #Learn\n",
    "        if e > 50:\n",
    "            agent.learn()\n",
    "            print 'probs = ' + str(agent.actor.model.predict(state))\n",
    "\n",
    "    \n",
    "    #Print results\n",
    "    scores.append(reward_sum)\n",
    "    if e % 50 == 0:\n",
    "        print '(episode, score) = ' + str((e,reward_sum))\n",
    "plt.plot(scores)"
   ]
  },
  {
   "cell_type": "code",
   "execution_count": 3,
   "metadata": {},
   "outputs": [
    {
     "name": "stdout",
     "output_type": "stream",
     "text": [
      "probs = [[nan nan]]\n"
     ]
    },
    {
     "name": "stderr",
     "output_type": "stream",
     "text": [
      "agent.py:109: RuntimeWarning: invalid value encountered in less\n",
      "  action = np.random.choice(self.actions, p=probs)\n"
     ]
    }
   ],
   "source": [
    "agent.learn()\n",
    "print 'probs = ' + str(agent.actor.model.predict(state))"
   ]
  },
  {
   "cell_type": "markdown",
   "metadata": {},
   "source": [
    "### Change actor network"
   ]
  },
  {
   "cell_type": "code",
   "execution_count": 12,
   "metadata": {},
   "outputs": [
    {
     "name": "stdout",
     "output_type": "stream",
     "text": [
      "[[ 4.90996621e-02  8.27166731e-01 -4.82437971e-02 -1.08666138e+00]\n",
      " [-3.70632589e-03  1.29647936e-02  4.47048431e-02  1.99277824e-02]\n",
      " [ 2.74712919e-02  1.73092779e-01 -3.84289252e-02 -3.81857227e-01]\n",
      " [-1.66010814e-03  3.69771874e-01 -3.76861977e-02 -6.78140976e-01]\n",
      " [ 4.66756319e-02  5.29035279e-02 -1.21238246e-01 -2.37973359e-01]\n",
      " [ 4.03257749e-02  7.99369599e-01 -1.92499663e-01 -1.50384950e+00]\n",
      " [-1.21140633e-01 -1.18956503e+00  1.94836309e-01  1.89443826e+00]\n",
      " [ 2.77088948e-02  1.47569492e-02 -3.03030440e-03  5.30621183e-03]\n",
      " [ 2.98799450e-01  1.57004505e+00 -1.90071759e-01 -1.96127059e+00]\n",
      " [-3.88825559e-02 -2.43726979e-01 -8.08832335e-03  2.15563173e-01]\n",
      " [ 5.73532934e-03  1.75193193e-01 -5.12490172e-02 -3.97557313e-01]\n",
      " [-9.83942930e-02 -2.25245694e-01  7.02999329e-02  3.12757407e-01]\n",
      " [ 4.03257749e-02  7.99369599e-01 -1.92499663e-01 -1.50384950e+00]\n",
      " [-3.09529354e-02  1.48912782e-01 -4.59852425e-02 -4.23035746e-01]\n",
      " [-1.07052961e-01 -6.10144693e-01  1.09792700e-01  1.00925891e+00]\n",
      " [ 4.40187527e-02  3.74989212e-01 -7.36472876e-03 -6.10220843e-01]\n",
      " [ 2.43976056e-02  1.48421019e-02  3.01644988e-03  3.42777500e-03]\n",
      " [ 3.84978483e-02 -3.55023513e-02 -8.33741249e-02  7.33181634e-02]\n",
      " [-2.19846259e-02  4.98821935e-02 -3.75604189e-02 -1.16692108e-01]\n",
      " [ 7.20879567e-02  1.88971272e-01 -7.87140608e-02 -5.19784271e-01]\n",
      " [-7.51043759e-02 -7.99123424e-01  9.13486312e-02  1.25930345e+00]\n",
      " [ 9.05640611e-02  9.43773534e-01 -1.31238958e-01 -1.58746446e+00]\n",
      " [ 9.45310055e-01  1.29424768e+00 -1.85950599e-01 -6.90531261e-01]\n",
      " [-1.45736181e-02  8.37348955e-01 -8.76265040e-02 -1.44523764e+00]\n",
      " [-1.55323739e-02 -1.68790754e-01  2.38374428e-02  2.39381763e-01]\n",
      " [ 5.18219564e-02 -3.48519520e-01  1.90073888e-02  6.01924797e-01]\n",
      " [-5.11247113e-02 -5.23203800e-01  5.53814715e-02  5.71879437e-01]\n",
      " [ 6.60999925e-01  1.28042458e+00 -4.92259001e-02 -3.74966466e-01]\n",
      " [-6.56184995e-03 -2.41611955e-01 -3.93179320e-02  2.48502551e-01]\n",
      " [-1.35386798e-01 -1.00304561e+00  1.56663938e-01  1.66467039e+00]\n",
      " [ 3.37965087e-02  3.49419181e-01 -8.33321959e-02 -3.96182692e-01]\n",
      " [-1.24408763e-01  5.42363279e-01  8.97004777e-02 -6.42524992e-01]] [[0. 1.]\n",
      " [1. 0.]\n",
      " [1. 0.]\n",
      " [1. 0.]\n",
      " [1. 0.]\n",
      " [0. 1.]\n",
      " [1. 0.]\n",
      " [1. 0.]\n",
      " [1. 0.]\n",
      " [0. 1.]\n",
      " [1. 0.]\n",
      " [1. 0.]\n",
      " [0. 1.]\n",
      " [1. 0.]\n",
      " [1. 0.]\n",
      " [1. 0.]\n",
      " [1. 0.]\n",
      " [1. 0.]\n",
      " [1. 0.]\n",
      " [1. 0.]\n",
      " [1. 0.]\n",
      " [1. 0.]\n",
      " [1. 0.]\n",
      " [1. 0.]\n",
      " [1. 0.]\n",
      " [0. 1.]\n",
      " [1. 0.]\n",
      " [1. 0.]\n",
      " [0. 1.]\n",
      " [1. 0.]\n",
      " [1. 0.]\n",
      " [0. 1.]] [[-0.05214624]\n",
      " [-0.05171989]\n",
      " [-0.05116829]\n",
      " [-0.0533552 ]\n",
      " [-0.05064593]\n",
      " [-0.03722389]\n",
      " [-0.02849938]\n",
      " [-0.0480062 ]\n",
      " [-0.02450022]\n",
      " [-0.00638457]\n",
      " [-0.05219643]\n",
      " [-0.04117674]\n",
      " [-0.03722389]\n",
      " [-0.05502323]\n",
      " [-0.03282428]\n",
      " [-0.04819492]\n",
      " [-0.04864306]\n",
      " [-0.04090434]\n",
      " [-0.05328891]\n",
      " [-0.04296864]\n",
      " [-0.03879258]\n",
      " [-0.0483932 ]\n",
      " [-0.00657094]\n",
      " [-0.0589269 ]\n",
      " [-0.04097946]\n",
      " [-0.00071485]\n",
      " [-0.050305  ]\n",
      " [-0.01378147]\n",
      " [-0.00540705]\n",
      " [-0.02604318]\n",
      " [-0.04703907]\n",
      " [-0.07021831]] [[ 0.03537139]\n",
      " [-0.04462704]\n",
      " [ 0.00405673]\n",
      " [ 0.01076254]\n",
      " [-0.0106118 ]\n",
      " [ 0.04737861]\n",
      " [-0.31440464]\n",
      " [-0.04876129]\n",
      " [ 0.06293776]\n",
      " [ 0.00193751]\n",
      " [ 0.00525779]\n",
      " [-0.08001278]\n",
      " [ 0.04737861]\n",
      " [ 0.00405485]\n",
      " [-0.18459868]\n",
      " [ 0.0059662 ]\n",
      " [-0.04779779]\n",
      " [-0.06635009]\n",
      " [-0.03048629]\n",
      " [ 0.00926992]\n",
      " [-0.22834986]\n",
      " [ 0.03267132]\n",
      " [ 0.09240182]\n",
      " [ 0.03024275]\n",
      " [-0.08146958]\n",
      " [-0.0448301 ]\n",
      " [-0.13126071]\n",
      " [ 0.06476121]\n",
      " [ 0.0023374 ]\n",
      " [-0.2787924 ]\n",
      " [ 0.01328137]\n",
      " [ 0.02397321]]\n"
     ]
    },
    {
     "data": {
      "text/plain": [
       "[nan, nan, nan, nan, nan, nan]"
      ]
     },
     "execution_count": 12,
     "metadata": {},
     "output_type": "execute_result"
    }
   ],
   "source": [
    "import tensorflow as tf\n",
    "from keras.models import Model\n",
    "from keras.layers import Dense, Input, concatenate\n",
    "from keras.optimizers import Adam, RMSprop\n",
    "from keras import backend as K\n",
    "from keras.utils import to_categorical\n",
    "\n",
    "clipnorm = True\n",
    "\n",
    "#Inputs\n",
    "S_pl = agent.actor.model.input\n",
    "A_pl = K.placeholder(shape=(None, agent.output_dim))  #onehot\n",
    "Q_pl = K.placeholder(shape=(None,1))\n",
    "V_pl = K.placeholder(shape=(None,1))\n",
    "\n",
    "#Find terms in bracket\n",
    "pi_vec = agent.actor.model.output\n",
    "pi = K.sum(pi_vec*A_pl,axis=1)    # get \\pi(s_t, a_t) -- prob for specific action\n",
    "entropy = agent.alpha*K.log(pi)\n",
    "temp = entropy - K.transpose(Q_pl) + K.transpose(V_pl)  #this is a row vec\n",
    "temp = K.transpose(temp)      #turn it into col vec\n",
    "\n",
    "#Find grad log(pi)\n",
    "pi_pl = agent.actor.model.output\n",
    "pars = agent.actor.model.trainable_weights\n",
    "grads = tf.gradients( K.log(pi_pl), pars)   #scalar multiply by temp\n",
    "\n",
    "#Clip gradients\n",
    "if agent.actor.clipnorm == True:\n",
    "    grads = tf.clip_by_global_norm(grads, 1.0)[0]\n",
    "    \n",
    "opt = Adam(lr=0.01)\n",
    "loss = grads  #placeholder, I won't use it\n",
    "updates = opt.get_updates(loss = grads, params = pars, grads = grads)\n",
    "func = K.function(inputs = [S_pl, A_pl, Q_pl, V_pl], outputs = [grad for grad in grads], updates = updates)\n",
    "\n",
    "\n",
    "\n",
    "S,A,R,S1,D = agent.get_batch()\n",
    "Q = agent.criticQ.model.predict([S,A])\n",
    "V_target = agent.criticV.target_model.predict(S1)  #value of NEXT state\n",
    "\n",
    "\n",
    "print SQ,V_target\n",
    "grads1 = func([S,A,Q,V_target])\n",
    "[grad.max() for grad in grads1]"
   ]
  },
  {
   "cell_type": "code",
   "execution_count": null,
   "metadata": {
    "collapsed": true
   },
   "outputs": [],
   "source": []
  }
 ],
 "metadata": {
  "kernelspec": {
   "display_name": "Python 2",
   "language": "python",
   "name": "python2"
  },
  "language_info": {
   "codemirror_mode": {
    "name": "ipython",
    "version": 2
   },
   "file_extension": ".py",
   "mimetype": "text/x-python",
   "name": "python",
   "nbconvert_exporter": "python",
   "pygments_lexer": "ipython2",
   "version": "2.7.14"
  }
 },
 "nbformat": 4,
 "nbformat_minor": 2
}
