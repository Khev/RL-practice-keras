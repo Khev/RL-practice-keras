{
 "cells": [
  {
   "cell_type": "markdown",
   "metadata": {},
   "source": [
    "# Introduction\n",
    "\n",
    "Not yet updated\n",
    "\n",
    "https://medium.com/emergent-future/simple-reinforcement-learning-with-tensorflow-part-0-q-learning-with-tables-and-neural-networks-d195264329d0\n",
    "\n",
    "\n",
    "### Setup"
   ]
  },
  {
   "cell_type": "code",
   "execution_count": 45,
   "metadata": {},
   "outputs": [],
   "source": [
    "import numpy as np\n",
    "import matplotlib.pyplot as plt\n",
    "import gym\n",
    "import keras as ks\n",
    "import tensorflow as tf\n",
    "import time\n",
    "import random\n",
    "from keras.layers import InputLayer, Dense, Input\n",
    "from keras.models import Model\n",
    "from keras import backend as K\n",
    "import keras\n",
    "from keras import optimizers\n",
    "%matplotlib inline\n",
    "\n",
    "\n",
    "\n",
    "class DQNagent:\n",
    "    \n",
    "    def __init__(self,num_states, num_actions):\n",
    "        self.gamma = 0.99  #discount factor\n",
    "        self.alpha = 0.1   #learning rate\n",
    "        self.epsilon = 0.5\n",
    "        self.epsilon_min = 0.01\n",
    "        self.memory = []\n",
    "        self.memory_size = 1000\n",
    "        self.num_states = num_states\n",
    "        self.num_actions = num_actions\n",
    "        self.model = self.make_model()\n",
    "        \n",
    "        \n",
    "    def make_model(self):\n",
    "        \"\"\" Instantiate neural net for predicting Q-vals using Keras \"\"\"\n",
    "        \n",
    "        #Define layers, all hyperparamter choices were arbitrary\n",
    "        inputs = Input(shape=(self.num_states,))\n",
    "        x = Dense(32,activation='sigmoid')(inputs)\n",
    "        x = Dense(32,activation='sigmoid')(x)\n",
    "        predictions = Dense(self.num_actions, activation='linear')(x)\n",
    "        \n",
    "        #Define model, along with optimizer\n",
    "        model = Model(inputs=inputs,outputs=predictions)\n",
    "        adam = optimizers.adam(lr=self.alpha)\n",
    "        model.compile(loss='mse',optimizer=adam,metrics=['mae'])\n",
    "        return model\n",
    "        \n",
    "        \n",
    "        \n",
    "    def vectorize_state(self,state):\n",
    "        \"\"\" Given a state = 0,1,2,3, ...,  return a 1-hot vector\n",
    "            since Keras works in this format\n",
    "        \"\"\"\n",
    "        return np.identity(self.num_states)[state:state+1]\n",
    "        \n",
    "        \n",
    "    def get_epsilon_iteration(self,episode_number,num_episodes):\n",
    "        #return max(self.epsilon_min, self.epsilon / (1.0 + episode_number))\n",
    "            slope = self.epsilon_min - self.epsilon\n",
    "            epsilon_effective = slope*(episode_number/(1.0*num_episodes)) + self.epsilon\n",
    "            return epsilon_effective\n",
    "        \n",
    "        \n",
    "    def act(self,state,episode_number = 0, num_episodes = 1):\n",
    "        \n",
    "        # epsilon greedy\n",
    "        epsilon_effective = self.get_epsilon_iteration(episode_number, num_episodes)\n",
    "        \n",
    "        if np.random.random() < epsilon_effective:\n",
    "            action = np.random.choice(range(self.num_actions))\n",
    "        else:\n",
    "            action = self.choose_best_action(state)\n",
    "        return action\n",
    "                   \n",
    "                   \n",
    "    def choose_best_action(self,state_vector):\n",
    "        Qs = self.model.predict(state_vector)\n",
    "        action = np.argmax(Qs)\n",
    "        return action\n",
    "                   \n",
    "                   \n",
    "    def remember(self,event):\n",
    "        \n",
    "        if len(self.memory) <= self.memory_size:\n",
    "            self.memory.append(event)\n",
    "        else:\n",
    "            self.memory.pop(0)\n",
    "            self.memory.append(event)\n",
    "        \n",
    "        \n",
    "    def replay(self,batchsize):\n",
    "        \n",
    "        #create minibatch\n",
    "        indicies = np.random.choice(range(len(self.memory)),batchsize)\n",
    "        minibatch = [self.memory[i] for i in indicies]\n",
    "\n",
    "        #Extract states & Qs\n",
    "        batch_states = np.zeros((batchsize,self.num_states))\n",
    "        batch_Qs = np.zeros((batchsize,self.num_actions))\n",
    "        for i,event in enumerate(minibatch):\n",
    "            state, action, reward, next_state = event\n",
    "            batch_states[i] = state[0]   #state is a tensor, extract the vector\n",
    "\n",
    "            #Find Qs -- first grab what I need\n",
    "            Q_next_vec = self.model.predict(next_state)[0]   #Qs of next state\n",
    "            Q_target = reward + self.gamma*max(Q_next_vec)   #scalar, for specific action\n",
    "            Q_target_vec = self.model.predict(state)[0]      #The new Q will be the old, with one update\n",
    "            Q_target_vec[action] = Q_target                  #Do the update\n",
    "            Q_target_vec.resize(1,agent.num_actions)         #Turn into tensor, for keras  \n",
    "            batch_Qs[i] = Q_target_vec\n",
    "\n",
    "        #Now I have my stack of losses, do the learning\n",
    "        self.model.fit(batch_states, batch_Qs, epochs=1,verbose=0)\n",
    "        \n",
    "        \n",
    "    def learn(self,event):\n",
    "        state, action, reward, next_state = event\n",
    "\n",
    "        #Find Q target\n",
    "        Q_next_vec = self.model.predict(next_state)[0]   #Qs of next state\n",
    "        Q_target = reward + self.gamma*max(Q_next_vec)   #scalar, for specific action\n",
    "        Q_target_vec = self.model.predict(state)[0]      #The new Q will be the old, with one update\n",
    "        Q_target_vec[action] = Q_target                  #Do the update\n",
    "        Q_target_vec.resize(1,agent.num_actions)         #Turn into tensor, for keras  \n",
    "        \n",
    "        #Now I have my stack of losses, do the learning\n",
    "        self.model.fit(state, Q_target_vec, epochs=1,verbose=0)\n",
    "        \n",
    "        \n",
    "        \n",
    "    def print_Qs(self):\n",
    "        Qs = np.zeros((self.num_states, self.num_actions))\n",
    "        for i,state in enumerate(range(self.num_states)):\n",
    "            state_vector = self.vectorize_state(state)\n",
    "            Qs_temp = self.model.predict(state_vector)[0]\n",
    "            Qs[i] = Qs_temp\n",
    "        return Qs"
   ]
  },
  {
   "cell_type": "markdown",
   "metadata": {},
   "source": [
    "## Main"
   ]
  },
  {
   "cell_type": "code",
   "execution_count": 47,
   "metadata": {},
   "outputs": [
    {
     "name": "stdout",
     "output_type": "stream",
     "text": [
      "Score over time: 0.02\n",
      "Final Q-Table Values\n"
     ]
    },
    {
     "data": {
      "text/plain": [
       "array([[-4.18190241e-01,  1.63103640e-03, -1.27943791e-02,\n",
       "         1.71473064e-03],\n",
       "       [-4.18190241e-01,  1.63108110e-03, -1.27943493e-02,\n",
       "         1.71475857e-03],\n",
       "       [-4.18190211e-01,  1.63114071e-03, -1.27943009e-02,\n",
       "         1.71479024e-03],\n",
       "       [-4.18189794e-01,  1.63258612e-03, -1.27921291e-02,\n",
       "         1.71607547e-03],\n",
       "       [-4.18190151e-01,  1.63111091e-03, -1.27936900e-02,\n",
       "         1.71534345e-03],\n",
       "       [-4.18190241e-01,  1.63102150e-03, -1.27941482e-02,\n",
       "         1.71490386e-03],\n",
       "       [-4.18180645e-01,  1.64149702e-03, -1.27294324e-02,\n",
       "         1.77993998e-03],\n",
       "       [-4.18187678e-01,  1.63398683e-03, -1.27766654e-02,\n",
       "         1.73210353e-03],\n",
       "       [-4.18189555e-01,  1.63191557e-03, -1.27894133e-02,\n",
       "         1.71936303e-03],\n",
       "       [-4.18188274e-01,  1.63356960e-03, -1.27803907e-02,\n",
       "         1.72782876e-03],\n",
       "       [-4.18190181e-01,  1.63121521e-03, -1.27935335e-02,\n",
       "         1.71532668e-03],\n",
       "       [-4.18186992e-01,  1.63437426e-03, -1.27725936e-02,\n",
       "         1.73697434e-03],\n",
       "       [-4.18187797e-01,  1.63373351e-03, -1.27777718e-02,\n",
       "         1.73123181e-03],\n",
       "       [-4.18189973e-01,  1.63131952e-03, -1.27924383e-02,\n",
       "         1.71660446e-03],\n",
       "       [-4.18190211e-01,  1.63127482e-03, -1.27940848e-02,\n",
       "         1.71490759e-03],\n",
       "       [ 3.18072945e-01,  2.76956329e+01,  6.16895409e+01,\n",
       "         4.09056740e+01]])"
      ]
     },
     "execution_count": 47,
     "metadata": {},
     "output_type": "execute_result"
    },
    {
     "data": {
      "image/png": "[encoded data removed]",
      "text/plain": [
       "<Figure size 432x288 with 1 Axes>"
      ]
     },
     "metadata": {},
     "output_type": "display_data"
    }
   ],
   "source": [
    "import gym\n",
    "\n",
    "#Environment\n",
    "env = gym.make('FrozenLake-v0')\n",
    "env.reset()\n",
    "num_states = env.observation_space.n\n",
    "num_actions = env.action_space.n  \n",
    "num_episodes = 2000\n",
    "reward_list = []\n",
    "\n",
    "#Agent\n",
    "agent = DQNagent(num_states, num_actions)  \n",
    "agent.gamma = 0.9\n",
    "agent.epsilon = 0.5\n",
    "agent.epsilon_min = 0.05\n",
    "batchsize = 32\n",
    "var_s = []\n",
    "\n",
    "#Train\n",
    "for episode in range(num_episodes):\n",
    "    finished = False\n",
    "    state_zero = 0\n",
    "    state_vector = agent.vectorize_state(state_zero)\n",
    "    reward_sum = 0\n",
    "    while not finished:\n",
    "        \n",
    "        #Main loop\n",
    "        action = agent.act(state_vector, episode_number=episode, num_episodes=num_episodes)\n",
    "        next_state_scalar, reward, finished, _ = env.step(action)\n",
    "        next_state_vector = agent.vectorize_state(next_state_scalar)\n",
    "        agent.remember([state_vector,action,reward,next_state_vector])\n",
    "        state_vector = next_state_vector\n",
    "        reward_sum += reward\n",
    "        agent.learn([state_vector,action,reward,next_state_vector])\n",
    "        \n",
    "        #Check learning, want to see if the NN is converging\n",
    "        var = np.var(agent.model.get_weights()[0].flatten())   #variance in weights\n",
    "        var_s.append(var)\n",
    "                \n",
    "    #Learn after each episode\n",
    "    #agent.replay(batchsize)\n",
    "    #var = np.var(agent.model.get_weights()[0].flatten())   #variance in weights\n",
    "    #var_s.append(var) \n",
    "    reward_list.append(reward_sum)\n",
    "    env.reset()\n",
    "    \n",
    "#Print stats\n",
    "print \"Score over time: \" +  str(sum(reward_list)/num_episodes)\n",
    "plt.plot(var_s)\n",
    "print \"Final Q-Table Values\"\n",
    "agent.print_Qs()"
   ]
  },
  {
   "cell_type": "code",
   "execution_count": 37,
   "metadata": {},
   "outputs": [
    {
     "ename": "NotImplementedError",
     "evalue": "",
     "output_type": "error",
     "traceback": [
      "\u001b[0;31m---------------------------------------------------------------------------\u001b[0m",
      "\u001b[0;31mNotImplementedError\u001b[0m                       Traceback (most recent call last)",
      "\u001b[0;32m<ipython-input-37-df44dce8cc8b>\u001b[0m in \u001b[0;36m<module>\u001b[0;34m()\u001b[0m\n\u001b[1;32m      1\u001b[0m \u001b[0menv\u001b[0m \u001b[0;34m=\u001b[0m \u001b[0mgym\u001b[0m\u001b[0;34m.\u001b[0m\u001b[0mmake\u001b[0m\u001b[0;34m(\u001b[0m\u001b[0;34m'NChain-v0'\u001b[0m\u001b[0;34m)\u001b[0m\u001b[0;34m\u001b[0m\u001b[0m\n\u001b[0;32m----> 2\u001b[0;31m \u001b[0menv\u001b[0m\u001b[0;34m.\u001b[0m\u001b[0mrender\u001b[0m\u001b[0;34m(\u001b[0m\u001b[0;34m)\u001b[0m\u001b[0;34m\u001b[0m\u001b[0m\n\u001b[0m",
      "\u001b[0;32m/home/kokeeffe/anaconda2/lib/python2.7/site-packages/gym/core.pyc\u001b[0m in \u001b[0;36mrender\u001b[0;34m(self, mode)\u001b[0m\n\u001b[1;32m    282\u001b[0m \u001b[0;34m\u001b[0m\u001b[0m\n\u001b[1;32m    283\u001b[0m     \u001b[0;32mdef\u001b[0m \u001b[0mrender\u001b[0m\u001b[0;34m(\u001b[0m\u001b[0mself\u001b[0m\u001b[0;34m,\u001b[0m \u001b[0mmode\u001b[0m\u001b[0;34m=\u001b[0m\u001b[0;34m'human'\u001b[0m\u001b[0;34m)\u001b[0m\u001b[0;34m:\u001b[0m\u001b[0;34m\u001b[0m\u001b[0m\n\u001b[0;32m--> 284\u001b[0;31m         \u001b[0;32mreturn\u001b[0m \u001b[0mself\u001b[0m\u001b[0;34m.\u001b[0m\u001b[0menv\u001b[0m\u001b[0;34m.\u001b[0m\u001b[0mrender\u001b[0m\u001b[0;34m(\u001b[0m\u001b[0mmode\u001b[0m\u001b[0;34m)\u001b[0m\u001b[0;34m\u001b[0m\u001b[0m\n\u001b[0m\u001b[1;32m    285\u001b[0m \u001b[0;34m\u001b[0m\u001b[0m\n\u001b[1;32m    286\u001b[0m     \u001b[0;32mdef\u001b[0m \u001b[0mclose\u001b[0m\u001b[0;34m(\u001b[0m\u001b[0mself\u001b[0m\u001b[0;34m)\u001b[0m\u001b[0;34m:\u001b[0m\u001b[0;34m\u001b[0m\u001b[0m\n",
      "\u001b[0;32m/home/kokeeffe/anaconda2/lib/python2.7/site-packages/gym/core.pyc\u001b[0m in \u001b[0;36mrender\u001b[0;34m(self, mode)\u001b[0m\n\u001b[1;32m    109\u001b[0m                     \u001b[0msuper\u001b[0m\u001b[0;34m(\u001b[0m\u001b[0mMyEnv\u001b[0m\u001b[0;34m,\u001b[0m \u001b[0mself\u001b[0m\u001b[0;34m)\u001b[0m\u001b[0;34m.\u001b[0m\u001b[0mrender\u001b[0m\u001b[0;34m(\u001b[0m\u001b[0mmode\u001b[0m\u001b[0;34m=\u001b[0m\u001b[0mmode\u001b[0m\u001b[0;34m)\u001b[0m \u001b[0;31m# just raise an exception\u001b[0m\u001b[0;34m\u001b[0m\u001b[0m\n\u001b[1;32m    110\u001b[0m         \"\"\"\n\u001b[0;32m--> 111\u001b[0;31m         \u001b[0;32mraise\u001b[0m \u001b[0mNotImplementedError\u001b[0m\u001b[0;34m\u001b[0m\u001b[0m\n\u001b[0m\u001b[1;32m    112\u001b[0m \u001b[0;34m\u001b[0m\u001b[0m\n\u001b[1;32m    113\u001b[0m     \u001b[0;32mdef\u001b[0m \u001b[0mclose\u001b[0m\u001b[0;34m(\u001b[0m\u001b[0mself\u001b[0m\u001b[0;34m)\u001b[0m\u001b[0;34m:\u001b[0m\u001b[0;34m\u001b[0m\u001b[0m\n",
      "\u001b[0;31mNotImplementedError\u001b[0m: "
     ]
    }
   ],
   "source": [
    "env = gym.make('NChain-v0')"
   ]
  },
  {
   "cell_type": "markdown",
   "metadata": {},
   "source": [
    "### Test on simpler environment...."
   ]
  },
  {
   "cell_type": "code",
   "execution_count": 44,
   "metadata": {},
   "outputs": [
    {
     "name": "stdout",
     "output_type": "stream",
     "text": [
      "Score over time: 1352\n"
     ]
    },
    {
     "ename": "TypeError",
     "evalue": "unsupported operand type(s) for /: 'list' and 'float'",
     "output_type": "error",
     "traceback": [
      "\u001b[0;31m---------------------------------------------------------------------------\u001b[0m",
      "\u001b[0;31mTypeError\u001b[0m                                 Traceback (most recent call last)",
      "\u001b[0;32m<ipython-input-44-f2e7529ad54f>\u001b[0m in \u001b[0;36m<module>\u001b[0;34m()\u001b[0m\n\u001b[1;32m     52\u001b[0m \u001b[0;32mprint\u001b[0m \u001b[0;34m\"Score over time: \"\u001b[0m \u001b[0;34m+\u001b[0m  \u001b[0mstr\u001b[0m\u001b[0;34m(\u001b[0m\u001b[0msum\u001b[0m\u001b[0;34m(\u001b[0m\u001b[0mreward_list\u001b[0m\u001b[0;34m)\u001b[0m\u001b[0;34m/\u001b[0m\u001b[0mnum_episodes\u001b[0m\u001b[0;34m)\u001b[0m\u001b[0;34m\u001b[0m\u001b[0m\n\u001b[1;32m     53\u001b[0m \u001b[0mplt\u001b[0m\u001b[0;34m.\u001b[0m\u001b[0mplot\u001b[0m\u001b[0;34m(\u001b[0m\u001b[0mvar_s\u001b[0m\u001b[0;34m)\u001b[0m\u001b[0;34m\u001b[0m\u001b[0m\n\u001b[0;32m---> 54\u001b[0;31m \u001b[0mplt\u001b[0m\u001b[0;34m.\u001b[0m\u001b[0mplot\u001b[0m\u001b[0;34m(\u001b[0m\u001b[0mreward_list\u001b[0m \u001b[0;34m/\u001b[0m \u001b[0;36m1000.0\u001b[0m\u001b[0;34m)\u001b[0m\u001b[0;34m\u001b[0m\u001b[0m\n\u001b[0m\u001b[1;32m     55\u001b[0m \u001b[0;32mprint\u001b[0m \u001b[0;34m\"Final Q-Table Values\"\u001b[0m\u001b[0;34m\u001b[0m\u001b[0m\n\u001b[1;32m     56\u001b[0m \u001b[0magent\u001b[0m\u001b[0;34m.\u001b[0m\u001b[0mprint_Qs\u001b[0m\u001b[0;34m(\u001b[0m\u001b[0;34m)\u001b[0m\u001b[0;34m\u001b[0m\u001b[0m\n",
      "\u001b[0;31mTypeError\u001b[0m: unsupported operand type(s) for /: 'list' and 'float'"
     ]
    },
    {
     "data": {
      "image/png": "[encoded data removed]",
      "text/plain": [
       "<Figure size 432x288 with 1 Axes>"
      ]
     },
     "metadata": {},
     "output_type": "display_data"
    }
   ],
   "source": [
    "env = gym.make('NChain-v0')\n",
    "\n",
    "\n",
    "#Environment\n",
    "env.reset()\n",
    "num_states = env.observation_space.n\n",
    "num_actions = env.action_space.n  \n",
    "num_episodes = 10\n",
    "reward_list = []\n",
    "\n",
    "\n",
    "#Agent\n",
    "agent = DQNagent(num_states, num_actions)  \n",
    "agent.gamma = 0.95\n",
    "agent.epsilon = 0.5\n",
    "agent.epsilon_min = 0.05\n",
    "batchsize = 32\n",
    "var_s = []\n",
    "decay_factor = 0.999  #freeze the greed\n",
    "\n",
    "#Train\n",
    "for episode in range(num_episodes):\n",
    "    finished = False\n",
    "    state_zero = 0\n",
    "    state_vector = agent.vectorize_state(state_zero)\n",
    "    reward_sum = 0\n",
    "    agent.epsilon *= decay_factor\n",
    "    while not finished:\n",
    "        \n",
    "        #Main loop\n",
    "        action = agent.act(state_vector)\n",
    "        next_state_scalar, reward, finished, _ = env.step(action)\n",
    "        next_state_vector = agent.vectorize_state(next_state_scalar)\n",
    "        agent.remember([state_vector,action,reward,next_state_vector])\n",
    "        state_vector = next_state_vector\n",
    "        reward_sum += reward\n",
    "        agent.learn([state_vector,action,reward,next_state_vector])\n",
    "        \n",
    "        #Check learning, want to see if the NN is converging\n",
    "        var = np.var(agent.model.get_weights()[0].flatten())   #variance in weights\n",
    "        var_s.append(var)\n",
    "        \n",
    "        \n",
    "    #Learn after each episode\n",
    "    #agent.replay(batchsize)\n",
    "    var = np.var(agent.model.get_weights()[0].flatten())   #variance in weights\n",
    "    var_s.append(var) \n",
    "    reward_list.append(reward_sum)\n",
    "    env.reset()\n",
    "    \n",
    "#Print stats\n",
    "print \"Score over time: \" +  str(sum(reward_list)/num_episodes)\n",
    "plt.plot(var_s)\n",
    "plt.plot(reward_list / 1000.0)\n",
    "print \"Final Q-Table Values\"\n",
    "agent.print_Qs()"
   ]
  },
  {
   "cell_type": "code",
   "execution_count": null,
   "metadata": {
    "collapsed": true
   },
   "outputs": [],
   "source": []
  },
  {
   "cell_type": "code",
   "execution_count": null,
   "metadata": {
    "collapsed": true
   },
   "outputs": [],
   "source": []
  },
  {
   "cell_type": "code",
   "execution_count": null,
   "metadata": {
    "collapsed": true
   },
   "outputs": [],
   "source": []
  },
  {
   "cell_type": "code",
   "execution_count": null,
   "metadata": {
    "collapsed": true
   },
   "outputs": [],
   "source": []
  },
  {
   "cell_type": "markdown",
   "metadata": {},
   "source": [
    "### Baseline -- just using Q-tables"
   ]
  },
  {
   "cell_type": "code",
   "execution_count": 5,
   "metadata": {},
   "outputs": [
    {
     "name": "stdout",
     "output_type": "stream",
     "text": [
      "Score over time: 0.52\n",
      "Final Q-Table Values\n",
      "[[1.96317838e-01 2.52253700e-03 1.84336916e-02 1.65246608e-02]\n",
      " [3.33350057e-03 4.06910693e-03 2.67101255e-03 2.10738494e-01]\n",
      " [4.27830781e-03 3.55059227e-03 0.00000000e+00 1.07636921e-01]\n",
      " [7.02956830e-04 2.20111540e-03 2.15919483e-03 4.90879735e-02]\n",
      " [3.75676744e-01 3.25606239e-03 1.45667170e-03 1.67667806e-03]\n",
      " [0.00000000e+00 0.00000000e+00 0.00000000e+00 0.00000000e+00]\n",
      " [2.13738664e-01 1.62768891e-05 1.43175308e-06 6.20232766e-04]\n",
      " [0.00000000e+00 0.00000000e+00 0.00000000e+00 0.00000000e+00]\n",
      " [5.74443545e-05 6.03368308e-04 1.02493000e-02 3.15381353e-01]\n",
      " [6.17376276e-04 5.50168925e-01 2.78223213e-04 1.69717899e-03]\n",
      " [6.58548144e-01 1.96880508e-04 9.51677687e-04 4.16345690e-04]\n",
      " [0.00000000e+00 0.00000000e+00 0.00000000e+00 0.00000000e+00]\n",
      " [0.00000000e+00 0.00000000e+00 0.00000000e+00 0.00000000e+00]\n",
      " [0.00000000e+00 6.43306984e-03 6.50613761e-01 0.00000000e+00]\n",
      " [0.00000000e+00 0.00000000e+00 9.36245349e-01 0.00000000e+00]\n",
      " [0.00000000e+00 0.00000000e+00 0.00000000e+00 0.00000000e+00]]\n"
     ]
    }
   ],
   "source": [
    "#Initialize table with all zeros\n",
    "Q = np.zeros([env.observation_space.n,env.action_space.n])\n",
    "# Set learning parameters\n",
    "lr = .8\n",
    "y = .95\n",
    "num_episodes = 1000\n",
    "#create lists to contain total rewards and steps per episode\n",
    "#jList = []\n",
    "rList = []\n",
    "for i in range(num_episodes):\n",
    "    #Reset environment and get first new observation\n",
    "    s = env.reset()\n",
    "    rAll = 0\n",
    "    d = False\n",
    "    j = 0\n",
    "    #The Q-Table learning algorithm\n",
    "    while j < 99:\n",
    "        j+=1\n",
    "        #Choose an action by greedily (with noise) picking from Q table\n",
    "        a = np.argmax(Q[s,:] + np.random.randn(1,env.action_space.n)*(1./(i+1)))\n",
    "        #Get new state and reward from environment\n",
    "        s1,r,d,_ = env.step(a)\n",
    "        #Update Q-Table with new knowledge\n",
    "        Q[s,a] = Q[s,a] + lr*(r + y*np.max(Q[s1,:]) - Q[s,a])\n",
    "        rAll += r\n",
    "        s = s1\n",
    "        if d == True:\n",
    "            break\n",
    "    #jList.append(j)\n",
    "    rList.append(rAll)\n",
    "    \n",
    "print \"Score over time: \" +  str(sum(rList)/num_episodes)\n",
    "print \"Final Q-Table Values\"\n",
    "print Q"
   ]
  },
  {
   "cell_type": "markdown",
   "metadata": {},
   "source": [
    "Ok, so about half."
   ]
  }
 ],
 "metadata": {
  "kernelspec": {
   "display_name": "Python 2",
   "language": "python",
   "name": "python2"
  },
  "language_info": {
   "codemirror_mode": {
    "name": "ipython",
    "version": 2
   },
   "file_extension": ".py",
   "mimetype": "text/x-python",
   "name": "python",
   "nbconvert_exporter": "python",
   "pygments_lexer": "ipython2",
   "version": "2.7.14"
  }
 },
 "nbformat": 4,
 "nbformat_minor": 2
}
