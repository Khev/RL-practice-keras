{
 "cells": [
  {
   "cell_type": "markdown",
   "metadata": {},
   "source": [
    "# Introduction\n",
    "\n",
    "1. I changed the keras code so that I could use it to update the actor model with a custom gradient\n",
    "2. I am adding parameter noise, as suggested by OpenAI\n",
    "\n",
    "When doing a hyperparameter search, I solved the problem at the parameter values below (see the figures in the stats/ folder). But, I'm having a hard time reproducing. This is to be expected, since there is randomness in tensorflow. According to link below, you should re-run the same net a bunch of times, and find the average; makes sense, although costly from a training perspective. Another option is to seed tensorflow. \n",
    "\n",
    "I'm going to do both, run an ensemble at the same parameter values, but with specified seeds. That way, at testing time, I can use the specified seed.\n",
    "\n",
    "https://machinelearningmastery.com/reproducible-results-neural-networks-keras/\n",
    "\n",
    "Notes: getting the action exploration right was the hard part. I believe (must check more rigorously) that adding the parameter noise was the key\n"
   ]
  },
  {
   "cell_type": "code",
   "execution_count": null,
   "metadata": {},
   "outputs": [
    {
     "name": "stdout",
     "output_type": "stream",
     "text": [
      "\u001b[33mWARN: gym.spaces.Box autodetected dtype as <type 'numpy.float32'>. Please provide explicit dtype.\u001b[0m\n",
      "\u001b[33mWARN: gym.spaces.Box autodetected dtype as <type 'numpy.float32'>. Please provide explicit dtype.\u001b[0m\n",
      "(episode, score, steps, T (mins)) = (10, -47.24178641634236, 999, 3.150569252173106)\n",
      "(episode, score, steps, T (mins)) = (20, -96.89545802500929, 999, 3.9171311497688293)\n",
      "(episode, score, steps, T (mins)) = (30, -98.26857317421621, 999, 4.52061056693395)\n",
      "(episode, score, steps, T (mins)) = (40, -98.69244314457931, 999, 3.220266032218933)\n",
      "(episode, score, steps, T (mins)) = (50, -98.0856685617494, 999, 2.1233142177263895)\n",
      "(episode, score, steps, T (mins)) = (60, -97.47859763571951, 999, 2.1736045161883037)\n"
     ]
    }
   ],
   "source": [
    "import gym\n",
    "import time\n",
    "import numpy as np\n",
    "import matplotlib.pyplot as plt\n",
    "from agent import Agent\n",
    "%matplotlib inline\n",
    "\n",
    "#Environment\n",
    "seed = 14\n",
    "env = gym.make('MountainCarContinuous-v0')\n",
    "env.seed(seed)  # for comparison\n",
    "num_states = env.observation_space.shape[0]\n",
    "num_actions = env.action_space.shape[0]\n",
    "\n",
    "#Agent\n",
    "gamma, lr, tau = 0.99, 0.0001, 0.001\n",
    "agent = Agent(num_states, num_actions, lr, gamma, seed_num = seed)\n",
    "agent.memory_size = 10**4\n",
    "agent.batchsize = 256\n",
    "learning_start = 25*agent.batchsize\n",
    "agent.tau = tau\n",
    "\n",
    "\n",
    "#Train\n",
    "EPISODES = 200\n",
    "MAX_STEPS = 1000\n",
    "scores = []\n",
    "for e in range(1,EPISODES+1):\n",
    "    state = env.reset()\n",
    "    reward_sum = 0\n",
    "    done = False\n",
    "    steps = 0\n",
    "    t1 = time.time()\n",
    "    \n",
    "    while not done:\n",
    "        #env.render()\n",
    "        state = np.reshape(state, [1, num_states])  #reshape for keras\n",
    "        action = agent.act(state)\n",
    "        next_state, reward, done, _ = env.step(action)\n",
    "        reward_sum += reward\n",
    "        agent.remember(state[0], action, reward, next_state, done)\n",
    "        state = next_state\n",
    "        \n",
    "        if len(agent.memory) > learning_start:\n",
    "            agent.train_models()\n",
    "        \n",
    "        steps += 1\n",
    "        if done or steps > MAX_STEPS:\n",
    "            break\n",
    "    \n",
    "    #Learn & print results\n",
    "    scores.append(reward_sum)\n",
    "    t2 = time.time()\n",
    "    if e % 10 == 0:\n",
    "        print '(episode, score, steps, T (mins)) = ' + str((e,reward_sum, steps, (t2-t1)/60.0))\n",
    "\n",
    "#agent.save_target_weights()\n",
    "plt.plot(scores)\n",
    "#np.savetxt('stats/scores_inverted_pendulum.txt',scores)"
   ]
  },
  {
   "cell_type": "markdown",
   "metadata": {},
   "source": [
    "### Watch a smart agent"
   ]
  },
  {
   "cell_type": "code",
   "execution_count": 4,
   "metadata": {
    "collapsed": true
   },
   "outputs": [],
   "source": [
    "done = False\n",
    "while not done:\n",
    "    env.render()\n",
    "    state = np.reshape(state, [1, num_states])  #reshape for keras\n",
    "    action = agent.act(state)\n",
    "    next_state, reward, done, _ = env.step(action)\n",
    "    reward_sum += reward\n",
    "    agent.remember(state[0], action, reward, next_state, done)\n",
    "    state = next_state\n",
    "    if done:\n",
    "        break\n",
    "env.close()"
   ]
  },
  {
   "cell_type": "markdown",
   "metadata": {},
   "source": [
    "### Load a smart agent"
   ]
  },
  {
   "cell_type": "code",
   "execution_count": 5,
   "metadata": {},
   "outputs": [
    {
     "name": "stdout",
     "output_type": "stream",
     "text": [
      "\u001b[33mWARN: gym.spaces.Box autodetected dtype as <type 'numpy.float32'>. Please provide explicit dtype.\u001b[0m\n",
      "\u001b[33mWARN: gym.spaces.Box autodetected dtype as <type 'numpy.float32'>. Please provide explicit dtype.\u001b[0m\n"
     ]
    }
   ],
   "source": [
    "import gym\n",
    "import time\n",
    "import numpy as np\n",
    "import matplotlib.pyplot as plt\n",
    "from agent import Agent\n",
    "%matplotlib inline\n",
    "\n",
    "#Environment\n",
    "seed = 6\n",
    "env = gym.make('MountainCarContinuous-v0')\n",
    "env.seed(seed)  # for comparison\n",
    "num_states = env.observation_space.shape[0]\n",
    "num_actions = env.action_space.shape[0]\n",
    "\n",
    "#Agent\n",
    "gamma, lr, tau = 0.99, 0.0001, 0.001\n",
    "agent = Agent(num_states, num_actions, lr, gamma, seed_num = seed)\n",
    "agent.memory_size = 10**4\n",
    "agent.batchsize = 256\n",
    "learning_start = 25*agent.batchsize\n",
    "agent.tau = tau\n",
    "\n",
    "\n",
    "#Load\n",
    "agent.load_target_weights(gamma,lr,tau)\n",
    "state = env.reset()\n",
    "done = False\n",
    "while not done:\n",
    "    env.render()\n",
    "    state = np.reshape(state, [1, num_states])  #reshape for keras\n",
    "    action = agent.actor.target_model.predict(state)[0]\n",
    "    next_state, reward, done, _ = env.step(action)\n",
    "    agent.remember(state[0], action, reward, next_state, done)\n",
    "    state = next_state\n",
    "    if done:\n",
    "        break\n",
    "env.close()"
   ]
  }
 ],
 "metadata": {
  "kernelspec": {
   "display_name": "Python 2",
   "language": "python",
   "name": "python2"
  },
  "language_info": {
   "codemirror_mode": {
    "name": "ipython",
    "version": 2
   },
   "file_extension": ".py",
   "mimetype": "text/x-python",
   "name": "python",
   "nbconvert_exporter": "python",
   "pygments_lexer": "ipython2",
   "version": "2.7.14"
  }
 },
 "nbformat": 4,
 "nbformat_minor": 2
}
