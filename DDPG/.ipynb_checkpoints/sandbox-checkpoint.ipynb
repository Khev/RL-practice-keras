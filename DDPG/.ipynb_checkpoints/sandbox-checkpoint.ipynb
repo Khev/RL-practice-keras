{
 "cells": [
  {
   "cell_type": "code",
   "execution_count": 1,
   "metadata": {},
   "outputs": [
    {
     "name": "stderr",
     "output_type": "stream",
     "text": [
      "/home/kokeeffe/anaconda2/lib/python2.7/site-packages/h5py/__init__.py:34: FutureWarning: Conversion of the second argument of issubdtype from `float` to `np.floating` is deprecated. In future, it will be treated as `np.float64 == np.dtype(float).type`.\n",
      "  from ._conv import register_converters as _register_converters\n",
      "Using TensorFlow backend.\n"
     ]
    },
    {
     "name": "stdout",
     "output_type": "stream",
     "text": [
      "\u001b[33mWARN: gym.spaces.Box autodetected dtype as <type 'numpy.float32'>. Please provide explicit dtype.\u001b[0m\n",
      "\u001b[33mWARN: gym.spaces.Box autodetected dtype as <type 'numpy.float32'>. Please provide explicit dtype.\u001b[0m\n"
     ]
    }
   ],
   "source": [
    "import numpy as np\n",
    "import tensorflow as tf\n",
    "import keras.backend as K\n",
    "import gym\n",
    "from critic import Critic\n",
    "from actor import Actor\n",
    "\n",
    "import numpy as np\n",
    "import tensorflow as tf\n",
    "import keras.backend as K\n",
    "\n",
    "from keras.initializers import RandomUniform\n",
    "from keras.models import Model, load_model\n",
    "from keras.layers import Input, Dense, Reshape, LSTM, Lambda, BatchNormalization, GaussianNoise, Flatten\n",
    "from keras.optimizers import Adam \n",
    "\n",
    "\n",
    "#Environment\n",
    "env = gym.make('MountainCarContinuous-v0')\n",
    "env.seed(1)  # for comparison\n",
    "env_dim = env.observation_space.shape[0]\n",
    "act_dim = env.action_space.shape[0]\n",
    "\n",
    "\n",
    "#Agent\n",
    "lr,gamma = 0.001, 0.99\n",
    "act_range = 10\n",
    "#actor = Actor(env_dim, act_dim, lr)\n",
    "critic = Critic(env_dim, act_dim, lr, gamma)\n",
    "\n",
    "\n",
    "inp = Input(shape = (env_dim,))\n",
    "x = Dense(256, activation='relu')(inp)\n",
    "#x = GaussianNoise(1.0)(x)\n",
    "#x = Flatten()(x)   # I assume this is if the input is a convolutional neural net?\n",
    "x = Dense(128, activation='relu')(x)\n",
    "#x = GaussianNoise(1.0)(x)\n",
    "out = Dense(act_dim, activation='tanh', kernel_initializer=RandomUniform())(x)\n",
    "out = Lambda(lambda i: i * act_range)(out)\n",
    "model = Model(inp, out)\n",
    "model.compile(loss='mse',optimizer=Adam(lr))"
   ]
  },
  {
   "cell_type": "code",
   "execution_count": 1,
   "metadata": {},
   "outputs": [
    {
     "ename": "NameError",
     "evalue": "name 'model' is not defined",
     "output_type": "error",
     "traceback": [
      "\u001b[0;31m---------------------------------------------------------------------------\u001b[0m",
      "\u001b[0;31mNameError\u001b[0m                                 Traceback (most recent call last)",
      "\u001b[0;32m<ipython-input-1-aee3b212e9e7>\u001b[0m in \u001b[0;36m<module>\u001b[0;34m()\u001b[0m\n\u001b[1;32m      1\u001b[0m \u001b[0;34m\"\"\" Define function  \"\"\"\u001b[0m\u001b[0;34m\u001b[0m\u001b[0m\n\u001b[1;32m      2\u001b[0m \u001b[0;31m#Inputs\u001b[0m\u001b[0;34m\u001b[0m\u001b[0;34m\u001b[0m\u001b[0m\n\u001b[0;32m----> 3\u001b[0;31m \u001b[0mstate_pl\u001b[0m \u001b[0;34m=\u001b[0m \u001b[0mmodel\u001b[0m\u001b[0;34m.\u001b[0m\u001b[0minput\u001b[0m\u001b[0;34m\u001b[0m\u001b[0m\n\u001b[0m\u001b[1;32m      4\u001b[0m \u001b[0maction_grads_pl\u001b[0m \u001b[0;34m=\u001b[0m \u001b[0mK\u001b[0m\u001b[0;34m.\u001b[0m\u001b[0mplaceholder\u001b[0m\u001b[0;34m(\u001b[0m\u001b[0mshape\u001b[0m\u001b[0;34m=\u001b[0m\u001b[0;34m(\u001b[0m\u001b[0mNone\u001b[0m\u001b[0;34m,\u001b[0m\u001b[0;36m1\u001b[0m\u001b[0;34m)\u001b[0m\u001b[0;34m)\u001b[0m\u001b[0;34m\u001b[0m\u001b[0m\n\u001b[1;32m      5\u001b[0m \u001b[0;34m\u001b[0m\u001b[0m\n",
      "\u001b[0;31mNameError\u001b[0m: name 'model' is not defined"
     ]
    }
   ],
   "source": [
    "\"\"\" Define function  \"\"\"\n",
    "#Inputs\n",
    "state_pl = model.input\n",
    "action_grads_pl = K.placeholder(shape=(None,1))  \n",
    "\n",
    "#Find grad_(pars) mu(state)\n",
    "mu_pl = model.output\n",
    "pars = model.trainable_weights\n",
    "grads = tf.gradients(mu_pl, pars, - action_grads_pl)\n",
    "grads_and_pars = zip(grads, model.trainable_weights)  #keras needs this format \n",
    "operation = tf.train.AdamOptimizer(lr).apply_gradients(grads_and_pars)\n",
    "func = K.function(inputs = [state_pl, action_grads_pl], outputs = [operation])\n",
    "\n",
    "#grads_and_pars_pl = [ (tf.placeholder(\"float\",shape=x[0].shape), x[1]) for x in grads_and_pars]\n",
    "#updates = tf.train.AdamOptimizer(lr).apply_gradients(grads_and_pars_pl)\n",
    "#func = K.function(inputs = [state_pl, action_grads_pl, grads_and_pars_pl], outputs = [updates])\n",
    "\n",
    "func2 = K.function([state_pl, action_grads_pl],[operation])\n",
    "\n",
    "\"\"\" Test function  \"\"\"\n",
    "state = np.array([[1,2]])\n",
    "action = np.array([[0.5]])\n",
    "mu = model.predict(state)\n",
    "pars = model.trainable_weights\n",
    "action_grads = critic.find_action_grads([state,action])[0]\n",
    "#func([state,action_grads, grads_and_pars])\n",
    "func2([state, action_grads])"
   ]
  },
  {
   "cell_type": "markdown",
   "metadata": {},
   "source": [
    "### Pure  tensorflow "
   ]
  },
  {
   "cell_type": "code",
   "execution_count": 200,
   "metadata": {},
   "outputs": [
    {
     "name": "stdout",
     "output_type": "stream",
     "text": [
      "[[-0.00171607]]\n",
      "\n",
      " [[0.02899274]]\n"
     ]
    }
   ],
   "source": [
    "#Define model\n",
    "inp = Input(shape = (env_dim,))\n",
    "x = Dense(3, activation='relu')(inp)\n",
    "#x = GaussianNoise(1.0)(x)\n",
    "#x = Flatten()(x)   # I assume this is if the input is a convolutional neural net?\n",
    "x = Dense(3, activation='relu')(x)\n",
    "#x = GaussianNoise(1.0)(x)\n",
    "out = Dense(act_dim, activation='tanh', kernel_initializer=RandomUniform())(x)\n",
    "out = Lambda(lambda i: i * act_range)(out)\n",
    "model = Model(inp, out)\n",
    "model.compile(loss='mse',optimizer=Adam(lr))\n",
    "\n",
    "\n",
    "#Define the graph\n",
    "mu_pl = model.output\n",
    "action_pl = K.placeholder(shape=(None,act_dim),name='action_pl')\n",
    "pars = model.trainable_weights\n",
    "grads = tf.gradients(mu_pl, pars, -action_pl)\n",
    "grads_and_pars = zip(grads,pars)\n",
    "optimizer = tf.train.GradientDescentOptimizer(learning_rate=0.1)\n",
    "operation = optimizer.apply_gradients(grads_and_pars)\n",
    "\n",
    "#Do the operation\n",
    "sess = tf.InteractiveSession()\n",
    "sess.run(tf.initialize_all_variables())\n",
    "\n",
    "state = np.array([[1.2,1.4]])\n",
    "action = np.array([[3.4]])\n",
    "print model.predict(state)\n",
    "action_grads = critic.find_action_grads([state,action])[0]\n",
    "\n",
    "sess.run(operation, feed_dict={inp:state, action_pl:action_grads})\n",
    "print '\\n ' + str(model.predict(state))"
   ]
  },
  {
   "cell_type": "markdown",
   "metadata": {},
   "source": [
    "Great! Now to figure out how to get keras to do it\n",
    "\n",
    "### Keras"
   ]
  },
  {
   "cell_type": "code",
   "execution_count": 212,
   "metadata": {},
   "outputs": [
    {
     "name": "stdout",
     "output_type": "stream",
     "text": [
      "[[-0.05441897]]\n"
     ]
    },
    {
     "name": "stderr",
     "output_type": "stream",
     "text": [
      "Exception tensorflow.python.framework.errors_impl.InvalidArgumentError: InvalidArgumentError() in <bound method _Callable.__del__ of <tensorflow.python.client.session._Callable object at 0x7fe278feaa10>> ignored\n"
     ]
    },
    {
     "ename": "OutOfRangeError",
     "evalue": "Node 'opt_3' (type: 'NoOp', num of outputs: 0) does not have output 0",
     "output_type": "error",
     "traceback": [
      "\u001b[0;31m---------------------------------------------------------------------------\u001b[0m",
      "\u001b[0;31mOutOfRangeError\u001b[0m                           Traceback (most recent call last)",
      "\u001b[0;32m<ipython-input-212-9f3b00776bec>\u001b[0m in \u001b[0;36m<module>\u001b[0;34m()\u001b[0m\n\u001b[1;32m     31\u001b[0m \u001b[0msess\u001b[0m \u001b[0;34m=\u001b[0m \u001b[0mtf\u001b[0m\u001b[0;34m.\u001b[0m\u001b[0mInteractiveSession\u001b[0m\u001b[0;34m(\u001b[0m\u001b[0;34m)\u001b[0m\u001b[0;34m\u001b[0m\u001b[0m\n\u001b[1;32m     32\u001b[0m \u001b[0msess\u001b[0m\u001b[0;34m.\u001b[0m\u001b[0mrun\u001b[0m\u001b[0;34m(\u001b[0m\u001b[0mtf\u001b[0m\u001b[0;34m.\u001b[0m\u001b[0minitialize_all_variables\u001b[0m\u001b[0;34m(\u001b[0m\u001b[0;34m)\u001b[0m\u001b[0;34m)\u001b[0m\u001b[0;34m\u001b[0m\u001b[0m\n\u001b[0;32m---> 33\u001b[0;31m \u001b[0mapply_grad\u001b[0m\u001b[0;34m(\u001b[0m\u001b[0;34m[\u001b[0m\u001b[0mstate\u001b[0m\u001b[0;34m,\u001b[0m\u001b[0maction_grads\u001b[0m\u001b[0;34m]\u001b[0m\u001b[0;34m)\u001b[0m\u001b[0;34m\u001b[0m\u001b[0m\n\u001b[0m\u001b[1;32m     34\u001b[0m \u001b[0;34m\u001b[0m\u001b[0m\n\u001b[1;32m     35\u001b[0m \u001b[0;31m#sess.run(operation, feed_dict={inp:state, action_pl:action_grads})\u001b[0m\u001b[0;34m\u001b[0m\u001b[0;34m\u001b[0m\u001b[0m\n",
      "\u001b[0;32m/home/kokeeffe/anaconda2/lib/python2.7/site-packages/keras/backend/tensorflow_backend.pyc\u001b[0m in \u001b[0;36m__call__\u001b[0;34m(self, inputs)\u001b[0m\n\u001b[1;32m   2713\u001b[0m                 \u001b[0;32mreturn\u001b[0m \u001b[0mself\u001b[0m\u001b[0;34m.\u001b[0m\u001b[0m_legacy_call\u001b[0m\u001b[0;34m(\u001b[0m\u001b[0minputs\u001b[0m\u001b[0;34m)\u001b[0m\u001b[0;34m\u001b[0m\u001b[0m\n\u001b[1;32m   2714\u001b[0m \u001b[0;34m\u001b[0m\u001b[0m\n\u001b[0;32m-> 2715\u001b[0;31m             \u001b[0;32mreturn\u001b[0m \u001b[0mself\u001b[0m\u001b[0;34m.\u001b[0m\u001b[0m_call\u001b[0m\u001b[0;34m(\u001b[0m\u001b[0minputs\u001b[0m\u001b[0;34m)\u001b[0m\u001b[0;34m\u001b[0m\u001b[0m\n\u001b[0m\u001b[1;32m   2716\u001b[0m         \u001b[0;32melse\u001b[0m\u001b[0;34m:\u001b[0m\u001b[0;34m\u001b[0m\u001b[0m\n\u001b[1;32m   2717\u001b[0m             \u001b[0;32mif\u001b[0m \u001b[0mpy_any\u001b[0m\u001b[0;34m(\u001b[0m\u001b[0mis_tensor\u001b[0m\u001b[0;34m(\u001b[0m\u001b[0mx\u001b[0m\u001b[0;34m)\u001b[0m \u001b[0;32mfor\u001b[0m \u001b[0mx\u001b[0m \u001b[0;32min\u001b[0m \u001b[0minputs\u001b[0m\u001b[0;34m)\u001b[0m\u001b[0;34m:\u001b[0m\u001b[0;34m\u001b[0m\u001b[0m\n",
      "\u001b[0;32m/home/kokeeffe/anaconda2/lib/python2.7/site-packages/keras/backend/tensorflow_backend.pyc\u001b[0m in \u001b[0;36m_call\u001b[0;34m(self, inputs)\u001b[0m\n\u001b[1;32m   2669\u001b[0m                                 \u001b[0mfeed_symbols\u001b[0m\u001b[0;34m,\u001b[0m\u001b[0;34m\u001b[0m\u001b[0m\n\u001b[1;32m   2670\u001b[0m                                 \u001b[0msymbol_vals\u001b[0m\u001b[0;34m,\u001b[0m\u001b[0;34m\u001b[0m\u001b[0m\n\u001b[0;32m-> 2671\u001b[0;31m                                 session)\n\u001b[0m\u001b[1;32m   2672\u001b[0m         \u001b[0;32mif\u001b[0m \u001b[0mself\u001b[0m\u001b[0;34m.\u001b[0m\u001b[0mrun_metadata\u001b[0m\u001b[0;34m:\u001b[0m\u001b[0;34m\u001b[0m\u001b[0m\n\u001b[1;32m   2673\u001b[0m             \u001b[0mfetched\u001b[0m \u001b[0;34m=\u001b[0m \u001b[0mself\u001b[0m\u001b[0;34m.\u001b[0m\u001b[0m_callable_fn\u001b[0m\u001b[0;34m(\u001b[0m\u001b[0;34m*\u001b[0m\u001b[0marray_vals\u001b[0m\u001b[0;34m,\u001b[0m \u001b[0mrun_metadata\u001b[0m\u001b[0;34m=\u001b[0m\u001b[0mself\u001b[0m\u001b[0;34m.\u001b[0m\u001b[0mrun_metadata\u001b[0m\u001b[0;34m)\u001b[0m\u001b[0;34m\u001b[0m\u001b[0m\n",
      "\u001b[0;32m/home/kokeeffe/anaconda2/lib/python2.7/site-packages/keras/backend/tensorflow_backend.pyc\u001b[0m in \u001b[0;36m_make_callable\u001b[0;34m(self, feed_arrays, feed_symbols, symbol_vals, session)\u001b[0m\n\u001b[1;32m   2621\u001b[0m             \u001b[0mcallable_opts\u001b[0m\u001b[0;34m.\u001b[0m\u001b[0mrun_options\u001b[0m\u001b[0;34m.\u001b[0m\u001b[0mCopyFrom\u001b[0m\u001b[0;34m(\u001b[0m\u001b[0mself\u001b[0m\u001b[0;34m.\u001b[0m\u001b[0mrun_options\u001b[0m\u001b[0;34m)\u001b[0m\u001b[0;34m\u001b[0m\u001b[0m\n\u001b[1;32m   2622\u001b[0m         \u001b[0;31m# Create callable.\u001b[0m\u001b[0;34m\u001b[0m\u001b[0;34m\u001b[0m\u001b[0m\n\u001b[0;32m-> 2623\u001b[0;31m         \u001b[0mcallable_fn\u001b[0m \u001b[0;34m=\u001b[0m \u001b[0msession\u001b[0m\u001b[0;34m.\u001b[0m\u001b[0m_make_callable_from_options\u001b[0m\u001b[0;34m(\u001b[0m\u001b[0mcallable_opts\u001b[0m\u001b[0;34m)\u001b[0m\u001b[0;34m\u001b[0m\u001b[0m\n\u001b[0m\u001b[1;32m   2624\u001b[0m         \u001b[0;31m# Cache parameters corresponding to the generated callable, so that\u001b[0m\u001b[0;34m\u001b[0m\u001b[0;34m\u001b[0m\u001b[0m\n\u001b[1;32m   2625\u001b[0m         \u001b[0;31m# we can detect future mismatches and refresh the callable.\u001b[0m\u001b[0;34m\u001b[0m\u001b[0;34m\u001b[0m\u001b[0m\n",
      "\u001b[0;32m/home/kokeeffe/anaconda2/lib/python2.7/site-packages/tensorflow/python/client/session.pyc\u001b[0m in \u001b[0;36m_make_callable_from_options\u001b[0;34m(self, callable_options)\u001b[0m\n\u001b[1;32m   1412\u001b[0m     \"\"\"\n\u001b[1;32m   1413\u001b[0m     \u001b[0mself\u001b[0m\u001b[0;34m.\u001b[0m\u001b[0m_extend_graph\u001b[0m\u001b[0;34m(\u001b[0m\u001b[0;34m)\u001b[0m\u001b[0;34m\u001b[0m\u001b[0m\n\u001b[0;32m-> 1414\u001b[0;31m     \u001b[0;32mreturn\u001b[0m \u001b[0mBaseSession\u001b[0m\u001b[0;34m.\u001b[0m\u001b[0m_Callable\u001b[0m\u001b[0;34m(\u001b[0m\u001b[0mself\u001b[0m\u001b[0;34m,\u001b[0m \u001b[0mcallable_options\u001b[0m\u001b[0;34m)\u001b[0m\u001b[0;34m\u001b[0m\u001b[0m\n\u001b[0m\u001b[1;32m   1415\u001b[0m \u001b[0;34m\u001b[0m\u001b[0m\n\u001b[1;32m   1416\u001b[0m \u001b[0;34m\u001b[0m\u001b[0m\n",
      "\u001b[0;32m/home/kokeeffe/anaconda2/lib/python2.7/site-packages/tensorflow/python/client/session.pyc\u001b[0m in \u001b[0;36m__init__\u001b[0;34m(self, session, callable_options)\u001b[0m\n\u001b[1;32m   1366\u001b[0m         \u001b[0;32mwith\u001b[0m \u001b[0merrors\u001b[0m\u001b[0;34m.\u001b[0m\u001b[0mraise_exception_on_not_ok_status\u001b[0m\u001b[0;34m(\u001b[0m\u001b[0;34m)\u001b[0m \u001b[0;32mas\u001b[0m \u001b[0mstatus\u001b[0m\u001b[0;34m:\u001b[0m\u001b[0;34m\u001b[0m\u001b[0m\n\u001b[1;32m   1367\u001b[0m           self._handle = tf_session.TF_SessionMakeCallable(\n\u001b[0;32m-> 1368\u001b[0;31m               session._session, options_ptr, status)\n\u001b[0m\u001b[1;32m   1369\u001b[0m       \u001b[0;32mfinally\u001b[0m\u001b[0;34m:\u001b[0m\u001b[0;34m\u001b[0m\u001b[0m\n\u001b[1;32m   1370\u001b[0m         \u001b[0mtf_session\u001b[0m\u001b[0;34m.\u001b[0m\u001b[0mTF_DeleteBuffer\u001b[0m\u001b[0;34m(\u001b[0m\u001b[0moptions_ptr\u001b[0m\u001b[0;34m)\u001b[0m\u001b[0;34m\u001b[0m\u001b[0m\n",
      "\u001b[0;32m/home/kokeeffe/anaconda2/lib/python2.7/site-packages/tensorflow/python/framework/errors_impl.pyc\u001b[0m in \u001b[0;36m__exit__\u001b[0;34m(self, type_arg, value_arg, traceback_arg)\u001b[0m\n\u001b[1;32m    517\u001b[0m             \u001b[0mNone\u001b[0m\u001b[0;34m,\u001b[0m \u001b[0mNone\u001b[0m\u001b[0;34m,\u001b[0m\u001b[0;34m\u001b[0m\u001b[0m\n\u001b[1;32m    518\u001b[0m             \u001b[0mcompat\u001b[0m\u001b[0;34m.\u001b[0m\u001b[0mas_text\u001b[0m\u001b[0;34m(\u001b[0m\u001b[0mc_api\u001b[0m\u001b[0;34m.\u001b[0m\u001b[0mTF_Message\u001b[0m\u001b[0;34m(\u001b[0m\u001b[0mself\u001b[0m\u001b[0;34m.\u001b[0m\u001b[0mstatus\u001b[0m\u001b[0;34m.\u001b[0m\u001b[0mstatus\u001b[0m\u001b[0;34m)\u001b[0m\u001b[0;34m)\u001b[0m\u001b[0;34m,\u001b[0m\u001b[0;34m\u001b[0m\u001b[0m\n\u001b[0;32m--> 519\u001b[0;31m             c_api.TF_GetCode(self.status.status))\n\u001b[0m\u001b[1;32m    520\u001b[0m     \u001b[0;31m# Delete the underlying status object from memory otherwise it stays alive\u001b[0m\u001b[0;34m\u001b[0m\u001b[0;34m\u001b[0m\u001b[0m\n\u001b[1;32m    521\u001b[0m     \u001b[0;31m# as there is a reference to status from this from the traceback due to\u001b[0m\u001b[0;34m\u001b[0m\u001b[0;34m\u001b[0m\u001b[0m\n",
      "\u001b[0;31mOutOfRangeError\u001b[0m: Node 'opt_3' (type: 'NoOp', num of outputs: 0) does not have output 0"
     ]
    }
   ],
   "source": [
    "#Define model\n",
    "inp = Input(shape = (env_dim,))\n",
    "x = Dense(3, activation='relu')(inp)\n",
    "#x = GaussianNoise(1.0)(x)\n",
    "#x = Flatten()(x)   # I assume this is if the input is a convolutional neural net?\n",
    "x = Dense(3, activation='relu')(x)\n",
    "#x = GaussianNoise(1.0)(x)\n",
    "out = Dense(act_dim, activation='tanh', kernel_initializer=RandomUniform())(x)\n",
    "out = Lambda(lambda i: i * act_range)(out)\n",
    "model = Model(inp, out)\n",
    "model.compile(loss='mse',optimizer=Adam(lr))\n",
    "\n",
    "\n",
    "#Define the graph\n",
    "state_pl = model.input\n",
    "mu_pl = model.output\n",
    "action_pl = K.placeholder(shape=(None,act_dim),name='action_pl')\n",
    "pars = model.trainable_weights\n",
    "grads = tf.gradients(mu_pl, pars, -action_pl)\n",
    "grads_and_pars = zip(grads,pars)\n",
    "optimizer = tf.train.GradientDescentOptimizer(learning_rate=0.1)\n",
    "operation = optimizer.apply_gradients(grads_and_pars, name='opt')\n",
    "apply_grad = K.function([state_pl, action_grads_pl],[operation])\n",
    "\n",
    "\n",
    "state = np.array([[1.2,1.4]])\n",
    "action = np.array([[3.4]])\n",
    "print model.predict(state)\n",
    "action_grads = critic.find_action_grads([state,action])[0]\n",
    "\n",
    "sess = tf.InteractiveSession()\n",
    "sess.run(tf.initialize_all_variables())\n",
    "apply_grad([state,action_grads])\n",
    "\n",
    "#sess.run(operation, feed_dict={inp:state, action_pl:action_grads})\n",
    "#print '\\n ' + str(model.predict(state))"
   ]
  },
  {
   "cell_type": "markdown",
   "metadata": {},
   "source": [
    "### Keras for A2C"
   ]
  },
  {
   "cell_type": "code",
   "execution_count": 2,
   "metadata": {},
   "outputs": [
    {
     "ename": "AssertionError",
     "evalue": "",
     "output_type": "error",
     "traceback": [
      "\u001b[0;31m---------------------------------------------------------------------------\u001b[0m",
      "\u001b[0;31mAssertionError\u001b[0m                            Traceback (most recent call last)",
      "\u001b[0;32m<ipython-input-2-e23a92b449fe>\u001b[0m in \u001b[0;36m<module>\u001b[0;34m()\u001b[0m\n\u001b[1;32m     24\u001b[0m \u001b[0mloss\u001b[0m \u001b[0;34m=\u001b[0m \u001b[0mK\u001b[0m\u001b[0;34m.\u001b[0m\u001b[0mstop_gradient\u001b[0m\u001b[0;34m(\u001b[0m\u001b[0mgrads\u001b[0m\u001b[0;34m)\u001b[0m\u001b[0;34m\u001b[0m\u001b[0m\n\u001b[1;32m     25\u001b[0m \u001b[0mopt\u001b[0m \u001b[0;34m=\u001b[0m \u001b[0mAdam\u001b[0m\u001b[0;34m(\u001b[0m\u001b[0mlr\u001b[0m\u001b[0;34m)\u001b[0m\u001b[0;34m\u001b[0m\u001b[0m\n\u001b[0;32m---> 26\u001b[0;31m \u001b[0mupdates\u001b[0m \u001b[0;34m=\u001b[0m \u001b[0mopt\u001b[0m\u001b[0;34m.\u001b[0m\u001b[0mget_updates\u001b[0m\u001b[0;34m(\u001b[0m\u001b[0mloss\u001b[0m\u001b[0;34m,\u001b[0m\u001b[0mpars\u001b[0m\u001b[0;34m)\u001b[0m\u001b[0;34m\u001b[0m\u001b[0m\n\u001b[0m\u001b[1;32m     27\u001b[0m \u001b[0mapply_grad\u001b[0m \u001b[0;34m=\u001b[0m \u001b[0mK\u001b[0m\u001b[0;34m.\u001b[0m\u001b[0mfunction\u001b[0m\u001b[0;34m(\u001b[0m\u001b[0;34m[\u001b[0m\u001b[0mstate_pl\u001b[0m\u001b[0;34m,\u001b[0m \u001b[0maction_grads_pl\u001b[0m\u001b[0;34m]\u001b[0m\u001b[0;34m,\u001b[0m \u001b[0;34m[\u001b[0m\u001b[0mupdates\u001b[0m\u001b[0;34m]\u001b[0m\u001b[0;34m)\u001b[0m\u001b[0;34m\u001b[0m\u001b[0m\n\u001b[1;32m     28\u001b[0m \u001b[0;34m\u001b[0m\u001b[0m\n",
      "\u001b[0;32m/home/kokeeffe/anaconda2/lib/python2.7/site-packages/keras/legacy/interfaces.pyc\u001b[0m in \u001b[0;36mwrapper\u001b[0;34m(*args, **kwargs)\u001b[0m\n\u001b[1;32m     32\u001b[0m                 \u001b[0mobject_name\u001b[0m \u001b[0;34m=\u001b[0m \u001b[0mfunc\u001b[0m\u001b[0;34m.\u001b[0m\u001b[0m__name__\u001b[0m\u001b[0;34m\u001b[0m\u001b[0m\n\u001b[1;32m     33\u001b[0m             \u001b[0;32mif\u001b[0m \u001b[0mpreprocessor\u001b[0m\u001b[0;34m:\u001b[0m\u001b[0;34m\u001b[0m\u001b[0m\n\u001b[0;32m---> 34\u001b[0;31m                 \u001b[0margs\u001b[0m\u001b[0;34m,\u001b[0m \u001b[0mkwargs\u001b[0m\u001b[0;34m,\u001b[0m \u001b[0mconverted\u001b[0m \u001b[0;34m=\u001b[0m \u001b[0mpreprocessor\u001b[0m\u001b[0;34m(\u001b[0m\u001b[0margs\u001b[0m\u001b[0;34m,\u001b[0m \u001b[0mkwargs\u001b[0m\u001b[0;34m)\u001b[0m\u001b[0;34m\u001b[0m\u001b[0m\n\u001b[0m\u001b[1;32m     35\u001b[0m             \u001b[0;32melse\u001b[0m\u001b[0;34m:\u001b[0m\u001b[0;34m\u001b[0m\u001b[0m\n\u001b[1;32m     36\u001b[0m                 \u001b[0mconverted\u001b[0m \u001b[0;34m=\u001b[0m \u001b[0;34m[\u001b[0m\u001b[0;34m]\u001b[0m\u001b[0;34m\u001b[0m\u001b[0m\n",
      "\u001b[0;32m/home/kokeeffe/anaconda2/lib/python2.7/site-packages/keras/legacy/interfaces.pyc\u001b[0m in \u001b[0;36mget_updates_arg_preprocessing\u001b[0;34m(args, kwargs)\u001b[0m\n\u001b[1;32m    652\u001b[0m     \u001b[0;32melif\u001b[0m \u001b[0mlen\u001b[0m\u001b[0;34m(\u001b[0m\u001b[0margs\u001b[0m\u001b[0;34m)\u001b[0m \u001b[0;34m==\u001b[0m \u001b[0;36m3\u001b[0m\u001b[0;34m:\u001b[0m\u001b[0;34m\u001b[0m\u001b[0m\n\u001b[1;32m    653\u001b[0m         \u001b[0;32mif\u001b[0m \u001b[0misinstance\u001b[0m\u001b[0;34m(\u001b[0m\u001b[0margs\u001b[0m\u001b[0;34m[\u001b[0m\u001b[0;36m1\u001b[0m\u001b[0;34m]\u001b[0m\u001b[0;34m,\u001b[0m \u001b[0;34m(\u001b[0m\u001b[0mlist\u001b[0m\u001b[0;34m,\u001b[0m \u001b[0mtuple\u001b[0m\u001b[0;34m)\u001b[0m\u001b[0;34m)\u001b[0m\u001b[0;34m:\u001b[0m\u001b[0;34m\u001b[0m\u001b[0m\n\u001b[0;32m--> 654\u001b[0;31m             \u001b[0;32massert\u001b[0m \u001b[0misinstance\u001b[0m\u001b[0;34m(\u001b[0m\u001b[0margs\u001b[0m\u001b[0;34m[\u001b[0m\u001b[0;36m2\u001b[0m\u001b[0;34m]\u001b[0m\u001b[0;34m,\u001b[0m \u001b[0mdict\u001b[0m\u001b[0;34m)\u001b[0m\u001b[0;34m\u001b[0m\u001b[0m\n\u001b[0m\u001b[1;32m    655\u001b[0m             \u001b[0;32massert\u001b[0m \u001b[0;34m'loss'\u001b[0m \u001b[0;32min\u001b[0m \u001b[0mkwargs\u001b[0m\u001b[0;34m\u001b[0m\u001b[0m\n\u001b[1;32m    656\u001b[0m             \u001b[0mopt\u001b[0m\u001b[0;34m,\u001b[0m \u001b[0mparams\u001b[0m\u001b[0;34m,\u001b[0m \u001b[0m_\u001b[0m \u001b[0;34m=\u001b[0m \u001b[0margs\u001b[0m\u001b[0;34m\u001b[0m\u001b[0m\n",
      "\u001b[0;31mAssertionError\u001b[0m: "
     ]
    }
   ],
   "source": [
    "from keras.optimizers import Adam \n",
    "\n",
    "\n",
    "#Define model\n",
    "inp = Input(shape = (env_dim,))\n",
    "x = Dense(3, activation='relu')(inp)\n",
    "#x = GaussianNoise(1.0)(x)\n",
    "#x = Flatten()(x)   # I assume this is if the input is a convolutional neural net?\n",
    "x = Dense(3, activation='relu')(x)\n",
    "#x = GaussianNoise(1.0)(x)\n",
    "out = Dense(act_dim, activation='tanh', kernel_initializer=RandomUniform())(x)\n",
    "out = Lambda(lambda i: i * act_range)(out)\n",
    "model = Model(inp, out)\n",
    "model.compile(loss='mse',optimizer=Adam(lr))\n",
    "\n",
    "\n",
    "#Define the graph\n",
    "state_pl = model.input\n",
    "mu_pl = model.output\n",
    "action_pl = K.placeholder(shape=(None,act_dim),name='action_pl')\n",
    "pars = model.trainable_weights\n",
    "grads = tf.gradients(mu_pl, pars, -action_pl)\n",
    "\n",
    "loss = K.stop_gradient(grads)\n",
    "opt = Adam(lr)\n",
    "updates = opt.get_updates(loss,pars)\n",
    "apply_grad = K.function([state_pl, action_grads_pl], [updates])\n",
    "\n",
    "\n",
    "state = np.array([[1.2,1.4]])\n",
    "action = np.array([[3.4]])\n",
    "print model.predict(state)\n",
    "action_grads = critic.find_action_grads([state,action])[0]\n",
    "\n",
    "sess = tf.InteractiveSession()\n",
    "sess.run(tf.initialize_all_variables())\n",
    "apply_grad([state,action_grads])\n",
    "\n",
    "#sess.run(operation, feed_dict={inp:state, action_pl:action_grads})\n",
    "#print '\\n ' + str(model.predict(state))"
   ]
  },
  {
   "cell_type": "markdown",
   "metadata": {},
   "source": [
    "### Change keras source code"
   ]
  },
  {
   "cell_type": "code",
   "execution_count": 3,
   "metadata": {},
   "outputs": [
    {
     "name": "stdout",
     "output_type": "stream",
     "text": [
      "[<tf.Tensor 'gradients_2/dense_10/MatMul_grad/MatMul_1:0' shape=(2, 3) dtype=float32>, <tf.Tensor 'gradients_2/dense_10/BiasAdd_grad/BiasAddGrad:0' shape=(3,) dtype=float32>, <tf.Tensor 'gradients_2/dense_11/MatMul_grad/MatMul_1:0' shape=(3, 3) dtype=float32>, <tf.Tensor 'gradients_2/dense_11/BiasAdd_grad/BiasAddGrad:0' shape=(3,) dtype=float32>, <tf.Tensor 'gradients_2/dense_12/MatMul_grad/MatMul_1:0' shape=(3, 1) dtype=float32>, <tf.Tensor 'gradients_2/dense_12/BiasAdd_grad/BiasAddGrad:0' shape=(1,) dtype=float32>]\n",
      "[[-0.65598285]]\n",
      "[[-0.68958163]]\n"
     ]
    }
   ],
   "source": [
    "#Place holders (think of these as function inputs)\n",
    "state_placeholder = model.input\n",
    "action_placeholder =  model.output\n",
    "grad_actions_pl = K.placeholder(shape=(None,act_dim))\n",
    "\n",
    "#Find log-probs\n",
    "log_action = K.log(action_placeholder) \n",
    "\n",
    "#I want to the gradient to by on the log(pi) only, so 'protect' the advantage\n",
    "# This is the way keras works -- I think!\n",
    "#eligibility = log_action*K.stop_gradient(grad_actions_pl)\n",
    "eligibility = log_action*K.stop_gradient(grad_actions_pl)\n",
    "\n",
    "\n",
    "loss = K.mean(eligibility)\n",
    "\n",
    "#Define optimizer\n",
    "adam = Adam()\n",
    "pars = model.trainable_weights\n",
    "#updates, grads = adam.get_updates(params=pars,loss=loss)\n",
    "\n",
    "grads = tf.gradients(loss,pars)\n",
    "updates, grads = adam.get_updates(params=pars,loss=loss, grads)\n",
    "\n",
    "#Then return\n",
    "func = K.function([state_placeholder, grad_actions_pl],[],updates=\n",
    "                 updates)\n",
    "\n",
    "\n",
    "\n",
    "state = np.array([[1.2,1.4]])\n",
    "action = np.array([[3.4]])\n",
    "print model.predict(state)\n",
    "action_grads = critic.find_action_grads([state,action])[0]\n",
    "func([state,action_grads])\n",
    "print model.predict(state)"
   ]
  },
  {
   "cell_type": "code",
   "execution_count": 4,
   "metadata": {},
   "outputs": [
    {
     "data": {
      "text/plain": [
       "[<tf.Tensor 'gradients_2/dense_10/MatMul_grad/MatMul_1:0' shape=(2, 3) dtype=float32>,\n",
       " <tf.Tensor 'gradients_2/dense_10/BiasAdd_grad/BiasAddGrad:0' shape=(3,) dtype=float32>,\n",
       " <tf.Tensor 'gradients_2/dense_11/MatMul_grad/MatMul_1:0' shape=(3, 3) dtype=float32>,\n",
       " <tf.Tensor 'gradients_2/dense_11/BiasAdd_grad/BiasAddGrad:0' shape=(3,) dtype=float32>,\n",
       " <tf.Tensor 'gradients_2/dense_12/MatMul_grad/MatMul_1:0' shape=(3, 1) dtype=float32>,\n",
       " <tf.Tensor 'gradients_2/dense_12/BiasAdd_grad/BiasAddGrad:0' shape=(1,) dtype=float32>]"
      ]
     },
     "execution_count": 4,
     "metadata": {},
     "output_type": "execute_result"
    }
   ],
   "source": [
    "grads = "
   ]
  },
  {
   "cell_type": "code",
   "execution_count": 5,
   "metadata": {},
   "outputs": [
    {
     "data": {
      "text/plain": [
       "[<tf.Tensor 'gradients_3/dense_10/MatMul_grad/MatMul_1:0' shape=(2, 3) dtype=float32>,\n",
       " <tf.Tensor 'gradients_3/dense_10/BiasAdd_grad/BiasAddGrad:0' shape=(3,) dtype=float32>,\n",
       " <tf.Tensor 'gradients_3/dense_11/MatMul_grad/MatMul_1:0' shape=(3, 3) dtype=float32>,\n",
       " <tf.Tensor 'gradients_3/dense_11/BiasAdd_grad/BiasAddGrad:0' shape=(3,) dtype=float32>,\n",
       " <tf.Tensor 'gradients_3/dense_12/MatMul_grad/MatMul_1:0' shape=(3, 1) dtype=float32>,\n",
       " <tf.Tensor 'gradients_3/dense_12/BiasAdd_grad/BiasAddGrad:0' shape=(1,) dtype=float32>]"
      ]
     },
     "execution_count": 5,
     "metadata": {},
     "output_type": "execute_result"
    }
   ],
   "source": [
    "K.gradients(loss,pars)"
   ]
  },
  {
   "cell_type": "code",
   "execution_count": 6,
   "metadata": {},
   "outputs": [
    {
     "data": {
      "text/plain": [
       "[<tf.Tensor 'gradients_4/dense_10/MatMul_grad/MatMul_1:0' shape=(2, 3) dtype=float32>,\n",
       " <tf.Tensor 'gradients_4/dense_10/BiasAdd_grad/BiasAddGrad:0' shape=(3,) dtype=float32>,\n",
       " <tf.Tensor 'gradients_4/dense_11/MatMul_grad/MatMul_1:0' shape=(3, 3) dtype=float32>,\n",
       " <tf.Tensor 'gradients_4/dense_11/BiasAdd_grad/BiasAddGrad:0' shape=(3,) dtype=float32>,\n",
       " <tf.Tensor 'gradients_4/dense_12/MatMul_grad/MatMul_1:0' shape=(3, 1) dtype=float32>,\n",
       " <tf.Tensor 'gradients_4/dense_12/BiasAdd_grad/BiasAddGrad:0' shape=(1,) dtype=float32>]"
      ]
     },
     "execution_count": 6,
     "metadata": {},
     "output_type": "execute_result"
    }
   ],
   "source": [
    "tf.gradients(loss,pars)"
   ]
  },
  {
   "cell_type": "code",
   "execution_count": null,
   "metadata": {
    "collapsed": true
   },
   "outputs": [],
   "source": []
  }
 ],
 "metadata": {
  "kernelspec": {
   "display_name": "Python 2",
   "language": "python",
   "name": "python2"
  },
  "language_info": {
   "codemirror_mode": {
    "name": "ipython",
    "version": 2
   },
   "file_extension": ".py",
   "mimetype": "text/x-python",
   "name": "python",
   "nbconvert_exporter": "python",
   "pygments_lexer": "ipython2",
   "version": "2.7.14"
  }
 },
 "nbformat": 4,
 "nbformat_minor": 2
}
