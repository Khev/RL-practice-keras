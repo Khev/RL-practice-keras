{
 "cells": [
  {
   "cell_type": "markdown",
   "metadata": {},
   "source": [
    "# Introduction\n",
    "\n",
    "In this copy, I just quickly wanted to re-run something "
   ]
  },
  {
   "cell_type": "code",
   "execution_count": null,
   "metadata": {},
   "outputs": [
    {
     "name": "stderr",
     "output_type": "stream",
     "text": [
      "/home/kokeeffe/anaconda2/lib/python2.7/site-packages/h5py/__init__.py:34: FutureWarning: Conversion of the second argument of issubdtype from `float` to `np.floating` is deprecated. In future, it will be treated as `np.float64 == np.dtype(float).type`.\n",
      "  from ._conv import register_converters as _register_converters\n",
      "Using TensorFlow backend.\n"
     ]
    },
    {
     "name": "stdout",
     "output_type": "stream",
     "text": [
      "\u001b[33mWARN: gym.spaces.Box autodetected dtype as <type 'numpy.float32'>. Please provide explicit dtype.\u001b[0m\n",
      "\u001b[33mWARN: gym.spaces.Box autodetected dtype as <type 'numpy.float32'>. Please provide explicit dtype.\u001b[0m\n",
      "(episode, score, steps, T (mins)) = (1, -0.00040056172247518885, 999, 0.016531534989674888)\n",
      "(episode, score, steps, T (mins)) = (2, -0.00039159806460931676, 999, 0.010755252838134766)\n",
      "(episode, score, steps, T (mins)) = (3, -0.0003908788244822198, 999, 0.010851951440175374)\n",
      "(episode, score, steps, T (mins)) = (4, -0.00039093382509105217, 999, 0.012474751472473145)\n",
      "(episode, score, steps, T (mins)) = (5, -0.00039909349371099775, 999, 0.012235514322916667)\n",
      "(episode, score, steps, T (mins)) = (6, -0.0003935323635723678, 999, 0.014521296819051106)\n",
      "(episode, score, steps, T (mins)) = (7, -44.35271829480654, 999, 2.0074299693107607)\n",
      "(episode, score, steps, T (mins)) = (8, -99.88905611089781, 999, 3.3815884987513223)\n",
      "(episode, score, steps, T (mins)) = (9, -99.8997198471804, 999, 3.4354946851730346)\n",
      "(episode, score, steps, T (mins)) = (10, -99.8999546885683, 999, 3.5647159496943157)\n",
      "(episode, score, steps, T (mins)) = (11, -99.8999615550238, 999, 3.515503482023875)\n",
      "(episode, score, steps, T (mins)) = (12, -99.89998770952332, 999, 3.421014448006948)\n",
      "(episode, score, steps, T (mins)) = (13, -99.89999952316143, 999, 3.5458310643831887)\n",
      "(episode, score, steps, T (mins)) = (14, -99.8999999999986, 999, 3.1922122836112976)\n",
      "(episode, score, steps, T (mins)) = (15, -99.89999992847304, 999, 3.325838867823283)\n",
      "(episode, score, steps, T (mins)) = (16, -99.8999999999986, 999, 3.609450833002726)\n",
      "(episode, score, steps, T (mins)) = (17, -99.8999999999986, 999, 3.506026768684387)\n",
      "(episode, score, steps, T (mins)) = (18, -99.8999999999986, 999, 3.2778568665186563)\n",
      "(episode, score, steps, T (mins)) = (19, -99.8999999999986, 999, 3.5110881169637045)\n",
      "(episode, score, steps, T (mins)) = (20, -99.8999999999986, 999, 3.6819273670514425)\n",
      "(episode, score, steps, T (mins)) = (21, -99.8999999999986, 999, 3.576533484458923)\n",
      "(episode, score, steps, T (mins)) = (22, -99.8999999999986, 999, 3.60000323454539)\n",
      "(episode, score, steps, T (mins)) = (23, -99.8999999999986, 999, 3.679581868648529)\n",
      "(episode, score, steps, T (mins)) = (24, -99.8999999999986, 999, 3.68519526720047)\n",
      "(episode, score, steps, T (mins)) = (25, -99.8999999999986, 999, 3.3925687313079833)\n",
      "(episode, score, steps, T (mins)) = (26, -99.8999999999986, 999, 3.8813467184702555)\n",
      "(episode, score, steps, T (mins)) = (27, -99.8999999999986, 999, 3.3385929028193155)\n",
      "(episode, score, steps, T (mins)) = (28, -99.8999999999986, 999, 3.1210362315177917)\n",
      "(episode, score, steps, T (mins)) = (29, -99.8999999999986, 999, 3.1060246348381044)\n",
      "(episode, score, steps, T (mins)) = (30, -99.8999999999986, 999, 3.119025731086731)\n",
      "(episode, score, steps, T (mins)) = (31, -99.8999999999986, 999, 3.03545769850413)\n",
      "(episode, score, steps, T (mins)) = (32, -99.8999999999986, 999, 3.011958316961924)\n",
      "(episode, score, steps, T (mins)) = (33, -99.8999999999986, 999, 3.0081974188486735)\n",
      "(episode, score, steps, T (mins)) = (34, -99.8999999999986, 999, 3.0031622648239136)\n",
      "(episode, score, steps, T (mins)) = (35, -99.8999999999986, 999, 3.0775759339332582)\n",
      "(episode, score, steps, T (mins)) = (36, -99.8999999999986, 999, 3.1587125023206073)\n",
      "(episode, score, steps, T (mins)) = (37, -99.8999999999986, 999, 3.0507267157236737)\n",
      "(episode, score, steps, T (mins)) = (38, -99.8999999999986, 999, 3.012311867872874)\n",
      "(episode, score, steps, T (mins)) = (39, -99.8999999999986, 999, 2.99933633406957)\n",
      "(episode, score, steps, T (mins)) = (40, -99.8999999999986, 999, 3.0085442980130512)\n",
      "(episode, score, steps, T (mins)) = (41, -99.8999999999986, 999, 3.0081996520360312)\n"
     ]
    }
   ],
   "source": [
    "import gym\n",
    "import time\n",
    "import numpy as np\n",
    "import matplotlib.pyplot as plt\n",
    "from agent import Agent\n",
    "%matplotlib inline\n",
    "\n",
    "#Environment\n",
    "env = gym.make('MountainCarContinuous-v0')\n",
    "env.seed(1)  # for comparison\n",
    "num_states = env.observation_space.shape[0]\n",
    "num_actions = env.action_space.shape[0]\n",
    "\n",
    "#Agent\n",
    "lr,gamma = 0.001, 0.1\n",
    "agent = Agent(num_states, num_actions, lr, gamma)\n",
    "agent.memory_size = 10**4\n",
    "agent.batchsize = 256\n",
    "learning_start = 25*agent.batchsize\n",
    "agent.tau = 0.01\n",
    "\n",
    "\n",
    "#Train\n",
    "EPISODES = 200\n",
    "MAX_STEPS = 1000\n",
    "scores = []\n",
    "for e in range(1,EPISODES+1):\n",
    "    state = env.reset()\n",
    "    reward_sum = 0\n",
    "    done = False\n",
    "    steps = 0\n",
    "    t1 = time.time()\n",
    "    \n",
    "    while not done:\n",
    "        #env.render()\n",
    "        state = np.reshape(state, [1, num_states])  #reshape for keras\n",
    "        action = agent.act(state)\n",
    "        next_state, reward, done, _ = env.step(action)\n",
    "        reward_sum += reward\n",
    "        agent.remember(state[0], action, reward, next_state, done)\n",
    "        state = next_state\n",
    "        \n",
    "        if len(agent.memory) > learning_start:\n",
    "            agent.train_models()\n",
    "        \n",
    "        steps += 1\n",
    "        if done or steps > MAX_STEPS:\n",
    "            break\n",
    "    \n",
    "    #Learn & print results\n",
    "    scores.append(reward_sum)\n",
    "    t2 = time.time()\n",
    "    if e % 1 == 0:\n",
    "        print '(episode, score, steps, T (mins)) = ' + str((e,reward_sum, steps, (t2-t1)/60.0))\n",
    "\n",
    "plt.plot(scores)\n",
    "#np.savetxt('stats/scores_inverted_pendulum.txt',scores)"
   ]
  },
  {
   "cell_type": "markdown",
   "metadata": {},
   "source": [
    "### Watch a smart agent"
   ]
  },
  {
   "cell_type": "code",
   "execution_count": 4,
   "metadata": {
    "collapsed": true
   },
   "outputs": [],
   "source": [
    "done = False\n",
    "while not done:\n",
    "    env.render()\n",
    "    state = np.reshape(state, [1, num_states])  #reshape for keras\n",
    "    action = agent.act(state)\n",
    "    next_state, reward, done, _ = env.step(action)\n",
    "    reward_sum += reward\n",
    "    agent.remember(state[0], action, reward, next_state, done)\n",
    "    state = next_state\n",
    "    if done:\n",
    "        break\n",
    "env.close()"
   ]
  }
 ],
 "metadata": {
  "kernelspec": {
   "display_name": "Python 2",
   "language": "python",
   "name": "python2"
  },
  "language_info": {
   "codemirror_mode": {
    "name": "ipython",
    "version": 2
   },
   "file_extension": ".py",
   "mimetype": "text/x-python",
   "name": "python",
   "nbconvert_exporter": "python",
   "pygments_lexer": "ipython2",
   "version": "2.7.14"
  }
 },
 "nbformat": 4,
 "nbformat_minor": 2
}
