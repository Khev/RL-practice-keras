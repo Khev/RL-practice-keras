{
 "cells": [
  {
   "cell_type": "markdown",
   "metadata": {},
   "source": [
    "# Introduction\n",
    "\n",
    "1. Here I'm testing DDPG on the continuous version of mountain car.\n",
    "\n",
    "2. As per the suggestion at the paper below, I added parameter noise to the actor net to encourage\n",
    "   exploration.\n",
    "   \n",
    "3. I also edited keras slightly to perform updates on custom gradients -- see the actor.py files for more details\n",
    "\n",
    "4. As per other peoples experiences, getting the action exploration right was the hard part. I believe (must check more rigorously) that adding the parameter noise was the key. I found I needed large batchsizes (256 worked).\n",
    "\n",
    "\n"
   ]
  },
  {
   "cell_type": "code",
   "execution_count": 1,
   "metadata": {},
   "outputs": [
    {
     "name": "stderr",
     "output_type": "stream",
     "text": [
      "/home/kokeeffe/anaconda2/lib/python2.7/site-packages/h5py/__init__.py:34: FutureWarning: Conversion of the second argument of issubdtype from `float` to `np.floating` is deprecated. In future, it will be treated as `np.float64 == np.dtype(float).type`.\n",
      "  from ._conv import register_converters as _register_converters\n",
      "Using TensorFlow backend.\n"
     ]
    },
    {
     "name": "stdout",
     "output_type": "stream",
     "text": [
      "\u001b[33mWARN: gym.spaces.Box autodetected dtype as <type 'numpy.float32'>. Please provide explicit dtype.\u001b[0m\n",
      "\u001b[33mWARN: gym.spaces.Box autodetected dtype as <type 'numpy.float32'>. Please provide explicit dtype.\u001b[0m\n",
      "(episode, score, steps, T (mins)) = (10, -61.488519476929085, 999, 1.9366949160893758)\n",
      "(episode, score, steps, T (mins)) = (20, -91.03761530101195, 999, 1.8559690515200298)\n",
      "(episode, score, steps, T (mins)) = (30, 69.11760987733314, 341, 0.6366283853848775)\n",
      "(episode, score, steps, T (mins)) = (40, 74.87048485523849, 302, 0.5628384987513224)\n",
      "(episode, score, steps, T (mins)) = (50, 75.64414329548373, 289, 0.5373773018519084)\n",
      "(episode, score, steps, T (mins)) = (60, 81.20718899732498, 208, 0.38992990255355836)\n",
      "(episode, score, steps, T (mins)) = (70, 80.07442126249902, 213, 0.39578733444213865)\n",
      "(episode, score, steps, T (mins)) = (80, 82.7979896526669, 189, 0.3498607834180196)\n",
      "(episode, score, steps, T (mins)) = (90, 86.28481536800506, 146, 0.2708307147026062)\n",
      "(episode, score, steps, T (mins)) = (100, 86.81530308090393, 148, 0.27415123383204143)\n",
      "(episode, score, steps, T (mins)) = (110, 85.46674022084349, 151, 0.27970951795578003)\n",
      "(episode, score, steps, T (mins)) = (120, 86.36864980641134, 143, 0.2673046867052714)\n",
      "(episode, score, steps, T (mins)) = (130, 90.83948607503085, 98, 0.18149406909942628)\n",
      "(episode, score, steps, T (mins)) = (140, 90.74127945295346, 99, 0.18304346799850463)\n",
      "(episode, score, steps, T (mins)) = (150, 90.87317223927283, 95, 0.17655150095621744)\n",
      "(episode, score, steps, T (mins)) = (160, 86.68890126033372, 162, 0.31087596813837687)\n",
      "(episode, score, steps, T (mins)) = (170, 89.32177482679701, 113, 0.21017760038375854)\n",
      "(episode, score, steps, T (mins)) = (180, 91.01481999177359, 96, 0.177541983127594)\n",
      "(episode, score, steps, T (mins)) = (190, 86.92467683527349, 150, 0.27740131616592406)\n",
      "(episode, score, steps, T (mins)) = (200, 80.42364411886169, 223, 0.4169344822565714)\n",
      "(episode, score, steps, T (mins)) = (210, 90.89945045143705, 98, 0.1821988026301066)\n",
      "(episode, score, steps, T (mins)) = (220, 80.49265057580556, 203, 0.3760128339131673)\n",
      "(episode, score, steps, T (mins)) = (230, 83.04996558216708, 203, 0.3775280157725016)\n",
      "(episode, score, steps, T (mins)) = (240, 89.09095822545065, 113, 0.20993481477101644)\n",
      "(episode, score, steps, T (mins)) = (250, 85.23779386762403, 156, 0.29117051760355633)\n",
      "(episode, score, steps, T (mins)) = (260, 93.60505499606398, 67, 0.12408766746520997)\n",
      "(episode, score, steps, T (mins)) = (270, 93.59786892875458, 69, 0.1292572498321533)\n",
      "(episode, score, steps, T (mins)) = (280, 81.36125449126168, 195, 0.3617534518241882)\n",
      "(episode, score, steps, T (mins)) = (290, 93.37467272563303, 72, 0.13417601585388184)\n",
      "(episode, score, steps, T (mins)) = (300, 93.45595783121327, 71, 0.13184415102005004)\n"
     ]
    },
    {
     "data": {
      "text/plain": [
       "[<matplotlib.lines.Line2D at 0x7f1d09a52510>]"
      ]
     },
     "execution_count": 1,
     "metadata": {},
     "output_type": "execute_result"
    },
    {
     "data": {
      "image/png": "[encoded data removed]",
      "text/plain": [
       "<Figure size 432x288 with 1 Axes>"
      ]
     },
     "metadata": {},
     "output_type": "display_data"
    }
   ],
   "source": [
    "import gym\n",
    "import time\n",
    "import numpy as np\n",
    "import matplotlib.pyplot as plt\n",
    "from agent import Agent\n",
    "%matplotlib inline\n",
    "\n",
    "#Environment\n",
    "seed = 14\n",
    "env = gym.make('MountainCarContinuous-v0')\n",
    "env.seed(seed)  # for comparison\n",
    "num_states = env.observation_space.shape[0]\n",
    "num_actions = env.action_space.shape[0]\n",
    "\n",
    "#Agent\n",
    "gamma, lr, tau = 0.99, 0.0001, 0.001\n",
    "agent = Agent(num_states, num_actions, lr, gamma, seed_num = seed)\n",
    "agent.memory_size = 10**4\n",
    "agent.batchsize = 256\n",
    "learning_start = 25*agent.batchsize\n",
    "agent.tau = tau\n",
    "\n",
    "\n",
    "#Train\n",
    "EPISODES = 300\n",
    "MAX_STEPS = 1000\n",
    "scores = []\n",
    "for e in range(1,EPISODES+1):\n",
    "    state = env.reset()\n",
    "    reward_sum = 0\n",
    "    done = False\n",
    "    steps = 0\n",
    "    t1 = time.time()\n",
    "    \n",
    "    while not done:\n",
    "        #env.render()\n",
    "        state = np.reshape(state, [1, num_states])  #reshape for keras\n",
    "        action = agent.act(state)\n",
    "        next_state, reward, done, _ = env.step(action)\n",
    "        reward_sum += reward\n",
    "        agent.remember(state[0], action, reward, next_state, done)\n",
    "        state = next_state\n",
    "        \n",
    "        if len(agent.memory) > learning_start:\n",
    "            agent.train_models()\n",
    "        \n",
    "        steps += 1\n",
    "        if done or steps > MAX_STEPS:\n",
    "            break\n",
    "    \n",
    "    #Learn & print results\n",
    "    scores.append(reward_sum)\n",
    "    t2 = time.time()\n",
    "    if e % 10 == 0:\n",
    "        print '(episode, score, steps, T (mins)) = ' + str((e,reward_sum, steps, (t2-t1)/60.0))\n",
    "\n",
    "#agent.save_target_weights()\n",
    "plt.plot(scores)\n",
    "#np.savetxt('stats/scores_inverted_pendulum.txt',scores)"
   ]
  },
  {
   "cell_type": "markdown",
   "metadata": {},
   "source": [
    "### Watch a smart agent"
   ]
  },
  {
   "cell_type": "code",
   "execution_count": 10,
   "metadata": {},
   "outputs": [],
   "source": [
    "env.reset()\n",
    "done = False\n",
    "while not done:\n",
    "    #env.render()\n",
    "    state = np.reshape(state, [1, num_states])  #reshape for keras\n",
    "    action = agent.act(state)\n",
    "    next_state, reward, done, _ = env.step(action)\n",
    "    reward_sum += reward\n",
    "    state = next_state\n",
    "    #print 'position = ' + str( state[0] )\n",
    "    if done:\n",
    "        break\n",
    "env.close()"
   ]
  },
  {
   "cell_type": "markdown",
   "metadata": {},
   "source": [
    "### Record a smart agent"
   ]
  },
  {
   "cell_type": "code",
   "execution_count": 8,
   "metadata": {},
   "outputs": [
    {
     "name": "stdout",
     "output_type": "stream",
     "text": [
      "\u001b[33mWARN: gym.spaces.Box autodetected dtype as <type 'numpy.float32'>. Please provide explicit dtype.\u001b[0m\n",
      "\u001b[33mWARN: gym.spaces.Box autodetected dtype as <type 'numpy.float32'>. Please provide explicit dtype.\u001b[0m\n"
     ]
    }
   ],
   "source": [
    "env = gym.make('MountainCarContinuous-v0')\n",
    "env = gym.wrappers.Monitor(env, 'movies/', video_callable=lambda episode_id: True)\n",
    "env.seed(seed)  # for comparison\n",
    "\n",
    "state = env.reset()\n",
    "state = np.reshape(state, [1, num_states])\n",
    "reward_sum = 0\n",
    "done = False\n",
    "while not done:\n",
    "    env.render()\n",
    "    action = agent.act(state)\n",
    "    next_state, reward, done, _ = env.step(action)\n",
    "    reward_sum += reward\n",
    "    next_state = np.reshape(next_state, [1, num_states])\n",
    "    state = next_state\n",
    "env.close()"
   ]
  },
  {
   "cell_type": "code",
   "execution_count": 11,
   "metadata": {
    "collapsed": true
   },
   "outputs": [],
   "source": [
    "env.close()"
   ]
  },
  {
   "cell_type": "code",
   "execution_count": null,
   "metadata": {
    "collapsed": true
   },
   "outputs": [],
   "source": []
  }
 ],
 "metadata": {
  "kernelspec": {
   "display_name": "Python 2",
   "language": "python",
   "name": "python2"
  },
  "language_info": {
   "codemirror_mode": {
    "name": "ipython",
    "version": 2
   },
   "file_extension": ".py",
   "mimetype": "text/x-python",
   "name": "python",
   "nbconvert_exporter": "python",
   "pygments_lexer": "ipython2",
   "version": "2.7.14"
  }
 },
 "nbformat": 4,
 "nbformat_minor": 2
}
