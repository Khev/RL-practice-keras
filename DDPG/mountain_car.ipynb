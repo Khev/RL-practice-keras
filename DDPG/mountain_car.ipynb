{
 "cells": [
  {
   "cell_type": "markdown",
   "metadata": {},
   "source": [
    "# Introduction\n",
    "\n",
    "Testing on mountaincar -- haven't updated yet.\n",
    "\n",
    "1. I changed the keras code so that I could use it to update the actor model with a custom gradient\n",
    "2. I am adding parameter noise, as suggested by OpenAI"
   ]
  },
  {
   "cell_type": "code",
   "execution_count": null,
   "metadata": {},
   "outputs": [
    {
     "name": "stdout",
     "output_type": "stream",
     "text": [
      "\u001b[33mWARN: gym.spaces.Box autodetected dtype as <type 'numpy.float32'>. Please provide explicit dtype.\u001b[0m\n",
      "\u001b[33mWARN: gym.spaces.Box autodetected dtype as <type 'numpy.float32'>. Please provide explicit dtype.\u001b[0m\n",
      "(episode, score, steps, T (mins)) = (1, -7.148052278566815e-05, 501, 0.006522516409556071)\n",
      "(episode, score, steps, T (mins)) = (2, -7.029093636288299e-05, 501, 0.004264251391092936)\n",
      "(episode, score, steps, T (mins)) = (3, -7.015280943222123e-05, 501, 0.004777717590332031)\n",
      "(episode, score, steps, T (mins)) = (4, -7.015857776918451e-05, 501, 0.004269536336263021)\n",
      "(episode, score, steps, T (mins)) = (5, -7.128231167851985e-05, 501, 0.004713384310404459)\n",
      "(episode, score, steps, T (mins)) = (6, -7.043773320240176e-05, 501, 0.0043233672777811686)\n",
      "(episode, score, steps, T (mins)) = (7, -7.039149443206517e-05, 501, 0.005106767018636067)\n",
      "(episode, score, steps, T (mins)) = (8, -7.029233571598672e-05, 501, 0.004349752267201742)\n",
      "(episode, score, steps, T (mins)) = (9, -7.086635839521324e-05, 501, 0.004554200172424317)\n",
      "(episode, score, steps, T (mins)) = (10, -7.019411000501363e-05, 501, 0.004509866237640381)\n",
      "(episode, score, steps, T (mins)) = (11, -7.208786990309758e-05, 501, 0.009013251463572184)\n",
      "(episode, score, steps, T (mins)) = (12, -7.129739644546126e-05, 501, 0.006146864096323649)\n",
      "(episode, score, steps, T (mins)) = (13, -1.2579458108401418, 501, 0.36277063687642414)\n"
     ]
    }
   ],
   "source": [
    "import gym\n",
    "import time\n",
    "import numpy as np\n",
    "import matplotlib.pyplot as plt\n",
    "from agent import Agent\n",
    "%matplotlib inline\n",
    "\n",
    "#Environment\n",
    "env = gym.make('MountainCarContinuous-v0')\n",
    "env.seed(1)  # for comparison\n",
    "num_states = env.observation_space.shape[0]\n",
    "num_actions = env.action_space.shape[0]\n",
    "\n",
    "#Agent\n",
    "lr,gamma = 0.001, 0.999\n",
    "agent = Agent(num_states, num_actions, lr, gamma)\n",
    "agent.memory_size = 10**4\n",
    "agent.batchsize = 256\n",
    "learning_start = 25*agent.batchsize\n",
    "agent.tau = 0.1\n",
    "\n",
    "\n",
    "#Train\n",
    "EPISODES = 100\n",
    "MAX_STEPS = 500\n",
    "scores = []\n",
    "for e in range(1,EPISODES+1):\n",
    "    state = env.reset()\n",
    "    reward_sum = 0\n",
    "    done = False\n",
    "    steps = 0\n",
    "    t1 = time.time()\n",
    "    \n",
    "    while not done:\n",
    "        #env.render()\n",
    "        state = np.reshape(state, [1, num_states])  #reshape for keras\n",
    "        action = agent.act(state)\n",
    "        next_state, reward, done, _ = env.step(action)\n",
    "        reward_sum += reward\n",
    "        agent.remember(state[0], action, reward, next_state, done)\n",
    "        state = next_state\n",
    "        \n",
    "        if len(agent.memory) > learning_start:\n",
    "            agent.train_models()\n",
    "        \n",
    "        steps += 1\n",
    "        if done or steps > MAX_STEPS:\n",
    "            break\n",
    "    \n",
    "    #Learn & print results\n",
    "    scores.append(reward_sum)\n",
    "    t2 = time.time()\n",
    "    if e % 1 == 0:\n",
    "        print '(episode, score, steps, T (mins)) = ' + str((e,reward_sum, steps, (t2-t1)/60.0))\n",
    "\n",
    "plt.plot(scores)\n",
    "#np.savetxt('stats/scores_inverted_pendulum.txt',scores)"
   ]
  },
  {
   "cell_type": "markdown",
   "metadata": {},
   "source": [
    "### Watch a smart agent"
   ]
  },
  {
   "cell_type": "code",
   "execution_count": 4,
   "metadata": {
    "collapsed": true
   },
   "outputs": [],
   "source": [
    "done = False\n",
    "while not done:\n",
    "    env.render()\n",
    "    state = np.reshape(state, [1, num_states])  #reshape for keras\n",
    "    action = agent.act(state)\n",
    "    next_state, reward, done, _ = env.step(action)\n",
    "    reward_sum += reward\n",
    "    agent.remember(state[0], action, reward, next_state, done)\n",
    "    state = next_state\n",
    "    if done:\n",
    "        break\n",
    "env.close()"
   ]
  }
 ],
 "metadata": {
  "kernelspec": {
   "display_name": "Python 2",
   "language": "python",
   "name": "python2"
  }
 },
 "nbformat": 4,
 "nbformat_minor": 2
}
