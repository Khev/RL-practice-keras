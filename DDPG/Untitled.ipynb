{
 "cells": [
  {
   "cell_type": "code",
   "execution_count": 77,
   "metadata": {},
   "outputs": [
    {
     "data": {
      "text/plain": [
       "1"
      ]
     },
     "execution_count": 77,
     "metadata": {},
     "output_type": "execute_result"
    }
   ],
   "source": [
    "class Solution(object):\n",
    "    def mySqrt(self, x):\n",
    "        \"\"\"\n",
    "        :type x: int\n",
    "        :rtype: int\n",
    "        \"\"\"\n",
    "        \n",
    "        #binary search\n",
    "        \n",
    "        start, end = 1, x\n",
    "        \n",
    "        #keep going until sqrt is squeezed between start and end\n",
    "        #then return start (round down)\n",
    "        while start <= end:\n",
    "            midpoint = (end+start)/2   #integer division => floor \n",
    "            guess = midpoint**2\n",
    "            target = x\n",
    "            \n",
    "            if target > guess:\n",
    "                start = midpoint + 1\n",
    "                \n",
    "            elif target < guess:\n",
    "                end = midpoint - 1\n",
    "                \n",
    "            # if there is an itegral square root, stop\n",
    "            elif guess == target:\n",
    "                return midpoint\n",
    "            \n",
    "        return start-1    \n",
    "\n",
    "x = 3\n",
    "\n",
    "sol = Solution()\n",
    "sol.mySqrt(x)"
   ]
  },
  {
   "cell_type": "code",
   "execution_count": 62,
   "metadata": {},
   "outputs": [
    {
     "data": {
      "text/plain": [
       "2.8284271247461903"
      ]
     },
     "execution_count": 62,
     "metadata": {},
     "output_type": "execute_result"
    }
   ],
   "source": [
    "import numpy as np\n",
    "np.sqrt(8)"
   ]
  },
  {
   "cell_type": "code",
   "execution_count": null,
   "metadata": {
    "collapsed": true
   },
   "outputs": [],
   "source": []
  }
 ],
 "metadata": {
  "kernelspec": {
   "display_name": "Python 2",
   "language": "python",
   "name": "python2"
  },
  "language_info": {
   "codemirror_mode": {
    "name": "ipython",
    "version": 2
   },
   "file_extension": ".py",
   "mimetype": "text/x-python",
   "name": "python",
   "nbconvert_exporter": "python",
   "pygments_lexer": "ipython2",
   "version": "2.7.12"
  }
 },
 "nbformat": 4,
 "nbformat_minor": 2
}
