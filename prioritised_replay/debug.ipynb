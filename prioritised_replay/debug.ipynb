{
 "cells": [
  {
   "cell_type": "markdown",
   "metadata": {},
   "source": [
    "### Make environment"
   ]
  },
  {
   "cell_type": "code",
   "execution_count": 8,
   "metadata": {},
   "outputs": [],
   "source": [
    "class Env:\n",
    "    def __init__(self,num_states):\n",
    "        self.num_states = num_states\n",
    "        \n",
    "    def step(self,state,action):\n",
    "        \n",
    "        #Find next state\n",
    "        if action == 1:\n",
    "            next_state = state + 1\n",
    "        else:\n",
    "            next_state = 0\n",
    "        \n",
    "        #Check for terminal state\n",
    "        done,reward = False,0\n",
    "        if next_state == self.num_states - 1:\n",
    "            reward, done = 1, True\n",
    "        return next_state, reward, done, _"
   ]
  },
  {
   "cell_type": "code",
   "execution_count": 17,
   "metadata": {},
   "outputs": [
    {
     "data": {
      "text/plain": [
       "array([4, 3, 0])"
      ]
     },
     "execution_count": 17,
     "metadata": {},
     "output_type": "execute_result"
    }
   ],
   "source": [
    "import numpy as np\n",
    "\n",
    "td = [5,1,2,4,5]\n",
    "td = np.array(td) / (1.*sum(td))\n",
    "td\n",
    "\n",
    "indicies = np.random.choice(range(5),3,p=td)\n",
    "indicies"
   ]
  }
 ],
 "metadata": {
  "kernelspec": {
   "display_name": "Python 2",
   "language": "python",
   "name": "python2"
  },
  "language_info": {
   "codemirror_mode": {
    "name": "ipython",
    "version": 2
   },
   "file_extension": ".py",
   "mimetype": "text/x-python",
   "name": "python",
   "nbconvert_exporter": "python",
   "pygments_lexer": "ipython2",
   "version": "2.7.14"
  }
 },
 "nbformat": 4,
 "nbformat_minor": 2
}
