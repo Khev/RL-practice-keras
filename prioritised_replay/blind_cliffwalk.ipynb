{
 "cells": [
  {
   "cell_type": "markdown",
   "metadata": {},
   "source": [
    "# Introduction\n",
    "\n",
    "Here I'm testing out a DQN agent on the blind cliffwalk example in \n",
    "\n",
    "https://arxiv.org/pdf/1511.05952.pdf\n",
    "\n",
    "\n",
    "Notes to self\n",
    "1. I'm calculating the TD twice -- I need to optimize this\n",
    "\n",
    "### Without PER"
   ]
  },
  {
   "cell_type": "code",
   "execution_count": null,
   "metadata": {},
   "outputs": [
    {
     "name": "stderr",
     "output_type": "stream",
     "text": [
      "/home/kokeeffe/anaconda2/lib/python2.7/site-packages/h5py/__init__.py:34: FutureWarning: Conversion of the second argument of issubdtype from `float` to `np.floating` is deprecated. In future, it will be treated as `np.float64 == np.dtype(float).type`.\n",
      "  from ._conv import register_converters as _register_converters\n",
      "Using TensorFlow backend.\n"
     ]
    },
    {
     "name": "stdout",
     "output_type": "stream",
     "text": [
      "(episode, score) = (10, 12)\n",
      "(episode, score) = (20, 39)\n",
      "(episode, score) = (30, 31)\n",
      "(episode, score) = (40, 45)\n",
      "(episode, score) = (50, 28)\n",
      "(episode, score) = (60, 18)\n",
      "(episode, score) = (70, 26)\n",
      "(episode, score) = (80, 9)\n",
      "(episode, score) = (90, 9)\n",
      "(episode, score) = (100, 9)\n"
     ]
    },
    {
     "data": {
      "text/plain": [
       "[<matplotlib.lines.Line2D at 0x7fcc4c7bdf90>]"
      ]
     },
     "execution_count": 1,
     "metadata": {},
     "output_type": "execute_result"
    },
    {
     "data": {
      "image/png": "[encoded data removed]",
      "text/plain": [
       "<Figure size 432x288 with 1 Axes>"
      ]
     },
     "metadata": {},
     "output_type": "display_data"
    }
   ],
   "source": [
    "import numpy as np\n",
    "import matplotlib.pyplot as plt\n",
    "#from agent_vanilla import Agent\n",
    "from agent import Agent\n",
    "from keras.utils import to_categorical\n",
    "from blind_cliffwalk import Env\n",
    "%matplotlib inline\n",
    "\n",
    "\n",
    "#Environment\n",
    "num_states = 10\n",
    "env = Env(num_states)\n",
    "num_states = env.observation_space\n",
    "num_actions = env.action_space\n",
    "\n",
    "#Agent\n",
    "lr,gamma = 0.001, 0.99\n",
    "agent = Agent(num_states, num_actions, lr, gamma)\n",
    "agent.C = 1000  #update the target network every K timestesp\n",
    "agent.epsilon = 0.5\n",
    "agent.tau = 0.1\n",
    "decay_factor = 0.99\n",
    "epsilon_min = 0.01\n",
    "learning_start = 500\n",
    "\n",
    "\n",
    "#Train\n",
    "EPISODES = 100\n",
    "scores = []\n",
    "for e in range(1,EPISODES+1):\n",
    "    state = env.reset()\n",
    "    state = to_categorical(state,num_states)\n",
    "    reward_sum = 0\n",
    "    done = False\n",
    "    step = 0\n",
    "    while not done:\n",
    "\n",
    "        # env.render()\n",
    "        state = np.reshape(state, [1, num_states])  #reshape for keras\n",
    "        action = agent.act(state)\n",
    "        next_state, reward, done, _ = env.step(state[0], action)\n",
    "        next_state = to_categorical(next_state,num_states)\n",
    "        reward_sum += reward\n",
    "        agent.remember(state[0], action, reward, next_state, done)\n",
    "        state = next_state\n",
    "        #print state, action\n",
    "\n",
    "        if agent.buffer.num_memories() > learning_start:\n",
    "            agent.replay()                       #update the behavior model\n",
    "            agent.soft_update_target_network()   #update the target model every C timesteps\n",
    "\n",
    "        #iterate\n",
    "        step += 1\n",
    "        if done:\n",
    "            break\n",
    "\n",
    "    #Learn & print results\n",
    "    scores.append(step)\n",
    "    agent.epsilon = max(agent.epsilon*decay_factor,epsilon_min)\n",
    "    if e % 10 == 0:\n",
    "        print '(episode, score) = ' + str((e,step))\n",
    "plt.plot(scores)"
   ]
  },
  {
   "cell_type": "markdown",
   "metadata": {},
   "source": [
    "### With PER"
   ]
  },
  {
   "cell_type": "code",
   "execution_count": null,
   "metadata": {},
   "outputs": [
    {
     "name": "stdout",
     "output_type": "stream",
     "text": [
      "(episode, score) = (10, 21)\n",
      "(episode, score) = (20, 23)\n",
      "(episode, score) = (30, 28)\n",
      "(episode, score) = (40, 9)\n"
     ]
    }
   ],
   "source": [
    "import numpy as np\n",
    "import matplotlib.pyplot as plt\n",
    "#from agent_vanilla import Agent\n",
    "from agent import Agent\n",
    "from keras.utils import to_categorical\n",
    "from blind_cliffwalk import Env\n",
    "%matplotlib inline\n",
    "\n",
    "\n",
    "#Environment\n",
    "num_states = 10\n",
    "env = Env(num_states)\n",
    "num_states = env.observation_space\n",
    "num_actions = env.action_space\n",
    "\n",
    "#Agent\n",
    "lr,gamma = 0.001, 0.99\n",
    "agent = Agent(num_states, num_actions, lr, gamma)\n",
    "agent.C = 1000  #update the target network every K timestesp\n",
    "agent.epsilon = 0.5\n",
    "agent.tau = 0.1\n",
    "decay_factor = 0.99\n",
    "epsilon_min = 0.01\n",
    "learning_start = 500\n",
    "\n",
    "\n",
    "#Train\n",
    "EPISODES = 100\n",
    "scores1 = []\n",
    "for e in range(1,EPISODES+1):\n",
    "    state = env.reset()\n",
    "    state = to_categorical(state,num_states)\n",
    "    reward_sum = 0\n",
    "    done = False\n",
    "    step = 0\n",
    "    while not done:\n",
    "\n",
    "        # env.render()\n",
    "        state = np.reshape(state, [1, num_states])  #reshape for keras\n",
    "        action = agent.act(state)\n",
    "        next_state, reward, done, _ = env.step(state[0], action)\n",
    "        next_state = to_categorical(next_state,num_states)\n",
    "        reward_sum += reward\n",
    "        agent.remember(state[0], action, reward, next_state, done)\n",
    "        state = next_state\n",
    "        #print state, action\n",
    "\n",
    "        if agent.buffer.num_memories() > learning_start:\n",
    "            agent.replay(prioritised = True)                       #update the behavior model\n",
    "            agent.soft_update_target_network()   #update the target model every C timesteps\n",
    "\n",
    "        #iterate\n",
    "        step += 1\n",
    "        if done:\n",
    "            break\n",
    "\n",
    "    #Learn & print results\n",
    "    scores.append(step)\n",
    "    agent.epsilon = max(agent.epsilon*decay_factor,epsilon_min)\n",
    "    if e % 10 == 0:\n",
    "        print '(episode, score) = ' + str((e,step))\n",
    "plt.plot(scores)\n",
    "plt.plot(scores1)\n",
    "plt.legend(['without PER', 'with PER'])"
   ]
  },
  {
   "cell_type": "markdown",
   "metadata": {},
   "source": [
    "### Scaling with different $n$"
   ]
  },
  {
   "cell_type": "code",
   "execution_count": 53,
   "metadata": {},
   "outputs": [
    {
     "name": "stdout",
     "output_type": "stream",
     "text": [
      "(n, episode, score) = (4, 10, 25)\n",
      "(n, episode, score) = (4, 20, 47)\n",
      "(n, episode, score) = (4, 30, 5)\n",
      "(n, episode, score) = (4, 40, 5)\n",
      "(n, episode, score) = (6, 10, 10)\n",
      "(n, episode, score) = (6, 20, 12)\n",
      "(n, episode, score) = (6, 30, 7)\n",
      "(n, episode, score) = (6, 40, 5)\n",
      "(n, episode, score) = (6, 50, 7)\n",
      "(n, episode, score) = (6, 60, 7)\n",
      "(n, episode, score) = (6, 70, 5)\n",
      "(n, episode, score) = (6, 80, 7)\n",
      "(n, episode, score) = (6, 90, 8)\n",
      "(n, episode, score) = (6, 100, 5)\n",
      "(n, episode, score) = (6, 110, 5)\n",
      "(n, episode, score) = (6, 120, 5)\n",
      "(n, episode, score) = (6, 130, 5)\n",
      "(n, episode, score) = (6, 140, 5)\n",
      "(n, episode, score) = (6, 150, 5)\n",
      "(n, episode, score) = (7, 10, 27)\n",
      "(n, episode, score) = (7, 20, 6)\n",
      "(n, episode, score) = (7, 30, 19)\n",
      "(n, episode, score) = (7, 40, 15)\n",
      "(n, episode, score) = (8, 10, 14)\n",
      "(n, episode, score) = (8, 20, 16)\n",
      "(n, episode, score) = (8, 30, 10)\n",
      "(n, episode, score) = (8, 40, 26)\n",
      "(n, episode, score) = (9, 10, 72)\n",
      "(n, episode, score) = (9, 20, 8)\n",
      "(n, episode, score) = (9, 30, 21)\n",
      "(n, episode, score) = (9, 40, 8)\n",
      "(n, episode, score) = (9, 50, 30)\n",
      "(n, episode, score) = (9, 60, 15)\n",
      "(n, episode, score) = (9, 70, 39)\n",
      "(n, episode, score) = (9, 80, 8)\n",
      "(n, episode, score) = (9, 90, 31)\n",
      "(n, episode, score) = (9, 100, 8)\n",
      "(n, episode, score) = (9, 110, 8)\n",
      "(n, episode, score) = (9, 120, 21)\n",
      "(n, episode, score) = (9, 130, 8)\n",
      "(n, episode, score) = (9, 140, 8)\n",
      "(n, episode, score) = (9, 150, 8)\n",
      "(n, episode, score) = (9, 160, 10)\n",
      "(n, episode, score) = (9, 170, 8)\n",
      "(n, episode, score) = (9, 180, 13)\n",
      "(n, episode, score) = (9, 190, 11)\n"
     ]
    },
    {
     "data": {
      "text/plain": [
       "Text(0,0.5,'episodes till solve')"
      ]
     },
     "execution_count": 53,
     "metadata": {},
     "output_type": "execute_result"
    },
    {
     "data": {
      "image/png": "[encoded data removed]",
      "text/plain": [
       "<Figure size 432x288 with 1 Axes>"
      ]
     },
     "metadata": {},
     "output_type": "display_data"
    }
   ],
   "source": [
    "import numpy as np\n",
    "import matplotlib.pyplot as plt\n",
    "#from agent_vanilla import Agent\n",
    "from agent import Agent\n",
    "from keras.utils import to_categorical\n",
    "from blind_cliffwalk import Env\n",
    "%matplotlib inline\n",
    "\n",
    "\n",
    "res = []\n",
    "for n in range(2,10):\n",
    "\n",
    "    #Environment\n",
    "    num_states = n\n",
    "    env = Env(num_states)\n",
    "    num_states = env.observation_space\n",
    "    num_actions = env.action_space\n",
    "\n",
    "    #Agent\n",
    "    lr,gamma = 0.001, 0.99\n",
    "    agent = Agent(num_states, num_actions, lr, gamma)\n",
    "    agent.C = 1000  #update the target network every K timestesp\n",
    "    agent.epsilon = 0.5\n",
    "    agent.tau = 0.1\n",
    "    decay_factor = 0.99\n",
    "    epsilon_min = 0.01\n",
    "    learning_start = 500\n",
    "\n",
    "\n",
    "    #Train\n",
    "    EPISODES = 200\n",
    "    scores = []\n",
    "    solved = False\n",
    "    for e in range(1,EPISODES+1):\n",
    "        state = env.reset()\n",
    "        state = to_categorical(state,num_states)\n",
    "        reward_sum = 0\n",
    "        done = False\n",
    "        step = 0\n",
    "        while not done:\n",
    "\n",
    "            # env.render()\n",
    "            state = np.reshape(state, [1, num_states])  #reshape for keras\n",
    "            action = agent.act(state)\n",
    "            next_state, reward, done, _ = env.step(state[0], action)\n",
    "            next_state = to_categorical(next_state,num_states)\n",
    "            reward_sum += reward\n",
    "            agent.remember(state[0], action, reward, next_state, done)\n",
    "            state = next_state\n",
    "            #print state, action\n",
    "\n",
    "            if len(agent.memory) > learning_start:\n",
    "                agent.replay()                       #update the behavior model\n",
    "                agent.soft_update_target_network()   #update the target model every C timesteps\n",
    "\n",
    "            #iterate\n",
    "            step += 1\n",
    "            if done:\n",
    "                break\n",
    "\n",
    "        #Learn & print results\n",
    "        scores.append(step)\n",
    "        agent.epsilon = max(agent.epsilon*decay_factor,epsilon_min)\n",
    "        solved = np.mean(scores[e-50:e]) < 1.1*num_states\n",
    "        if e % 10 == 0:\n",
    "            print '(n, episode, score) = ' + str((n, e,step))\n",
    "        if solved == True:\n",
    "            break\n",
    "\n",
    "    #np.savetxt('stats/scores_blind_cliffwalk.txt',scores)\n",
    "    res.append([n,e])\n",
    "    \n",
    "res = np.array(res)\n",
    "plt.plot(res[:,0],res[:,1])\n",
    "plt.xlabel('state space')\n",
    "plt.ylabel('episodes till solve')"
   ]
  },
  {
   "cell_type": "markdown",
   "metadata": {},
   "source": [
    "### Watch a smart agent"
   ]
  },
  {
   "cell_type": "markdown",
   "metadata": {},
   "source": [
    "Ok, it's not PERFECTLY the same. But still pretty good."
   ]
  },
  {
   "cell_type": "markdown",
   "metadata": {},
   "source": [
    "### Roughwork"
   ]
  }
 ],
 "metadata": {
  "kernelspec": {
   "display_name": "Python 2",
   "language": "python",
   "name": "python2"
  },
  "language_info": {
   "codemirror_mode": {
    "name": "ipython",
    "version": 2
   },
   "file_extension": ".py",
   "mimetype": "text/x-python",
   "name": "python",
   "nbconvert_exporter": "python",
   "pygments_lexer": "ipython2",
   "version": "2.7.14"
  }
 },
 "nbformat": 4,
 "nbformat_minor": 2
}
