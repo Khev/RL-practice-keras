{
 "cells": [
  {
   "cell_type": "code",
   "execution_count": 32,
   "metadata": {},
   "outputs": [],
   "source": [
    "import numpy as np"
   ]
  },
  {
   "cell_type": "code",
   "execution_count": 33,
   "metadata": {},
   "outputs": [
    {
     "name": "stdout",
     "output_type": "stream",
     "text": [
      "3\n",
      "2\n",
      "1\n",
      "3\n",
      "4\n"
     ]
    }
   ],
   "source": [
    "def firstMissingPositive(nums):\n",
    "    \"\"\"\n",
    "    :type nums: List[int]\n",
    "    :rtype: int\n",
    "    \"\"\"\n",
    "\n",
    "    if len(nums)==0:\n",
    "        return 1\n",
    "    \n",
    "    min_num = max(nums)\n",
    "    pivot = min_num\n",
    "    for num in nums:\n",
    "        if num < 0:\n",
    "            pass\n",
    "        else:\n",
    "            #Check if new min\n",
    "            if num < min_num:\n",
    "                \n",
    "                #If addjoing, don't move pivot\n",
    "                if min_num - num == 1:\n",
    "                    min_num = num\n",
    "                else:\n",
    "                    min_num = num\n",
    "                    pivot = min_num\n",
    "\n",
    "            #Check if new pivot\n",
    "            if num - pivot == 1:\n",
    "                pivot = num\n",
    "                \n",
    "        #print pivot\n",
    "\n",
    "\n",
    "    if min_num > 1:\n",
    "        return 1\n",
    "    else:\n",
    "        return pivot+1\n",
    "        \n",
    "\n",
    "tests = [[1,2,0],[3,4,-1,1],[7,8,9,11,12],[1,2,0],[4,1,2,3]]\n",
    "#firstMissingPositive(tests[-1])\n",
    "for test in tests:\n",
    "    print firstMissingPositive(test)"
   ]
  },
  {
   "cell_type": "code",
   "execution_count": null,
   "metadata": {
    "collapsed": true
   },
   "outputs": [],
   "source": []
  }
 ],
 "metadata": {
  "kernelspec": {
   "display_name": "Python 2",
   "language": "python",
   "name": "python2"
  },
  "language_info": {
   "codemirror_mode": {
    "name": "ipython",
    "version": 2
   },
   "file_extension": ".py",
   "mimetype": "text/x-python",
   "name": "python",
   "nbconvert_exporter": "python",
   "pygments_lexer": "ipython2",
   "version": "2.7.14"
  }
 },
 "nbformat": 4,
 "nbformat_minor": 2
}
