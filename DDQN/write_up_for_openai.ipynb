{
 "cells": [
  {
   "cell_type": "markdown",
   "metadata": {},
   "source": [
    "# Introduction\n",
    "\n",
    "Here I'm testing a DQN on the cartpole environment. I'm using \n",
    "\n",
    "1. Experience replay\n",
    "2. A target network, with soft updates (see agent.py for details)\n",
    "\n",
    "\n",
    "### Train"
   ]
  },
  {
   "cell_type": "code",
   "execution_count": 4,
   "metadata": {},
   "outputs": [
    {
     "name": "stdout",
     "output_type": "stream",
     "text": [
      "\u001b[33mWARN: gym.spaces.Box autodetected dtype as <type 'numpy.float32'>. Please provide explicit dtype.\u001b[0m\n",
      "(episode, score) = (10, 9.0)\n",
      "(episode, score) = (20, 16.0)\n",
      "(episode, score) = (30, 9.0)\n",
      "(episode, score) = (40, 12.0)\n",
      "(episode, score) = (50, 14.0)\n",
      "(episode, score) = (60, 10.0)\n",
      "(episode, score) = (70, 9.0)\n",
      "(episode, score) = (80, 16.0)\n",
      "(episode, score) = (90, 44.0)\n",
      "(episode, score) = (100, 85.0)\n",
      "(episode, score) = (110, 200.0)\n",
      "(episode, score) = (120, 200.0)\n",
      "(episode, score) = (130, 200.0)\n",
      "(episode, score) = (140, 200.0)\n",
      "(episode, score) = (150, 199.0)\n",
      "(episode, score) = (160, 200.0)\n",
      "(episode, score) = (170, 200.0)\n",
      "(episode, score) = (180, 200.0)\n",
      "(episode, score) = (190, 200.0)\n",
      "solved after 96 episodes\n"
     ]
    },
    {
     "data": {
      "text/plain": [
       "[<matplotlib.lines.Line2D at 0x7fd66c790210>]"
      ]
     },
     "execution_count": 4,
     "metadata": {},
     "output_type": "execute_result"
    },
    {
     "data": {
      "image/png": "[encoded data removed]",
      "text/plain": [
       "<Figure size 432x288 with 1 Axes>"
      ]
     },
     "metadata": {},
     "output_type": "display_data"
    }
   ],
   "source": [
    "import numpy as np\n",
    "import matplotlib.pyplot as plt\n",
    "import gym\n",
    "#from agent_vanilla import Agent\n",
    "from agent import Agent\n",
    "from keras.utils import to_categorical\n",
    "%matplotlib inline\n",
    "\n",
    "\n",
    "#Environment\n",
    "env = gym.make('CartPole-v0')\n",
    "env.seed(1)  # for comparison\n",
    "num_states = env.observation_space.shape[0]\n",
    "num_actions = env.action_space.n\n",
    "\n",
    "#Agent -- note, some hyperparameters are defined in the agent.py files\n",
    "lr,gamma = 0.001, 0.99\n",
    "agent = Agent(num_states, num_actions, lr, gamma)\n",
    "agent.epsilon = 0.5\n",
    "agent.tau = 0.1\n",
    "decay_factor = 0.99\n",
    "epsilon_min = 0.01\n",
    "learning_start = 500   #collect this many experience before learning\n",
    "\n",
    "\n",
    "#Train\n",
    "EPISODES = 5000\n",
    "scores = []\n",
    "for e in range(1,EPISODES+1):\n",
    "    state = env.reset()\n",
    "    reward_sum = 0\n",
    "    done = False\n",
    "    while not done:\n",
    "        \n",
    "        # env.render()\n",
    "        state = np.reshape(state, [1, num_states])  #reshape for keras\n",
    "        action = agent.act(state)\n",
    "        next_state, reward, done, _ = env.step(action)\n",
    "        reward_sum += reward\n",
    "        agent.remember(state[0], action, reward, next_state, done)\n",
    "        state = next_state\n",
    "        \n",
    "        if len(agent.memory) > learning_start:\n",
    "            agent.replay()                       #update the behavior model\n",
    "            agent.soft_update_target_network()   #update the target model\n",
    "\n",
    "        #iterate\n",
    "        if done:\n",
    "            break\n",
    "    \n",
    "    #Learn & print results\n",
    "    scores.append(reward_sum)\n",
    "    agent.epsilon = max(agent.epsilon*decay_factor,epsilon_min)\n",
    "    if e % 10 == 0:\n",
    "        print '(episode, score) = ' + str((e,reward_sum))\n",
    "    \n",
    "    #Solved condition\n",
    "    if len(scores) >= 100:\n",
    "        if np.mean(scores[-100:]) >= 195.0:\n",
    "            print ' \\ Solved after ' + str(e-100) + ' episodes'\n",
    "            break\n",
    "\n",
    "plt.plot(scores)"
   ]
  },
  {
   "cell_type": "markdown",
   "metadata": {},
   "source": [
    "### Watch a smart agent"
   ]
  },
  {
   "cell_type": "code",
   "execution_count": 5,
   "metadata": {
    "collapsed": true
   },
   "outputs": [],
   "source": [
    "state = env.reset()\n",
    "state = np.reshape(state, [1, num_states])\n",
    "reward_sum = 0\n",
    "done = False\n",
    "while not done:\n",
    "    env.render()\n",
    "    action = agent.act(state)\n",
    "    next_state, reward, done, _ = env.step(action)\n",
    "    reward_sum += reward\n",
    "    next_state = np.reshape(next_state, [1, num_states])\n",
    "    state = next_state\n",
    "env.close()"
   ]
  },
  {
   "cell_type": "markdown",
   "metadata": {},
   "source": [
    "### Record a smart agent\n",
    "\n",
    "There is a handy way to do this within openai using the Monitor environemnt"
   ]
  },
  {
   "cell_type": "code",
   "execution_count": 10,
   "metadata": {},
   "outputs": [],
   "source": [
    "env = gym.make('CartPole-v0')\n",
    "env = gym.wrappers.Monitor(env, 'movies/', video_callable=lambda episode_id: True)\n",
    "env.seed(1)  # for comparison\n",
    "\n",
    "state = env.reset()\n",
    "state = np.reshape(state, [1, num_states])\n",
    "reward_sum = 0\n",
    "done = False\n",
    "while not done:\n",
    "    env.render()\n",
    "    action = agent.act(state)\n",
    "    next_state, reward, done, _ = env.step(action)\n",
    "    reward_sum += reward\n",
    "    next_state = np.reshape(next_state, [1, num_states])\n",
    "    state = next_state\n",
    "env.close()"
   ]
  }
 ],
 "metadata": {
  "kernelspec": {
   "display_name": "Python 2",
   "language": "python",
   "name": "python2"
  },
  "language_info": {
   "codemirror_mode": {
    "name": "ipython",
    "version": 2
   },
   "file_extension": ".py",
   "mimetype": "text/x-python",
   "name": "python",
   "nbconvert_exporter": "python",
   "pygments_lexer": "ipython2",
   "version": "2.7.14"
  }
 },
 "nbformat": 4,
 "nbformat_minor": 2
}
